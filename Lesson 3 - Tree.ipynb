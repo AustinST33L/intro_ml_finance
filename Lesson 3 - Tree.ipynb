{
  "nbformat": 4,
  "nbformat_minor": 0,
  "metadata": {
    "kernelspec": {
      "display_name": "Python 3",
      "language": "python",
      "name": "python3"
    },
    "language_info": {
      "codemirror_mode": {
        "name": "ipython",
        "version": 3
      },
      "file_extension": ".py",
      "mimetype": "text/x-python",
      "name": "python",
      "nbconvert_exporter": "python",
      "pygments_lexer": "ipython3",
      "version": "3.5.4"
    },
    "colab": {
      "name": "Lesson 3 - Tree.ipynb",
      "provenance": []
    },
    "accelerator": "GPU"
  },
  "cells": [
    {
      "cell_type": "markdown",
      "metadata": {
        "id": "AtVv1nTOI2h2"
      },
      "source": [
        "# Decision Tree"
      ]
    },
    {
      "cell_type": "markdown",
      "metadata": {
        "id": "tr0rRhwXI2h6"
      },
      "source": [
        "\n",
        "\n",
        "CART (Classification  and Regression Tree)"
      ]
    },
    {
      "cell_type": "markdown",
      "metadata": {
        "heading_collapsed": true,
        "id": "AhWe9WhtI2h7"
      },
      "source": [
        "## What is Decision Tree?"
      ]
    },
    {
      "cell_type": "markdown",
      "metadata": {
        "hidden": true,
        "id": "GZM9Yan5I2h7"
      },
      "source": [
        "![Hold Out](https://github.com/anthonyng2/intro_ml_finance/blob/master/img/tree1.png?raw=1)"
      ]
    },
    {
      "cell_type": "markdown",
      "metadata": {
        "hidden": true,
        "id": "NVYoOYOcI2h8"
      },
      "source": [
        "***\n",
        "* Supervised Learning\n",
        "\n",
        "* Works for both classification and regression\n",
        "\n",
        "* Foundation of Random Forests\n",
        "\n",
        "* Attractive because of interpretability\n",
        "\n"
      ]
    },
    {
      "cell_type": "markdown",
      "metadata": {
        "hidden": true,
        "id": "E5kg-yVYI2h8"
      },
      "source": [
        "***\n",
        "\n",
        "Decision Tree works by:\n",
        "\n",
        "* Split based on set impurity criteria\n",
        "* Stopping criteria\n"
      ]
    },
    {
      "cell_type": "markdown",
      "metadata": {
        "hidden": true,
        "id": "HAKzPJzwI2h9"
      },
      "source": [
        "***\n",
        "\n",
        "Source: [Scikit-Learn](http://scikit-learn.org/stable/modules/tree.html#tree)\n",
        "\n",
        "Some **advantages** of decision trees are:\n",
        "* Simple to understand and to interpret. Trees can be visualised.\n",
        "* Requires little data preparation. \n",
        "* Able to handle both numerical and categorical data.\n",
        "* Possible to validate a model using statistical tests. \n",
        "* Performs well even if its assumptions are somewhat violated by the true model from which the data were generated.\n",
        "\n",
        "The **disadvantages** of decision trees include:\n",
        "* Overfitting. Mechanisms such as pruning (not currently supported), setting the minimum number of samples required at a leaf node or setting the maximum depth of the tree are necessary to avoid this problem.\n",
        "* Decision trees can be unstable. Mitigant: Use decision trees within an ensemble.\n",
        "* Cannot guarantee to return the globally optimal decision tree. Mitigant: Training multiple trees in an ensemble learner\n",
        "* Decision tree learners create biased trees if some classes dominate. Recommendation: Balance the dataset prior to fitting\n"
      ]
    },
    {
      "cell_type": "markdown",
      "metadata": {
        "hidden": true,
        "id": "JCViv8CII2h9"
      },
      "source": [
        "***\n",
        "\n",
        "## Questions:\n",
        "\n",
        "1. What is a decision tree?\n",
        "\n",
        "2. Where can you apply decision tree to? numerical problems or categorical problems?\n",
        "\n",
        "3. Decision tree is also know by what other name?\n",
        "\n",
        "4. How does a decision tree work?\n",
        "\n",
        "5. Decision Tree is a foundation of what machine learning algorithm\n",
        "\n",
        "6. List and explain 3 advantages of decision tree\n",
        "\n",
        "7. List and explain 3 disadvantages of decision tree"
      ]
    },
    {
      "cell_type": "markdown",
      "metadata": {
        "heading_collapsed": true,
        "id": "MQNf2oosI2h-"
      },
      "source": [
        "# Classification"
      ]
    },
    {
      "cell_type": "markdown",
      "metadata": {
        "heading_collapsed": true,
        "hidden": true,
        "id": "hYRpm0OpI2h-"
      },
      "source": [
        "## Training a Decision Tree with Scikit-Learn Library"
      ]
    },
    {
      "cell_type": "code",
      "metadata": {
        "collapsed": true,
        "hidden": true,
        "id": "rvtwF3deI2h_"
      },
      "source": [
        "from sklearn import tree"
      ],
      "execution_count": 1,
      "outputs": []
    },
    {
      "cell_type": "code",
      "metadata": {
        "collapsed": true,
        "hidden": true,
        "id": "c3WTHMNNI2h_"
      },
      "source": [
        "X = [[0, 0], [1, 2]]\n",
        "y = [0, 1]"
      ],
      "execution_count": 2,
      "outputs": []
    },
    {
      "cell_type": "code",
      "metadata": {
        "collapsed": true,
        "hidden": true,
        "id": "b9hUH0AsI2h_"
      },
      "source": [
        "clf = tree.DecisionTreeClassifier()"
      ],
      "execution_count": 3,
      "outputs": []
    },
    {
      "cell_type": "code",
      "metadata": {
        "collapsed": true,
        "hidden": true,
        "id": "XTU5dMPnI2iA"
      },
      "source": [
        "clf = clf.fit(X, y)"
      ],
      "execution_count": 4,
      "outputs": []
    },
    {
      "cell_type": "code",
      "metadata": {
        "hidden": true,
        "id": "ZHrSMaCFI2iA",
        "outputId": "f9bdda9a-173f-414e-868b-3bd9ed74f600",
        "colab": {
          "base_uri": "https://localhost:8080/"
        }
      },
      "source": [
        "clf.predict([[2., 2.]])"
      ],
      "execution_count": 5,
      "outputs": [
        {
          "output_type": "execute_result",
          "data": {
            "text/plain": [
              "array([1])"
            ]
          },
          "metadata": {
            "tags": []
          },
          "execution_count": 5
        }
      ]
    },
    {
      "cell_type": "code",
      "metadata": {
        "hidden": true,
        "id": "a0p5qR0SI2iB",
        "outputId": "a901b635-4865-4e1b-9207-5234f396a26c",
        "colab": {
          "base_uri": "https://localhost:8080/"
        }
      },
      "source": [
        "clf.predict_proba([[2. , 2.]])"
      ],
      "execution_count": 6,
      "outputs": [
        {
          "output_type": "execute_result",
          "data": {
            "text/plain": [
              "array([[0., 1.]])"
            ]
          },
          "metadata": {
            "tags": []
          },
          "execution_count": 6
        }
      ]
    },
    {
      "cell_type": "code",
      "metadata": {
        "hidden": true,
        "id": "VzGnEw7hI2iB",
        "outputId": "daebd50b-cb29-4f4d-9114-2ea04a0e397d",
        "colab": {
          "base_uri": "https://localhost:8080/"
        }
      },
      "source": [
        "clf.predict([[0.4, 1.2]])"
      ],
      "execution_count": 7,
      "outputs": [
        {
          "output_type": "execute_result",
          "data": {
            "text/plain": [
              "array([1])"
            ]
          },
          "metadata": {
            "tags": []
          },
          "execution_count": 7
        }
      ]
    },
    {
      "cell_type": "code",
      "metadata": {
        "hidden": true,
        "id": "OIV6z7HBI2iB",
        "outputId": "6a18359a-f031-4a5d-e170-3ae383e47f06",
        "colab": {
          "base_uri": "https://localhost:8080/"
        }
      },
      "source": [
        "clf.predict_proba([[0.4, 1.2]])"
      ],
      "execution_count": 8,
      "outputs": [
        {
          "output_type": "execute_result",
          "data": {
            "text/plain": [
              "array([[0., 1.]])"
            ]
          },
          "metadata": {
            "tags": []
          },
          "execution_count": 8
        }
      ]
    },
    {
      "cell_type": "code",
      "metadata": {
        "hidden": true,
        "id": "J6ObWxZiI2iB",
        "outputId": "57c79e69-1001-4906-fdb6-1efbf597d6d3",
        "colab": {
          "base_uri": "https://localhost:8080/"
        }
      },
      "source": [
        "clf.predict_proba([[0, 0.2]])"
      ],
      "execution_count": 9,
      "outputs": [
        {
          "output_type": "execute_result",
          "data": {
            "text/plain": [
              "array([[1., 0.]])"
            ]
          },
          "metadata": {
            "tags": []
          },
          "execution_count": 9
        }
      ]
    },
    {
      "cell_type": "markdown",
      "metadata": {
        "hidden": true,
        "id": "WMWNk1R7I2iC"
      },
      "source": [
        "`DecisionTreeClassifier` is capable of both binary (where the labels are [-1, 1]) classification and multiclass (where the labels are [0, …, K-1]) classification."
      ]
    },
    {
      "cell_type": "markdown",
      "metadata": {
        "heading_collapsed": true,
        "hidden": true,
        "id": "yqhlA6czI2iC"
      },
      "source": [
        "## Applying to Iris Dataset"
      ]
    },
    {
      "cell_type": "code",
      "metadata": {
        "collapsed": true,
        "hidden": true,
        "id": "yLToIWZvI2iC"
      },
      "source": [
        "from sklearn.datasets import load_iris\n",
        "from sklearn import tree\n",
        "iris = load_iris()"
      ],
      "execution_count": 10,
      "outputs": []
    },
    {
      "cell_type": "code",
      "metadata": {
        "hidden": true,
        "id": "JPVzLHGVI2iC",
        "outputId": "ae5d89d9-b92f-4726-9701-55e6aaaaf65c",
        "colab": {
          "base_uri": "https://localhost:8080/"
        }
      },
      "source": [
        "iris.data[0:5]"
      ],
      "execution_count": 11,
      "outputs": [
        {
          "output_type": "execute_result",
          "data": {
            "text/plain": [
              "array([[5.1, 3.5, 1.4, 0.2],\n",
              "       [4.9, 3. , 1.4, 0.2],\n",
              "       [4.7, 3.2, 1.3, 0.2],\n",
              "       [4.6, 3.1, 1.5, 0.2],\n",
              "       [5. , 3.6, 1.4, 0.2]])"
            ]
          },
          "metadata": {
            "tags": []
          },
          "execution_count": 11
        }
      ]
    },
    {
      "cell_type": "code",
      "metadata": {
        "hidden": true,
        "id": "XatiBdsII2iD",
        "outputId": "c0af5449-9e2c-4239-d519-650070f173f0",
        "colab": {
          "base_uri": "https://localhost:8080/"
        }
      },
      "source": [
        "iris.feature_names"
      ],
      "execution_count": 12,
      "outputs": [
        {
          "output_type": "execute_result",
          "data": {
            "text/plain": [
              "['sepal length (cm)',\n",
              " 'sepal width (cm)',\n",
              " 'petal length (cm)',\n",
              " 'petal width (cm)']"
            ]
          },
          "metadata": {
            "tags": []
          },
          "execution_count": 12
        }
      ]
    },
    {
      "cell_type": "code",
      "metadata": {
        "collapsed": true,
        "hidden": true,
        "id": "LOHVZpCmI2iD"
      },
      "source": [
        "X = iris.data[:, 2:]"
      ],
      "execution_count": 13,
      "outputs": []
    },
    {
      "cell_type": "code",
      "metadata": {
        "collapsed": true,
        "hidden": true,
        "id": "uYx7IMvVI2iD"
      },
      "source": [
        "y = iris.target"
      ],
      "execution_count": 14,
      "outputs": []
    },
    {
      "cell_type": "code",
      "metadata": {
        "hidden": true,
        "id": "E2Iianq4I2iD",
        "outputId": "3142e2d9-4205-4bd4-ff5d-1f604cbf53c2",
        "colab": {
          "base_uri": "https://localhost:8080/"
        }
      },
      "source": [
        "y"
      ],
      "execution_count": 15,
      "outputs": [
        {
          "output_type": "execute_result",
          "data": {
            "text/plain": [
              "array([0, 0, 0, 0, 0, 0, 0, 0, 0, 0, 0, 0, 0, 0, 0, 0, 0, 0, 0, 0, 0, 0,\n",
              "       0, 0, 0, 0, 0, 0, 0, 0, 0, 0, 0, 0, 0, 0, 0, 0, 0, 0, 0, 0, 0, 0,\n",
              "       0, 0, 0, 0, 0, 0, 1, 1, 1, 1, 1, 1, 1, 1, 1, 1, 1, 1, 1, 1, 1, 1,\n",
              "       1, 1, 1, 1, 1, 1, 1, 1, 1, 1, 1, 1, 1, 1, 1, 1, 1, 1, 1, 1, 1, 1,\n",
              "       1, 1, 1, 1, 1, 1, 1, 1, 1, 1, 1, 1, 2, 2, 2, 2, 2, 2, 2, 2, 2, 2,\n",
              "       2, 2, 2, 2, 2, 2, 2, 2, 2, 2, 2, 2, 2, 2, 2, 2, 2, 2, 2, 2, 2, 2,\n",
              "       2, 2, 2, 2, 2, 2, 2, 2, 2, 2, 2, 2, 2, 2, 2, 2, 2, 2])"
            ]
          },
          "metadata": {
            "tags": []
          },
          "execution_count": 15
        }
      ]
    },
    {
      "cell_type": "code",
      "metadata": {
        "collapsed": true,
        "hidden": true,
        "id": "TzFTdWFtI2iD"
      },
      "source": [
        "clf = tree.DecisionTreeClassifier(random_state=42)"
      ],
      "execution_count": 16,
      "outputs": []
    },
    {
      "cell_type": "code",
      "metadata": {
        "collapsed": true,
        "hidden": true,
        "id": "cnqnfTuzI2iE"
      },
      "source": [
        "clf = clf.fit(X, y)"
      ],
      "execution_count": 17,
      "outputs": []
    },
    {
      "cell_type": "markdown",
      "metadata": {
        "heading_collapsed": true,
        "hidden": true,
        "id": "VgYKgGexI2iE"
      },
      "source": [
        "### Export_graphviz"
      ]
    },
    {
      "cell_type": "markdown",
      "metadata": {
        "hidden": true,
        "id": "CAkHZat0I2iE"
      },
      "source": [
        "Need to install graphviz first\n",
        "\n",
        "`conda install graphviz python-graphviz`"
      ]
    },
    {
      "cell_type": "code",
      "metadata": {
        "collapsed": true,
        "hidden": true,
        "id": "t-HR3nAJI2iE"
      },
      "source": [
        "from sklearn.tree import export_graphviz"
      ],
      "execution_count": 18,
      "outputs": []
    },
    {
      "cell_type": "code",
      "metadata": {
        "collapsed": true,
        "hidden": true,
        "id": "oKFIx_9QI2iE"
      },
      "source": [
        "export_graphviz(clf,\n",
        "                out_file=\"tree1.dot\",\n",
        "                feature_names=iris.feature_names[2:],\n",
        "                class_names=iris.target_names,\n",
        "                rounded=True,\n",
        "                filled=True)"
      ],
      "execution_count": 19,
      "outputs": []
    },
    {
      "cell_type": "code",
      "metadata": {
        "hidden": true,
        "id": "JjpY_Zd1I2iE",
        "outputId": "a7210f0d-2977-4a69-c779-7dd0390c71b7",
        "colab": {
          "base_uri": "https://localhost:8080/"
        }
      },
      "source": [
        "import subprocess\n",
        "subprocess.check_call(['dot','-Tpng','tree1.dot','-o','tree1.png'], shell=True)"
      ],
      "execution_count": 20,
      "outputs": [
        {
          "output_type": "execute_result",
          "data": {
            "text/plain": [
              "0"
            ]
          },
          "metadata": {
            "tags": []
          },
          "execution_count": 20
        }
      ]
    },
    {
      "cell_type": "markdown",
      "metadata": {
        "hidden": true,
        "id": "SBIoUV8DI2iF"
      },
      "source": [
        "Run the following line on your command prompt\n",
        "\n",
        "`$ dot -Tpng tree.dot -o tree.png`"
      ]
    },
    {
      "cell_type": "markdown",
      "metadata": {
        "hidden": true,
        "id": "NblNsj2jI2iF"
      },
      "source": [
        "![tree1](https://github.com/anthonyng2/intro_ml_finance/blob/master/img/tree1.png?raw=1)"
      ]
    },
    {
      "cell_type": "markdown",
      "metadata": {
        "heading_collapsed": true,
        "hidden": true,
        "id": "iM3ko8jvI2iF"
      },
      "source": [
        "## Graphviz"
      ]
    },
    {
      "cell_type": "code",
      "metadata": {
        "collapsed": true,
        "hidden": true,
        "id": "uyNu4zvBI2iF"
      },
      "source": [
        "import graphviz"
      ],
      "execution_count": 21,
      "outputs": []
    },
    {
      "cell_type": "code",
      "metadata": {
        "collapsed": true,
        "hidden": true,
        "id": "TETYxULoI2iF"
      },
      "source": [
        "dot_data = tree.export_graphviz(clf, out_file=None,\n",
        "                                feature_names=iris.feature_names[2:],\n",
        "                                class_names=iris.target_names,\n",
        "                                rounded=True,\n",
        "                                filled=True)"
      ],
      "execution_count": 22,
      "outputs": []
    },
    {
      "cell_type": "code",
      "metadata": {
        "collapsed": true,
        "hidden": true,
        "id": "hSCdgaJUI2iF"
      },
      "source": [
        "graph = graphviz.Source(dot_data)"
      ],
      "execution_count": 23,
      "outputs": []
    },
    {
      "cell_type": "markdown",
      "metadata": {
        "hidden": true,
        "id": "NkkH6z1VI2iG"
      },
      "source": [
        "graph"
      ]
    },
    {
      "cell_type": "markdown",
      "metadata": {
        "heading_collapsed": true,
        "hidden": true,
        "id": "7OzhhF0XI2iG"
      },
      "source": [
        "## Visualise the Decision Boundary"
      ]
    },
    {
      "cell_type": "code",
      "metadata": {
        "collapsed": true,
        "hidden": true,
        "id": "Y7wUeNxwI2iG"
      },
      "source": [
        "import numpy as np\n",
        "import seaborn as sns\n",
        "sns.set_style('whitegrid')\n",
        "import matplotlib.pyplot as plt\n",
        "%matplotlib inline"
      ],
      "execution_count": 24,
      "outputs": []
    },
    {
      "cell_type": "code",
      "metadata": {
        "hidden": true,
        "id": "Q-oKgapcI2iG",
        "outputId": "c83aa162-5323-4e92-f80a-98cb537c2c3b",
        "colab": {
          "base_uri": "https://localhost:8080/",
          "height": 204
        }
      },
      "source": [
        "df = sns.load_dataset('iris')\n",
        "df.head()"
      ],
      "execution_count": 25,
      "outputs": [
        {
          "output_type": "execute_result",
          "data": {
            "text/html": [
              "<div>\n",
              "<style scoped>\n",
              "    .dataframe tbody tr th:only-of-type {\n",
              "        vertical-align: middle;\n",
              "    }\n",
              "\n",
              "    .dataframe tbody tr th {\n",
              "        vertical-align: top;\n",
              "    }\n",
              "\n",
              "    .dataframe thead th {\n",
              "        text-align: right;\n",
              "    }\n",
              "</style>\n",
              "<table border=\"1\" class=\"dataframe\">\n",
              "  <thead>\n",
              "    <tr style=\"text-align: right;\">\n",
              "      <th></th>\n",
              "      <th>sepal_length</th>\n",
              "      <th>sepal_width</th>\n",
              "      <th>petal_length</th>\n",
              "      <th>petal_width</th>\n",
              "      <th>species</th>\n",
              "    </tr>\n",
              "  </thead>\n",
              "  <tbody>\n",
              "    <tr>\n",
              "      <th>0</th>\n",
              "      <td>5.1</td>\n",
              "      <td>3.5</td>\n",
              "      <td>1.4</td>\n",
              "      <td>0.2</td>\n",
              "      <td>setosa</td>\n",
              "    </tr>\n",
              "    <tr>\n",
              "      <th>1</th>\n",
              "      <td>4.9</td>\n",
              "      <td>3.0</td>\n",
              "      <td>1.4</td>\n",
              "      <td>0.2</td>\n",
              "      <td>setosa</td>\n",
              "    </tr>\n",
              "    <tr>\n",
              "      <th>2</th>\n",
              "      <td>4.7</td>\n",
              "      <td>3.2</td>\n",
              "      <td>1.3</td>\n",
              "      <td>0.2</td>\n",
              "      <td>setosa</td>\n",
              "    </tr>\n",
              "    <tr>\n",
              "      <th>3</th>\n",
              "      <td>4.6</td>\n",
              "      <td>3.1</td>\n",
              "      <td>1.5</td>\n",
              "      <td>0.2</td>\n",
              "      <td>setosa</td>\n",
              "    </tr>\n",
              "    <tr>\n",
              "      <th>4</th>\n",
              "      <td>5.0</td>\n",
              "      <td>3.6</td>\n",
              "      <td>1.4</td>\n",
              "      <td>0.2</td>\n",
              "      <td>setosa</td>\n",
              "    </tr>\n",
              "  </tbody>\n",
              "</table>\n",
              "</div>"
            ],
            "text/plain": [
              "   sepal_length  sepal_width  petal_length  petal_width species\n",
              "0           5.1          3.5           1.4          0.2  setosa\n",
              "1           4.9          3.0           1.4          0.2  setosa\n",
              "2           4.7          3.2           1.3          0.2  setosa\n",
              "3           4.6          3.1           1.5          0.2  setosa\n",
              "4           5.0          3.6           1.4          0.2  setosa"
            ]
          },
          "metadata": {
            "tags": []
          },
          "execution_count": 25
        }
      ]
    },
    {
      "cell_type": "code",
      "metadata": {
        "collapsed": true,
        "hidden": true,
        "id": "3G2Hcu8nI2iG"
      },
      "source": [
        "col = ['petal_length', 'petal_width']\n",
        "X = df.loc[:, col]"
      ],
      "execution_count": 26,
      "outputs": []
    },
    {
      "cell_type": "code",
      "metadata": {
        "collapsed": true,
        "hidden": true,
        "id": "CHjbNXaPI2iG"
      },
      "source": [
        "species_to_num = {'setosa': 0,\n",
        "                  'versicolor': 1,\n",
        "                  'virginica': 2}\n",
        "df['tmp'] = df['species'].map(species_to_num)\n",
        "y = df['tmp']"
      ],
      "execution_count": 27,
      "outputs": []
    },
    {
      "cell_type": "code",
      "metadata": {
        "collapsed": true,
        "hidden": true,
        "id": "Hd4Khu9kI2iH"
      },
      "source": [
        "clf = tree.DecisionTreeClassifier()\n",
        "clf = clf.fit(X, y)"
      ],
      "execution_count": 28,
      "outputs": []
    },
    {
      "cell_type": "code",
      "metadata": {
        "collapsed": true,
        "hidden": true,
        "id": "pV7b5o82I2iH"
      },
      "source": [
        "Xv = X.values.reshape(-1,1)\n",
        "h = 0.02\n",
        "x_min, x_max = Xv.min(), Xv.max() + 1\n",
        "y_min, y_max = y.min(), y.max() + 1\n",
        "xx, yy = np.meshgrid(np.arange(x_min, x_max, h),\n",
        "                     np.arange(y_min, y_max, h))"
      ],
      "execution_count": 29,
      "outputs": []
    },
    {
      "cell_type": "code",
      "metadata": {
        "hidden": true,
        "id": "8xaeCqdLI2iH",
        "outputId": "717db7ad-174c-4406-e9bf-8d4b112a5954",
        "colab": {
          "base_uri": "https://localhost:8080/",
          "height": 592
        }
      },
      "source": [
        "z = clf.predict(np.c_[xx.ravel(), yy.ravel()])\n",
        "z = z.reshape(xx.shape)\n",
        "fig = plt.figure(figsize=(16,10))\n",
        "ax = plt.contourf(xx, yy, z, cmap = 'afmhot', alpha=0.3);\n",
        "plt.scatter(X.values[:, 0], X.values[:, 1], c=y, s=80, \n",
        "            alpha=0.9, edgecolors='g');"
      ],
      "execution_count": 30,
      "outputs": [
        {
          "output_type": "display_data",
          "data": {
            "image/png": "[encoded data removed]",
            "text/plain": [
              "<Figure size 1152x720 with 1 Axes>"
            ]
          },
          "metadata": {
            "tags": [],
            "needs_background": "light"
          }
        }
      ]
    },
    {
      "cell_type": "markdown",
      "metadata": {
        "hidden": true,
        "id": "RbKXmle7I2iI"
      },
      "source": [
        "***\n",
        "\n",
        "# Decision Tree Learning\n",
        "\n",
        "* [ID3](https://en.wikipedia.org/wiki/ID3_algorithm) (Iterative Dichotomiser 3)\n",
        "* [C4.5](https://en.wikipedia.org/wiki/C4.5_algorithm) (successor of ID3)\n",
        "* CART (Classification And Regression Tree)\n",
        "* [CHAID](http://www.statisticssolutions.com/non-parametric-analysis-chaid/) (Chi-squared Automatic Interaction Detector). by [Gordon Kass](https://en.wikipedia.org/wiki/Chi-square_automatic_interaction_detection). "
      ]
    },
    {
      "cell_type": "markdown",
      "metadata": {
        "heading_collapsed": true,
        "hidden": true,
        "id": "iNgAsJ10I2iI"
      },
      "source": [
        "## Tree algorithms: ID3, C4.5, C5.0 and CART\n"
      ]
    },
    {
      "cell_type": "markdown",
      "metadata": {
        "hidden": true,
        "id": "6uRsV7YtI2iI"
      },
      "source": [
        "\n",
        "\n",
        "* ID3 (Iterative Dichotomiser 3) was developed in 1986 by Ross Quinlan. The algorithm creates a multiway tree, finding for each node (i.e. in a greedy manner) the categorical feature that will yield the largest information gain for categorical targets. Trees are grown to their maximum size and then a pruning step is usually applied to improve the ability of the tree to generalise to unseen data.\n",
        "\n",
        "\n",
        "* C4.5 is the successor to ID3 and removed the restriction that features must be categorical by dynamically defining a discrete attribute (based on numerical variables) that partitions the continuous attribute value into a discrete set of intervals. C4.5 converts the trained trees (i.e. the output of the ID3 algorithm) into sets of if-then rules. These accuracy of each rule is then evaluated to determine the order in which they should be applied. Pruning is done by removing a rule’s precondition if the accuracy of the rule improves without it.\n",
        "\n",
        "\n",
        "* C5.0 is Quinlan’s latest version release under a proprietary license. It uses less memory and builds smaller rulesets than C4.5 while being more accurate.\n",
        "\n",
        "\n",
        "* CART (Classification and Regression Trees) is very similar to C4.5, but it differs in that it supports numerical target variables (regression) and does not compute rule sets. CART constructs binary trees using the feature and threshold that yield the largest information gain at each node.\n",
        "\n",
        "\n",
        "* CHAID (Chi-squared Automatic Interaction Detector). by Gordon Kass. Performs multi-level splits when computing classification trees. Non-parametric. Does not require the data to be normally distributed. \n",
        "\n",
        "scikit-learn uses an optimised version of the CART algorithm."
      ]
    },
    {
      "cell_type": "markdown",
      "metadata": {
        "heading_collapsed": true,
        "id": "m29r2m-OI2iJ"
      },
      "source": [
        "# Gini vs Entropy"
      ]
    },
    {
      "cell_type": "markdown",
      "metadata": {
        "heading_collapsed": true,
        "hidden": true,
        "id": "6I_suVgvI2iJ"
      },
      "source": [
        "## Gini Impurity\n",
        "\n",
        "\n",
        "\n"
      ]
    },
    {
      "cell_type": "markdown",
      "metadata": {
        "hidden": true,
        "id": "6bBznEBmI2iJ"
      },
      "source": [
        "scikit-learn default\n",
        "\n",
        "[Gini Impurity](https://en.wikipedia.org/wiki/Decision_tree_learning#Gini_impurity)\n",
        "\n",
        "A measure of purity / variability of categorical data\n",
        "\n",
        "As a side note on the difference between [Gini Impurity and Gini Coefficient](https://datascience.stackexchange.com/questions/1095/gini-coefficient-vs-gini-impurity-decision-trees)\n",
        "\n",
        "* No, despite their names they are not equivalent or even that similar.\n",
        "* **Gini impurity** is a measure of misclassification, which applies in a multiclass classifier context.\n",
        "* **Gini coefficient** applies to binary classification and requires a classifier that can in some way rank examples according to the likelihood of being in a positive class.\n",
        "* Both could be applied in some cases, but they are different measures for different things. Impurity is what is commonly used in decision trees.\n",
        "\n",
        "\n",
        "\n",
        "\n",
        "Developed by [Corrado Gini](https://en.wikipedia.org/wiki/Corrado_Gini) in 1912\n",
        "\n",
        "Key Points:\n",
        "* A **pure node** (homogeneous contents or samples with the same class) will have a **Gini impurity of zero**\n",
        "* As the variation increases (**heterogeneneous classes** or increase diversity), **Gini impurity increases and approaches 1**.\n",
        "\n",
        "$$\\text{Gini Impurity}=1-\\sum^r_j p^2_j$$\n",
        "\n",
        "$p$ is the probability (often based on the frequency table)"
      ]
    },
    {
      "cell_type": "markdown",
      "metadata": {
        "hidden": true,
        "id": "d2EnQCEiI2iK"
      },
      "source": [
        "![gini purity](https://github.com/anthonyng2/intro_ml_finance/blob/master/img/gini_imp.PNG?raw=1)"
      ]
    },
    {
      "cell_type": "markdown",
      "metadata": {
        "heading_collapsed": true,
        "hidden": true,
        "id": "v586juekI2iK"
      },
      "source": [
        "## Entropy"
      ]
    },
    {
      "cell_type": "markdown",
      "metadata": {
        "collapsed": true,
        "hidden": true,
        "id": "KBVVWSkfI2iK"
      },
      "source": [
        "\n",
        "\n",
        "[Wikipedia](https://en.wikipedia.org/wiki/Entropy_(information_theory)\n",
        "\n",
        "The entropy can explicitly be written as\n",
        "\n",
        "$${\\displaystyle \\mathrm {H} (X)=\\sum _{i=1}^{n}{\\mathrm {P} (x_{i})\\,\\mathrm {I} (x_{i})}=-\\sum _{i=1}^{n}{\\mathrm {P} (x_{i})\\log _{b}\\mathrm {P} (x_{i})},}$$\n",
        "\n",
        "where `b` is the base of the logarithm used. Common values of `b` are 2, Euler's number `e`, and 10\n",
        "\n",
        "\n"
      ]
    },
    {
      "cell_type": "markdown",
      "metadata": {
        "heading_collapsed": true,
        "hidden": true,
        "id": "ry3zsRIMI2iL"
      },
      "source": [
        "## Which should I use?"
      ]
    },
    {
      "cell_type": "markdown",
      "metadata": {
        "collapsed": true,
        "hidden": true,
        "id": "YLl-6vXgI2iL"
      },
      "source": [
        "\n",
        "\n",
        "[Sebastian Raschka](https://sebastianraschka.com/faq/docs/decision-tree-binary.html)\n",
        "\n",
        "* They tend to generate similar tree\n",
        "* Gini tends to be faster to compute"
      ]
    },
    {
      "cell_type": "markdown",
      "metadata": {
        "collapsed": true,
        "hidden": true,
        "id": "JiNqM7jSI2iL"
      },
      "source": [
        "***"
      ]
    },
    {
      "cell_type": "code",
      "metadata": {
        "collapsed": true,
        "hidden": true,
        "id": "dMpss2GWI2iL"
      },
      "source": [
        "def gini(p):\n",
        "    return (p)*(1 - (p)) + (1 - p)*(1 - (1-p))\n",
        "def entropy(p):\n",
        "    return - p*np.log2(p) - (1 - p)*np.log2((1 - p))\n",
        "def error(p):\n",
        "    return 1 - np.max([p, 1 - p])"
      ],
      "execution_count": 31,
      "outputs": []
    },
    {
      "cell_type": "code",
      "metadata": {
        "collapsed": true,
        "hidden": true,
        "id": "H3IpmxK2I2iL"
      },
      "source": [
        "x = np.arange(0.0, 1.0, 0.01)\n",
        "\n",
        "ent = [entropy(p) if p != 0 else None for p in x]\n",
        "\n",
        "sc_ent = [e*0.5 if e else None for e in ent]\n",
        "err = [error(i) for i in x]"
      ],
      "execution_count": 32,
      "outputs": []
    },
    {
      "cell_type": "code",
      "metadata": {
        "hidden": true,
        "id": "Z7GiPys4I2iM",
        "outputId": "93002802-69a4-4298-92ce-1fbe209aebac",
        "colab": {
          "base_uri": "https://localhost:8080/",
          "height": 557
        }
      },
      "source": [
        "fig = plt.figure(figsize=(10,8))\n",
        "ax = plt.subplot(111)\n",
        "for i, lab, ls, c, in zip([ent, sc_ent, gini(x), err], \n",
        "                   ['Entropy', 'Entropy (scaled)', \n",
        "                   'Gini Impurity', \n",
        "                   'Misclassification Error'],\n",
        "                   ['-', '-', '--', '-.'],\n",
        "                   ['black', 'lightgray',\n",
        "                      'red', 'green', 'cyan']):\n",
        "     line = ax.plot(x, i, label=lab, \n",
        "                    linestyle=ls, lw=2, color=c)\n",
        "ax.legend(loc='upper center', bbox_to_anchor=(0.5, 1.15),\n",
        "           ncol=3, fancybox=True, shadow=False)\n",
        "ax.axhline(y=0.5, linewidth=1, color='k', linestyle='--')\n",
        "ax.axhline(y=1.0, linewidth=1, color='k', linestyle='--')\n",
        "plt.ylim([0, 1.1])\n",
        "plt.xlabel('p(i=1)')\n",
        "plt.ylabel('Impurity Index')\n",
        "plt.show()"
      ],
      "execution_count": 33,
      "outputs": [
        {
          "output_type": "display_data",
          "data": {
            "image/png": "[encoded data removed]",
            "text/plain": [
              "<Figure size 720x576 with 1 Axes>"
            ]
          },
          "metadata": {
            "tags": [],
            "needs_background": "light"
          }
        }
      ]
    },
    {
      "cell_type": "markdown",
      "metadata": {
        "heading_collapsed": true,
        "hidden": true,
        "id": "BkXtGlrXI2iM"
      },
      "source": [
        "## Information Gain"
      ]
    },
    {
      "cell_type": "markdown",
      "metadata": {
        "collapsed": true,
        "hidden": true,
        "id": "7C9EO9iXI2iM"
      },
      "source": [
        "\n",
        "\n",
        "* Expected reduction in entropy caused by splitting \n",
        "\n",
        "* Keep splitting until you obtain as close to homogeneous class as possible\n",
        "\n"
      ]
    },
    {
      "cell_type": "markdown",
      "metadata": {
        "collapsed": true,
        "hidden": true,
        "id": "UQBQ9eNXI2iM"
      },
      "source": [
        "***"
      ]
    },
    {
      "cell_type": "markdown",
      "metadata": {
        "heading_collapsed": true,
        "id": "fahU4XdGI2iM"
      },
      "source": [
        "# Regression"
      ]
    },
    {
      "cell_type": "code",
      "metadata": {
        "collapsed": true,
        "hidden": true,
        "id": "8AvxQyXdI2iN"
      },
      "source": [
        "from sklearn import tree"
      ],
      "execution_count": 34,
      "outputs": []
    },
    {
      "cell_type": "code",
      "metadata": {
        "collapsed": true,
        "hidden": true,
        "id": "SeC39PHGI2iN"
      },
      "source": [
        "X = [[0, 0], [3, 3]]\n",
        "y = [0.75, 3]"
      ],
      "execution_count": 35,
      "outputs": []
    },
    {
      "cell_type": "code",
      "metadata": {
        "collapsed": true,
        "hidden": true,
        "id": "CrG3T62-I2iN"
      },
      "source": [
        "tree_reg = tree.DecisionTreeRegressor(random_state=42)"
      ],
      "execution_count": 36,
      "outputs": []
    },
    {
      "cell_type": "code",
      "metadata": {
        "collapsed": true,
        "hidden": true,
        "id": "0OFeOqOuI2iN"
      },
      "source": [
        "tree_reg = tree_reg.fit(X, y)"
      ],
      "execution_count": 37,
      "outputs": []
    },
    {
      "cell_type": "code",
      "metadata": {
        "hidden": true,
        "id": "yj6Z6op0I2iN",
        "outputId": "68570471-cfe2-4181-9617-3badc91b730e",
        "colab": {
          "base_uri": "https://localhost:8080/"
        }
      },
      "source": [
        "tree_reg.predict([[1.5, 1.5]])"
      ],
      "execution_count": 38,
      "outputs": [
        {
          "output_type": "execute_result",
          "data": {
            "text/plain": [
              "array([0.75])"
            ]
          },
          "metadata": {
            "tags": []
          },
          "execution_count": 38
        }
      ]
    },
    {
      "cell_type": "code",
      "metadata": {
        "hidden": true,
        "id": "fJb4He2pI2iN",
        "outputId": "44dbb544-b3e5-4288-e1ac-9595e96f5e75",
        "colab": {
          "base_uri": "https://localhost:8080/",
          "height": 513
        }
      },
      "source": [
        "# Import the necessary modules and libraries\n",
        "import numpy as np\n",
        "from sklearn.tree import DecisionTreeRegressor\n",
        "import matplotlib.pyplot as plt\n",
        "\n",
        "# Create a random dataset\n",
        "rng = np.random.RandomState(1)\n",
        "X = np.sort(5 * rng.rand(80, 1), axis=0)\n",
        "y = np.sin(X).ravel()\n",
        "y[::5] += 3 * (0.5 - rng.rand(16))\n",
        "\n",
        "# Fit regression model\n",
        "regr_1 = DecisionTreeRegressor(max_depth=2)\n",
        "regr_2 = DecisionTreeRegressor(max_depth=5)\n",
        "regr_1.fit(X, y)\n",
        "regr_2.fit(X, y)\n",
        "\n",
        "# Predict\n",
        "X_test = np.arange(0.0, 5.0, 0.01)[:, np.newaxis]\n",
        "y_1 = regr_1.predict(X_test)\n",
        "y_2 = regr_2.predict(X_test)\n",
        "\n",
        "# Plot the results\n",
        "plt.figure(figsize=(10,8))\n",
        "plt.scatter(X, y, s=20, edgecolor=\"black\",\n",
        "            c=\"darkorange\", label=\"data\")\n",
        "plt.plot(X_test, y_1, color=\"cornflowerblue\",\n",
        "         label=\"max_depth=2\", linewidth=2)\n",
        "plt.plot(X_test, y_2, color=\"yellowgreen\", label=\"max_depth=5\", linewidth=2)\n",
        "plt.xlabel(\"data\")\n",
        "plt.ylabel(\"target\")\n",
        "plt.title(\"Decision Tree Regression\")\n",
        "plt.legend()\n",
        "plt.show()"
      ],
      "execution_count": 39,
      "outputs": [
        {
          "output_type": "display_data",
          "data": {
            "image/png": "[encoded data removed]",
            "text/plain": [
              "<Figure size 720x576 with 1 Axes>"
            ]
          },
          "metadata": {
            "tags": [],
            "needs_background": "light"
          }
        }
      ]
    },
    {
      "cell_type": "markdown",
      "metadata": {
        "hidden": true,
        "id": "fhIHQOHrI2iO"
      },
      "source": [
        "dot_data = tree.export_graphviz(regr_1, out_file=None,\n",
        "                                filled=True)\n",
        "graph = graphviz.Source(dot_data)\n",
        "graph"
      ]
    },
    {
      "cell_type": "markdown",
      "metadata": {
        "hidden": true,
        "id": "oXdMLA12I2iO"
      },
      "source": [
        "dot_data = tree.export_graphviz(regr_2, out_file=None,\n",
        "                                filled=True)\n",
        "graph = graphviz.Source(dot_data)\n",
        "graph"
      ]
    },
    {
      "cell_type": "markdown",
      "metadata": {
        "heading_collapsed": true,
        "hidden": true,
        "id": "zGigktX3I2iO"
      },
      "source": [
        "## Regularization"
      ]
    },
    {
      "cell_type": "code",
      "metadata": {
        "hidden": true,
        "id": "EETMgwxSI2iO",
        "outputId": "8aaf0ab4-bba1-4c51-d6dc-a15598860624",
        "colab": {
          "base_uri": "https://localhost:8080/",
          "height": 513
        }
      },
      "source": [
        "# Import the necessary modules and libraries\n",
        "import numpy as np\n",
        "from sklearn.tree import DecisionTreeRegressor\n",
        "import matplotlib.pyplot as plt\n",
        "\n",
        "# Create a random dataset\n",
        "rng = np.random.RandomState(1)\n",
        "X = np.sort(5 * rng.rand(80, 1), axis=0)\n",
        "y = np.sin(X).ravel()\n",
        "y[::5] += 3 * (0.5 - rng.rand(16))\n",
        "\n",
        "# Fit regression model\n",
        "regr_1 = DecisionTreeRegressor(max_depth=2)\n",
        "regr_2 = DecisionTreeRegressor(max_depth=5, min_samples_leaf=10)\n",
        "regr_1.fit(X, y)\n",
        "regr_2.fit(X, y)\n",
        "\n",
        "# Predict\n",
        "X_test = np.arange(0.0, 5.0, 0.01)[:, np.newaxis]\n",
        "y_1 = regr_1.predict(X_test)\n",
        "y_2 = regr_2.predict(X_test)\n",
        "\n",
        "# Plot the results\n",
        "plt.figure(figsize=(10,8))\n",
        "plt.scatter(X, y, s=20, edgecolor=\"black\",\n",
        "            c=\"darkorange\", label=\"data\")\n",
        "plt.plot(X_test, y_1, color=\"cornflowerblue\",\n",
        "         label=\"max_depth=2\", linewidth=2)\n",
        "plt.plot(X_test, y_2, color=\"yellowgreen\", label=\"max_depth=5\", linewidth=2)\n",
        "plt.xlabel(\"data\")\n",
        "plt.ylabel(\"target\")\n",
        "plt.title(\"Decision Tree Regression\")\n",
        "plt.legend()\n",
        "plt.show()"
      ],
      "execution_count": 40,
      "outputs": [
        {
          "output_type": "display_data",
          "data": {
            "image/png": "[encoded data removed]",
            "text/plain": [
              "<Figure size 720x576 with 1 Axes>"
            ]
          },
          "metadata": {
            "tags": [],
            "needs_background": "light"
          }
        }
      ]
    },
    {
      "cell_type": "markdown",
      "metadata": {
        "hidden": true,
        "id": "Byag6EWxI2iP"
      },
      "source": [
        "dot_data = tree.export_graphviz(regr_2, out_file=None,\n",
        "                                filled=True)\n",
        "graph = graphviz.Source(dot_data)\n",
        "graph"
      ]
    },
    {
      "cell_type": "markdown",
      "metadata": {
        "heading_collapsed": true,
        "id": "x-y3u7qlI2iQ"
      },
      "source": [
        "# Overfitting"
      ]
    },
    {
      "cell_type": "code",
      "metadata": {
        "collapsed": true,
        "hidden": true,
        "id": "47F9UaAhI2iQ"
      },
      "source": [
        "from sklearn.datasets import load_iris\n",
        "from sklearn import tree\n",
        "iris = load_iris()"
      ],
      "execution_count": 41,
      "outputs": []
    },
    {
      "cell_type": "code",
      "metadata": {
        "collapsed": true,
        "hidden": true,
        "id": "SNIfPu-RI2iQ"
      },
      "source": [
        "X = iris.data[:, 0:2]\n",
        "y = iris.target\n",
        "clf = tree.DecisionTreeClassifier(random_state=42)\n",
        "clf = clf.fit(X, y)"
      ],
      "execution_count": 42,
      "outputs": []
    },
    {
      "cell_type": "code",
      "metadata": {
        "collapsed": true,
        "hidden": true,
        "id": "CWia83jsI2iR"
      },
      "source": [
        "dot_data = tree.export_graphviz(clf, out_file=None,\n",
        "                                feature_names=iris.feature_names[2:],\n",
        "                                class_names=iris.target_names,\n",
        "                                rounded=True,\n",
        "                                filled=True)"
      ],
      "execution_count": 43,
      "outputs": []
    },
    {
      "cell_type": "markdown",
      "metadata": {
        "hidden": true,
        "scrolled": true,
        "id": "0SAjCA2NI2iR"
      },
      "source": [
        "graph = graphviz.Source(dot_data)\n",
        "graph"
      ]
    },
    {
      "cell_type": "markdown",
      "metadata": {
        "collapsed": true,
        "id": "H1kDMa8iI2iR"
      },
      "source": [
        "# Modelling End-to-End with Decision Tree"
      ]
    },
    {
      "cell_type": "code",
      "metadata": {
        "collapsed": true,
        "id": "okYIUOdXI2iR"
      },
      "source": [
        "from sklearn.datasets import make_moons"
      ],
      "execution_count": 44,
      "outputs": []
    },
    {
      "cell_type": "code",
      "metadata": {
        "collapsed": true,
        "id": "QuxdJTSfI2iS"
      },
      "source": [
        "X_data, y_data = make_moons(n_samples=1000, noise=0.5, random_state=42)"
      ],
      "execution_count": 45,
      "outputs": []
    },
    {
      "cell_type": "code",
      "metadata": {
        "collapsed": true,
        "id": "vJLu8ouOI2iS"
      },
      "source": [
        "cl1 = tree.DecisionTreeClassifier(random_state=42)\n",
        "cl2 = tree.DecisionTreeClassifier(min_samples_leaf=10, random_state=42)"
      ],
      "execution_count": 46,
      "outputs": []
    },
    {
      "cell_type": "code",
      "metadata": {
        "collapsed": true,
        "id": "tjL2QKepI2iS"
      },
      "source": [
        "from sklearn.model_selection import train_test_split"
      ],
      "execution_count": 47,
      "outputs": []
    },
    {
      "cell_type": "code",
      "metadata": {
        "collapsed": true,
        "id": "OUHDwA6sI2iS"
      },
      "source": [
        "X_train, X_test, y_train, y_test = train_test_split(X_data, y_data, \n",
        "                                                    test_size=0.1, random_state=42)"
      ],
      "execution_count": 48,
      "outputs": []
    },
    {
      "cell_type": "code",
      "metadata": {
        "collapsed": true,
        "id": "2x2sSLhLI2iS"
      },
      "source": [
        "from sklearn.model_selection import GridSearchCV"
      ],
      "execution_count": 49,
      "outputs": []
    },
    {
      "cell_type": "code",
      "metadata": {
        "collapsed": true,
        "id": "egttcWsbI2iS"
      },
      "source": [
        "#params = {'max_leaf_nodes': list(range(2, 50)),\n",
        "#          'min_samples_split': [2, 3, 4],\n",
        "#          'min_samples_leaf': list(range(5, 20))}\n",
        "\n",
        "params ={'min_samples_leaf': list(range(5, 20))}"
      ],
      "execution_count": 50,
      "outputs": []
    },
    {
      "cell_type": "code",
      "metadata": {
        "scrolled": true,
        "id": "VPaVb8VxI2iT",
        "outputId": "16073490-4e41-4c59-a2f1-dba2add2e37e",
        "colab": {
          "base_uri": "https://localhost:8080/"
        }
      },
      "source": [
        "grid_search_cv = GridSearchCV(tree.DecisionTreeClassifier(random_state=42), params, n_jobs=-1, verbose=1)\n",
        "\n",
        "grid_search_cv.fit(X_train, y_train)"
      ],
      "execution_count": 51,
      "outputs": [
        {
          "output_type": "stream",
          "text": [
            "Fitting 5 folds for each of 15 candidates, totalling 75 fits\n"
          ],
          "name": "stdout"
        },
        {
          "output_type": "stream",
          "text": [
            "[Parallel(n_jobs=-1)]: Using backend LokyBackend with 2 concurrent workers.\n",
            "[Parallel(n_jobs=-1)]: Done  75 out of  75 | elapsed:    1.3s finished\n"
          ],
          "name": "stderr"
        },
        {
          "output_type": "execute_result",
          "data": {
            "text/plain": [
              "GridSearchCV(cv=None, error_score=nan,\n",
              "             estimator=DecisionTreeClassifier(ccp_alpha=0.0, class_weight=None,\n",
              "                                              criterion='gini', max_depth=None,\n",
              "                                              max_features=None,\n",
              "                                              max_leaf_nodes=None,\n",
              "                                              min_impurity_decrease=0.0,\n",
              "                                              min_impurity_split=None,\n",
              "                                              min_samples_leaf=1,\n",
              "                                              min_samples_split=2,\n",
              "                                              min_weight_fraction_leaf=0.0,\n",
              "                                              presort='deprecated',\n",
              "                                              random_state=42,\n",
              "                                              splitter='best'),\n",
              "             iid='deprecated', n_jobs=-1,\n",
              "             param_grid={'min_samples_leaf': [5, 6, 7, 8, 9, 10, 11, 12, 13, 14,\n",
              "                                              15, 16, 17, 18, 19]},\n",
              "             pre_dispatch='2*n_jobs', refit=True, return_train_score=False,\n",
              "             scoring=None, verbose=1)"
            ]
          },
          "metadata": {
            "tags": []
          },
          "execution_count": 51
        }
      ]
    },
    {
      "cell_type": "code",
      "metadata": {
        "id": "iq_AXSFSI2iT",
        "outputId": "2f5df182-dbb6-4c1b-83c3-2f1748097764",
        "colab": {
          "base_uri": "https://localhost:8080/"
        }
      },
      "source": [
        "grid_search_cv.best_estimator_"
      ],
      "execution_count": 52,
      "outputs": [
        {
          "output_type": "execute_result",
          "data": {
            "text/plain": [
              "DecisionTreeClassifier(ccp_alpha=0.0, class_weight=None, criterion='gini',\n",
              "                       max_depth=None, max_features=None, max_leaf_nodes=None,\n",
              "                       min_impurity_decrease=0.0, min_impurity_split=None,\n",
              "                       min_samples_leaf=16, min_samples_split=2,\n",
              "                       min_weight_fraction_leaf=0.0, presort='deprecated',\n",
              "                       random_state=42, splitter='best')"
            ]
          },
          "metadata": {
            "tags": []
          },
          "execution_count": 52
        }
      ]
    },
    {
      "cell_type": "code",
      "metadata": {
        "collapsed": true,
        "id": "faz824WOI2iT"
      },
      "source": [
        "from sklearn.metrics import accuracy_score"
      ],
      "execution_count": 53,
      "outputs": []
    },
    {
      "cell_type": "code",
      "metadata": {
        "id": "VajT71bqI2iU",
        "outputId": "1b7c34e0-2cfc-47da-f3ab-64be82ccff8d",
        "colab": {
          "base_uri": "https://localhost:8080/"
        }
      },
      "source": [
        "y_pred = grid_search_cv.predict(X_test)\n",
        "accuracy_score(y_test, y_pred)"
      ],
      "execution_count": 54,
      "outputs": [
        {
          "output_type": "execute_result",
          "data": {
            "text/plain": [
              "0.83"
            ]
          },
          "metadata": {
            "tags": []
          },
          "execution_count": 54
        }
      ]
    },
    {
      "cell_type": "code",
      "metadata": {
        "id": "a9X3m8PqI2iU",
        "outputId": "2b202504-56b4-4767-d6cb-5102b166d781",
        "colab": {
          "base_uri": "https://localhost:8080/"
        }
      },
      "source": [
        "cl1.fit(X_train, y_train)\n",
        "y_pred = cl1.predict(X_test)\n",
        "accuracy_score(y_test, y_pred)"
      ],
      "execution_count": 55,
      "outputs": [
        {
          "output_type": "execute_result",
          "data": {
            "text/plain": [
              "0.74"
            ]
          },
          "metadata": {
            "tags": []
          },
          "execution_count": 55
        }
      ]
    },
    {
      "cell_type": "code",
      "metadata": {
        "id": "VsTpgEm-I2iU",
        "outputId": "7a1d6ab5-1a18-4bd8-e44e-d49842a2c064",
        "colab": {
          "base_uri": "https://localhost:8080/"
        }
      },
      "source": [
        "cl1.get_params()"
      ],
      "execution_count": 56,
      "outputs": [
        {
          "output_type": "execute_result",
          "data": {
            "text/plain": [
              "{'ccp_alpha': 0.0,\n",
              " 'class_weight': None,\n",
              " 'criterion': 'gini',\n",
              " 'max_depth': None,\n",
              " 'max_features': None,\n",
              " 'max_leaf_nodes': None,\n",
              " 'min_impurity_decrease': 0.0,\n",
              " 'min_impurity_split': None,\n",
              " 'min_samples_leaf': 1,\n",
              " 'min_samples_split': 2,\n",
              " 'min_weight_fraction_leaf': 0.0,\n",
              " 'presort': 'deprecated',\n",
              " 'random_state': 42,\n",
              " 'splitter': 'best'}"
            ]
          },
          "metadata": {
            "tags": []
          },
          "execution_count": 56
        }
      ]
    },
    {
      "cell_type": "markdown",
      "metadata": {
        "id": "I1pZkI8_I2iU"
      },
      "source": [
        "\n",
        "***"
      ]
    },
    {
      "cell_type": "markdown",
      "metadata": {
        "id": "u0l2yObQI2iU"
      },
      "source": [
        "# Where to From Here"
      ]
    },
    {
      "cell_type": "markdown",
      "metadata": {
        "id": "CxXzSz04I2iU"
      },
      "source": [
        "## Tips on practical use\n",
        "\n"
      ]
    },
    {
      "cell_type": "markdown",
      "metadata": {
        "id": "GVlramHpI2iV"
      },
      "source": [
        "\n",
        "* Decision trees tend to overfit on data with a large number of features. Check ratio of samples to number of features\n",
        "\n",
        "* Consider performing dimensionality reduction (PCA, ICA, or Feature selection) beforehand\n",
        "\n",
        "* Visualise your tree as you are training by using the export function. Use max_depth=3 as an initial tree depth.\n",
        "\n",
        "* Use max_depth to control the size of the tree to prevent overfitting.\n",
        "\n",
        "* Tune `min_samples_split` or `min_samples_leaf` to control the number of samples at a leaf node. \n",
        "\n",
        "* Balance your dataset before training to prevent the tree from being biased toward the classes that are dominant. \n",
        "\n",
        "  * By sampling an equal number of samples from each class\n",
        "  \n",
        "  * By normalizing the sum of the sample weights (sample_weight) for each class to the same value. "
      ]
    },
    {
      "cell_type": "markdown",
      "metadata": {
        "heading_collapsed": true,
        "id": "hkV-P9zqI2iV"
      },
      "source": [
        "## References:\n",
        "\n",
        "\n",
        "\n"
      ]
    },
    {
      "cell_type": "markdown",
      "metadata": {
        "hidden": true,
        "id": "OLblu5GtI2iV"
      },
      "source": [
        "1. [Wikipedia - Decision Tree Learning](https://en.wikipedia.org/wiki/Decision_tree_learning)\n",
        "2. [Decision Tree - Classification](http://www.saedsayad.com/decision_tree.htm)\n",
        "3. [Data Aspirant](http://dataaspirant.com/2017/01/30/how-decision-tree-algorithm-works/)\n",
        "4. [Scikit-learn](http://scikit-learn.org/stable/modules/tree.html)\n",
        "5. https://en.wikipedia.org/wiki/Predictive_analytics\n",
        "6. L. Breiman, J. Friedman, R. Olshen, and C. Stone. Classification and Regression Trees. Wadsworth, Belmont, CA, 1984.\n",
        "7. J.R. Quinlan. C4. 5: programs for machine learning. Morgan Kaufmann, 1993.\n",
        "8. T. Hastie, R. Tibshirani and J. Friedman. Elements of Statistical Learning, Springer, 2009."
      ]
    },
    {
      "cell_type": "markdown",
      "metadata": {
        "hidden": true,
        "id": "U_1jFqLDI2iV"
      },
      "source": [
        "***"
      ]
    },
    {
      "cell_type": "code",
      "metadata": {
        "id": "gWrOOtTJKKLe"
      },
      "source": [
        ""
      ],
      "execution_count": 56,
      "outputs": []
    }
  ]
}