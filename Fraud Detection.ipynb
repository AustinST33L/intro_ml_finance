{
  "nbformat": 4,
  "nbformat_minor": 0,
  "metadata": {
    "kernelspec": {
      "display_name": "Python 3",
      "language": "python",
      "name": "python3"
    },
    "language_info": {
      "codemirror_mode": {
        "name": "ipython",
        "version": 3
      },
      "file_extension": ".py",
      "mimetype": "text/x-python",
      "name": "python",
      "nbconvert_exporter": "python",
      "pygments_lexer": "ipython3",
      "version": "3.5.4"
    },
    "colab": {
      "name": "Fraud Detection.ipynb",
      "provenance": []
    }
  },
  "cells": [
    {
      "cell_type": "markdown",
      "metadata": {
        "id": "z7I-M7Ws3NMm"
      },
      "source": [
        "# Credit Card Fraud\n",
        "\n",
        "\n",
        "[Source](https://www.kaggle.com/mlg-ulb/creditcardfraud)"
      ]
    },
    {
      "cell_type": "code",
      "metadata": {
        "id": "E1RA6leQ3NMq"
      },
      "source": [
        "import pandas as pd, numpy as np\n",
        "import datetime\n",
        "\n",
        "from sklearn.model_selection import train_test_split\n",
        "from sklearn.preprocessing import OneHotEncoder, LabelBinarizer\n",
        "from sklearn.ensemble import GradientBoostingClassifier, RandomForestClassifier\n",
        "from sklearn.linear_model import LogisticRegression\n",
        "from sklearn.tree import DecisionTreeClassifier\n",
        "from sklearn.metrics import roc_curve, auc, confusion_matrix\n",
        "from sklearn.model_selection import GridSearchCV\n",
        "\n",
        "import sklearn\n",
        "#from sklearn_pandas import DataFrameMapper\n",
        "\n",
        "import matplotlib.pyplot as plt\n",
        "from IPython.display import HTML"
      ],
      "execution_count": 1,
      "outputs": []
    },
    {
      "cell_type": "markdown",
      "metadata": {
        "id": "Kl8ehM9F3NMs"
      },
      "source": [
        "Unbalanced data issue"
      ]
    },
    {
      "cell_type": "code",
      "metadata": {
        "id": "cpGUTYlo3NMs",
        "outputId": "540105dd-103c-478e-dd9a-10ccb78f844c",
        "colab": {
          "base_uri": "https://localhost:8080/",
          "height": 224
        }
      },
      "source": [
        "try:\n",
        "  df = pd.read_excel(\"data/creditcard.xlsx\")\n",
        "except:\n",
        "  url = \"https://github.com/anthonyng2/intro_ml_finance/blob/master/data/creditcard.xlsx?raw=true\"\n",
        "  df = pd.read_excel(url)\n",
        "\n",
        "df.head()"
      ],
      "execution_count": 2,
      "outputs": [
        {
          "output_type": "execute_result",
          "data": {
            "text/html": [
              "<div>\n",
              "<style scoped>\n",
              "    .dataframe tbody tr th:only-of-type {\n",
              "        vertical-align: middle;\n",
              "    }\n",
              "\n",
              "    .dataframe tbody tr th {\n",
              "        vertical-align: top;\n",
              "    }\n",
              "\n",
              "    .dataframe thead th {\n",
              "        text-align: right;\n",
              "    }\n",
              "</style>\n",
              "<table border=\"1\" class=\"dataframe\">\n",
              "  <thead>\n",
              "    <tr style=\"text-align: right;\">\n",
              "      <th></th>\n",
              "      <th>Time</th>\n",
              "      <th>V1</th>\n",
              "      <th>V2</th>\n",
              "      <th>V3</th>\n",
              "      <th>V4</th>\n",
              "      <th>V5</th>\n",
              "      <th>V6</th>\n",
              "      <th>V7</th>\n",
              "      <th>V8</th>\n",
              "      <th>V9</th>\n",
              "      <th>V10</th>\n",
              "      <th>V11</th>\n",
              "      <th>V12</th>\n",
              "      <th>V13</th>\n",
              "      <th>V14</th>\n",
              "      <th>V15</th>\n",
              "      <th>V16</th>\n",
              "      <th>V17</th>\n",
              "      <th>V18</th>\n",
              "      <th>V19</th>\n",
              "      <th>V20</th>\n",
              "      <th>V21</th>\n",
              "      <th>V22</th>\n",
              "      <th>V23</th>\n",
              "      <th>V24</th>\n",
              "      <th>V25</th>\n",
              "      <th>V26</th>\n",
              "      <th>V27</th>\n",
              "      <th>V28</th>\n",
              "      <th>Amount</th>\n",
              "      <th>Class</th>\n",
              "      <th>fil</th>\n",
              "    </tr>\n",
              "  </thead>\n",
              "  <tbody>\n",
              "    <tr>\n",
              "      <th>0</th>\n",
              "      <td>16</td>\n",
              "      <td>0.694885</td>\n",
              "      <td>-1.361819</td>\n",
              "      <td>1.029221</td>\n",
              "      <td>0.834159</td>\n",
              "      <td>-1.191209</td>\n",
              "      <td>1.309109</td>\n",
              "      <td>-0.878586</td>\n",
              "      <td>0.445290</td>\n",
              "      <td>-0.446196</td>\n",
              "      <td>0.568521</td>\n",
              "      <td>1.019151</td>\n",
              "      <td>1.298329</td>\n",
              "      <td>0.420480</td>\n",
              "      <td>-0.372651</td>\n",
              "      <td>-0.807980</td>\n",
              "      <td>-2.044557</td>\n",
              "      <td>0.515663</td>\n",
              "      <td>0.625847</td>\n",
              "      <td>-1.300408</td>\n",
              "      <td>-0.138334</td>\n",
              "      <td>-0.295583</td>\n",
              "      <td>-0.571955</td>\n",
              "      <td>-0.050881</td>\n",
              "      <td>-0.304215</td>\n",
              "      <td>0.072001</td>\n",
              "      <td>-0.422234</td>\n",
              "      <td>0.086553</td>\n",
              "      <td>0.063499</td>\n",
              "      <td>231.71</td>\n",
              "      <td>0</td>\n",
              "      <td>0.917284</td>\n",
              "    </tr>\n",
              "    <tr>\n",
              "      <th>1</th>\n",
              "      <td>25</td>\n",
              "      <td>1.114009</td>\n",
              "      <td>0.085546</td>\n",
              "      <td>0.493702</td>\n",
              "      <td>1.335760</td>\n",
              "      <td>-0.300189</td>\n",
              "      <td>-0.010754</td>\n",
              "      <td>-0.118760</td>\n",
              "      <td>0.188617</td>\n",
              "      <td>0.205687</td>\n",
              "      <td>0.082262</td>\n",
              "      <td>1.133556</td>\n",
              "      <td>0.626699</td>\n",
              "      <td>-1.492780</td>\n",
              "      <td>0.520788</td>\n",
              "      <td>-0.674593</td>\n",
              "      <td>-0.529108</td>\n",
              "      <td>0.158256</td>\n",
              "      <td>-0.398751</td>\n",
              "      <td>-0.145709</td>\n",
              "      <td>-0.273832</td>\n",
              "      <td>-0.053234</td>\n",
              "      <td>-0.004760</td>\n",
              "      <td>-0.031470</td>\n",
              "      <td>0.198054</td>\n",
              "      <td>0.565007</td>\n",
              "      <td>-0.337718</td>\n",
              "      <td>0.029057</td>\n",
              "      <td>0.004453</td>\n",
              "      <td>4.45</td>\n",
              "      <td>0</td>\n",
              "      <td>0.980440</td>\n",
              "    </tr>\n",
              "    <tr>\n",
              "      <th>2</th>\n",
              "      <td>26</td>\n",
              "      <td>-0.535388</td>\n",
              "      <td>0.865268</td>\n",
              "      <td>1.351076</td>\n",
              "      <td>0.147575</td>\n",
              "      <td>0.433680</td>\n",
              "      <td>0.086983</td>\n",
              "      <td>0.693039</td>\n",
              "      <td>0.179742</td>\n",
              "      <td>-0.285642</td>\n",
              "      <td>-0.482474</td>\n",
              "      <td>0.871800</td>\n",
              "      <td>0.853447</td>\n",
              "      <td>-0.571822</td>\n",
              "      <td>0.102252</td>\n",
              "      <td>-1.519991</td>\n",
              "      <td>-0.285912</td>\n",
              "      <td>-0.309633</td>\n",
              "      <td>-0.403902</td>\n",
              "      <td>-0.823743</td>\n",
              "      <td>-0.283264</td>\n",
              "      <td>0.049526</td>\n",
              "      <td>0.206537</td>\n",
              "      <td>-0.187108</td>\n",
              "      <td>0.000753</td>\n",
              "      <td>0.098117</td>\n",
              "      <td>-0.553471</td>\n",
              "      <td>-0.078306</td>\n",
              "      <td>0.025427</td>\n",
              "      <td>1.77</td>\n",
              "      <td>0</td>\n",
              "      <td>0.958214</td>\n",
              "    </tr>\n",
              "    <tr>\n",
              "      <th>3</th>\n",
              "      <td>27</td>\n",
              "      <td>-1.452187</td>\n",
              "      <td>1.765124</td>\n",
              "      <td>0.611669</td>\n",
              "      <td>1.176825</td>\n",
              "      <td>-0.445980</td>\n",
              "      <td>0.246826</td>\n",
              "      <td>-0.257566</td>\n",
              "      <td>1.092472</td>\n",
              "      <td>-0.607524</td>\n",
              "      <td>0.047156</td>\n",
              "      <td>0.783727</td>\n",
              "      <td>1.096386</td>\n",
              "      <td>-0.268094</td>\n",
              "      <td>0.768648</td>\n",
              "      <td>-0.524367</td>\n",
              "      <td>-0.808816</td>\n",
              "      <td>0.710386</td>\n",
              "      <td>-0.118369</td>\n",
              "      <td>0.979288</td>\n",
              "      <td>0.008713</td>\n",
              "      <td>0.082280</td>\n",
              "      <td>0.325782</td>\n",
              "      <td>-0.069107</td>\n",
              "      <td>0.020962</td>\n",
              "      <td>-0.044668</td>\n",
              "      <td>-0.243441</td>\n",
              "      <td>0.149180</td>\n",
              "      <td>0.120557</td>\n",
              "      <td>1.80</td>\n",
              "      <td>0</td>\n",
              "      <td>0.968873</td>\n",
              "    </tr>\n",
              "    <tr>\n",
              "      <th>4</th>\n",
              "      <td>34</td>\n",
              "      <td>-0.291540</td>\n",
              "      <td>0.445575</td>\n",
              "      <td>1.249752</td>\n",
              "      <td>-1.735736</td>\n",
              "      <td>0.085756</td>\n",
              "      <td>-0.121924</td>\n",
              "      <td>0.407716</td>\n",
              "      <td>0.095309</td>\n",
              "      <td>0.815902</td>\n",
              "      <td>-1.491188</td>\n",
              "      <td>-0.846191</td>\n",
              "      <td>0.056533</td>\n",
              "      <td>-0.058954</td>\n",
              "      <td>0.151923</td>\n",
              "      <td>1.982595</td>\n",
              "      <td>-0.443295</td>\n",
              "      <td>-0.318251</td>\n",
              "      <td>0.064787</td>\n",
              "      <td>0.613505</td>\n",
              "      <td>-0.033522</td>\n",
              "      <td>-0.064906</td>\n",
              "      <td>-0.120449</td>\n",
              "      <td>-0.156526</td>\n",
              "      <td>-0.800213</td>\n",
              "      <td>-0.000620</td>\n",
              "      <td>-0.835203</td>\n",
              "      <td>0.131001</td>\n",
              "      <td>0.062896</td>\n",
              "      <td>18.95</td>\n",
              "      <td>0</td>\n",
              "      <td>0.917209</td>\n",
              "    </tr>\n",
              "  </tbody>\n",
              "</table>\n",
              "</div>"
            ],
            "text/plain": [
              "   Time        V1        V2        V3  ...       V28  Amount  Class       fil\n",
              "0    16  0.694885 -1.361819  1.029221  ...  0.063499  231.71      0  0.917284\n",
              "1    25  1.114009  0.085546  0.493702  ...  0.004453    4.45      0  0.980440\n",
              "2    26 -0.535388  0.865268  1.351076  ...  0.025427    1.77      0  0.958214\n",
              "3    27 -1.452187  1.765124  0.611669  ...  0.120557    1.80      0  0.968873\n",
              "4    34 -0.291540  0.445575  1.249752  ...  0.062896   18.95      0  0.917209\n",
              "\n",
              "[5 rows x 32 columns]"
            ]
          },
          "metadata": {
            "tags": []
          },
          "execution_count": 2
        }
      ]
    },
    {
      "cell_type": "code",
      "metadata": {
        "id": "-nPnrQFM3NMt",
        "outputId": "e88d83d2-ed7c-4617-8313-6671bd719162",
        "colab": {
          "base_uri": "https://localhost:8080/",
          "height": 224
        }
      },
      "source": [
        "df.head()"
      ],
      "execution_count": 3,
      "outputs": [
        {
          "output_type": "execute_result",
          "data": {
            "text/html": [
              "<div>\n",
              "<style scoped>\n",
              "    .dataframe tbody tr th:only-of-type {\n",
              "        vertical-align: middle;\n",
              "    }\n",
              "\n",
              "    .dataframe tbody tr th {\n",
              "        vertical-align: top;\n",
              "    }\n",
              "\n",
              "    .dataframe thead th {\n",
              "        text-align: right;\n",
              "    }\n",
              "</style>\n",
              "<table border=\"1\" class=\"dataframe\">\n",
              "  <thead>\n",
              "    <tr style=\"text-align: right;\">\n",
              "      <th></th>\n",
              "      <th>Time</th>\n",
              "      <th>V1</th>\n",
              "      <th>V2</th>\n",
              "      <th>V3</th>\n",
              "      <th>V4</th>\n",
              "      <th>V5</th>\n",
              "      <th>V6</th>\n",
              "      <th>V7</th>\n",
              "      <th>V8</th>\n",
              "      <th>V9</th>\n",
              "      <th>V10</th>\n",
              "      <th>V11</th>\n",
              "      <th>V12</th>\n",
              "      <th>V13</th>\n",
              "      <th>V14</th>\n",
              "      <th>V15</th>\n",
              "      <th>V16</th>\n",
              "      <th>V17</th>\n",
              "      <th>V18</th>\n",
              "      <th>V19</th>\n",
              "      <th>V20</th>\n",
              "      <th>V21</th>\n",
              "      <th>V22</th>\n",
              "      <th>V23</th>\n",
              "      <th>V24</th>\n",
              "      <th>V25</th>\n",
              "      <th>V26</th>\n",
              "      <th>V27</th>\n",
              "      <th>V28</th>\n",
              "      <th>Amount</th>\n",
              "      <th>Class</th>\n",
              "      <th>fil</th>\n",
              "    </tr>\n",
              "  </thead>\n",
              "  <tbody>\n",
              "    <tr>\n",
              "      <th>0</th>\n",
              "      <td>16</td>\n",
              "      <td>0.694885</td>\n",
              "      <td>-1.361819</td>\n",
              "      <td>1.029221</td>\n",
              "      <td>0.834159</td>\n",
              "      <td>-1.191209</td>\n",
              "      <td>1.309109</td>\n",
              "      <td>-0.878586</td>\n",
              "      <td>0.445290</td>\n",
              "      <td>-0.446196</td>\n",
              "      <td>0.568521</td>\n",
              "      <td>1.019151</td>\n",
              "      <td>1.298329</td>\n",
              "      <td>0.420480</td>\n",
              "      <td>-0.372651</td>\n",
              "      <td>-0.807980</td>\n",
              "      <td>-2.044557</td>\n",
              "      <td>0.515663</td>\n",
              "      <td>0.625847</td>\n",
              "      <td>-1.300408</td>\n",
              "      <td>-0.138334</td>\n",
              "      <td>-0.295583</td>\n",
              "      <td>-0.571955</td>\n",
              "      <td>-0.050881</td>\n",
              "      <td>-0.304215</td>\n",
              "      <td>0.072001</td>\n",
              "      <td>-0.422234</td>\n",
              "      <td>0.086553</td>\n",
              "      <td>0.063499</td>\n",
              "      <td>231.71</td>\n",
              "      <td>0</td>\n",
              "      <td>0.917284</td>\n",
              "    </tr>\n",
              "    <tr>\n",
              "      <th>1</th>\n",
              "      <td>25</td>\n",
              "      <td>1.114009</td>\n",
              "      <td>0.085546</td>\n",
              "      <td>0.493702</td>\n",
              "      <td>1.335760</td>\n",
              "      <td>-0.300189</td>\n",
              "      <td>-0.010754</td>\n",
              "      <td>-0.118760</td>\n",
              "      <td>0.188617</td>\n",
              "      <td>0.205687</td>\n",
              "      <td>0.082262</td>\n",
              "      <td>1.133556</td>\n",
              "      <td>0.626699</td>\n",
              "      <td>-1.492780</td>\n",
              "      <td>0.520788</td>\n",
              "      <td>-0.674593</td>\n",
              "      <td>-0.529108</td>\n",
              "      <td>0.158256</td>\n",
              "      <td>-0.398751</td>\n",
              "      <td>-0.145709</td>\n",
              "      <td>-0.273832</td>\n",
              "      <td>-0.053234</td>\n",
              "      <td>-0.004760</td>\n",
              "      <td>-0.031470</td>\n",
              "      <td>0.198054</td>\n",
              "      <td>0.565007</td>\n",
              "      <td>-0.337718</td>\n",
              "      <td>0.029057</td>\n",
              "      <td>0.004453</td>\n",
              "      <td>4.45</td>\n",
              "      <td>0</td>\n",
              "      <td>0.980440</td>\n",
              "    </tr>\n",
              "    <tr>\n",
              "      <th>2</th>\n",
              "      <td>26</td>\n",
              "      <td>-0.535388</td>\n",
              "      <td>0.865268</td>\n",
              "      <td>1.351076</td>\n",
              "      <td>0.147575</td>\n",
              "      <td>0.433680</td>\n",
              "      <td>0.086983</td>\n",
              "      <td>0.693039</td>\n",
              "      <td>0.179742</td>\n",
              "      <td>-0.285642</td>\n",
              "      <td>-0.482474</td>\n",
              "      <td>0.871800</td>\n",
              "      <td>0.853447</td>\n",
              "      <td>-0.571822</td>\n",
              "      <td>0.102252</td>\n",
              "      <td>-1.519991</td>\n",
              "      <td>-0.285912</td>\n",
              "      <td>-0.309633</td>\n",
              "      <td>-0.403902</td>\n",
              "      <td>-0.823743</td>\n",
              "      <td>-0.283264</td>\n",
              "      <td>0.049526</td>\n",
              "      <td>0.206537</td>\n",
              "      <td>-0.187108</td>\n",
              "      <td>0.000753</td>\n",
              "      <td>0.098117</td>\n",
              "      <td>-0.553471</td>\n",
              "      <td>-0.078306</td>\n",
              "      <td>0.025427</td>\n",
              "      <td>1.77</td>\n",
              "      <td>0</td>\n",
              "      <td>0.958214</td>\n",
              "    </tr>\n",
              "    <tr>\n",
              "      <th>3</th>\n",
              "      <td>27</td>\n",
              "      <td>-1.452187</td>\n",
              "      <td>1.765124</td>\n",
              "      <td>0.611669</td>\n",
              "      <td>1.176825</td>\n",
              "      <td>-0.445980</td>\n",
              "      <td>0.246826</td>\n",
              "      <td>-0.257566</td>\n",
              "      <td>1.092472</td>\n",
              "      <td>-0.607524</td>\n",
              "      <td>0.047156</td>\n",
              "      <td>0.783727</td>\n",
              "      <td>1.096386</td>\n",
              "      <td>-0.268094</td>\n",
              "      <td>0.768648</td>\n",
              "      <td>-0.524367</td>\n",
              "      <td>-0.808816</td>\n",
              "      <td>0.710386</td>\n",
              "      <td>-0.118369</td>\n",
              "      <td>0.979288</td>\n",
              "      <td>0.008713</td>\n",
              "      <td>0.082280</td>\n",
              "      <td>0.325782</td>\n",
              "      <td>-0.069107</td>\n",
              "      <td>0.020962</td>\n",
              "      <td>-0.044668</td>\n",
              "      <td>-0.243441</td>\n",
              "      <td>0.149180</td>\n",
              "      <td>0.120557</td>\n",
              "      <td>1.80</td>\n",
              "      <td>0</td>\n",
              "      <td>0.968873</td>\n",
              "    </tr>\n",
              "    <tr>\n",
              "      <th>4</th>\n",
              "      <td>34</td>\n",
              "      <td>-0.291540</td>\n",
              "      <td>0.445575</td>\n",
              "      <td>1.249752</td>\n",
              "      <td>-1.735736</td>\n",
              "      <td>0.085756</td>\n",
              "      <td>-0.121924</td>\n",
              "      <td>0.407716</td>\n",
              "      <td>0.095309</td>\n",
              "      <td>0.815902</td>\n",
              "      <td>-1.491188</td>\n",
              "      <td>-0.846191</td>\n",
              "      <td>0.056533</td>\n",
              "      <td>-0.058954</td>\n",
              "      <td>0.151923</td>\n",
              "      <td>1.982595</td>\n",
              "      <td>-0.443295</td>\n",
              "      <td>-0.318251</td>\n",
              "      <td>0.064787</td>\n",
              "      <td>0.613505</td>\n",
              "      <td>-0.033522</td>\n",
              "      <td>-0.064906</td>\n",
              "      <td>-0.120449</td>\n",
              "      <td>-0.156526</td>\n",
              "      <td>-0.800213</td>\n",
              "      <td>-0.000620</td>\n",
              "      <td>-0.835203</td>\n",
              "      <td>0.131001</td>\n",
              "      <td>0.062896</td>\n",
              "      <td>18.95</td>\n",
              "      <td>0</td>\n",
              "      <td>0.917209</td>\n",
              "    </tr>\n",
              "  </tbody>\n",
              "</table>\n",
              "</div>"
            ],
            "text/plain": [
              "   Time        V1        V2        V3  ...       V28  Amount  Class       fil\n",
              "0    16  0.694885 -1.361819  1.029221  ...  0.063499  231.71      0  0.917284\n",
              "1    25  1.114009  0.085546  0.493702  ...  0.004453    4.45      0  0.980440\n",
              "2    26 -0.535388  0.865268  1.351076  ...  0.025427    1.77      0  0.958214\n",
              "3    27 -1.452187  1.765124  0.611669  ...  0.120557    1.80      0  0.968873\n",
              "4    34 -0.291540  0.445575  1.249752  ...  0.062896   18.95      0  0.917209\n",
              "\n",
              "[5 rows x 32 columns]"
            ]
          },
          "metadata": {
            "tags": []
          },
          "execution_count": 3
        }
      ]
    },
    {
      "cell_type": "code",
      "metadata": {
        "id": "sohixymG3NMv",
        "outputId": "a7c4a3fe-d11a-41e6-8da7-44bfbd788a14",
        "colab": {
          "base_uri": "https://localhost:8080/",
          "height": 258
        }
      },
      "source": [
        "pd.set_option('display.max_colwidth', -1)\n",
        "display(HTML(df.head().to_html()))\n",
        "pd.reset_option('display.max_colwidth')"
      ],
      "execution_count": 4,
      "outputs": [
        {
          "output_type": "stream",
          "text": [
            "/usr/local/lib/python3.7/dist-packages/ipykernel_launcher.py:1: FutureWarning: Passing a negative integer is deprecated in version 1.0 and will not be supported in future version. Instead, use None to not limit the column width.\n",
            "  \"\"\"Entry point for launching an IPython kernel.\n"
          ],
          "name": "stderr"
        },
        {
          "output_type": "display_data",
          "data": {
            "text/html": [
              "<table border=\"1\" class=\"dataframe\">\n",
              "  <thead>\n",
              "    <tr style=\"text-align: right;\">\n",
              "      <th></th>\n",
              "      <th>Time</th>\n",
              "      <th>V1</th>\n",
              "      <th>V2</th>\n",
              "      <th>V3</th>\n",
              "      <th>V4</th>\n",
              "      <th>V5</th>\n",
              "      <th>V6</th>\n",
              "      <th>V7</th>\n",
              "      <th>V8</th>\n",
              "      <th>V9</th>\n",
              "      <th>V10</th>\n",
              "      <th>V11</th>\n",
              "      <th>V12</th>\n",
              "      <th>V13</th>\n",
              "      <th>V14</th>\n",
              "      <th>V15</th>\n",
              "      <th>V16</th>\n",
              "      <th>V17</th>\n",
              "      <th>V18</th>\n",
              "      <th>V19</th>\n",
              "      <th>V20</th>\n",
              "      <th>V21</th>\n",
              "      <th>V22</th>\n",
              "      <th>V23</th>\n",
              "      <th>V24</th>\n",
              "      <th>V25</th>\n",
              "      <th>V26</th>\n",
              "      <th>V27</th>\n",
              "      <th>V28</th>\n",
              "      <th>Amount</th>\n",
              "      <th>Class</th>\n",
              "      <th>fil</th>\n",
              "    </tr>\n",
              "  </thead>\n",
              "  <tbody>\n",
              "    <tr>\n",
              "      <th>0</th>\n",
              "      <td>16</td>\n",
              "      <td>0.694885</td>\n",
              "      <td>-1.361819</td>\n",
              "      <td>1.029221</td>\n",
              "      <td>0.834159</td>\n",
              "      <td>-1.191209</td>\n",
              "      <td>1.309109</td>\n",
              "      <td>-0.878586</td>\n",
              "      <td>0.445290</td>\n",
              "      <td>-0.446196</td>\n",
              "      <td>0.568521</td>\n",
              "      <td>1.019151</td>\n",
              "      <td>1.298329</td>\n",
              "      <td>0.420480</td>\n",
              "      <td>-0.372651</td>\n",
              "      <td>-0.807980</td>\n",
              "      <td>-2.044557</td>\n",
              "      <td>0.515663</td>\n",
              "      <td>0.625847</td>\n",
              "      <td>-1.300408</td>\n",
              "      <td>-0.138334</td>\n",
              "      <td>-0.295583</td>\n",
              "      <td>-0.571955</td>\n",
              "      <td>-0.050881</td>\n",
              "      <td>-0.304215</td>\n",
              "      <td>0.072001</td>\n",
              "      <td>-0.422234</td>\n",
              "      <td>0.086553</td>\n",
              "      <td>0.063499</td>\n",
              "      <td>231.71</td>\n",
              "      <td>0</td>\n",
              "      <td>0.917284</td>\n",
              "    </tr>\n",
              "    <tr>\n",
              "      <th>1</th>\n",
              "      <td>25</td>\n",
              "      <td>1.114009</td>\n",
              "      <td>0.085546</td>\n",
              "      <td>0.493702</td>\n",
              "      <td>1.335760</td>\n",
              "      <td>-0.300189</td>\n",
              "      <td>-0.010754</td>\n",
              "      <td>-0.118760</td>\n",
              "      <td>0.188617</td>\n",
              "      <td>0.205687</td>\n",
              "      <td>0.082262</td>\n",
              "      <td>1.133556</td>\n",
              "      <td>0.626699</td>\n",
              "      <td>-1.492780</td>\n",
              "      <td>0.520788</td>\n",
              "      <td>-0.674593</td>\n",
              "      <td>-0.529108</td>\n",
              "      <td>0.158256</td>\n",
              "      <td>-0.398751</td>\n",
              "      <td>-0.145709</td>\n",
              "      <td>-0.273832</td>\n",
              "      <td>-0.053234</td>\n",
              "      <td>-0.004760</td>\n",
              "      <td>-0.031470</td>\n",
              "      <td>0.198054</td>\n",
              "      <td>0.565007</td>\n",
              "      <td>-0.337718</td>\n",
              "      <td>0.029057</td>\n",
              "      <td>0.004453</td>\n",
              "      <td>4.45</td>\n",
              "      <td>0</td>\n",
              "      <td>0.980440</td>\n",
              "    </tr>\n",
              "    <tr>\n",
              "      <th>2</th>\n",
              "      <td>26</td>\n",
              "      <td>-0.535388</td>\n",
              "      <td>0.865268</td>\n",
              "      <td>1.351076</td>\n",
              "      <td>0.147575</td>\n",
              "      <td>0.433680</td>\n",
              "      <td>0.086983</td>\n",
              "      <td>0.693039</td>\n",
              "      <td>0.179742</td>\n",
              "      <td>-0.285642</td>\n",
              "      <td>-0.482474</td>\n",
              "      <td>0.871800</td>\n",
              "      <td>0.853447</td>\n",
              "      <td>-0.571822</td>\n",
              "      <td>0.102252</td>\n",
              "      <td>-1.519991</td>\n",
              "      <td>-0.285912</td>\n",
              "      <td>-0.309633</td>\n",
              "      <td>-0.403902</td>\n",
              "      <td>-0.823743</td>\n",
              "      <td>-0.283264</td>\n",
              "      <td>0.049526</td>\n",
              "      <td>0.206537</td>\n",
              "      <td>-0.187108</td>\n",
              "      <td>0.000753</td>\n",
              "      <td>0.098117</td>\n",
              "      <td>-0.553471</td>\n",
              "      <td>-0.078306</td>\n",
              "      <td>0.025427</td>\n",
              "      <td>1.77</td>\n",
              "      <td>0</td>\n",
              "      <td>0.958214</td>\n",
              "    </tr>\n",
              "    <tr>\n",
              "      <th>3</th>\n",
              "      <td>27</td>\n",
              "      <td>-1.452187</td>\n",
              "      <td>1.765124</td>\n",
              "      <td>0.611669</td>\n",
              "      <td>1.176825</td>\n",
              "      <td>-0.445980</td>\n",
              "      <td>0.246826</td>\n",
              "      <td>-0.257566</td>\n",
              "      <td>1.092472</td>\n",
              "      <td>-0.607524</td>\n",
              "      <td>0.047156</td>\n",
              "      <td>0.783727</td>\n",
              "      <td>1.096386</td>\n",
              "      <td>-0.268094</td>\n",
              "      <td>0.768648</td>\n",
              "      <td>-0.524367</td>\n",
              "      <td>-0.808816</td>\n",
              "      <td>0.710386</td>\n",
              "      <td>-0.118369</td>\n",
              "      <td>0.979288</td>\n",
              "      <td>0.008713</td>\n",
              "      <td>0.082280</td>\n",
              "      <td>0.325782</td>\n",
              "      <td>-0.069107</td>\n",
              "      <td>0.020962</td>\n",
              "      <td>-0.044668</td>\n",
              "      <td>-0.243441</td>\n",
              "      <td>0.149180</td>\n",
              "      <td>0.120557</td>\n",
              "      <td>1.80</td>\n",
              "      <td>0</td>\n",
              "      <td>0.968873</td>\n",
              "    </tr>\n",
              "    <tr>\n",
              "      <th>4</th>\n",
              "      <td>34</td>\n",
              "      <td>-0.291540</td>\n",
              "      <td>0.445575</td>\n",
              "      <td>1.249752</td>\n",
              "      <td>-1.735736</td>\n",
              "      <td>0.085756</td>\n",
              "      <td>-0.121924</td>\n",
              "      <td>0.407716</td>\n",
              "      <td>0.095309</td>\n",
              "      <td>0.815902</td>\n",
              "      <td>-1.491188</td>\n",
              "      <td>-0.846191</td>\n",
              "      <td>0.056533</td>\n",
              "      <td>-0.058954</td>\n",
              "      <td>0.151923</td>\n",
              "      <td>1.982595</td>\n",
              "      <td>-0.443295</td>\n",
              "      <td>-0.318251</td>\n",
              "      <td>0.064787</td>\n",
              "      <td>0.613505</td>\n",
              "      <td>-0.033522</td>\n",
              "      <td>-0.064906</td>\n",
              "      <td>-0.120449</td>\n",
              "      <td>-0.156526</td>\n",
              "      <td>-0.800213</td>\n",
              "      <td>-0.000620</td>\n",
              "      <td>-0.835203</td>\n",
              "      <td>0.131001</td>\n",
              "      <td>0.062896</td>\n",
              "      <td>18.95</td>\n",
              "      <td>0</td>\n",
              "      <td>0.917209</td>\n",
              "    </tr>\n",
              "  </tbody>\n",
              "</table>"
            ],
            "text/plain": [
              "<IPython.core.display.HTML object>"
            ]
          },
          "metadata": {
            "tags": []
          }
        }
      ]
    },
    {
      "cell_type": "code",
      "metadata": {
        "id": "SSDz3I4L3NMw",
        "outputId": "c6764d48-b0e6-40a3-8adf-a1b11e142f7d",
        "colab": {
          "base_uri": "https://localhost:8080/"
        }
      },
      "source": [
        "df.columns"
      ],
      "execution_count": 5,
      "outputs": [
        {
          "output_type": "execute_result",
          "data": {
            "text/plain": [
              "Index(['Time', 'V1', 'V2', 'V3', 'V4', 'V5', 'V6', 'V7', 'V8', 'V9', 'V10',\n",
              "       'V11', 'V12', 'V13', 'V14', 'V15', 'V16', 'V17', 'V18', 'V19', 'V20',\n",
              "       'V21', 'V22', 'V23', 'V24', 'V25', 'V26', 'V27', 'V28', 'Amount',\n",
              "       'Class', 'fil'],\n",
              "      dtype='object')"
            ]
          },
          "metadata": {
            "tags": []
          },
          "execution_count": 5
        }
      ]
    },
    {
      "cell_type": "code",
      "metadata": {
        "id": "NH3nVLW23NMx"
      },
      "source": [
        "features = ['V1', 'V2', 'V3', 'V4', 'V5', 'V6', 'V7', 'V8', 'V9', 'V10',\n",
        "            'V11', 'V12', 'V13', 'V14', 'V15', 'V16', 'V17', 'V18', 'V19', 'V20',\n",
        "            'V21', 'V22', 'V23', 'V24', 'V25', 'V26', 'V27', 'V28']"
      ],
      "execution_count": 6,
      "outputs": []
    },
    {
      "cell_type": "code",
      "metadata": {
        "id": "7xUJlmq03NMz",
        "outputId": "7a52f586-6a96-4c95-b98c-cf1e090c06fa",
        "colab": {
          "base_uri": "https://localhost:8080/"
        }
      },
      "source": [
        "df['Class'].value_counts()"
      ],
      "execution_count": 7,
      "outputs": [
        {
          "output_type": "execute_result",
          "data": {
            "text/plain": [
              "0    28442\n",
              "1      492\n",
              "Name: Class, dtype: int64"
            ]
          },
          "metadata": {
            "tags": []
          },
          "execution_count": 7
        }
      ]
    },
    {
      "cell_type": "code",
      "metadata": {
        "id": "iIdFiQ9D3NM1"
      },
      "source": [
        "X = df[features]\n",
        "y = df['Class']"
      ],
      "execution_count": 8,
      "outputs": []
    },
    {
      "cell_type": "code",
      "metadata": {
        "id": "ZEW5QhtM3NM2"
      },
      "source": [
        "X_train, X_test, y_train, y_test = train_test_split(X, y, test_size=0.3, random_state=42, \n",
        "                                                    stratify=y)"
      ],
      "execution_count": 9,
      "outputs": []
    },
    {
      "cell_type": "code",
      "metadata": {
        "id": "iJA7rsP23NM3"
      },
      "source": [
        "from sklearn.metrics import confusion_matrix, accuracy_score"
      ],
      "execution_count": 10,
      "outputs": []
    },
    {
      "cell_type": "markdown",
      "metadata": {
        "id": "DxFLZ8sb3NM5"
      },
      "source": [
        "# Model 1:"
      ]
    },
    {
      "cell_type": "code",
      "metadata": {
        "id": "TIsHkmfO3NM5",
        "outputId": "904d74f0-6a8d-4065-c726-7670e785d9eb",
        "colab": {
          "base_uri": "https://localhost:8080/"
        }
      },
      "source": [
        "clf = LogisticRegression()\n",
        "clf.fit(X_train, y_train)\n",
        "print(confusion_matrix(clf.predict(X_train), y_train))\n",
        "print(accuracy_score(clf.predict(X_train), y_train))\n",
        "print(confusion_matrix(clf.predict(X_test), y_test))\n",
        "print(accuracy_score(clf.predict(X_test), y_test))"
      ],
      "execution_count": 11,
      "outputs": [
        {
          "output_type": "stream",
          "text": [
            "[[19896    67]\n",
            " [   13   277]]\n",
            "0.9960499679059892\n",
            "[[8530   30]\n",
            " [   3  118]]\n",
            "0.9961985946319548\n"
          ],
          "name": "stdout"
        }
      ]
    },
    {
      "cell_type": "markdown",
      "metadata": {
        "id": "qgqWLMLM3NM6"
      },
      "source": [
        "# Model 2:"
      ]
    },
    {
      "cell_type": "code",
      "metadata": {
        "id": "-NYd3AdD3NM7",
        "outputId": "236b4ba2-3836-4663-a0dc-850fbf63df9e",
        "colab": {
          "base_uri": "https://localhost:8080/"
        }
      },
      "source": [
        "clf = GradientBoostingClassifier()\n",
        "clf.fit(X_train, y_train)\n",
        "print(confusion_matrix(clf.predict(X_train), y_train))\n",
        "print(accuracy_score(clf.predict(X_train), y_train))\n",
        "print(confusion_matrix(clf.predict(X_test), y_test))\n",
        "print(accuracy_score(clf.predict(X_test), y_test))"
      ],
      "execution_count": 12,
      "outputs": [
        {
          "output_type": "stream",
          "text": [
            "[[19908    20]\n",
            " [    1   324]]\n",
            "0.9989631165753222\n",
            "[[8521   26]\n",
            " [  12  122]]\n",
            "0.9956226241216449\n"
          ],
          "name": "stdout"
        }
      ]
    },
    {
      "cell_type": "markdown",
      "metadata": {
        "id": "ukkqLWJL3NM8"
      },
      "source": [
        "# Model 3:"
      ]
    },
    {
      "cell_type": "code",
      "metadata": {
        "id": "N4KjIywp3NM8",
        "outputId": "4d708c4d-adf1-4499-9d1b-96af884e2e75",
        "colab": {
          "base_uri": "https://localhost:8080/"
        }
      },
      "source": [
        "clf = DecisionTreeClassifier()\n",
        "clf.fit(X_train, y_train)\n",
        "print(confusion_matrix(clf.predict(X_train), y_train))\n",
        "print(accuracy_score(clf.predict(X_train), y_train))\n",
        "print(confusion_matrix(clf.predict(X_test), y_test))\n",
        "print(accuracy_score(clf.predict(X_test), y_test))"
      ],
      "execution_count": 13,
      "outputs": [
        {
          "output_type": "stream",
          "text": [
            "[[19909     0]\n",
            " [    0   344]]\n",
            "1.0\n",
            "[[8508   23]\n",
            " [  25  125]]\n",
            "0.9944706831010253\n"
          ],
          "name": "stdout"
        }
      ]
    },
    {
      "cell_type": "markdown",
      "metadata": {
        "id": "mQxDJWID3NM9"
      },
      "source": [
        "# Model 4:"
      ]
    },
    {
      "cell_type": "code",
      "metadata": {
        "id": "wEYNaOHg3NM9",
        "outputId": "a8a60ed2-076e-42b8-edbc-9e2e1e2f88cb",
        "colab": {
          "base_uri": "https://localhost:8080/"
        }
      },
      "source": [
        "clf = RandomForestClassifier()\n",
        "clf.fit(X_train, y_train)\n",
        "print(confusion_matrix(clf.predict(X_train), y_train))\n",
        "print(accuracy_score(clf.predict(X_train), y_train))\n",
        "print(confusion_matrix(clf.predict(X_test), y_test))\n",
        "print(accuracy_score(clf.predict(X_test), y_test))"
      ],
      "execution_count": 14,
      "outputs": [
        {
          "output_type": "stream",
          "text": [
            "[[19909     0]\n",
            " [    0   344]]\n",
            "1.0\n",
            "[[8531   23]\n",
            " [   2  125]]\n",
            "0.9971201474484507\n"
          ],
          "name": "stdout"
        }
      ]
    },
    {
      "cell_type": "markdown",
      "metadata": {
        "id": "TXi1enmj3NM9"
      },
      "source": [
        "***"
      ]
    }
  ]
}