{
  "nbformat": 4,
  "nbformat_minor": 0,
  "metadata": {
    "kernelspec": {
      "display_name": "Python 3",
      "language": "python",
      "name": "python3"
    },
    "language_info": {
      "codemirror_mode": {
        "name": "ipython",
        "version": 3
      },
      "file_extension": ".py",
      "mimetype": "text/x-python",
      "name": "python",
      "nbconvert_exporter": "python",
      "pygments_lexer": "ipython3",
      "version": "3.5.4"
    },
    "colab": {
      "name": "Lesson 6 - Ensemble.ipynb",
      "provenance": []
    },
    "accelerator": "GPU"
  },
  "cells": [
    {
      "cell_type": "markdown",
      "metadata": {
        "id": "4eXCjKvGMfxO"
      },
      "source": [
        "# XGBoost (Extreme Gradient Boosting)"
      ]
    },
    {
      "cell_type": "markdown",
      "metadata": {
        "id": "r3nCVmNtMfxS"
      },
      "source": [
        "## Installation Guide"
      ]
    },
    {
      "cell_type": "markdown",
      "metadata": {
        "id": "PbntkbhkMfxS"
      },
      "source": [
        "\n",
        "\n",
        "\n",
        "\n",
        "Following [part 1](https://www.ibm.com/developerworks/community/blogs/jfp/entry/Installing_XGBoost_For_Anaconda_on_Windows?lang=en) works for me.\n",
        "\n",
        "However, I do need to download [windows x64 binaries](http://www.picnet.com.au/blogs/guido/post/2016/09/22/xgboost-windows-x64-binaries-for-download/)\n",
        "\n",
        "That's all that I needed\n",
        "\n",
        "More info:\n",
        "\n",
        "http://www.picnet.com.au/blogs/guido/post/2016/09/22/how-to-build-xgboost-on-windows/\n",
        "\n",
        "http://xgboost.readthedocs.io/en/latest/build.html\n",
        "\n",
        "https://github.com/dmlc/xgboost/blob/master/doc/build.md#python-package-installation\n",
        "\n",
        "\n",
        "\n",
        "\n"
      ]
    },
    {
      "cell_type": "code",
      "metadata": {
        "id": "OFnuHAkVMfxT"
      },
      "source": [
        "import xgboost as xgb\n",
        "import numpy as np"
      ],
      "execution_count": 1,
      "outputs": []
    },
    {
      "cell_type": "code",
      "metadata": {
        "id": "gfY7rTydMfxU"
      },
      "source": [
        "data = np.random.rand(5,10) # 5 entities, each contains 10 features\n",
        "label = np.random.randint(2, size=5) # binary target\n",
        "dtrain = xgb.DMatrix( data, label=label)"
      ],
      "execution_count": 2,
      "outputs": []
    },
    {
      "cell_type": "code",
      "metadata": {
        "id": "C6I6R-1SMfxU"
      },
      "source": [
        "dtest = dtrain"
      ],
      "execution_count": 3,
      "outputs": []
    },
    {
      "cell_type": "code",
      "metadata": {
        "id": "-kR36gVJMfxU"
      },
      "source": [
        "param = {'bst:max_depth':2, 'bst:eta':1, 'silent':1, 'objective':'binary:logistic' }\n",
        "param['nthread'] = 4\n",
        "param['eval_metric'] = 'auc'"
      ],
      "execution_count": 4,
      "outputs": []
    },
    {
      "cell_type": "code",
      "metadata": {
        "id": "w6fMlgBAMfxV"
      },
      "source": [
        "evallist  = [(dtest,'eval'), (dtrain,'train')]"
      ],
      "execution_count": 5,
      "outputs": []
    },
    {
      "cell_type": "code",
      "metadata": {
        "id": "Vg4yVJKBMfxV",
        "outputId": "feace028-f2b8-4bf2-9596-1333dad6e11d",
        "colab": {
          "base_uri": "https://localhost:8080/"
        }
      },
      "source": [
        "num_round = 10\n",
        "bst = xgb.train( param, dtrain, num_round, evallist )"
      ],
      "execution_count": 6,
      "outputs": [
        {
          "output_type": "stream",
          "text": [
            "[0]\teval-auc:0.5\ttrain-auc:0.5\n",
            "[1]\teval-auc:0.5\ttrain-auc:0.5\n",
            "[2]\teval-auc:0.5\ttrain-auc:0.5\n",
            "[3]\teval-auc:0.5\ttrain-auc:0.5\n",
            "[4]\teval-auc:0.5\ttrain-auc:0.5\n",
            "[5]\teval-auc:0.5\ttrain-auc:0.5\n",
            "[6]\teval-auc:0.5\ttrain-auc:0.5\n",
            "[7]\teval-auc:0.5\ttrain-auc:0.5\n",
            "[8]\teval-auc:0.5\ttrain-auc:0.5\n",
            "[9]\teval-auc:0.5\ttrain-auc:0.5\n"
          ],
          "name": "stdout"
        }
      ]
    },
    {
      "cell_type": "markdown",
      "metadata": {
        "id": "JhBAJKKUMfxW"
      },
      "source": [
        "## Documentation"
      ]
    },
    {
      "cell_type": "markdown",
      "metadata": {
        "id": "EnStmYRMMfxW"
      },
      "source": [
        "\n",
        "\n",
        "[Documentation](http://xgboost.readthedocs.io/en/latest/)\n",
        "\n",
        "[tqchen github](https://github.com/tqchen/xgboost/tree/master/demo/guide-python)\n",
        "\n",
        "[dmlc github](https://github.com/dmlc/xgboost)\n",
        "\n",
        "* “Gradient Boosting” is proposed in the paper Greedy Function Approximation: A Gradient Boosting Machine, by Friedman. \n",
        "* XGBoost is based on this original model. \n",
        "\n",
        "* Supervised Learning\n",
        "\n",
        "## Objective Function : Training Loss + Regularization\n",
        "\n",
        "$$Obj(Θ)=L(θ)+Ω(Θ)$$\n",
        "\n",
        "* $L$ is the training loss function, and \n",
        "* $Ω$ is the regularization term. \n",
        "\n",
        "### Training Loss\n",
        "\n",
        "The training loss measures how predictive our model is on training data.\n",
        "\n",
        "Example 1, Mean Squared Error for Linear Regression:\n",
        "\n",
        "$$L(θ)= \\sum_i(y_i-\\hat{y}_i)^2$$\n",
        "\n",
        "Example 2, Logistic Loss for Logistic Regression:\n",
        "\n",
        "$$ L(θ) = \\sum_i \\large[ y_i ln(1 + e^{-\\hat{y}_i}) + (1-y_i) ln(1 + e^{\\hat{y}_i}) \\large] $$\n",
        "\n",
        "### Regularization Term\n",
        "\n",
        "The regularization term controls the complexity of the model, which helps us to avoid overfitting. "
      ]
    },
    {
      "cell_type": "markdown",
      "metadata": {
        "id": "iJN8nImJMfxX"
      },
      "source": [
        "[XGBoost vs GBM](https://www.quora.com/What-is-the-difference-between-the-R-gbm-gradient-boosting-machine-and-xgboost-extreme-gradient-boosting/answer/Tianqi-Chen-1)\n",
        "\n",
        "* Specifically,  xgboost used a more regularized model formalization to control over-fitting, which gives it better performance.\n",
        "\n",
        "* For model, it might be more suitable to be called as regularized gradient boosting.\n",
        "\n"
      ]
    },
    {
      "cell_type": "code",
      "metadata": {
        "id": "QXOQtBe4MfxX"
      },
      "source": [
        "import numpy as np\n",
        "import seaborn as sns\n",
        "import matplotlib.pyplot as plt\n",
        "%matplotlib inline\n",
        "import pandas as pd"
      ],
      "execution_count": 7,
      "outputs": []
    },
    {
      "cell_type": "code",
      "metadata": {
        "id": "EpEm_wfFMfxX"
      },
      "source": [
        "df = sns.load_dataset('titanic')"
      ],
      "execution_count": 8,
      "outputs": []
    },
    {
      "cell_type": "code",
      "metadata": {
        "id": "TZu4uQTuMfxX"
      },
      "source": [
        "df.dropna(inplace=True)"
      ],
      "execution_count": 9,
      "outputs": []
    },
    {
      "cell_type": "markdown",
      "metadata": {
        "id": "bD2UrY3jMfxY"
      },
      "source": [
        "## Data Pre-processing"
      ]
    },
    {
      "cell_type": "code",
      "metadata": {
        "id": "QTYqk2xNMfxY"
      },
      "source": [
        "X = df[['pclass', 'sex', 'age']]"
      ],
      "execution_count": 10,
      "outputs": []
    },
    {
      "cell_type": "code",
      "metadata": {
        "id": "xErysJ1aMfxY"
      },
      "source": [
        "from sklearn import preprocessing\n",
        "lb = preprocessing.LabelBinarizer()"
      ],
      "execution_count": 11,
      "outputs": []
    },
    {
      "cell_type": "code",
      "metadata": {
        "id": "YQh93JS3MfxY",
        "outputId": "d11faa9f-48cb-4558-f737-66958da5ccb4",
        "colab": {
          "base_uri": "https://localhost:8080/"
        }
      },
      "source": [
        "X['sex'] = lb.fit_transform(X['sex'])"
      ],
      "execution_count": 12,
      "outputs": [
        {
          "output_type": "stream",
          "text": [
            "/usr/local/lib/python3.7/dist-packages/ipykernel_launcher.py:1: SettingWithCopyWarning: \n",
            "A value is trying to be set on a copy of a slice from a DataFrame.\n",
            "Try using .loc[row_indexer,col_indexer] = value instead\n",
            "\n",
            "See the caveats in the documentation: https://pandas.pydata.org/pandas-docs/stable/user_guide/indexing.html#returning-a-view-versus-a-copy\n",
            "  \"\"\"Entry point for launching an IPython kernel.\n"
          ],
          "name": "stderr"
        }
      ]
    },
    {
      "cell_type": "code",
      "metadata": {
        "id": "VSnnGCMMMfxY"
      },
      "source": [
        "y = df['survived']"
      ],
      "execution_count": 13,
      "outputs": []
    },
    {
      "cell_type": "markdown",
      "metadata": {
        "id": "IwFJzdGfMfxZ"
      },
      "source": [
        "***"
      ]
    },
    {
      "cell_type": "code",
      "metadata": {
        "id": "Td-0No0wMfxZ"
      },
      "source": [
        "from sklearn.model_selection import train_test_split"
      ],
      "execution_count": 14,
      "outputs": []
    },
    {
      "cell_type": "code",
      "metadata": {
        "id": "mkrJcJQNMfxZ"
      },
      "source": [
        "X_train, X_test, y_train, y_test = train_test_split(X, y, test_size=0.3)"
      ],
      "execution_count": 15,
      "outputs": []
    },
    {
      "cell_type": "code",
      "metadata": {
        "id": "jX_mUqS5MfxZ"
      },
      "source": [
        "from sklearn.model_selection import cross_val_score, cross_val_predict\n",
        "from sklearn.metrics import accuracy_score, classification_report, confusion_matrix"
      ],
      "execution_count": 16,
      "outputs": []
    },
    {
      "cell_type": "code",
      "metadata": {
        "id": "vU5dCsmvMfxZ"
      },
      "source": [
        "def print_score(clf, X_train, y_train, X_test, y_test, train=True):\n",
        "    '''\n",
        "    print the accuracy score, classification report and confusion matrix of classifier\n",
        "    '''\n",
        "    if train:\n",
        "        '''\n",
        "        training performance\n",
        "        '''\n",
        "        print(\"Train Result:\\n\")\n",
        "        y_pred = clf.predict(X_train)\n",
        "        print(\"accuracy score: {0:.4f}\\n\".format(accuracy_score(y_train, y_pred)))\n",
        "        print(\"Classification Report: \\n {}\\n\".format(classification_report(y_train, y_pred)))\n",
        "        print(\"Confusion Matrix: \\n {}\\n\".format(confusion_matrix(y_train, y_pred)))\n",
        "\n",
        "        res = cross_val_score(clf, X_train, y_train, cv=10, scoring='accuracy')\n",
        "        print(\"Average Accuracy: \\t {0:.4f}\".format(np.mean(res)))\n",
        "        print(\"Accuracy SD: \\t\\t {0:.4f}\".format(np.std(res)))\n",
        "        \n",
        "    elif train==False:\n",
        "        '''\n",
        "        test performance\n",
        "        '''\n",
        "        print(\"Test Result:\\n\")\n",
        "        y_pred = clf.predict(X_test)\n",
        "        print(\"accuracy score: {0:.4f}\\n\".format(accuracy_score(y_test, y_pred)))\n",
        "        print(\"Classification Report: \\n {}\\n\".format(classification_report(y_test, y_pred)))\n",
        "        print(\"Confusion Matrix: \\n {}\\n\".format(confusion_matrix(y_test, y_pred)))    \n",
        "        "
      ],
      "execution_count": 17,
      "outputs": []
    },
    {
      "cell_type": "markdown",
      "metadata": {
        "id": "5Sh2dwo-Mfxa"
      },
      "source": [
        "## Model Fitting and Prediction"
      ]
    },
    {
      "cell_type": "code",
      "metadata": {
        "id": "XxOSR1nCMfxa"
      },
      "source": [
        "import xgboost as xgb"
      ],
      "execution_count": 18,
      "outputs": []
    },
    {
      "cell_type": "code",
      "metadata": {
        "id": "AfUL0ufPMfxa"
      },
      "source": [
        "xgb_clf = xgb.XGBClassifier(max_depth=5, n_estimators=10000, learning_rate=0.3,\n",
        "                            n_jobs=-1)"
      ],
      "execution_count": 19,
      "outputs": []
    },
    {
      "cell_type": "code",
      "metadata": {
        "id": "xhPjBbDZMfxa",
        "outputId": "53f17e8f-58f1-48ce-ecb1-fee63a42f028",
        "colab": {
          "base_uri": "https://localhost:8080/"
        }
      },
      "source": [
        "xgb_clf.fit(X_train, y_train)"
      ],
      "execution_count": 20,
      "outputs": [
        {
          "output_type": "execute_result",
          "data": {
            "text/plain": [
              "XGBClassifier(base_score=0.5, booster='gbtree', colsample_bylevel=1,\n",
              "              colsample_bynode=1, colsample_bytree=1, gamma=0,\n",
              "              learning_rate=0.3, max_delta_step=0, max_depth=5,\n",
              "              min_child_weight=1, missing=None, n_estimators=10000, n_jobs=-1,\n",
              "              nthread=None, objective='binary:logistic', random_state=0,\n",
              "              reg_alpha=0, reg_lambda=1, scale_pos_weight=1, seed=None,\n",
              "              silent=None, subsample=1, verbosity=1)"
            ]
          },
          "metadata": {
            "tags": []
          },
          "execution_count": 20
        }
      ]
    },
    {
      "cell_type": "code",
      "metadata": {
        "id": "s7gULqrZMfxa",
        "outputId": "56d86880-b3cc-418d-bd77-3776078a832a",
        "colab": {
          "base_uri": "https://localhost:8080/"
        }
      },
      "source": [
        "print_score(xgb_clf, X_train, y_train, X_test, y_test, train=True)"
      ],
      "execution_count": 21,
      "outputs": [
        {
          "output_type": "stream",
          "text": [
            "Train Result:\n",
            "\n",
            "accuracy score: 0.9685\n",
            "\n",
            "Classification Report: \n",
            "               precision    recall  f1-score   support\n",
            "\n",
            "           0       0.93      0.98      0.95        41\n",
            "           1       0.99      0.97      0.98        86\n",
            "\n",
            "    accuracy                           0.97       127\n",
            "   macro avg       0.96      0.97      0.96       127\n",
            "weighted avg       0.97      0.97      0.97       127\n",
            "\n",
            "\n",
            "Confusion Matrix: \n",
            " [[40  1]\n",
            " [ 3 83]]\n",
            "\n",
            "Average Accuracy: \t 0.8410\n",
            "Accuracy SD: \t\t 0.0892\n"
          ],
          "name": "stdout"
        }
      ]
    },
    {
      "cell_type": "code",
      "metadata": {
        "id": "NT_AO0daMfxb",
        "outputId": "e7e3595e-42e3-4eda-eabd-ef3e784f97a8",
        "colab": {
          "base_uri": "https://localhost:8080/"
        }
      },
      "source": [
        "print_score(xgb_clf, X_train, y_train, X_test, y_test, train=False)"
      ],
      "execution_count": 22,
      "outputs": [
        {
          "output_type": "stream",
          "text": [
            "Test Result:\n",
            "\n",
            "accuracy score: 0.6545\n",
            "\n",
            "Classification Report: \n",
            "               precision    recall  f1-score   support\n",
            "\n",
            "           0       0.47      0.50      0.49        18\n",
            "           1       0.75      0.73      0.74        37\n",
            "\n",
            "    accuracy                           0.65        55\n",
            "   macro avg       0.61      0.61      0.61        55\n",
            "weighted avg       0.66      0.65      0.66        55\n",
            "\n",
            "\n",
            "Confusion Matrix: \n",
            " [[ 9  9]\n",
            " [10 27]]\n",
            "\n"
          ],
          "name": "stdout"
        }
      ]
    },
    {
      "cell_type": "markdown",
      "metadata": {
        "id": "O6sxrchQMfxb"
      },
      "source": [
        "***"
      ]
    },
    {
      "cell_type": "markdown",
      "metadata": {
        "id": "nEfusi-eMfxb"
      },
      "source": [
        "# Ensemble of ensembles - model stacking"
      ]
    },
    {
      "cell_type": "markdown",
      "metadata": {
        "id": "-qJbobA_Mfxb"
      },
      "source": [
        "## Introduction"
      ]
    },
    {
      "cell_type": "markdown",
      "metadata": {
        "id": "anvIDblZMfxb"
      },
      "source": [
        "* **Ensemble with different types of classifiers**: \n",
        "  * Different types of classifiers (E.g., logistic regression, decision trees, random forest, etc.) are fitted on the same training data\n",
        "  * Results are combined based on either \n",
        "    * majority voting (classification) or \n",
        "    * average (regression)\n",
        "  \n",
        "\n",
        "* **Ensemble with a single type of classifier**: \n",
        "  * Bootstrap samples are drawn from training data \n",
        "  * With each bootstrap sample, model (E.g., Individual model may be decision trees, random forest, etc.) will be fitted \n",
        "  * All the results are combined to create an ensemble. \n",
        "  * Suitabe for highly flexible models that is prone to overfitting / high variance. "
      ]
    },
    {
      "cell_type": "markdown",
      "metadata": {
        "id": "87Ie2AqxMfxc"
      },
      "source": [
        "***\n",
        "\n",
        "## Combining Method\n",
        "\n",
        "* **Majority voting or average**: \n",
        "  * Classification: Largest number of votes (mode) \n",
        "  * Regression problems: Average (mean).\n",
        "  \n",
        "  \n",
        "* **Method of application of meta-classifiers on outcomes**: \n",
        "  * Binary outcomes: 0 / 1 from individual classifiers\n",
        "  * Meta-classifier is applied on top of the individual classifiers. \n",
        "  \n",
        "  \n",
        "* **Method of application of meta-classifiers on probabilities**: \n",
        "  * Probabilities are obtained from individual classifiers. \n",
        "  * Applying meta-classifier\n",
        "  "
      ]
    },
    {
      "cell_type": "markdown",
      "metadata": {
        "id": "yGpTquE_Mfxc"
      },
      "source": [
        "## Data Loading and Prep"
      ]
    },
    {
      "cell_type": "code",
      "metadata": {
        "id": "39jXdl8DMfxc"
      },
      "source": [
        "import pandas as pd\n",
        "import numpy as np\n",
        "import matplotlib.pyplot as plt\n",
        "%matplotlib inline"
      ],
      "execution_count": 23,
      "outputs": []
    },
    {
      "cell_type": "code",
      "metadata": {
        "id": "rVgdbXPQMfxd",
        "outputId": "e4237035-8ac8-45bc-f16c-1250b01d233d",
        "colab": {
          "base_uri": "https://localhost:8080/"
        }
      },
      "source": [
        "try:\n",
        "  df = pd.read_csv(\"data\\WA_Fn-UseC_-HR-Employee-Attrition.csv\")\n",
        "except:\n",
        "  url = \"https://raw.githubusercontent.com/anthonyng2/intro_ml_finance/master/data/WA_Fn-UseC_-HR-Employee-Attrition.csv\"\n",
        "  df = pd.read_csv(url)\n",
        "\n",
        "df.pop('EmployeeNumber')\n",
        "df.pop('Over18')\n",
        "df.pop('StandardHours')\n",
        "df.pop('EmployeeCount')\n",
        "y = df['Attrition']\n",
        "X = df\n",
        "X.pop('Attrition')\n",
        "from sklearn import preprocessing\n",
        "le = preprocessing.LabelBinarizer()\n",
        "y = le.fit_transform(y)\n",
        "ind_BusinessTravel = pd.get_dummies(df['BusinessTravel'], prefix='BusinessTravel')\n",
        "ind_Department = pd.get_dummies(df['Department'], prefix='Department')\n",
        "ind_EducationField = pd.get_dummies(df['EducationField'], prefix='EducationField')\n",
        "ind_Gender = pd.get_dummies(df['Gender'], prefix='Gender')\n",
        "ind_JobRole = pd.get_dummies(df['JobRole'], prefix='JobRole')\n",
        "ind_MaritalStatus = pd.get_dummies(df['MaritalStatus'], prefix='MaritalStatus')\n",
        "ind_OverTime = pd.get_dummies(df['OverTime'], prefix='OverTime')\n",
        "df1 = pd.concat([ind_BusinessTravel, ind_Department, ind_EducationField, ind_Gender, \n",
        "                 ind_JobRole, ind_MaritalStatus, ind_OverTime])\n",
        "df1 = pd.concat([ind_BusinessTravel, ind_Department, ind_EducationField, ind_Gender, \n",
        "                 ind_JobRole, ind_MaritalStatus, ind_OverTime, df.select_dtypes(['int64'])], axis=1)\n",
        "df1.dropna(inplace=True)\n",
        "df1.shape"
      ],
      "execution_count": 24,
      "outputs": [
        {
          "output_type": "execute_result",
          "data": {
            "text/plain": [
              "(1470, 51)"
            ]
          },
          "metadata": {
            "tags": []
          },
          "execution_count": 24
        }
      ]
    },
    {
      "cell_type": "code",
      "metadata": {
        "id": "BlT1A393Mfxd"
      },
      "source": [
        "from sklearn.model_selection import train_test_split\n",
        "X_train, X_test, y_train, y_test = train_test_split(df1, y)"
      ],
      "execution_count": 25,
      "outputs": []
    },
    {
      "cell_type": "code",
      "metadata": {
        "id": "-YkKQmx5Mfxd"
      },
      "source": [
        "from sklearn import preprocessing\n",
        "from sklearn.model_selection import cross_val_score, cross_val_predict\n",
        "from sklearn.metrics import accuracy_score, classification_report\n",
        "from sklearn.metrics import confusion_matrix, roc_auc_score\n",
        "def print_score(clf, X_train, X_test, y_train, y_test, train=True):\n",
        "    '''\n",
        "    v0.1 Follow the scikit learn library format in terms of input\n",
        "    print the accuracy score, classification report and confusion matrix of classifier\n",
        "    '''\n",
        "    lb = preprocessing.LabelBinarizer()\n",
        "    lb.fit(y_train)\n",
        "    if train:\n",
        "        '''\n",
        "        training performance\n",
        "        '''\n",
        "        print(\"Train Result:\\n\")\n",
        "        y_pred = clf.predict(X_train)\n",
        "        print(\"accuracy score: {0:.4f}\\n\".format(accuracy_score(y_train, y_pred)))\n",
        "        print(\"Classification Report: \\n {}\\n\".format(classification_report(y_train, y_pred)))\n",
        "        print(\"Confusion Matrix: \\n {}\\n\".format(confusion_matrix(y_train, y_pred)))\n",
        "        print(\"ROC AUC: {0:.4f}\\n\".format(roc_auc_score(lb.transform(y_train), \n",
        "                                                        lb.transform(y_pred))))\n",
        "\n",
        "        #cv_res = cross_val_score(clf, X_train, y_train, cv=10, scoring='accuracy')\n",
        "        #print(\"Average Accuracy: \\t {0:.4f}\".format(np.mean(cv_res)))\n",
        "        #print(\"Accuracy SD: \\t\\t {0:.4f}\".format(np.std(cv_res)))\n",
        "        \n",
        "    elif train==False:\n",
        "        '''\n",
        "        test performance\n",
        "        '''\n",
        "        print(\"Test Result:\\n\")        \n",
        "        y_pred = clf.predict(X_test)\n",
        "        print(\"accuracy score: {0:.4f}\\n\".format(accuracy_score(y_test, y_pred)))\n",
        "        print(\"Classification Report: \\n {}\\n\".format(classification_report(y_test, y_pred)))\n",
        "        print(\"Confusion Matrix: \\n {}\\n\".format(confusion_matrix(y_test, y_pred)))    \n",
        "        print(\"ROC AUC: {0:.4f}\\n\".format(roc_auc_score(lb.transform(y_test), lb.transform(y_pred))))\n",
        "        "
      ],
      "execution_count": 26,
      "outputs": []
    },
    {
      "cell_type": "markdown",
      "metadata": {
        "id": "guGwE9-LMfxe"
      },
      "source": [
        "## Approach 1"
      ]
    },
    {
      "cell_type": "markdown",
      "metadata": {
        "id": "6mBxztfbMfxe"
      },
      "source": [
        "### Model 1: Decision Tree"
      ]
    },
    {
      "cell_type": "code",
      "metadata": {
        "id": "YR_3IxI1Mfxf"
      },
      "source": [
        "from sklearn.tree import DecisionTreeClassifier"
      ],
      "execution_count": 27,
      "outputs": []
    },
    {
      "cell_type": "code",
      "metadata": {
        "id": "QM5rVLrsMfxf",
        "outputId": "d503121a-17f1-4ec8-8866-25b435ae3bce",
        "colab": {
          "base_uri": "https://localhost:8080/"
        }
      },
      "source": [
        "tree_clf = DecisionTreeClassifier()\n",
        "tree_clf.fit(X_train, y_train)"
      ],
      "execution_count": 28,
      "outputs": [
        {
          "output_type": "execute_result",
          "data": {
            "text/plain": [
              "DecisionTreeClassifier(ccp_alpha=0.0, class_weight=None, criterion='gini',\n",
              "                       max_depth=None, max_features=None, max_leaf_nodes=None,\n",
              "                       min_impurity_decrease=0.0, min_impurity_split=None,\n",
              "                       min_samples_leaf=1, min_samples_split=2,\n",
              "                       min_weight_fraction_leaf=0.0, presort='deprecated',\n",
              "                       random_state=None, splitter='best')"
            ]
          },
          "metadata": {
            "tags": []
          },
          "execution_count": 28
        }
      ]
    },
    {
      "cell_type": "code",
      "metadata": {
        "id": "upqgHYUkMfxg",
        "outputId": "d59ee195-bc16-4402-c630-13e17da408f4",
        "colab": {
          "base_uri": "https://localhost:8080/"
        }
      },
      "source": [
        "print_score(tree_clf, X_train, X_test, y_train, y_test, train=True)\n",
        "print_score(tree_clf, X_train, X_test, y_train, y_test, train=False)"
      ],
      "execution_count": 29,
      "outputs": [
        {
          "output_type": "stream",
          "text": [
            "Train Result:\n",
            "\n",
            "accuracy score: 1.0000\n",
            "\n",
            "Classification Report: \n",
            "               precision    recall  f1-score   support\n",
            "\n",
            "           0       1.00      1.00      1.00       919\n",
            "           1       1.00      1.00      1.00       183\n",
            "\n",
            "    accuracy                           1.00      1102\n",
            "   macro avg       1.00      1.00      1.00      1102\n",
            "weighted avg       1.00      1.00      1.00      1102\n",
            "\n",
            "\n",
            "Confusion Matrix: \n",
            " [[919   0]\n",
            " [  0 183]]\n",
            "\n",
            "ROC AUC: 1.0000\n",
            "\n",
            "Test Result:\n",
            "\n",
            "accuracy score: 0.8234\n",
            "\n",
            "Classification Report: \n",
            "               precision    recall  f1-score   support\n",
            "\n",
            "           0       0.91      0.89      0.90       314\n",
            "           1       0.41      0.46      0.43        54\n",
            "\n",
            "    accuracy                           0.82       368\n",
            "   macro avg       0.66      0.67      0.67       368\n",
            "weighted avg       0.83      0.82      0.83       368\n",
            "\n",
            "\n",
            "Confusion Matrix: \n",
            " [[278  36]\n",
            " [ 29  25]]\n",
            "\n",
            "ROC AUC: 0.6742\n",
            "\n"
          ],
          "name": "stdout"
        }
      ]
    },
    {
      "cell_type": "markdown",
      "metadata": {
        "id": "GbqxkZzkMfxg"
      },
      "source": [
        "### Model 2: Random Forest"
      ]
    },
    {
      "cell_type": "code",
      "metadata": {
        "id": "e35HlHQUMfxg"
      },
      "source": [
        "from sklearn.ensemble import RandomForestClassifier"
      ],
      "execution_count": 30,
      "outputs": []
    },
    {
      "cell_type": "code",
      "metadata": {
        "id": "qWco1SbzMfxg",
        "outputId": "5f7da612-1df7-4051-ff1b-f1162a875b7c",
        "colab": {
          "base_uri": "https://localhost:8080/"
        }
      },
      "source": [
        "rf_clf = RandomForestClassifier()\n",
        "rf_clf.fit(X_train, y_train.ravel())"
      ],
      "execution_count": 31,
      "outputs": [
        {
          "output_type": "execute_result",
          "data": {
            "text/plain": [
              "RandomForestClassifier(bootstrap=True, ccp_alpha=0.0, class_weight=None,\n",
              "                       criterion='gini', max_depth=None, max_features='auto',\n",
              "                       max_leaf_nodes=None, max_samples=None,\n",
              "                       min_impurity_decrease=0.0, min_impurity_split=None,\n",
              "                       min_samples_leaf=1, min_samples_split=2,\n",
              "                       min_weight_fraction_leaf=0.0, n_estimators=100,\n",
              "                       n_jobs=None, oob_score=False, random_state=None,\n",
              "                       verbose=0, warm_start=False)"
            ]
          },
          "metadata": {
            "tags": []
          },
          "execution_count": 31
        }
      ]
    },
    {
      "cell_type": "code",
      "metadata": {
        "id": "8F8YR9L8Mfxh",
        "outputId": "9faf68e8-b7ed-4e37-986f-7db3f91fa54d",
        "colab": {
          "base_uri": "https://localhost:8080/"
        }
      },
      "source": [
        "print_score(rf_clf, X_train, X_test, y_train, y_test, train=True)\n",
        "print_score(rf_clf, X_train, X_test, y_train, y_test, train=False)"
      ],
      "execution_count": 32,
      "outputs": [
        {
          "output_type": "stream",
          "text": [
            "Train Result:\n",
            "\n",
            "accuracy score: 1.0000\n",
            "\n",
            "Classification Report: \n",
            "               precision    recall  f1-score   support\n",
            "\n",
            "           0       1.00      1.00      1.00       919\n",
            "           1       1.00      1.00      1.00       183\n",
            "\n",
            "    accuracy                           1.00      1102\n",
            "   macro avg       1.00      1.00      1.00      1102\n",
            "weighted avg       1.00      1.00      1.00      1102\n",
            "\n",
            "\n",
            "Confusion Matrix: \n",
            " [[919   0]\n",
            " [  0 183]]\n",
            "\n",
            "ROC AUC: 1.0000\n",
            "\n",
            "Test Result:\n",
            "\n",
            "accuracy score: 0.8696\n",
            "\n",
            "Classification Report: \n",
            "               precision    recall  f1-score   support\n",
            "\n",
            "           0       0.87      0.99      0.93       314\n",
            "           1       0.80      0.15      0.25        54\n",
            "\n",
            "    accuracy                           0.87       368\n",
            "   macro avg       0.84      0.57      0.59       368\n",
            "weighted avg       0.86      0.87      0.83       368\n",
            "\n",
            "\n",
            "Confusion Matrix: \n",
            " [[312   2]\n",
            " [ 46   8]]\n",
            "\n",
            "ROC AUC: 0.5709\n",
            "\n"
          ],
          "name": "stdout"
        }
      ]
    },
    {
      "cell_type": "code",
      "metadata": {
        "id": "JPU3TZV9Mfxh"
      },
      "source": [
        "en_en = pd.DataFrame()"
      ],
      "execution_count": 33,
      "outputs": []
    },
    {
      "cell_type": "code",
      "metadata": {
        "id": "xiZtzDRhMfxh",
        "outputId": "7aad98a6-20d3-43fe-89da-e1d1d8a0236d",
        "colab": {
          "base_uri": "https://localhost:8080/"
        }
      },
      "source": [
        "tree_clf.predict_proba(X_train)"
      ],
      "execution_count": 34,
      "outputs": [
        {
          "output_type": "execute_result",
          "data": {
            "text/plain": [
              "array([[1., 0.],\n",
              "       [1., 0.],\n",
              "       [1., 0.],\n",
              "       ...,\n",
              "       [0., 1.],\n",
              "       [1., 0.],\n",
              "       [1., 0.]])"
            ]
          },
          "metadata": {
            "tags": []
          },
          "execution_count": 34
        }
      ]
    },
    {
      "cell_type": "code",
      "metadata": {
        "id": "HgkU4PDrMfxh"
      },
      "source": [
        "tree_clf.predict_proba?"
      ],
      "execution_count": 35,
      "outputs": []
    },
    {
      "cell_type": "code",
      "metadata": {
        "id": "9_IMYb6PMfxi"
      },
      "source": [
        "en_en['tree_clf'] = pd.DataFrame(tree_clf.predict_proba(X_train))[1]\n",
        "en_en['rf_clf'] =  pd.DataFrame(rf_clf.predict_proba(X_train))[1]\n",
        "col_name = en_en.columns\n",
        "en_en = pd.concat([en_en, pd.DataFrame(y_train).reset_index(drop=True)], axis=1)"
      ],
      "execution_count": 36,
      "outputs": []
    },
    {
      "cell_type": "code",
      "metadata": {
        "id": "8E5OLQBOMfxi",
        "outputId": "c574f7ec-51e4-461a-ea15-0b7187a5928a",
        "colab": {
          "base_uri": "https://localhost:8080/",
          "height": 204
        }
      },
      "source": [
        "en_en.head()"
      ],
      "execution_count": 37,
      "outputs": [
        {
          "output_type": "execute_result",
          "data": {
            "text/html": [
              "<div>\n",
              "<style scoped>\n",
              "    .dataframe tbody tr th:only-of-type {\n",
              "        vertical-align: middle;\n",
              "    }\n",
              "\n",
              "    .dataframe tbody tr th {\n",
              "        vertical-align: top;\n",
              "    }\n",
              "\n",
              "    .dataframe thead th {\n",
              "        text-align: right;\n",
              "    }\n",
              "</style>\n",
              "<table border=\"1\" class=\"dataframe\">\n",
              "  <thead>\n",
              "    <tr style=\"text-align: right;\">\n",
              "      <th></th>\n",
              "      <th>tree_clf</th>\n",
              "      <th>rf_clf</th>\n",
              "      <th>0</th>\n",
              "    </tr>\n",
              "  </thead>\n",
              "  <tbody>\n",
              "    <tr>\n",
              "      <th>0</th>\n",
              "      <td>0.0</td>\n",
              "      <td>0.02</td>\n",
              "      <td>0</td>\n",
              "    </tr>\n",
              "    <tr>\n",
              "      <th>1</th>\n",
              "      <td>0.0</td>\n",
              "      <td>0.24</td>\n",
              "      <td>0</td>\n",
              "    </tr>\n",
              "    <tr>\n",
              "      <th>2</th>\n",
              "      <td>0.0</td>\n",
              "      <td>0.15</td>\n",
              "      <td>0</td>\n",
              "    </tr>\n",
              "    <tr>\n",
              "      <th>3</th>\n",
              "      <td>0.0</td>\n",
              "      <td>0.07</td>\n",
              "      <td>0</td>\n",
              "    </tr>\n",
              "    <tr>\n",
              "      <th>4</th>\n",
              "      <td>0.0</td>\n",
              "      <td>0.06</td>\n",
              "      <td>0</td>\n",
              "    </tr>\n",
              "  </tbody>\n",
              "</table>\n",
              "</div>"
            ],
            "text/plain": [
              "   tree_clf  rf_clf  0\n",
              "0       0.0    0.02  0\n",
              "1       0.0    0.24  0\n",
              "2       0.0    0.15  0\n",
              "3       0.0    0.07  0\n",
              "4       0.0    0.06  0"
            ]
          },
          "metadata": {
            "tags": []
          },
          "execution_count": 37
        }
      ]
    },
    {
      "cell_type": "code",
      "metadata": {
        "id": "ZacZRH7eMfxi"
      },
      "source": [
        "tmp = list(col_name)\n",
        "tmp.append('ind')\n",
        "en_en.columns = tmp"
      ],
      "execution_count": 38,
      "outputs": []
    },
    {
      "cell_type": "code",
      "metadata": {
        "id": "E6YR8BDwMfxi",
        "outputId": "96f460ea-5f36-4256-e11c-1a5f2b93e42d",
        "colab": {
          "base_uri": "https://localhost:8080/",
          "height": 204
        }
      },
      "source": [
        "en_en.head()"
      ],
      "execution_count": 39,
      "outputs": [
        {
          "output_type": "execute_result",
          "data": {
            "text/html": [
              "<div>\n",
              "<style scoped>\n",
              "    .dataframe tbody tr th:only-of-type {\n",
              "        vertical-align: middle;\n",
              "    }\n",
              "\n",
              "    .dataframe tbody tr th {\n",
              "        vertical-align: top;\n",
              "    }\n",
              "\n",
              "    .dataframe thead th {\n",
              "        text-align: right;\n",
              "    }\n",
              "</style>\n",
              "<table border=\"1\" class=\"dataframe\">\n",
              "  <thead>\n",
              "    <tr style=\"text-align: right;\">\n",
              "      <th></th>\n",
              "      <th>tree_clf</th>\n",
              "      <th>rf_clf</th>\n",
              "      <th>ind</th>\n",
              "    </tr>\n",
              "  </thead>\n",
              "  <tbody>\n",
              "    <tr>\n",
              "      <th>0</th>\n",
              "      <td>0.0</td>\n",
              "      <td>0.02</td>\n",
              "      <td>0</td>\n",
              "    </tr>\n",
              "    <tr>\n",
              "      <th>1</th>\n",
              "      <td>0.0</td>\n",
              "      <td>0.24</td>\n",
              "      <td>0</td>\n",
              "    </tr>\n",
              "    <tr>\n",
              "      <th>2</th>\n",
              "      <td>0.0</td>\n",
              "      <td>0.15</td>\n",
              "      <td>0</td>\n",
              "    </tr>\n",
              "    <tr>\n",
              "      <th>3</th>\n",
              "      <td>0.0</td>\n",
              "      <td>0.07</td>\n",
              "      <td>0</td>\n",
              "    </tr>\n",
              "    <tr>\n",
              "      <th>4</th>\n",
              "      <td>0.0</td>\n",
              "      <td>0.06</td>\n",
              "      <td>0</td>\n",
              "    </tr>\n",
              "  </tbody>\n",
              "</table>\n",
              "</div>"
            ],
            "text/plain": [
              "   tree_clf  rf_clf  ind\n",
              "0       0.0    0.02    0\n",
              "1       0.0    0.24    0\n",
              "2       0.0    0.15    0\n",
              "3       0.0    0.07    0\n",
              "4       0.0    0.06    0"
            ]
          },
          "metadata": {
            "tags": []
          },
          "execution_count": 39
        }
      ]
    },
    {
      "cell_type": "markdown",
      "metadata": {
        "id": "qN1e-2L9Mfxj"
      },
      "source": [
        "### Meta Classifier"
      ]
    },
    {
      "cell_type": "code",
      "metadata": {
        "id": "5-ThxAOxMfxj"
      },
      "source": [
        "from sklearn.linear_model import LogisticRegression"
      ],
      "execution_count": 40,
      "outputs": []
    },
    {
      "cell_type": "code",
      "metadata": {
        "id": "916hODR1Mfxj"
      },
      "source": [
        "m_clf = LogisticRegression(fit_intercept=False)"
      ],
      "execution_count": 41,
      "outputs": []
    },
    {
      "cell_type": "code",
      "metadata": {
        "id": "XSEIMnD1Mfxj",
        "outputId": "3e20b60f-a797-4972-b2e6-62b0475a24b8",
        "colab": {
          "base_uri": "https://localhost:8080/"
        }
      },
      "source": [
        "m_clf.fit(en_en[['tree_clf', 'rf_clf']], en_en['ind'])"
      ],
      "execution_count": 42,
      "outputs": [
        {
          "output_type": "execute_result",
          "data": {
            "text/plain": [
              "LogisticRegression(C=1.0, class_weight=None, dual=False, fit_intercept=False,\n",
              "                   intercept_scaling=1, l1_ratio=None, max_iter=100,\n",
              "                   multi_class='auto', n_jobs=None, penalty='l2',\n",
              "                   random_state=None, solver='lbfgs', tol=0.0001, verbose=0,\n",
              "                   warm_start=False)"
            ]
          },
          "metadata": {
            "tags": []
          },
          "execution_count": 42
        }
      ]
    },
    {
      "cell_type": "code",
      "metadata": {
        "id": "8s686nMOMfxj"
      },
      "source": [
        "en_test = pd.DataFrame()"
      ],
      "execution_count": 43,
      "outputs": []
    },
    {
      "cell_type": "code",
      "metadata": {
        "id": "dil9InQzMfxk"
      },
      "source": [
        "en_test['tree_clf'] = pd.DataFrame(tree_clf.predict_proba(X_test))[1]\n",
        "en_test['rf_clf'] =  pd.DataFrame(rf_clf.predict_proba(X_test))[1]\n",
        "col_name = en_en.columns\n",
        "en_test['combined'] = m_clf.predict(en_test[['tree_clf', 'rf_clf']])"
      ],
      "execution_count": 44,
      "outputs": []
    },
    {
      "cell_type": "code",
      "metadata": {
        "id": "IPYM4E6kMfxk"
      },
      "source": [
        "col_name = en_test.columns\n",
        "tmp = list(col_name)\n",
        "tmp.append('ind')"
      ],
      "execution_count": 45,
      "outputs": []
    },
    {
      "cell_type": "code",
      "metadata": {
        "id": "637lUrfCMfxk",
        "outputId": "94e57e15-8529-4354-bdd5-199f07841118",
        "colab": {
          "base_uri": "https://localhost:8080/"
        }
      },
      "source": [
        "tmp"
      ],
      "execution_count": 46,
      "outputs": [
        {
          "output_type": "execute_result",
          "data": {
            "text/plain": [
              "['tree_clf', 'rf_clf', 'combined', 'ind']"
            ]
          },
          "metadata": {
            "tags": []
          },
          "execution_count": 46
        }
      ]
    },
    {
      "cell_type": "code",
      "metadata": {
        "id": "QW0DAaG8Mfxk"
      },
      "source": [
        "en_test = pd.concat([en_test, pd.DataFrame(y_test).reset_index(drop=True)], axis=1)"
      ],
      "execution_count": 47,
      "outputs": []
    },
    {
      "cell_type": "code",
      "metadata": {
        "id": "jpncOG2HMfxl"
      },
      "source": [
        "en_test.columns = tmp"
      ],
      "execution_count": 48,
      "outputs": []
    },
    {
      "cell_type": "code",
      "metadata": {
        "id": "2El7ZtDMMfxl",
        "outputId": "1ac7d446-f40a-4df6-b415-9beddf649a18",
        "colab": {
          "base_uri": "https://localhost:8080/"
        }
      },
      "source": [
        "print(pd.crosstab(en_test['ind'], en_test['combined']))"
      ],
      "execution_count": 49,
      "outputs": [
        {
          "output_type": "stream",
          "text": [
            "combined    0   1\n",
            "ind              \n",
            "0         278  36\n",
            "1          29  25\n"
          ],
          "name": "stdout"
        }
      ]
    },
    {
      "cell_type": "code",
      "metadata": {
        "id": "RRNKssRiMfxl",
        "outputId": "7de76e76-8387-4595-9229-139aeb0d5d06",
        "colab": {
          "base_uri": "https://localhost:8080/"
        }
      },
      "source": [
        "print(round(accuracy_score(en_test['ind'], en_test['combined']), 4))"
      ],
      "execution_count": 50,
      "outputs": [
        {
          "output_type": "stream",
          "text": [
            "0.8234\n"
          ],
          "name": "stdout"
        }
      ]
    },
    {
      "cell_type": "code",
      "metadata": {
        "id": "uRDjmQANMfxm",
        "outputId": "ebbf9279-2bf2-4561-bd1d-79bcd76ff848",
        "colab": {
          "base_uri": "https://localhost:8080/"
        }
      },
      "source": [
        "print(classification_report(en_test['ind'], en_test['combined']))"
      ],
      "execution_count": 51,
      "outputs": [
        {
          "output_type": "stream",
          "text": [
            "              precision    recall  f1-score   support\n",
            "\n",
            "           0       0.91      0.89      0.90       314\n",
            "           1       0.41      0.46      0.43        54\n",
            "\n",
            "    accuracy                           0.82       368\n",
            "   macro avg       0.66      0.67      0.67       368\n",
            "weighted avg       0.83      0.82      0.83       368\n",
            "\n"
          ],
          "name": "stdout"
        }
      ]
    },
    {
      "cell_type": "markdown",
      "metadata": {
        "id": "yWs8geD6Mfxm"
      },
      "source": [
        "***"
      ]
    },
    {
      "cell_type": "markdown",
      "metadata": {
        "id": "LXLSYRGNMfxm"
      },
      "source": [
        "## Data Loading and Prep"
      ]
    },
    {
      "cell_type": "code",
      "metadata": {
        "id": "HoY-3__rMfxm"
      },
      "source": [
        "import pandas as pd\n",
        "import numpy as np\n",
        "import matplotlib.pyplot as plt\n",
        "%matplotlib inline"
      ],
      "execution_count": 52,
      "outputs": []
    },
    {
      "cell_type": "code",
      "metadata": {
        "id": "GkZ9ERJnMfxn",
        "outputId": "f18e80d2-3e55-4631-e4de-cefa31153992",
        "colab": {
          "base_uri": "https://localhost:8080/"
        }
      },
      "source": [
        "try:\n",
        "  df = pd.read_csv(\"data\\WA_Fn-UseC_-HR-Employee-Attrition.csv\")\n",
        "except:\n",
        "  url = \"https://raw.githubusercontent.com/anthonyng2/intro_ml_finance/master/data/WA_Fn-UseC_-HR-Employee-Attrition.csv\"\n",
        "  df = pd.read_csv(url)\n",
        "\n",
        "df.pop('EmployeeNumber')\n",
        "df.pop('Over18')\n",
        "df.pop('StandardHours')\n",
        "df.pop('EmployeeCount')\n",
        "y = df['Attrition']\n",
        "X = df\n",
        "X.pop('Attrition')\n",
        "from sklearn import preprocessing\n",
        "le = preprocessing.LabelBinarizer()\n",
        "y = le.fit_transform(y)\n",
        "ind_BusinessTravel = pd.get_dummies(df['BusinessTravel'], prefix='BusinessTravel')\n",
        "ind_Department = pd.get_dummies(df['Department'], prefix='Department')\n",
        "ind_EducationField = pd.get_dummies(df['EducationField'], prefix='EducationField')\n",
        "ind_Gender = pd.get_dummies(df['Gender'], prefix='Gender')\n",
        "ind_JobRole = pd.get_dummies(df['JobRole'], prefix='JobRole')\n",
        "ind_MaritalStatus = pd.get_dummies(df['MaritalStatus'], prefix='MaritalStatus')\n",
        "ind_OverTime = pd.get_dummies(df['OverTime'], prefix='OverTime')\n",
        "df1 = pd.concat([ind_BusinessTravel, ind_Department, ind_EducationField, ind_Gender, \n",
        "                 ind_JobRole, ind_MaritalStatus, ind_OverTime])\n",
        "df1 = pd.concat([ind_BusinessTravel, ind_Department, ind_EducationField, ind_Gender, \n",
        "                 ind_JobRole, ind_MaritalStatus, ind_OverTime, df.select_dtypes(['int64'])], axis=1)\n",
        "df1.dropna(inplace=True)\n",
        "df1.shape"
      ],
      "execution_count": 53,
      "outputs": [
        {
          "output_type": "execute_result",
          "data": {
            "text/plain": [
              "(1470, 51)"
            ]
          },
          "metadata": {
            "tags": []
          },
          "execution_count": 53
        }
      ]
    },
    {
      "cell_type": "code",
      "metadata": {
        "id": "PkJlIIdwMfxp"
      },
      "source": [
        "from sklearn.model_selection import train_test_split\n",
        "X_train, X_test, y_train, y_test = train_test_split(df1, y,\n",
        "                                                    test_size=0.2)"
      ],
      "execution_count": 54,
      "outputs": []
    },
    {
      "cell_type": "code",
      "metadata": {
        "id": "WuApczYxMfxp"
      },
      "source": [
        "def print_score(clf, X_train, y_train, X_test, y_test, train=True):\n",
        "    '''\n",
        "    print the accuracy score, classification report and confusion matrix of classifier\n",
        "    '''\n",
        "    if train:\n",
        "        '''\n",
        "        training performance\n",
        "        '''\n",
        "        print(\"Train Result:\\n\")\n",
        "        y_pred = clf.predict(X_train)\n",
        "        print(\"accuracy score: {0:.4f}\\n\".format(accuracy_score(y_train, y_pred)))\n",
        "        print(\"Classification Report: \\n {}\\n\".format(classification_report(y_train, y_pred)))\n",
        "        print(\"Confusion Matrix: \\n {}\\n\".format(confusion_matrix(y_train, y_pred)))\n",
        "\n",
        "        res = cross_val_score(clf, X_train, y_train, cv=10, scoring='accuracy')\n",
        "        print(\"Average Accuracy: \\t {0:.4f}\".format(np.mean(res)))\n",
        "        print(\"Accuracy SD: \\t\\t {0:.4f}\".format(np.std(res)))\n",
        "        \n",
        "    elif train==False:\n",
        "        '''\n",
        "        test performance\n",
        "        '''\n",
        "        print(\"Test Result:\\n\")        \n",
        "        y_pred = clf.predict(X_test)\n",
        "        print(\"accuracy score: {0:.4f}\\n\".format(accuracy_score(y_test, y_pred)))\n",
        "        print(\"Classification Report: \\n {}\\n\".format(classification_report(y_test, y_pred)))\n",
        "        print(\"Confusion Matrix: \\n {}\\n\".format(confusion_matrix(y_test, y_pred)))  "
      ],
      "execution_count": 55,
      "outputs": []
    },
    {
      "cell_type": "code",
      "metadata": {
        "id": "PVZn9SeOMfxq"
      },
      "source": [
        "from sklearn import preprocessing\n",
        "from sklearn.model_selection import cross_val_score, cross_val_predict\n",
        "from sklearn.metrics import accuracy_score, classification_report\n",
        "from sklearn.metrics import confusion_matrix, roc_auc_score\n",
        "def print_score(clf, X_train, X_test, y_train, y_test, train=True):\n",
        "    '''\n",
        "    v0.1 Follow the scikit learn library format in terms of input\n",
        "    print the accuracy score, classification report and confusion matrix of classifier\n",
        "    '''\n",
        "    lb = preprocessing.LabelBinarizer()\n",
        "    lb.fit(y_train)\n",
        "    if train:\n",
        "        '''\n",
        "        training performance\n",
        "        '''\n",
        "        print(\"Train Result:\\n\")\n",
        "        y_pred = clf.predict(X_train)\n",
        "        print(\"accuracy score: {0:.4f}\\n\".format(accuracy_score(y_train, y_pred)))\n",
        "        print(\"Classification Report: \\n {}\\n\".format(classification_report(y_train, y_pred)))\n",
        "        print(\"Confusion Matrix: \\n {}\\n\".format(confusion_matrix(y_train, y_pred)))\n",
        "        print(\"ROC AUC: {0:.4f}\\n\".format(roc_auc_score(lb.transform(y_train), \n",
        "                                                        lb.transform(y_pred))))\n",
        "\n",
        "        #cv_res = cross_val_score(clf, X_train, y_train, cv=10, scoring='accuracy')\n",
        "        #print(\"Average Accuracy: \\t {0:.4f}\".format(np.mean(cv_res)))\n",
        "        #print(\"Accuracy SD: \\t\\t {0:.4f}\".format(np.std(cv_res)))\n",
        "        \n",
        "    elif train==False:\n",
        "        '''\n",
        "        test performance\n",
        "        '''\n",
        "        print(\"Test Result:\\n\")        \n",
        "        y_pred = clf.predict(X_test)\n",
        "        print(\"accuracy score: {0:.4f}\\n\".format(accuracy_score(y_test, y_pred)))\n",
        "        print(\"Classification Report: \\n {}\\n\".format(classification_report(y_test, y_pred)))\n",
        "        print(\"Confusion Matrix: \\n {}\\n\".format(confusion_matrix(y_test, y_pred)))    \n",
        "        print(\"ROC AUC: {0:.4f}\\n\".format(roc_auc_score(lb.transform(y_test), lb.transform(y_pred))))\n",
        "        "
      ],
      "execution_count": 56,
      "outputs": []
    },
    {
      "cell_type": "markdown",
      "metadata": {
        "id": "DjaXB3SBMfxq"
      },
      "source": [
        "## Approach 2"
      ]
    },
    {
      "cell_type": "markdown",
      "metadata": {
        "id": "h9k4Vr9UMfxq"
      },
      "source": [
        "### Model 1: Decision Tree"
      ]
    },
    {
      "cell_type": "code",
      "metadata": {
        "id": "K5EqK-QLMfxq"
      },
      "source": [
        "from sklearn.tree import DecisionTreeClassifier"
      ],
      "execution_count": 57,
      "outputs": []
    },
    {
      "cell_type": "code",
      "metadata": {
        "id": "pMC5Yi0aMfxq",
        "outputId": "aa8e38f7-2e2a-44b5-fc55-3bb3ff02fba1",
        "colab": {
          "base_uri": "https://localhost:8080/"
        }
      },
      "source": [
        "tree_clf = DecisionTreeClassifier()\n",
        "tree_clf.fit(X_train, y_train)"
      ],
      "execution_count": 58,
      "outputs": [
        {
          "output_type": "execute_result",
          "data": {
            "text/plain": [
              "DecisionTreeClassifier(ccp_alpha=0.0, class_weight=None, criterion='gini',\n",
              "                       max_depth=None, max_features=None, max_leaf_nodes=None,\n",
              "                       min_impurity_decrease=0.0, min_impurity_split=None,\n",
              "                       min_samples_leaf=1, min_samples_split=2,\n",
              "                       min_weight_fraction_leaf=0.0, presort='deprecated',\n",
              "                       random_state=None, splitter='best')"
            ]
          },
          "metadata": {
            "tags": []
          },
          "execution_count": 58
        }
      ]
    },
    {
      "cell_type": "code",
      "metadata": {
        "id": "DRwtjZhnMfxq",
        "outputId": "f03dd823-e54b-47a8-d198-1fd82b94796b",
        "colab": {
          "base_uri": "https://localhost:8080/"
        }
      },
      "source": [
        "print_score(tree_clf, X_train, X_test, y_train, y_test, train=True)\n",
        "print_score(tree_clf, X_train, X_test, y_train, y_test, train=False)"
      ],
      "execution_count": 59,
      "outputs": [
        {
          "output_type": "stream",
          "text": [
            "Train Result:\n",
            "\n",
            "accuracy score: 1.0000\n",
            "\n",
            "Classification Report: \n",
            "               precision    recall  f1-score   support\n",
            "\n",
            "           0       1.00      1.00      1.00       989\n",
            "           1       1.00      1.00      1.00       187\n",
            "\n",
            "    accuracy                           1.00      1176\n",
            "   macro avg       1.00      1.00      1.00      1176\n",
            "weighted avg       1.00      1.00      1.00      1176\n",
            "\n",
            "\n",
            "Confusion Matrix: \n",
            " [[989   0]\n",
            " [  0 187]]\n",
            "\n",
            "ROC AUC: 1.0000\n",
            "\n",
            "Test Result:\n",
            "\n",
            "accuracy score: 0.7517\n",
            "\n",
            "Classification Report: \n",
            "               precision    recall  f1-score   support\n",
            "\n",
            "           0       0.85      0.84      0.85       244\n",
            "           1       0.28      0.30      0.29        50\n",
            "\n",
            "    accuracy                           0.75       294\n",
            "   macro avg       0.57      0.57      0.57       294\n",
            "weighted avg       0.76      0.75      0.75       294\n",
            "\n",
            "\n",
            "Confusion Matrix: \n",
            " [[206  38]\n",
            " [ 35  15]]\n",
            "\n",
            "ROC AUC: 0.5721\n",
            "\n"
          ],
          "name": "stdout"
        }
      ]
    },
    {
      "cell_type": "markdown",
      "metadata": {
        "id": "fF39DOLyMfxr"
      },
      "source": [
        "### Model 2: Random Forest"
      ]
    },
    {
      "cell_type": "code",
      "metadata": {
        "id": "4W2t6erHMfxr"
      },
      "source": [
        "from sklearn.ensemble import RandomForestClassifier"
      ],
      "execution_count": 60,
      "outputs": []
    },
    {
      "cell_type": "code",
      "metadata": {
        "id": "gjLWSsm_Mfxr",
        "outputId": "af82b4e3-2f1c-498d-e426-5a0b0b8a5e14",
        "colab": {
          "base_uri": "https://localhost:8080/"
        }
      },
      "source": [
        "rf_clf = RandomForestClassifier()\n",
        "rf_clf.fit(X_train, y_train.ravel())"
      ],
      "execution_count": 61,
      "outputs": [
        {
          "output_type": "execute_result",
          "data": {
            "text/plain": [
              "RandomForestClassifier(bootstrap=True, ccp_alpha=0.0, class_weight=None,\n",
              "                       criterion='gini', max_depth=None, max_features='auto',\n",
              "                       max_leaf_nodes=None, max_samples=None,\n",
              "                       min_impurity_decrease=0.0, min_impurity_split=None,\n",
              "                       min_samples_leaf=1, min_samples_split=2,\n",
              "                       min_weight_fraction_leaf=0.0, n_estimators=100,\n",
              "                       n_jobs=None, oob_score=False, random_state=None,\n",
              "                       verbose=0, warm_start=False)"
            ]
          },
          "metadata": {
            "tags": []
          },
          "execution_count": 61
        }
      ]
    },
    {
      "cell_type": "code",
      "metadata": {
        "id": "E52jOZ4vMfxr",
        "outputId": "49292b58-d27f-4703-d5bb-4a5ea38540ce",
        "colab": {
          "base_uri": "https://localhost:8080/"
        }
      },
      "source": [
        "print_score(rf_clf, X_train, X_test, y_train, y_test, train=True)\n",
        "print_score(rf_clf, X_train, X_test, y_train, y_test, train=False)"
      ],
      "execution_count": 62,
      "outputs": [
        {
          "output_type": "stream",
          "text": [
            "Train Result:\n",
            "\n",
            "accuracy score: 1.0000\n",
            "\n",
            "Classification Report: \n",
            "               precision    recall  f1-score   support\n",
            "\n",
            "           0       1.00      1.00      1.00       989\n",
            "           1       1.00      1.00      1.00       187\n",
            "\n",
            "    accuracy                           1.00      1176\n",
            "   macro avg       1.00      1.00      1.00      1176\n",
            "weighted avg       1.00      1.00      1.00      1176\n",
            "\n",
            "\n",
            "Confusion Matrix: \n",
            " [[989   0]\n",
            " [  0 187]]\n",
            "\n",
            "ROC AUC: 1.0000\n",
            "\n",
            "Test Result:\n",
            "\n",
            "accuracy score: 0.8435\n",
            "\n",
            "Classification Report: \n",
            "               precision    recall  f1-score   support\n",
            "\n",
            "           0       0.85      0.99      0.91       244\n",
            "           1       0.75      0.12      0.21        50\n",
            "\n",
            "    accuracy                           0.84       294\n",
            "   macro avg       0.80      0.56      0.56       294\n",
            "weighted avg       0.83      0.84      0.79       294\n",
            "\n",
            "\n",
            "Confusion Matrix: \n",
            " [[242   2]\n",
            " [ 44   6]]\n",
            "\n",
            "ROC AUC: 0.5559\n",
            "\n"
          ],
          "name": "stdout"
        }
      ]
    },
    {
      "cell_type": "code",
      "metadata": {
        "id": "UA1yLXQlMfxr"
      },
      "source": [
        "en_en = pd.DataFrame()"
      ],
      "execution_count": 63,
      "outputs": []
    },
    {
      "cell_type": "code",
      "metadata": {
        "id": "E2R5f5-hMfxr",
        "outputId": "f823ba9a-b9bc-43f0-ceea-14889045f1ea",
        "colab": {
          "base_uri": "https://localhost:8080/"
        }
      },
      "source": [
        "tree_clf.predict_proba(X_train)"
      ],
      "execution_count": 64,
      "outputs": [
        {
          "output_type": "execute_result",
          "data": {
            "text/plain": [
              "array([[1., 0.],\n",
              "       [1., 0.],\n",
              "       [1., 0.],\n",
              "       ...,\n",
              "       [1., 0.],\n",
              "       [1., 0.],\n",
              "       [0., 1.]])"
            ]
          },
          "metadata": {
            "tags": []
          },
          "execution_count": 64
        }
      ]
    },
    {
      "cell_type": "code",
      "metadata": {
        "id": "DV16OHuIMfxs"
      },
      "source": [
        "tree_clf.predict_proba?"
      ],
      "execution_count": 65,
      "outputs": []
    },
    {
      "cell_type": "code",
      "metadata": {
        "id": "nBUPf0ekMfxs"
      },
      "source": [
        "en_en['tree_clf'] = pd.DataFrame(tree_clf.predict_proba(X_train))[1]\n",
        "en_en['rf_clf'] =  pd.DataFrame(rf_clf.predict_proba(X_train))[1]\n",
        "col_name = en_en.columns\n",
        "en_en = pd.concat([en_en, pd.DataFrame(y_train).reset_index(drop=True)], axis=1)"
      ],
      "execution_count": 66,
      "outputs": []
    },
    {
      "cell_type": "code",
      "metadata": {
        "id": "PO287XixMfxs",
        "outputId": "f4a5be2c-5c95-4f12-8d58-98a7f3c0b319",
        "colab": {
          "base_uri": "https://localhost:8080/",
          "height": 204
        }
      },
      "source": [
        "en_en.head()"
      ],
      "execution_count": 67,
      "outputs": [
        {
          "output_type": "execute_result",
          "data": {
            "text/html": [
              "<div>\n",
              "<style scoped>\n",
              "    .dataframe tbody tr th:only-of-type {\n",
              "        vertical-align: middle;\n",
              "    }\n",
              "\n",
              "    .dataframe tbody tr th {\n",
              "        vertical-align: top;\n",
              "    }\n",
              "\n",
              "    .dataframe thead th {\n",
              "        text-align: right;\n",
              "    }\n",
              "</style>\n",
              "<table border=\"1\" class=\"dataframe\">\n",
              "  <thead>\n",
              "    <tr style=\"text-align: right;\">\n",
              "      <th></th>\n",
              "      <th>tree_clf</th>\n",
              "      <th>rf_clf</th>\n",
              "      <th>0</th>\n",
              "    </tr>\n",
              "  </thead>\n",
              "  <tbody>\n",
              "    <tr>\n",
              "      <th>0</th>\n",
              "      <td>0.0</td>\n",
              "      <td>0.09</td>\n",
              "      <td>0</td>\n",
              "    </tr>\n",
              "    <tr>\n",
              "      <th>1</th>\n",
              "      <td>0.0</td>\n",
              "      <td>0.05</td>\n",
              "      <td>0</td>\n",
              "    </tr>\n",
              "    <tr>\n",
              "      <th>2</th>\n",
              "      <td>0.0</td>\n",
              "      <td>0.06</td>\n",
              "      <td>0</td>\n",
              "    </tr>\n",
              "    <tr>\n",
              "      <th>3</th>\n",
              "      <td>0.0</td>\n",
              "      <td>0.06</td>\n",
              "      <td>0</td>\n",
              "    </tr>\n",
              "    <tr>\n",
              "      <th>4</th>\n",
              "      <td>0.0</td>\n",
              "      <td>0.08</td>\n",
              "      <td>0</td>\n",
              "    </tr>\n",
              "  </tbody>\n",
              "</table>\n",
              "</div>"
            ],
            "text/plain": [
              "   tree_clf  rf_clf  0\n",
              "0       0.0    0.09  0\n",
              "1       0.0    0.05  0\n",
              "2       0.0    0.06  0\n",
              "3       0.0    0.06  0\n",
              "4       0.0    0.08  0"
            ]
          },
          "metadata": {
            "tags": []
          },
          "execution_count": 67
        }
      ]
    },
    {
      "cell_type": "code",
      "metadata": {
        "id": "KmuYEaglMfxs"
      },
      "source": [
        "tmp = list(col_name)\n",
        "tmp.append('ind')\n",
        "en_en.columns = tmp"
      ],
      "execution_count": 68,
      "outputs": []
    },
    {
      "cell_type": "code",
      "metadata": {
        "id": "X3_04SgyMfxs",
        "outputId": "4b86951e-2b8f-4f15-8372-dffe4e7e5fb6",
        "colab": {
          "base_uri": "https://localhost:8080/",
          "height": 204
        }
      },
      "source": [
        "en_en.head()"
      ],
      "execution_count": 69,
      "outputs": [
        {
          "output_type": "execute_result",
          "data": {
            "text/html": [
              "<div>\n",
              "<style scoped>\n",
              "    .dataframe tbody tr th:only-of-type {\n",
              "        vertical-align: middle;\n",
              "    }\n",
              "\n",
              "    .dataframe tbody tr th {\n",
              "        vertical-align: top;\n",
              "    }\n",
              "\n",
              "    .dataframe thead th {\n",
              "        text-align: right;\n",
              "    }\n",
              "</style>\n",
              "<table border=\"1\" class=\"dataframe\">\n",
              "  <thead>\n",
              "    <tr style=\"text-align: right;\">\n",
              "      <th></th>\n",
              "      <th>tree_clf</th>\n",
              "      <th>rf_clf</th>\n",
              "      <th>ind</th>\n",
              "    </tr>\n",
              "  </thead>\n",
              "  <tbody>\n",
              "    <tr>\n",
              "      <th>0</th>\n",
              "      <td>0.0</td>\n",
              "      <td>0.09</td>\n",
              "      <td>0</td>\n",
              "    </tr>\n",
              "    <tr>\n",
              "      <th>1</th>\n",
              "      <td>0.0</td>\n",
              "      <td>0.05</td>\n",
              "      <td>0</td>\n",
              "    </tr>\n",
              "    <tr>\n",
              "      <th>2</th>\n",
              "      <td>0.0</td>\n",
              "      <td>0.06</td>\n",
              "      <td>0</td>\n",
              "    </tr>\n",
              "    <tr>\n",
              "      <th>3</th>\n",
              "      <td>0.0</td>\n",
              "      <td>0.06</td>\n",
              "      <td>0</td>\n",
              "    </tr>\n",
              "    <tr>\n",
              "      <th>4</th>\n",
              "      <td>0.0</td>\n",
              "      <td>0.08</td>\n",
              "      <td>0</td>\n",
              "    </tr>\n",
              "  </tbody>\n",
              "</table>\n",
              "</div>"
            ],
            "text/plain": [
              "   tree_clf  rf_clf  ind\n",
              "0       0.0    0.09    0\n",
              "1       0.0    0.05    0\n",
              "2       0.0    0.06    0\n",
              "3       0.0    0.06    0\n",
              "4       0.0    0.08    0"
            ]
          },
          "metadata": {
            "tags": []
          },
          "execution_count": 69
        }
      ]
    },
    {
      "cell_type": "markdown",
      "metadata": {
        "id": "DylzuGHJMfxs"
      },
      "source": [
        "### Meta Classifier"
      ]
    },
    {
      "cell_type": "code",
      "metadata": {
        "id": "HjeB-yOrMfxt"
      },
      "source": [
        "from sklearn.linear_model import LogisticRegression"
      ],
      "execution_count": 70,
      "outputs": []
    },
    {
      "cell_type": "code",
      "metadata": {
        "id": "V0nObttsMfxt"
      },
      "source": [
        "m_clf = LogisticRegression(fit_intercept=False)"
      ],
      "execution_count": 71,
      "outputs": []
    },
    {
      "cell_type": "code",
      "metadata": {
        "id": "eMFjteW8Mfxt",
        "outputId": "a8426997-7c93-4d6c-f76c-21cd504a099e",
        "colab": {
          "base_uri": "https://localhost:8080/"
        }
      },
      "source": [
        "m_clf.fit(en_en[['tree_clf', 'rf_clf']], en_en['ind'])"
      ],
      "execution_count": 72,
      "outputs": [
        {
          "output_type": "execute_result",
          "data": {
            "text/plain": [
              "LogisticRegression(C=1.0, class_weight=None, dual=False, fit_intercept=False,\n",
              "                   intercept_scaling=1, l1_ratio=None, max_iter=100,\n",
              "                   multi_class='auto', n_jobs=None, penalty='l2',\n",
              "                   random_state=None, solver='lbfgs', tol=0.0001, verbose=0,\n",
              "                   warm_start=False)"
            ]
          },
          "metadata": {
            "tags": []
          },
          "execution_count": 72
        }
      ]
    },
    {
      "cell_type": "code",
      "metadata": {
        "id": "yWBzFen6Mfxt"
      },
      "source": [
        "en_test = pd.DataFrame()"
      ],
      "execution_count": 73,
      "outputs": []
    },
    {
      "cell_type": "code",
      "metadata": {
        "id": "XJPSh6E7Mfxt"
      },
      "source": [
        "en_test['tree_clf'] = pd.DataFrame(tree_clf.predict_proba(X_test))[1]\n",
        "en_test['rf_clf'] =  pd.DataFrame(rf_clf.predict_proba(X_test))[1]\n",
        "col_name = en_en.columns\n",
        "en_test['combined'] = m_clf.predict(en_test[['tree_clf', 'rf_clf']])"
      ],
      "execution_count": 74,
      "outputs": []
    },
    {
      "cell_type": "code",
      "metadata": {
        "id": "rQnI04fKMfxt"
      },
      "source": [
        "col_name = en_test.columns\n",
        "tmp = list(col_name)\n",
        "tmp.append('ind')"
      ],
      "execution_count": 75,
      "outputs": []
    },
    {
      "cell_type": "code",
      "metadata": {
        "id": "pncS0avnMfxu",
        "outputId": "49a24507-5931-48c2-de2f-3b45230e8c5d",
        "colab": {
          "base_uri": "https://localhost:8080/"
        }
      },
      "source": [
        "tmp"
      ],
      "execution_count": 76,
      "outputs": [
        {
          "output_type": "execute_result",
          "data": {
            "text/plain": [
              "['tree_clf', 'rf_clf', 'combined', 'ind']"
            ]
          },
          "metadata": {
            "tags": []
          },
          "execution_count": 76
        }
      ]
    },
    {
      "cell_type": "code",
      "metadata": {
        "id": "_6YO5tDlMfxu"
      },
      "source": [
        "en_test = pd.concat([en_test, pd.DataFrame(y_test).reset_index(drop=True)], axis=1)"
      ],
      "execution_count": 77,
      "outputs": []
    },
    {
      "cell_type": "code",
      "metadata": {
        "id": "omNJiGXjMfxu"
      },
      "source": [
        "en_test.columns = tmp"
      ],
      "execution_count": 78,
      "outputs": []
    },
    {
      "cell_type": "code",
      "metadata": {
        "id": "me3e3c76Mfxu",
        "outputId": "7d17b6b8-d093-4265-a94b-bbac80abf2e1",
        "colab": {
          "base_uri": "https://localhost:8080/"
        }
      },
      "source": [
        "print(pd.crosstab(en_test['ind'], en_test['combined']))"
      ],
      "execution_count": 79,
      "outputs": [
        {
          "output_type": "stream",
          "text": [
            "combined    0   1\n",
            "ind              \n",
            "0         206  38\n",
            "1          35  15\n"
          ],
          "name": "stdout"
        }
      ]
    },
    {
      "cell_type": "code",
      "metadata": {
        "id": "dL6xVGXIMfxu",
        "outputId": "623aa323-59ed-4a35-990a-0bdfbf561267",
        "colab": {
          "base_uri": "https://localhost:8080/"
        }
      },
      "source": [
        "print(round(accuracy_score(en_test['ind'], en_test['combined']), 4))"
      ],
      "execution_count": 80,
      "outputs": [
        {
          "output_type": "stream",
          "text": [
            "0.7517\n"
          ],
          "name": "stdout"
        }
      ]
    },
    {
      "cell_type": "code",
      "metadata": {
        "id": "tmEvud5sMfxv",
        "outputId": "d004f155-afcc-49da-faf8-13bf977f2a8f",
        "colab": {
          "base_uri": "https://localhost:8080/"
        }
      },
      "source": [
        "print(classification_report(en_test['ind'], en_test['combined']))"
      ],
      "execution_count": 81,
      "outputs": [
        {
          "output_type": "stream",
          "text": [
            "              precision    recall  f1-score   support\n",
            "\n",
            "           0       0.85      0.84      0.85       244\n",
            "           1       0.28      0.30      0.29        50\n",
            "\n",
            "    accuracy                           0.75       294\n",
            "   macro avg       0.57      0.57      0.57       294\n",
            "weighted avg       0.76      0.75      0.75       294\n",
            "\n"
          ],
          "name": "stdout"
        }
      ]
    },
    {
      "cell_type": "markdown",
      "metadata": {
        "id": "sj6QKXrxMfxv"
      },
      "source": [
        "***"
      ]
    },
    {
      "cell_type": "markdown",
      "metadata": {
        "id": "zE4qmGAJMfxv"
      },
      "source": [
        "## Single Classifier"
      ]
    },
    {
      "cell_type": "code",
      "metadata": {
        "id": "DLKeEgXPMfxv"
      },
      "source": [
        "\n",
        "try:\n",
        "  df = pd.read_csv(\"data\\WA_Fn-UseC_-HR-Employee-Attrition.csv\")\n",
        "except:\n",
        "  url = \"https://raw.githubusercontent.com/anthonyng2/intro_ml_finance/master/data/WA_Fn-UseC_-HR-Employee-Attrition.csv\"\n",
        "  df = pd.read_csv(url)\n"
      ],
      "execution_count": 82,
      "outputs": []
    },
    {
      "cell_type": "code",
      "metadata": {
        "id": "gm5moa0zMfxv",
        "outputId": "bdf83a5a-3d64-43c1-8285-2e1b589dc378",
        "colab": {
          "base_uri": "https://localhost:8080/",
          "height": 309
        }
      },
      "source": [
        "df.head()"
      ],
      "execution_count": 83,
      "outputs": [
        {
          "output_type": "execute_result",
          "data": {
            "text/html": [
              "<div>\n",
              "<style scoped>\n",
              "    .dataframe tbody tr th:only-of-type {\n",
              "        vertical-align: middle;\n",
              "    }\n",
              "\n",
              "    .dataframe tbody tr th {\n",
              "        vertical-align: top;\n",
              "    }\n",
              "\n",
              "    .dataframe thead th {\n",
              "        text-align: right;\n",
              "    }\n",
              "</style>\n",
              "<table border=\"1\" class=\"dataframe\">\n",
              "  <thead>\n",
              "    <tr style=\"text-align: right;\">\n",
              "      <th></th>\n",
              "      <th>Age</th>\n",
              "      <th>Attrition</th>\n",
              "      <th>BusinessTravel</th>\n",
              "      <th>DailyRate</th>\n",
              "      <th>Department</th>\n",
              "      <th>DistanceFromHome</th>\n",
              "      <th>Education</th>\n",
              "      <th>EducationField</th>\n",
              "      <th>EmployeeCount</th>\n",
              "      <th>EmployeeNumber</th>\n",
              "      <th>EnvironmentSatisfaction</th>\n",
              "      <th>Gender</th>\n",
              "      <th>HourlyRate</th>\n",
              "      <th>JobInvolvement</th>\n",
              "      <th>JobLevel</th>\n",
              "      <th>JobRole</th>\n",
              "      <th>JobSatisfaction</th>\n",
              "      <th>MaritalStatus</th>\n",
              "      <th>MonthlyIncome</th>\n",
              "      <th>MonthlyRate</th>\n",
              "      <th>NumCompaniesWorked</th>\n",
              "      <th>Over18</th>\n",
              "      <th>OverTime</th>\n",
              "      <th>PercentSalaryHike</th>\n",
              "      <th>PerformanceRating</th>\n",
              "      <th>RelationshipSatisfaction</th>\n",
              "      <th>StandardHours</th>\n",
              "      <th>StockOptionLevel</th>\n",
              "      <th>TotalWorkingYears</th>\n",
              "      <th>TrainingTimesLastYear</th>\n",
              "      <th>WorkLifeBalance</th>\n",
              "      <th>YearsAtCompany</th>\n",
              "      <th>YearsInCurrentRole</th>\n",
              "      <th>YearsSinceLastPromotion</th>\n",
              "      <th>YearsWithCurrManager</th>\n",
              "    </tr>\n",
              "  </thead>\n",
              "  <tbody>\n",
              "    <tr>\n",
              "      <th>0</th>\n",
              "      <td>41</td>\n",
              "      <td>Yes</td>\n",
              "      <td>Travel_Rarely</td>\n",
              "      <td>1102</td>\n",
              "      <td>Sales</td>\n",
              "      <td>1</td>\n",
              "      <td>2</td>\n",
              "      <td>Life Sciences</td>\n",
              "      <td>1</td>\n",
              "      <td>1</td>\n",
              "      <td>2</td>\n",
              "      <td>Female</td>\n",
              "      <td>94</td>\n",
              "      <td>3</td>\n",
              "      <td>2</td>\n",
              "      <td>Sales Executive</td>\n",
              "      <td>4</td>\n",
              "      <td>Single</td>\n",
              "      <td>5993</td>\n",
              "      <td>19479</td>\n",
              "      <td>8</td>\n",
              "      <td>Y</td>\n",
              "      <td>Yes</td>\n",
              "      <td>11</td>\n",
              "      <td>3</td>\n",
              "      <td>1</td>\n",
              "      <td>80</td>\n",
              "      <td>0</td>\n",
              "      <td>8</td>\n",
              "      <td>0</td>\n",
              "      <td>1</td>\n",
              "      <td>6</td>\n",
              "      <td>4</td>\n",
              "      <td>0</td>\n",
              "      <td>5</td>\n",
              "    </tr>\n",
              "    <tr>\n",
              "      <th>1</th>\n",
              "      <td>49</td>\n",
              "      <td>No</td>\n",
              "      <td>Travel_Frequently</td>\n",
              "      <td>279</td>\n",
              "      <td>Research &amp; Development</td>\n",
              "      <td>8</td>\n",
              "      <td>1</td>\n",
              "      <td>Life Sciences</td>\n",
              "      <td>1</td>\n",
              "      <td>2</td>\n",
              "      <td>3</td>\n",
              "      <td>Male</td>\n",
              "      <td>61</td>\n",
              "      <td>2</td>\n",
              "      <td>2</td>\n",
              "      <td>Research Scientist</td>\n",
              "      <td>2</td>\n",
              "      <td>Married</td>\n",
              "      <td>5130</td>\n",
              "      <td>24907</td>\n",
              "      <td>1</td>\n",
              "      <td>Y</td>\n",
              "      <td>No</td>\n",
              "      <td>23</td>\n",
              "      <td>4</td>\n",
              "      <td>4</td>\n",
              "      <td>80</td>\n",
              "      <td>1</td>\n",
              "      <td>10</td>\n",
              "      <td>3</td>\n",
              "      <td>3</td>\n",
              "      <td>10</td>\n",
              "      <td>7</td>\n",
              "      <td>1</td>\n",
              "      <td>7</td>\n",
              "    </tr>\n",
              "    <tr>\n",
              "      <th>2</th>\n",
              "      <td>37</td>\n",
              "      <td>Yes</td>\n",
              "      <td>Travel_Rarely</td>\n",
              "      <td>1373</td>\n",
              "      <td>Research &amp; Development</td>\n",
              "      <td>2</td>\n",
              "      <td>2</td>\n",
              "      <td>Other</td>\n",
              "      <td>1</td>\n",
              "      <td>4</td>\n",
              "      <td>4</td>\n",
              "      <td>Male</td>\n",
              "      <td>92</td>\n",
              "      <td>2</td>\n",
              "      <td>1</td>\n",
              "      <td>Laboratory Technician</td>\n",
              "      <td>3</td>\n",
              "      <td>Single</td>\n",
              "      <td>2090</td>\n",
              "      <td>2396</td>\n",
              "      <td>6</td>\n",
              "      <td>Y</td>\n",
              "      <td>Yes</td>\n",
              "      <td>15</td>\n",
              "      <td>3</td>\n",
              "      <td>2</td>\n",
              "      <td>80</td>\n",
              "      <td>0</td>\n",
              "      <td>7</td>\n",
              "      <td>3</td>\n",
              "      <td>3</td>\n",
              "      <td>0</td>\n",
              "      <td>0</td>\n",
              "      <td>0</td>\n",
              "      <td>0</td>\n",
              "    </tr>\n",
              "    <tr>\n",
              "      <th>3</th>\n",
              "      <td>33</td>\n",
              "      <td>No</td>\n",
              "      <td>Travel_Frequently</td>\n",
              "      <td>1392</td>\n",
              "      <td>Research &amp; Development</td>\n",
              "      <td>3</td>\n",
              "      <td>4</td>\n",
              "      <td>Life Sciences</td>\n",
              "      <td>1</td>\n",
              "      <td>5</td>\n",
              "      <td>4</td>\n",
              "      <td>Female</td>\n",
              "      <td>56</td>\n",
              "      <td>3</td>\n",
              "      <td>1</td>\n",
              "      <td>Research Scientist</td>\n",
              "      <td>3</td>\n",
              "      <td>Married</td>\n",
              "      <td>2909</td>\n",
              "      <td>23159</td>\n",
              "      <td>1</td>\n",
              "      <td>Y</td>\n",
              "      <td>Yes</td>\n",
              "      <td>11</td>\n",
              "      <td>3</td>\n",
              "      <td>3</td>\n",
              "      <td>80</td>\n",
              "      <td>0</td>\n",
              "      <td>8</td>\n",
              "      <td>3</td>\n",
              "      <td>3</td>\n",
              "      <td>8</td>\n",
              "      <td>7</td>\n",
              "      <td>3</td>\n",
              "      <td>0</td>\n",
              "    </tr>\n",
              "    <tr>\n",
              "      <th>4</th>\n",
              "      <td>27</td>\n",
              "      <td>No</td>\n",
              "      <td>Travel_Rarely</td>\n",
              "      <td>591</td>\n",
              "      <td>Research &amp; Development</td>\n",
              "      <td>2</td>\n",
              "      <td>1</td>\n",
              "      <td>Medical</td>\n",
              "      <td>1</td>\n",
              "      <td>7</td>\n",
              "      <td>1</td>\n",
              "      <td>Male</td>\n",
              "      <td>40</td>\n",
              "      <td>3</td>\n",
              "      <td>1</td>\n",
              "      <td>Laboratory Technician</td>\n",
              "      <td>2</td>\n",
              "      <td>Married</td>\n",
              "      <td>3468</td>\n",
              "      <td>16632</td>\n",
              "      <td>9</td>\n",
              "      <td>Y</td>\n",
              "      <td>No</td>\n",
              "      <td>12</td>\n",
              "      <td>3</td>\n",
              "      <td>4</td>\n",
              "      <td>80</td>\n",
              "      <td>1</td>\n",
              "      <td>6</td>\n",
              "      <td>3</td>\n",
              "      <td>3</td>\n",
              "      <td>2</td>\n",
              "      <td>2</td>\n",
              "      <td>2</td>\n",
              "      <td>2</td>\n",
              "    </tr>\n",
              "  </tbody>\n",
              "</table>\n",
              "</div>"
            ],
            "text/plain": [
              "   Age Attrition  ... YearsSinceLastPromotion  YearsWithCurrManager\n",
              "0   41       Yes  ...                       0                     5\n",
              "1   49        No  ...                       1                     7\n",
              "2   37       Yes  ...                       0                     0\n",
              "3   33        No  ...                       3                     0\n",
              "4   27        No  ...                       2                     2\n",
              "\n",
              "[5 rows x 35 columns]"
            ]
          },
          "metadata": {
            "tags": []
          },
          "execution_count": 83
        }
      ]
    },
    {
      "cell_type": "code",
      "metadata": {
        "id": "eZDYNpMfMfxv",
        "outputId": "837d365f-7d66-4fda-f3dd-5e604ed9d2b0",
        "colab": {
          "base_uri": "https://localhost:8080/"
        }
      },
      "source": [
        "df.Attrition.value_counts() / df.Attrition.count()"
      ],
      "execution_count": 84,
      "outputs": [
        {
          "output_type": "execute_result",
          "data": {
            "text/plain": [
              "No     0.838776\n",
              "Yes    0.161224\n",
              "Name: Attrition, dtype: float64"
            ]
          },
          "metadata": {
            "tags": []
          },
          "execution_count": 84
        }
      ]
    },
    {
      "cell_type": "code",
      "metadata": {
        "id": "LwlAEY2WMfxw"
      },
      "source": [
        "from sklearn.ensemble import RandomForestClassifier"
      ],
      "execution_count": 85,
      "outputs": []
    },
    {
      "cell_type": "code",
      "metadata": {
        "id": "MM0w7GldMfxw"
      },
      "source": [
        "from sklearn.ensemble import BaggingClassifier"
      ],
      "execution_count": 86,
      "outputs": []
    },
    {
      "cell_type": "code",
      "metadata": {
        "id": "H50Ab4PRMfxw"
      },
      "source": [
        "from sklearn.ensemble import AdaBoostClassifier"
      ],
      "execution_count": 87,
      "outputs": []
    },
    {
      "cell_type": "code",
      "metadata": {
        "id": "EXeWXPUfMfxw"
      },
      "source": [
        "class_weight = {0:0.834, 1:0.166}"
      ],
      "execution_count": 88,
      "outputs": []
    },
    {
      "cell_type": "code",
      "metadata": {
        "id": "YdmjPatZWcP3",
        "outputId": "6ca369fc-6d53-4eb0-fecf-5e1035cdcacc",
        "colab": {
          "base_uri": "https://localhost:8080/"
        }
      },
      "source": [
        "from itertools import chain\n",
        "pd.Series(list(chain(*y_train))).value_counts() / pd.Series(list(y_train)).count()"
      ],
      "execution_count": 89,
      "outputs": [
        {
          "output_type": "execute_result",
          "data": {
            "text/plain": [
              "0    0.840986\n",
              "1    0.159014\n",
              "dtype: float64"
            ]
          },
          "metadata": {
            "tags": []
          },
          "execution_count": 89
        }
      ]
    },
    {
      "cell_type": "code",
      "metadata": {
        "id": "ICoFPdC6Mfxw"
      },
      "source": [
        "forest = RandomForestClassifier(class_weight=class_weight)"
      ],
      "execution_count": 90,
      "outputs": []
    },
    {
      "cell_type": "code",
      "metadata": {
        "id": "9YHGBp2pMfxx"
      },
      "source": [
        "ada = AdaBoostClassifier(base_estimator=forest, n_estimators=100,\n",
        "                         learning_rate=0.5, random_state=42)"
      ],
      "execution_count": 91,
      "outputs": []
    },
    {
      "cell_type": "code",
      "metadata": {
        "id": "765efnVOMfxx",
        "outputId": "c8a5fd27-519c-44bc-f353-b78b397a1d27",
        "colab": {
          "base_uri": "https://localhost:8080/"
        }
      },
      "source": [
        "ada.fit(X_train, y_train.ravel())"
      ],
      "execution_count": 92,
      "outputs": [
        {
          "output_type": "execute_result",
          "data": {
            "text/plain": [
              "AdaBoostClassifier(algorithm='SAMME.R',\n",
              "                   base_estimator=RandomForestClassifier(bootstrap=True,\n",
              "                                                         ccp_alpha=0.0,\n",
              "                                                         class_weight={0: 0.834,\n",
              "                                                                       1: 0.166},\n",
              "                                                         criterion='gini',\n",
              "                                                         max_depth=None,\n",
              "                                                         max_features='auto',\n",
              "                                                         max_leaf_nodes=None,\n",
              "                                                         max_samples=None,\n",
              "                                                         min_impurity_decrease=0.0,\n",
              "                                                         min_impurity_split=None,\n",
              "                                                         min_samples_leaf=1,\n",
              "                                                         min_samples_split=2,\n",
              "                                                         min_weight_fraction_leaf=0.0,\n",
              "                                                         n_estimators=100,\n",
              "                                                         n_jobs=None,\n",
              "                                                         oob_score=False,\n",
              "                                                         random_state=None,\n",
              "                                                         verbose=0,\n",
              "                                                         warm_start=False),\n",
              "                   learning_rate=0.5, n_estimators=100, random_state=42)"
            ]
          },
          "metadata": {
            "tags": []
          },
          "execution_count": 92
        }
      ]
    },
    {
      "cell_type": "code",
      "metadata": {
        "id": "57T2u1WaMfxx",
        "outputId": "dccbe079-ac1f-45a1-d611-f834f603f8dd",
        "colab": {
          "base_uri": "https://localhost:8080/"
        }
      },
      "source": [
        "print_score(ada, X_train, X_test, y_train, y_test, train=True)\n",
        "print_score(ada, X_train, X_test, y_train, y_test, train=False)"
      ],
      "execution_count": 93,
      "outputs": [
        {
          "output_type": "stream",
          "text": [
            "Train Result:\n",
            "\n",
            "accuracy score: 1.0000\n",
            "\n",
            "Classification Report: \n",
            "               precision    recall  f1-score   support\n",
            "\n",
            "           0       1.00      1.00      1.00       989\n",
            "           1       1.00      1.00      1.00       187\n",
            "\n",
            "    accuracy                           1.00      1176\n",
            "   macro avg       1.00      1.00      1.00      1176\n",
            "weighted avg       1.00      1.00      1.00      1176\n",
            "\n",
            "\n",
            "Confusion Matrix: \n",
            " [[989   0]\n",
            " [  0 187]]\n",
            "\n",
            "ROC AUC: 1.0000\n",
            "\n",
            "Test Result:\n",
            "\n",
            "accuracy score: 0.8571\n",
            "\n",
            "Classification Report: \n",
            "               precision    recall  f1-score   support\n",
            "\n",
            "           0       0.86      0.99      0.92       244\n",
            "           1       0.83      0.20      0.32        50\n",
            "\n",
            "    accuracy                           0.86       294\n",
            "   macro avg       0.85      0.60      0.62       294\n",
            "weighted avg       0.85      0.86      0.82       294\n",
            "\n",
            "\n",
            "Confusion Matrix: \n",
            " [[242   2]\n",
            " [ 40  10]]\n",
            "\n",
            "ROC AUC: 0.5959\n",
            "\n"
          ],
          "name": "stdout"
        }
      ]
    },
    {
      "cell_type": "code",
      "metadata": {
        "id": "6sTgUoZnMfxx"
      },
      "source": [
        "bag_clf = BaggingClassifier(base_estimator=ada, n_estimators=50,\n",
        "                            max_samples=1.0, max_features=1.0, bootstrap=True,\n",
        "                            bootstrap_features=False, n_jobs=-1,\n",
        "                            random_state=42)"
      ],
      "execution_count": 94,
      "outputs": []
    },
    {
      "cell_type": "code",
      "metadata": {
        "id": "ETH497ioMfxx",
        "outputId": "d3e9cbb7-a0ac-47b8-d832-a46a094188c6",
        "colab": {
          "base_uri": "https://localhost:8080/"
        }
      },
      "source": [
        "bag_clf.fit(X_train, y_train.ravel())"
      ],
      "execution_count": 95,
      "outputs": [
        {
          "output_type": "execute_result",
          "data": {
            "text/plain": [
              "BaggingClassifier(base_estimator=AdaBoostClassifier(algorithm='SAMME.R',\n",
              "                                                    base_estimator=RandomForestClassifier(bootstrap=True,\n",
              "                                                                                          ccp_alpha=0.0,\n",
              "                                                                                          class_weight={0: 0.834,\n",
              "                                                                                                        1: 0.166},\n",
              "                                                                                          criterion='gini',\n",
              "                                                                                          max_depth=None,\n",
              "                                                                                          max_features='auto',\n",
              "                                                                                          max_leaf_nodes=None,\n",
              "                                                                                          max_samples=None,\n",
              "                                                                                          min_impurity_decrease=0.0,\n",
              "                                                                                          min_impurity_split=None,\n",
              "                                                                                          min_samples_leaf=1,\n",
              "                                                                                          min_samples_split=2,\n",
              "                                                                                          min_weight_fraction_leaf=0.0,\n",
              "                                                                                          n_estimators=100,\n",
              "                                                                                          n_jobs=None,\n",
              "                                                                                          oob_score=False,\n",
              "                                                                                          random_state=None,\n",
              "                                                                                          verbose=0,\n",
              "                                                                                          warm_start=False),\n",
              "                                                    learning_rate=0.5,\n",
              "                                                    n_estimators=100,\n",
              "                                                    random_state=42),\n",
              "                  bootstrap=True, bootstrap_features=False, max_features=1.0,\n",
              "                  max_samples=1.0, n_estimators=50, n_jobs=-1, oob_score=False,\n",
              "                  random_state=42, verbose=0, warm_start=False)"
            ]
          },
          "metadata": {
            "tags": []
          },
          "execution_count": 95
        }
      ]
    },
    {
      "cell_type": "code",
      "metadata": {
        "id": "Of9zUCMSMfxx",
        "outputId": "e91e38b5-22b8-4b89-ffaf-20d2df70e8ec",
        "colab": {
          "base_uri": "https://localhost:8080/"
        }
      },
      "source": [
        "print_score(bag_clf, X_train, X_test, y_train, y_test, train=True)\n",
        "print_score(bag_clf, X_train, X_test, y_train, y_test, train=False)"
      ],
      "execution_count": 96,
      "outputs": [
        {
          "output_type": "stream",
          "text": [
            "Train Result:\n",
            "\n",
            "accuracy score: 0.9702\n",
            "\n",
            "Classification Report: \n",
            "               precision    recall  f1-score   support\n",
            "\n",
            "           0       0.97      1.00      0.98       989\n",
            "           1       1.00      0.81      0.90       187\n",
            "\n",
            "    accuracy                           0.97      1176\n",
            "   macro avg       0.98      0.91      0.94      1176\n",
            "weighted avg       0.97      0.97      0.97      1176\n",
            "\n",
            "\n",
            "Confusion Matrix: \n",
            " [[989   0]\n",
            " [ 35 152]]\n",
            "\n",
            "ROC AUC: 0.9064\n",
            "\n",
            "Test Result:\n",
            "\n",
            "accuracy score: 0.8469\n",
            "\n",
            "Classification Report: \n",
            "               precision    recall  f1-score   support\n",
            "\n",
            "           0       0.85      0.99      0.91       244\n",
            "           1       0.73      0.16      0.26        50\n",
            "\n",
            "    accuracy                           0.85       294\n",
            "   macro avg       0.79      0.57      0.59       294\n",
            "weighted avg       0.83      0.85      0.80       294\n",
            "\n",
            "\n",
            "Confusion Matrix: \n",
            " [[241   3]\n",
            " [ 42   8]]\n",
            "\n",
            "ROC AUC: 0.5739\n",
            "\n"
          ],
          "name": "stdout"
        }
      ]
    },
    {
      "cell_type": "markdown",
      "metadata": {
        "id": "RpIuGwLUMfxy"
      },
      "source": [
        "***"
      ]
    }
  ]
}