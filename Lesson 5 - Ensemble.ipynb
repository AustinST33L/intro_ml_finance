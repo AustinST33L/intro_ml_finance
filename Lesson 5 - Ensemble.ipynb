{
  "nbformat": 4,
  "nbformat_minor": 0,
  "metadata": {
    "kernelspec": {
      "display_name": "Python 3",
      "language": "python",
      "name": "python3"
    },
    "language_info": {
      "codemirror_mode": {
        "name": "ipython",
        "version": 3
      },
      "file_extension": ".py",
      "mimetype": "text/x-python",
      "name": "python",
      "nbconvert_exporter": "python",
      "pygments_lexer": "ipython3",
      "version": "3.5.4"
    },
    "colab": {
      "name": "Lesson 5 - Ensemble.ipynb",
      "provenance": []
    },
    "accelerator": "GPU"
  },
  "cells": [
    {
      "cell_type": "markdown",
      "metadata": {
        "id": "aktO5SgDKzvq"
      },
      "source": [
        "# Ensemble Learning Methods Introduction"
      ]
    },
    {
      "cell_type": "markdown",
      "metadata": {
        "id": "W4brQfPBKzvt"
      },
      "source": [
        "## Ensemble Methods:"
      ]
    },
    {
      "cell_type": "markdown",
      "metadata": {
        "id": "EP6-0GLAKzvt"
      },
      "source": [
        "Supervised Learning\n",
        "\n",
        "Group of predictors (classifiers / regressors)"
      ]
    },
    {
      "cell_type": "markdown",
      "metadata": {
        "id": "5I6nBLY_Kzvu"
      },
      "source": [
        "\n",
        "\n",
        "\n",
        "\n",
        "### 1. **B**ootstrap **Agg**regat**ing** or [Bagging](https://en.wikipedia.org/wiki/Bootstrap_aggregating)\n",
        "* [Scikit- Learn Reference](http://scikit-learn.org/stable/modules/ensemble.html#bagging)\n",
        "* Bootstrap sampling: Sampling with replacement\n",
        "* Combine by averaging the output (regression)\n",
        "* Combine by voting (classification)\n",
        "* Can be applied to many classifiers which includes ANN, CART, etc.\n",
        "\n",
        "### 2. [Pasting](http://scikit-learn.org/stable/modules/generated/sklearn.ensemble.BaggingClassifier.html)\n",
        "* Sampling without replacement\n",
        "\n",
        "### 3. [Boosting](https://en.wikipedia.org/wiki/Boosting_(machine_learning)\n",
        "* Train weak classifiers \n",
        "* Add them to a final strong classifier by weighting. Weighting by accuracy (typically)\n",
        "* Once added, the data are reweighted\n",
        "  * Misclassified samples gain weight \n",
        "  * Correctly classified samples lose weight (Exception: Boost by majority and BrownBoost - decrease the weight of repeatedly misclassified examples). \n",
        "  * Algo are forced to learn more from misclassified samples\n",
        "  \n",
        "    \n",
        "### 4. [Stacking](http://blog.kaggle.com/2016/12/27/a-kagglers-guide-to-model-stacking-in-practice/)\n",
        "* Also known as Stacked generalization\n",
        "* [From Kaggle:](http://blog.kaggle.com/2016/12/27/a-kagglers-guide-to-model-stacking-in-practice/) Combine information from multiple predictive models to generate a new model. Often times the stacked model (also called 2nd-level model) will outperform each of the individual models due its smoothing nature and ability to highlight each base model where it performs best and discredit each base model where it performs poorly. For this reason, stacking is most effective when the base models are significantly different. \n",
        "* Training a learning algorithm to combine the predictions of several other learning algorithms. \n",
        "  * Step 1: Train learning algo\n",
        "  * Step 2: Combiner algo is trained using algo predictions from step 1.  \n",
        "\n",
        "\n",
        "### 5. Other Ensemble Methods:\n",
        "\n",
        "[Wikipedia](https://en.wikipedia.org/wiki/Ensemble_learning)\n",
        "* Bayes optimal classifier\n",
        "  * An ensemble of all the hypotheses in the hypothesis space. \n",
        "  * Each hypothesis is given a vote proportional to the likelihood that the training dataset would be sampled from a system if that hypothesis were true. \n",
        "  * To facilitate training data of finite size, the vote of each hypothesis is also multiplied by the prior probability of that hypothesis. \n",
        "* Bayesian parameter averaging\n",
        "  * an ensemble technique that seeks to approximate the Bayes Optimal Classifier by sampling hypotheses from the hypothesis space, and combining them using Bayes' law.\n",
        "  * Unlike the Bayes optimal classifier, Bayesian model averaging (BMA) can be practically implemented. \n",
        "  * Hypotheses are typically sampled using a Monte Carlo sampling technique such as MCMC. \n",
        "* Bayesian model combination\n",
        "  * Instead of sampling each model in the ensemble individually, it samples from the space of possible ensembles (with model weightings drawn randomly from a Dirichlet distribution having uniform parameters). \n",
        "  * This modification overcomes the tendency of BMA to converge toward giving all of the weight to a single model. \n",
        "  * Although BMC is somewhat more computationally expensive than BMA, it tends to yield dramatically better results. The results from BMC have been shown to be better on average (with statistical significance) than BMA, and bagging.\n",
        "* Bucket of models\n",
        "  * An ensemble technique in which a model selection algorithm is used to choose the best model for each problem. \n",
        "  * When tested with only one problem, a bucket of models can produce no better results than the best model in the set, but when evaluated across many problems, it will typically produce much better results, on average, than any model in the set.\n",
        "\n",
        "\n",
        "R released\n",
        "* BMS (an acronym for Bayesian Model Selection) package\n",
        "* BAS (an acronym for Bayesian Adaptive Sampling) package\n",
        "* BMA package"
      ]
    },
    {
      "cell_type": "markdown",
      "metadata": {
        "id": "q2q9-M3PKzvv"
      },
      "source": [
        "**Note: Ensemble methods**\n",
        "\n",
        "* Work best with indepedent predictors\n",
        "\n",
        "* Best to utilise different algorithms\n"
      ]
    },
    {
      "cell_type": "markdown",
      "metadata": {
        "id": "hI6-jTQoKzvv"
      },
      "source": [
        "***"
      ]
    },
    {
      "cell_type": "markdown",
      "metadata": {
        "heading_collapsed": true,
        "id": "Da52qzsrKzvw"
      },
      "source": [
        "# Bagging ML Algo - Decision Tree"
      ]
    },
    {
      "cell_type": "markdown",
      "metadata": {
        "heading_collapsed": true,
        "hidden": true,
        "id": "L5a-sXGhKzvw"
      },
      "source": [
        "## **B**ootstrap **Agg**regat**ing** or [Bagging](https://en.wikipedia.org/wiki/Bootstrap_aggregating)"
      ]
    },
    {
      "cell_type": "markdown",
      "metadata": {
        "collapsed": true,
        "hidden": true,
        "id": "vUwZSOAPKzvx"
      },
      "source": [
        "\n",
        "* [Scikit- Learn Reference](http://scikit-learn.org/stable/modules/ensemble.html#bagging)\n",
        "* Bootstrap sampling: Sampling with replacement\n",
        "* Combine by averaging the output (regression)\n",
        "* Combine by voting (classification)\n",
        "* Can be applied to many classifiers which includes ANN, CART, etc."
      ]
    },
    {
      "cell_type": "code",
      "metadata": {
        "hidden": true,
        "id": "b5SXoQbNKzvx"
      },
      "source": [
        "import numpy as np\n",
        "import seaborn as sns\n",
        "import matplotlib.pyplot as plt\n",
        "%matplotlib inline\n",
        "import pandas as pd"
      ],
      "execution_count": 1,
      "outputs": []
    },
    {
      "cell_type": "code",
      "metadata": {
        "hidden": true,
        "id": "K7FJbtEPKzvy"
      },
      "source": [
        "df = sns.load_dataset('titanic')"
      ],
      "execution_count": 2,
      "outputs": []
    },
    {
      "cell_type": "code",
      "metadata": {
        "hidden": true,
        "id": "Jgqo8254Kzvy",
        "outputId": "856874bf-9060-4e17-f01b-13f0c8cf169a",
        "colab": {
          "base_uri": "https://localhost:8080/"
        }
      },
      "source": [
        "df.shape"
      ],
      "execution_count": 3,
      "outputs": [
        {
          "output_type": "execute_result",
          "data": {
            "text/plain": [
              "(891, 15)"
            ]
          },
          "metadata": {
            "tags": []
          },
          "execution_count": 3
        }
      ]
    },
    {
      "cell_type": "code",
      "metadata": {
        "hidden": true,
        "id": "Hb068-cQKzvz",
        "outputId": "40dc3e83-bb42-4532-a149-0005f66d998c",
        "colab": {
          "base_uri": "https://localhost:8080/",
          "height": 204
        }
      },
      "source": [
        "df.head()"
      ],
      "execution_count": 4,
      "outputs": [
        {
          "output_type": "execute_result",
          "data": {
            "text/html": [
              "<div>\n",
              "<style scoped>\n",
              "    .dataframe tbody tr th:only-of-type {\n",
              "        vertical-align: middle;\n",
              "    }\n",
              "\n",
              "    .dataframe tbody tr th {\n",
              "        vertical-align: top;\n",
              "    }\n",
              "\n",
              "    .dataframe thead th {\n",
              "        text-align: right;\n",
              "    }\n",
              "</style>\n",
              "<table border=\"1\" class=\"dataframe\">\n",
              "  <thead>\n",
              "    <tr style=\"text-align: right;\">\n",
              "      <th></th>\n",
              "      <th>survived</th>\n",
              "      <th>pclass</th>\n",
              "      <th>sex</th>\n",
              "      <th>age</th>\n",
              "      <th>sibsp</th>\n",
              "      <th>parch</th>\n",
              "      <th>fare</th>\n",
              "      <th>embarked</th>\n",
              "      <th>class</th>\n",
              "      <th>who</th>\n",
              "      <th>adult_male</th>\n",
              "      <th>deck</th>\n",
              "      <th>embark_town</th>\n",
              "      <th>alive</th>\n",
              "      <th>alone</th>\n",
              "    </tr>\n",
              "  </thead>\n",
              "  <tbody>\n",
              "    <tr>\n",
              "      <th>0</th>\n",
              "      <td>0</td>\n",
              "      <td>3</td>\n",
              "      <td>male</td>\n",
              "      <td>22.0</td>\n",
              "      <td>1</td>\n",
              "      <td>0</td>\n",
              "      <td>7.2500</td>\n",
              "      <td>S</td>\n",
              "      <td>Third</td>\n",
              "      <td>man</td>\n",
              "      <td>True</td>\n",
              "      <td>NaN</td>\n",
              "      <td>Southampton</td>\n",
              "      <td>no</td>\n",
              "      <td>False</td>\n",
              "    </tr>\n",
              "    <tr>\n",
              "      <th>1</th>\n",
              "      <td>1</td>\n",
              "      <td>1</td>\n",
              "      <td>female</td>\n",
              "      <td>38.0</td>\n",
              "      <td>1</td>\n",
              "      <td>0</td>\n",
              "      <td>71.2833</td>\n",
              "      <td>C</td>\n",
              "      <td>First</td>\n",
              "      <td>woman</td>\n",
              "      <td>False</td>\n",
              "      <td>C</td>\n",
              "      <td>Cherbourg</td>\n",
              "      <td>yes</td>\n",
              "      <td>False</td>\n",
              "    </tr>\n",
              "    <tr>\n",
              "      <th>2</th>\n",
              "      <td>1</td>\n",
              "      <td>3</td>\n",
              "      <td>female</td>\n",
              "      <td>26.0</td>\n",
              "      <td>0</td>\n",
              "      <td>0</td>\n",
              "      <td>7.9250</td>\n",
              "      <td>S</td>\n",
              "      <td>Third</td>\n",
              "      <td>woman</td>\n",
              "      <td>False</td>\n",
              "      <td>NaN</td>\n",
              "      <td>Southampton</td>\n",
              "      <td>yes</td>\n",
              "      <td>True</td>\n",
              "    </tr>\n",
              "    <tr>\n",
              "      <th>3</th>\n",
              "      <td>1</td>\n",
              "      <td>1</td>\n",
              "      <td>female</td>\n",
              "      <td>35.0</td>\n",
              "      <td>1</td>\n",
              "      <td>0</td>\n",
              "      <td>53.1000</td>\n",
              "      <td>S</td>\n",
              "      <td>First</td>\n",
              "      <td>woman</td>\n",
              "      <td>False</td>\n",
              "      <td>C</td>\n",
              "      <td>Southampton</td>\n",
              "      <td>yes</td>\n",
              "      <td>False</td>\n",
              "    </tr>\n",
              "    <tr>\n",
              "      <th>4</th>\n",
              "      <td>0</td>\n",
              "      <td>3</td>\n",
              "      <td>male</td>\n",
              "      <td>35.0</td>\n",
              "      <td>0</td>\n",
              "      <td>0</td>\n",
              "      <td>8.0500</td>\n",
              "      <td>S</td>\n",
              "      <td>Third</td>\n",
              "      <td>man</td>\n",
              "      <td>True</td>\n",
              "      <td>NaN</td>\n",
              "      <td>Southampton</td>\n",
              "      <td>no</td>\n",
              "      <td>True</td>\n",
              "    </tr>\n",
              "  </tbody>\n",
              "</table>\n",
              "</div>"
            ],
            "text/plain": [
              "   survived  pclass     sex   age  ...  deck  embark_town  alive  alone\n",
              "0         0       3    male  22.0  ...   NaN  Southampton     no  False\n",
              "1         1       1  female  38.0  ...     C    Cherbourg    yes  False\n",
              "2         1       3  female  26.0  ...   NaN  Southampton    yes   True\n",
              "3         1       1  female  35.0  ...     C  Southampton    yes  False\n",
              "4         0       3    male  35.0  ...   NaN  Southampton     no   True\n",
              "\n",
              "[5 rows x 15 columns]"
            ]
          },
          "metadata": {
            "tags": []
          },
          "execution_count": 4
        }
      ]
    },
    {
      "cell_type": "code",
      "metadata": {
        "hidden": true,
        "id": "dgTYBZGSKzvz"
      },
      "source": [
        "df.dropna(inplace=True)"
      ],
      "execution_count": 5,
      "outputs": []
    },
    {
      "cell_type": "code",
      "metadata": {
        "hidden": true,
        "id": "FKXtA8pxKzvz",
        "outputId": "3681b0a2-1998-4c37-82f6-a86002ca73a1",
        "colab": {
          "base_uri": "https://localhost:8080/"
        }
      },
      "source": [
        "df['pclass'].unique()"
      ],
      "execution_count": 6,
      "outputs": [
        {
          "output_type": "execute_result",
          "data": {
            "text/plain": [
              "array([1, 3, 2])"
            ]
          },
          "metadata": {
            "tags": []
          },
          "execution_count": 6
        }
      ]
    },
    {
      "cell_type": "code",
      "metadata": {
        "hidden": true,
        "id": "zeXy71wVKzv0",
        "outputId": "f7b2de42-ea74-4ffd-9ec5-920e73986ce9",
        "colab": {
          "base_uri": "https://localhost:8080/"
        }
      },
      "source": [
        "df['pclass'].value_counts()"
      ],
      "execution_count": 7,
      "outputs": [
        {
          "output_type": "execute_result",
          "data": {
            "text/plain": [
              "1    157\n",
              "2     15\n",
              "3     10\n",
              "Name: pclass, dtype: int64"
            ]
          },
          "metadata": {
            "tags": []
          },
          "execution_count": 7
        }
      ]
    },
    {
      "cell_type": "code",
      "metadata": {
        "hidden": true,
        "id": "2em2D72bKzv0",
        "outputId": "26320d04-628e-4891-ab3b-981700ec0a21",
        "colab": {
          "base_uri": "https://localhost:8080/"
        }
      },
      "source": [
        "df['sex'].unique()"
      ],
      "execution_count": 8,
      "outputs": [
        {
          "output_type": "execute_result",
          "data": {
            "text/plain": [
              "array(['female', 'male'], dtype=object)"
            ]
          },
          "metadata": {
            "tags": []
          },
          "execution_count": 8
        }
      ]
    },
    {
      "cell_type": "code",
      "metadata": {
        "hidden": true,
        "id": "XxyLw67rKzv0",
        "outputId": "17f2999f-2560-40d9-c365-9e467f97e9a1",
        "colab": {
          "base_uri": "https://localhost:8080/"
        }
      },
      "source": [
        "df['sex'].value_counts()"
      ],
      "execution_count": 9,
      "outputs": [
        {
          "output_type": "execute_result",
          "data": {
            "text/plain": [
              "male      94\n",
              "female    88\n",
              "Name: sex, dtype: int64"
            ]
          },
          "metadata": {
            "tags": []
          },
          "execution_count": 9
        }
      ]
    },
    {
      "cell_type": "code",
      "metadata": {
        "hidden": true,
        "id": "E--eMf0xKzv1",
        "outputId": "2d6697d9-7dd7-48c8-d4f6-0d1db8b56e35",
        "colab": {
          "base_uri": "https://localhost:8080/",
          "height": 265
        }
      },
      "source": [
        "df['age'].hist(bins=50);"
      ],
      "execution_count": 10,
      "outputs": [
        {
          "output_type": "display_data",
          "data": {
            "image/png": "[encoded data removed]",
            "text/plain": [
              "<Figure size 432x288 with 1 Axes>"
            ]
          },
          "metadata": {
            "tags": [],
            "needs_background": "light"
          }
        }
      ]
    },
    {
      "cell_type": "markdown",
      "metadata": {
        "heading_collapsed": true,
        "hidden": true,
        "id": "JnPwLCBGKzv2"
      },
      "source": [
        "## Data Pre-processing"
      ]
    },
    {
      "cell_type": "code",
      "metadata": {
        "hidden": true,
        "id": "bLkZNU2pKzv2"
      },
      "source": [
        "X = df[['pclass', 'sex', 'age']]"
      ],
      "execution_count": 11,
      "outputs": []
    },
    {
      "cell_type": "code",
      "metadata": {
        "hidden": true,
        "id": "FJ_aGfbAKzv2"
      },
      "source": [
        "from sklearn import preprocessing\n",
        "lb = preprocessing.LabelBinarizer()"
      ],
      "execution_count": 12,
      "outputs": []
    },
    {
      "cell_type": "code",
      "metadata": {
        "hidden": true,
        "id": "TamIL6W3Kzv3",
        "outputId": "4cf9321a-c65c-46fc-9e40-f4bb8fb97c11",
        "colab": {
          "base_uri": "https://localhost:8080/"
        }
      },
      "source": [
        "X['sex'] = lb.fit_transform(X['sex'])"
      ],
      "execution_count": 13,
      "outputs": [
        {
          "output_type": "stream",
          "text": [
            "/usr/local/lib/python3.7/dist-packages/ipykernel_launcher.py:1: SettingWithCopyWarning: \n",
            "A value is trying to be set on a copy of a slice from a DataFrame.\n",
            "Try using .loc[row_indexer,col_indexer] = value instead\n",
            "\n",
            "See the caveats in the documentation: https://pandas.pydata.org/pandas-docs/stable/user_guide/indexing.html#returning-a-view-versus-a-copy\n",
            "  \"\"\"Entry point for launching an IPython kernel.\n"
          ],
          "name": "stderr"
        }
      ]
    },
    {
      "cell_type": "code",
      "metadata": {
        "hidden": true,
        "id": "Ek7EOUL8Kzv3",
        "outputId": "a08156e4-857c-4c51-8e15-c5f550e0fae0",
        "colab": {
          "base_uri": "https://localhost:8080/",
          "height": 204
        }
      },
      "source": [
        "X.head()"
      ],
      "execution_count": 14,
      "outputs": [
        {
          "output_type": "execute_result",
          "data": {
            "text/html": [
              "<div>\n",
              "<style scoped>\n",
              "    .dataframe tbody tr th:only-of-type {\n",
              "        vertical-align: middle;\n",
              "    }\n",
              "\n",
              "    .dataframe tbody tr th {\n",
              "        vertical-align: top;\n",
              "    }\n",
              "\n",
              "    .dataframe thead th {\n",
              "        text-align: right;\n",
              "    }\n",
              "</style>\n",
              "<table border=\"1\" class=\"dataframe\">\n",
              "  <thead>\n",
              "    <tr style=\"text-align: right;\">\n",
              "      <th></th>\n",
              "      <th>pclass</th>\n",
              "      <th>sex</th>\n",
              "      <th>age</th>\n",
              "    </tr>\n",
              "  </thead>\n",
              "  <tbody>\n",
              "    <tr>\n",
              "      <th>1</th>\n",
              "      <td>1</td>\n",
              "      <td>0</td>\n",
              "      <td>38.0</td>\n",
              "    </tr>\n",
              "    <tr>\n",
              "      <th>3</th>\n",
              "      <td>1</td>\n",
              "      <td>0</td>\n",
              "      <td>35.0</td>\n",
              "    </tr>\n",
              "    <tr>\n",
              "      <th>6</th>\n",
              "      <td>1</td>\n",
              "      <td>1</td>\n",
              "      <td>54.0</td>\n",
              "    </tr>\n",
              "    <tr>\n",
              "      <th>10</th>\n",
              "      <td>3</td>\n",
              "      <td>0</td>\n",
              "      <td>4.0</td>\n",
              "    </tr>\n",
              "    <tr>\n",
              "      <th>11</th>\n",
              "      <td>1</td>\n",
              "      <td>0</td>\n",
              "      <td>58.0</td>\n",
              "    </tr>\n",
              "  </tbody>\n",
              "</table>\n",
              "</div>"
            ],
            "text/plain": [
              "    pclass  sex   age\n",
              "1        1    0  38.0\n",
              "3        1    0  35.0\n",
              "6        1    1  54.0\n",
              "10       3    0   4.0\n",
              "11       1    0  58.0"
            ]
          },
          "metadata": {
            "tags": []
          },
          "execution_count": 14
        }
      ]
    },
    {
      "cell_type": "code",
      "metadata": {
        "hidden": true,
        "id": "bYiVzSrJKzv4",
        "outputId": "5bebf5f4-2f57-440b-be7e-cff1dfffedc6",
        "colab": {
          "base_uri": "https://localhost:8080/"
        }
      },
      "source": [
        "X.shape"
      ],
      "execution_count": 15,
      "outputs": [
        {
          "output_type": "execute_result",
          "data": {
            "text/plain": [
              "(182, 3)"
            ]
          },
          "metadata": {
            "tags": []
          },
          "execution_count": 15
        }
      ]
    },
    {
      "cell_type": "code",
      "metadata": {
        "hidden": true,
        "id": "8qtVpROhKzv4",
        "outputId": "6db155ba-b59d-410c-d92e-c4581cb398d4",
        "colab": {
          "base_uri": "https://localhost:8080/",
          "height": 297
        }
      },
      "source": [
        "X.describe()"
      ],
      "execution_count": 16,
      "outputs": [
        {
          "output_type": "execute_result",
          "data": {
            "text/html": [
              "<div>\n",
              "<style scoped>\n",
              "    .dataframe tbody tr th:only-of-type {\n",
              "        vertical-align: middle;\n",
              "    }\n",
              "\n",
              "    .dataframe tbody tr th {\n",
              "        vertical-align: top;\n",
              "    }\n",
              "\n",
              "    .dataframe thead th {\n",
              "        text-align: right;\n",
              "    }\n",
              "</style>\n",
              "<table border=\"1\" class=\"dataframe\">\n",
              "  <thead>\n",
              "    <tr style=\"text-align: right;\">\n",
              "      <th></th>\n",
              "      <th>pclass</th>\n",
              "      <th>sex</th>\n",
              "      <th>age</th>\n",
              "    </tr>\n",
              "  </thead>\n",
              "  <tbody>\n",
              "    <tr>\n",
              "      <th>count</th>\n",
              "      <td>182.000000</td>\n",
              "      <td>182.000000</td>\n",
              "      <td>182.000000</td>\n",
              "    </tr>\n",
              "    <tr>\n",
              "      <th>mean</th>\n",
              "      <td>1.192308</td>\n",
              "      <td>0.516484</td>\n",
              "      <td>35.623187</td>\n",
              "    </tr>\n",
              "    <tr>\n",
              "      <th>std</th>\n",
              "      <td>0.516411</td>\n",
              "      <td>0.501107</td>\n",
              "      <td>15.671615</td>\n",
              "    </tr>\n",
              "    <tr>\n",
              "      <th>min</th>\n",
              "      <td>1.000000</td>\n",
              "      <td>0.000000</td>\n",
              "      <td>0.920000</td>\n",
              "    </tr>\n",
              "    <tr>\n",
              "      <th>25%</th>\n",
              "      <td>1.000000</td>\n",
              "      <td>0.000000</td>\n",
              "      <td>24.000000</td>\n",
              "    </tr>\n",
              "    <tr>\n",
              "      <th>50%</th>\n",
              "      <td>1.000000</td>\n",
              "      <td>1.000000</td>\n",
              "      <td>36.000000</td>\n",
              "    </tr>\n",
              "    <tr>\n",
              "      <th>75%</th>\n",
              "      <td>1.000000</td>\n",
              "      <td>1.000000</td>\n",
              "      <td>47.750000</td>\n",
              "    </tr>\n",
              "    <tr>\n",
              "      <th>max</th>\n",
              "      <td>3.000000</td>\n",
              "      <td>1.000000</td>\n",
              "      <td>80.000000</td>\n",
              "    </tr>\n",
              "  </tbody>\n",
              "</table>\n",
              "</div>"
            ],
            "text/plain": [
              "           pclass         sex         age\n",
              "count  182.000000  182.000000  182.000000\n",
              "mean     1.192308    0.516484   35.623187\n",
              "std      0.516411    0.501107   15.671615\n",
              "min      1.000000    0.000000    0.920000\n",
              "25%      1.000000    0.000000   24.000000\n",
              "50%      1.000000    1.000000   36.000000\n",
              "75%      1.000000    1.000000   47.750000\n",
              "max      3.000000    1.000000   80.000000"
            ]
          },
          "metadata": {
            "tags": []
          },
          "execution_count": 16
        }
      ]
    },
    {
      "cell_type": "code",
      "metadata": {
        "hidden": true,
        "id": "XSWpTRWAKzv4",
        "outputId": "af0ea26c-756d-400c-8c82-e2d632a8d5a0",
        "colab": {
          "base_uri": "https://localhost:8080/"
        }
      },
      "source": [
        "X.info()"
      ],
      "execution_count": 17,
      "outputs": [
        {
          "output_type": "stream",
          "text": [
            "<class 'pandas.core.frame.DataFrame'>\n",
            "Int64Index: 182 entries, 1 to 889\n",
            "Data columns (total 3 columns):\n",
            " #   Column  Non-Null Count  Dtype  \n",
            "---  ------  --------------  -----  \n",
            " 0   pclass  182 non-null    int64  \n",
            " 1   sex     182 non-null    int64  \n",
            " 2   age     182 non-null    float64\n",
            "dtypes: float64(1), int64(2)\n",
            "memory usage: 5.7 KB\n"
          ],
          "name": "stdout"
        }
      ]
    },
    {
      "cell_type": "code",
      "metadata": {
        "hidden": true,
        "id": "PiJ0WVbUKzv4"
      },
      "source": [
        "y = df['survived']"
      ],
      "execution_count": 18,
      "outputs": []
    },
    {
      "cell_type": "code",
      "metadata": {
        "hidden": true,
        "id": "oY0kfO32Kzv5",
        "outputId": "addc101c-e7d8-4c8b-b3c8-23594227bad8",
        "colab": {
          "base_uri": "https://localhost:8080/"
        }
      },
      "source": [
        "y.value_counts()"
      ],
      "execution_count": 19,
      "outputs": [
        {
          "output_type": "execute_result",
          "data": {
            "text/plain": [
              "1    123\n",
              "0     59\n",
              "Name: survived, dtype: int64"
            ]
          },
          "metadata": {
            "tags": []
          },
          "execution_count": 19
        }
      ]
    },
    {
      "cell_type": "code",
      "metadata": {
        "hidden": true,
        "id": "yNxMx8BjKzv5"
      },
      "source": [
        "from sklearn.tree import DecisionTreeClassifier\n",
        "from sklearn.ensemble import BaggingClassifier"
      ],
      "execution_count": 20,
      "outputs": []
    },
    {
      "cell_type": "code",
      "metadata": {
        "hidden": true,
        "id": "NchhKB5OKzv5"
      },
      "source": [
        "from sklearn.model_selection import train_test_split"
      ],
      "execution_count": 21,
      "outputs": []
    },
    {
      "cell_type": "code",
      "metadata": {
        "hidden": true,
        "id": "VoqBvTYJKzv5"
      },
      "source": [
        "X_train, X_test, y_train, y_test = train_test_split(X, y, test_size=0.3)"
      ],
      "execution_count": 22,
      "outputs": []
    },
    {
      "cell_type": "code",
      "metadata": {
        "hidden": true,
        "id": "HCk8PfdVKzv6"
      },
      "source": [
        "from sklearn import preprocessing\n",
        "from sklearn.model_selection import cross_val_score, cross_val_predict\n",
        "from sklearn.metrics import accuracy_score, classification_report\n",
        "from sklearn.metrics import confusion_matrix, roc_auc_score\n",
        "def print_score(clf, X_train, X_test, y_train, y_test, train=True):\n",
        "    '''\n",
        "    v0.1 Follow the scikit learn library format in terms of input\n",
        "    print the accuracy score, classification report and confusion matrix of classifier\n",
        "    '''\n",
        "    lb = preprocessing.LabelBinarizer()\n",
        "    lb.fit(y_train)\n",
        "    if train:\n",
        "        '''\n",
        "        training performance\n",
        "        '''\n",
        "        res = clf.predict(X_train)\n",
        "        print(\"Train Result:\\n\")\n",
        "        print(\"accuracy score: {0:.4f}\\n\".format(accuracy_score(y_train, \n",
        "                                                                res)))\n",
        "        print(\"Classification Report: \\n {}\\n\".format(classification_report(y_train, \n",
        "                                                                            res)))\n",
        "        print(\"Confusion Matrix: \\n {}\\n\".format(confusion_matrix(y_train, \n",
        "                                                                  res)))\n",
        "        print(\"ROC AUC: {0:.4f}\\n\".format(roc_auc_score(lb.transform(y_train), \n",
        "                                                      lb.transform(res))))\n",
        "\n",
        "        res = cross_val_score(clf, X_train, y_train, cv=10, scoring='accuracy')\n",
        "        print(\"Average Accuracy: \\t {0:.4f}\".format(np.mean(res)))\n",
        "        print(\"Accuracy SD: \\t\\t {0:.4f}\".format(np.std(res)))\n",
        "        \n",
        "    elif train==False:\n",
        "        '''\n",
        "        test performance\n",
        "        '''\n",
        "        res_test = clf.predict(X_test)\n",
        "        print(\"Test Result:\\n\")        \n",
        "        print(\"accuracy score: {0:.4f}\\n\".format(accuracy_score(y_test, \n",
        "                                                                res_test)))\n",
        "        print(\"Classification Report: \\n {}\\n\".format(classification_report(y_test, \n",
        "                                                                            res_test)))\n",
        "        print(\"Confusion Matrix: \\n {}\\n\".format(confusion_matrix(y_test, \n",
        "                                                                  res_test)))   \n",
        "        print(\"ROC AUC: {0:.4f}\\n\".format(roc_auc_score(lb.transform(y_test), \n",
        "                                                      lb.transform(res_test))))\n",
        "        "
      ],
      "execution_count": 23,
      "outputs": []
    },
    {
      "cell_type": "markdown",
      "metadata": {
        "heading_collapsed": true,
        "hidden": true,
        "id": "dsntf0YSKzv6"
      },
      "source": [
        "## Decision Tree"
      ]
    },
    {
      "cell_type": "code",
      "metadata": {
        "hidden": true,
        "id": "E4VBWLHxKzv6"
      },
      "source": [
        "clf = DecisionTreeClassifier(random_state=42)"
      ],
      "execution_count": 24,
      "outputs": []
    },
    {
      "cell_type": "code",
      "metadata": {
        "hidden": true,
        "id": "fNvJkBj3Kzv7",
        "outputId": "d9aee2d3-962e-4ca9-bd8c-f544b69744ea",
        "colab": {
          "base_uri": "https://localhost:8080/"
        }
      },
      "source": [
        "clf.fit(X_train, y_train)"
      ],
      "execution_count": 25,
      "outputs": [
        {
          "output_type": "execute_result",
          "data": {
            "text/plain": [
              "DecisionTreeClassifier(ccp_alpha=0.0, class_weight=None, criterion='gini',\n",
              "                       max_depth=None, max_features=None, max_leaf_nodes=None,\n",
              "                       min_impurity_decrease=0.0, min_impurity_split=None,\n",
              "                       min_samples_leaf=1, min_samples_split=2,\n",
              "                       min_weight_fraction_leaf=0.0, presort='deprecated',\n",
              "                       random_state=42, splitter='best')"
            ]
          },
          "metadata": {
            "tags": []
          },
          "execution_count": 25
        }
      ]
    },
    {
      "cell_type": "code",
      "metadata": {
        "hidden": true,
        "id": "arMzRXUPKzv7",
        "outputId": "62f9752c-5c6b-4096-f0da-6b12e5ddb8ae",
        "colab": {
          "base_uri": "https://localhost:8080/"
        }
      },
      "source": [
        "print_score(clf, X_train, X_test, y_train, y_test, train=True)\n",
        "print_score(clf, X_train, X_test, y_train, y_test, train=False)"
      ],
      "execution_count": 26,
      "outputs": [
        {
          "output_type": "stream",
          "text": [
            "Train Result:\n",
            "\n",
            "accuracy score: 0.9449\n",
            "\n",
            "Classification Report: \n",
            "               precision    recall  f1-score   support\n",
            "\n",
            "           0       0.91      0.93      0.92        42\n",
            "           1       0.96      0.95      0.96        85\n",
            "\n",
            "    accuracy                           0.94       127\n",
            "   macro avg       0.94      0.94      0.94       127\n",
            "weighted avg       0.95      0.94      0.95       127\n",
            "\n",
            "\n",
            "Confusion Matrix: \n",
            " [[39  3]\n",
            " [ 4 81]]\n",
            "\n",
            "ROC AUC: 0.9408\n",
            "\n",
            "Average Accuracy: \t 0.7481\n",
            "Accuracy SD: \t\t 0.0835\n",
            "Test Result:\n",
            "\n",
            "accuracy score: 0.7455\n",
            "\n",
            "Classification Report: \n",
            "               precision    recall  f1-score   support\n",
            "\n",
            "           0       0.59      0.59      0.59        17\n",
            "           1       0.82      0.82      0.82        38\n",
            "\n",
            "    accuracy                           0.75        55\n",
            "   macro avg       0.70      0.70      0.70        55\n",
            "weighted avg       0.75      0.75      0.75        55\n",
            "\n",
            "\n",
            "Confusion Matrix: \n",
            " [[10  7]\n",
            " [ 7 31]]\n",
            "\n",
            "ROC AUC: 0.7020\n",
            "\n"
          ],
          "name": "stdout"
        }
      ]
    },
    {
      "cell_type": "markdown",
      "metadata": {
        "hidden": true,
        "id": "H4wM8aPXKzv7"
      },
      "source": [
        "***"
      ]
    },
    {
      "cell_type": "markdown",
      "metadata": {
        "heading_collapsed": true,
        "hidden": true,
        "id": "tXbznTwVKzv7"
      },
      "source": [
        "## Bagging (oob_score=False)"
      ]
    },
    {
      "cell_type": "code",
      "metadata": {
        "hidden": true,
        "id": "7VVZOfeCKzv8"
      },
      "source": [
        "bag_clf = BaggingClassifier(base_estimator=clf, n_estimators=1000,\n",
        "                            bootstrap=True, n_jobs=-1,\n",
        "                            random_state=42)"
      ],
      "execution_count": 27,
      "outputs": []
    },
    {
      "cell_type": "code",
      "metadata": {
        "hidden": true,
        "id": "sdGedEsBKzv8",
        "outputId": "0c5ebb10-4257-49a8-a982-5abb0e6017d0",
        "colab": {
          "base_uri": "https://localhost:8080/"
        }
      },
      "source": [
        "bag_clf.fit(X_train, y_train)"
      ],
      "execution_count": 28,
      "outputs": [
        {
          "output_type": "execute_result",
          "data": {
            "text/plain": [
              "BaggingClassifier(base_estimator=DecisionTreeClassifier(ccp_alpha=0.0,\n",
              "                                                        class_weight=None,\n",
              "                                                        criterion='gini',\n",
              "                                                        max_depth=None,\n",
              "                                                        max_features=None,\n",
              "                                                        max_leaf_nodes=None,\n",
              "                                                        min_impurity_decrease=0.0,\n",
              "                                                        min_impurity_split=None,\n",
              "                                                        min_samples_leaf=1,\n",
              "                                                        min_samples_split=2,\n",
              "                                                        min_weight_fraction_leaf=0.0,\n",
              "                                                        presort='deprecated',\n",
              "                                                        random_state=42,\n",
              "                                                        splitter='best'),\n",
              "                  bootstrap=True, bootstrap_features=False, max_features=1.0,\n",
              "                  max_samples=1.0, n_estimators=1000, n_jobs=-1,\n",
              "                  oob_score=False, random_state=42, verbose=0,\n",
              "                  warm_start=False)"
            ]
          },
          "metadata": {
            "tags": []
          },
          "execution_count": 28
        }
      ]
    },
    {
      "cell_type": "code",
      "metadata": {
        "hidden": true,
        "id": "0093dxNeKzv8",
        "outputId": "179d2648-4321-4219-9582-37b80a72345a",
        "colab": {
          "base_uri": "https://localhost:8080/"
        }
      },
      "source": [
        "print_score(clf, X_train, X_test, y_train, y_test, train=True)\n",
        "print_score(clf, X_train, X_test, y_train, y_test, train=False)"
      ],
      "execution_count": 29,
      "outputs": [
        {
          "output_type": "stream",
          "text": [
            "Train Result:\n",
            "\n",
            "accuracy score: 0.9449\n",
            "\n",
            "Classification Report: \n",
            "               precision    recall  f1-score   support\n",
            "\n",
            "           0       0.91      0.93      0.92        42\n",
            "           1       0.96      0.95      0.96        85\n",
            "\n",
            "    accuracy                           0.94       127\n",
            "   macro avg       0.94      0.94      0.94       127\n",
            "weighted avg       0.95      0.94      0.95       127\n",
            "\n",
            "\n",
            "Confusion Matrix: \n",
            " [[39  3]\n",
            " [ 4 81]]\n",
            "\n",
            "ROC AUC: 0.9408\n",
            "\n",
            "Average Accuracy: \t 0.7481\n",
            "Accuracy SD: \t\t 0.0835\n",
            "Test Result:\n",
            "\n",
            "accuracy score: 0.7455\n",
            "\n",
            "Classification Report: \n",
            "               precision    recall  f1-score   support\n",
            "\n",
            "           0       0.59      0.59      0.59        17\n",
            "           1       0.82      0.82      0.82        38\n",
            "\n",
            "    accuracy                           0.75        55\n",
            "   macro avg       0.70      0.70      0.70        55\n",
            "weighted avg       0.75      0.75      0.75        55\n",
            "\n",
            "\n",
            "Confusion Matrix: \n",
            " [[10  7]\n",
            " [ 7 31]]\n",
            "\n",
            "ROC AUC: 0.7020\n",
            "\n"
          ],
          "name": "stdout"
        }
      ]
    },
    {
      "cell_type": "markdown",
      "metadata": {
        "hidden": true,
        "id": "g_s7M7uxKzv8"
      },
      "source": [
        "***"
      ]
    },
    {
      "cell_type": "markdown",
      "metadata": {
        "heading_collapsed": true,
        "hidden": true,
        "id": "cEXASrpeKzv9"
      },
      "source": [
        "## Bagging (oob_score=True)"
      ]
    },
    {
      "cell_type": "markdown",
      "metadata": {
        "hidden": true,
        "id": "jISjosZGKzv9"
      },
      "source": [
        "\n",
        "\n",
        "Use out-of-bag samples to estimate the generalization accuracy"
      ]
    },
    {
      "cell_type": "code",
      "metadata": {
        "hidden": true,
        "id": "TOql6MU_Kzv9"
      },
      "source": [
        "bag_clf = BaggingClassifier(base_estimator=clf, n_estimators=1000,\n",
        "                            bootstrap=True, oob_score=True,\n",
        "                            n_jobs=-1, random_state=42)"
      ],
      "execution_count": 30,
      "outputs": []
    },
    {
      "cell_type": "code",
      "metadata": {
        "hidden": true,
        "id": "G_yhA-QGKzv9",
        "outputId": "a543deb2-fccc-45f1-8764-7746bba9ee44",
        "colab": {
          "base_uri": "https://localhost:8080/"
        }
      },
      "source": [
        "bag_clf.fit(X_train, y_train)"
      ],
      "execution_count": 31,
      "outputs": [
        {
          "output_type": "execute_result",
          "data": {
            "text/plain": [
              "BaggingClassifier(base_estimator=DecisionTreeClassifier(ccp_alpha=0.0,\n",
              "                                                        class_weight=None,\n",
              "                                                        criterion='gini',\n",
              "                                                        max_depth=None,\n",
              "                                                        max_features=None,\n",
              "                                                        max_leaf_nodes=None,\n",
              "                                                        min_impurity_decrease=0.0,\n",
              "                                                        min_impurity_split=None,\n",
              "                                                        min_samples_leaf=1,\n",
              "                                                        min_samples_split=2,\n",
              "                                                        min_weight_fraction_leaf=0.0,\n",
              "                                                        presort='deprecated',\n",
              "                                                        random_state=42,\n",
              "                                                        splitter='best'),\n",
              "                  bootstrap=True, bootstrap_features=False, max_features=1.0,\n",
              "                  max_samples=1.0, n_estimators=1000, n_jobs=-1, oob_score=True,\n",
              "                  random_state=42, verbose=0, warm_start=False)"
            ]
          },
          "metadata": {
            "tags": []
          },
          "execution_count": 31
        }
      ]
    },
    {
      "cell_type": "code",
      "metadata": {
        "hidden": true,
        "id": "BOeVtVEVKzv-",
        "outputId": "0d749c15-f323-4cd2-d833-4898377e41ff",
        "colab": {
          "base_uri": "https://localhost:8080/"
        }
      },
      "source": [
        "bag_clf.oob_score_"
      ],
      "execution_count": 32,
      "outputs": [
        {
          "output_type": "execute_result",
          "data": {
            "text/plain": [
              "0.7480314960629921"
            ]
          },
          "metadata": {
            "tags": []
          },
          "execution_count": 32
        }
      ]
    },
    {
      "cell_type": "code",
      "metadata": {
        "hidden": true,
        "id": "_AmT5XQaKzv-",
        "outputId": "fb2cd921-a64e-45c6-8efe-2fcb995ffa0e",
        "colab": {
          "base_uri": "https://localhost:8080/"
        }
      },
      "source": [
        "print_score(clf, X_train, X_test, y_train, y_test, train=True)\n",
        "print_score(clf, X_train, X_test, y_train, y_test, train=False)"
      ],
      "execution_count": 33,
      "outputs": [
        {
          "output_type": "stream",
          "text": [
            "Train Result:\n",
            "\n",
            "accuracy score: 0.9449\n",
            "\n",
            "Classification Report: \n",
            "               precision    recall  f1-score   support\n",
            "\n",
            "           0       0.91      0.93      0.92        42\n",
            "           1       0.96      0.95      0.96        85\n",
            "\n",
            "    accuracy                           0.94       127\n",
            "   macro avg       0.94      0.94      0.94       127\n",
            "weighted avg       0.95      0.94      0.95       127\n",
            "\n",
            "\n",
            "Confusion Matrix: \n",
            " [[39  3]\n",
            " [ 4 81]]\n",
            "\n",
            "ROC AUC: 0.9408\n",
            "\n",
            "Average Accuracy: \t 0.7481\n",
            "Accuracy SD: \t\t 0.0835\n",
            "Test Result:\n",
            "\n",
            "accuracy score: 0.7455\n",
            "\n",
            "Classification Report: \n",
            "               precision    recall  f1-score   support\n",
            "\n",
            "           0       0.59      0.59      0.59        17\n",
            "           1       0.82      0.82      0.82        38\n",
            "\n",
            "    accuracy                           0.75        55\n",
            "   macro avg       0.70      0.70      0.70        55\n",
            "weighted avg       0.75      0.75      0.75        55\n",
            "\n",
            "\n",
            "Confusion Matrix: \n",
            " [[10  7]\n",
            " [ 7 31]]\n",
            "\n",
            "ROC AUC: 0.7020\n",
            "\n"
          ],
          "name": "stdout"
        }
      ]
    },
    {
      "cell_type": "markdown",
      "metadata": {
        "hidden": true,
        "id": "I_21258MKzv-"
      },
      "source": [
        "***"
      ]
    },
    {
      "cell_type": "markdown",
      "metadata": {
        "id": "mQGUVp60Kzv-"
      },
      "source": [
        "# Bagging ML Algo - RF & Extra-Trees"
      ]
    },
    {
      "cell_type": "markdown",
      "metadata": {
        "heading_collapsed": true,
        "id": "5O5BI2GJKzv_"
      },
      "source": [
        "## **B**ootstrap **Agg**regat**ing** or [Bagging]"
      ]
    },
    {
      "cell_type": "markdown",
      "metadata": {
        "collapsed": true,
        "hidden": true,
        "id": "17-Uc4KAKzv_"
      },
      "source": [
        "(https://en.wikipedia.org/wiki/Bootstrap_aggregating)\n",
        "* [Scikit- Learn Reference](http://scikit-learn.org/stable/modules/ensemble.html#bagging)\n",
        "* Bootstrap sampling: Sampling with replacement\n",
        "* Combine by averaging the output (regression)\n",
        "* Combine by voting (classification)\n",
        "* Can be applied to many classifiers which includes ANN, CART, etc."
      ]
    },
    {
      "cell_type": "code",
      "metadata": {
        "hidden": true,
        "id": "NjRfGw4BKzv_"
      },
      "source": [
        "import numpy as np\n",
        "import seaborn as sns\n",
        "import matplotlib.pyplot as plt\n",
        "%matplotlib inline\n",
        "import pandas as pd"
      ],
      "execution_count": 34,
      "outputs": []
    },
    {
      "cell_type": "code",
      "metadata": {
        "hidden": true,
        "id": "Hpkjbc_KKzwA"
      },
      "source": [
        "df = sns.load_dataset('titanic')"
      ],
      "execution_count": 35,
      "outputs": []
    },
    {
      "cell_type": "code",
      "metadata": {
        "hidden": true,
        "id": "5fbQXG_iKzwA",
        "outputId": "1f8d7f13-54ee-41e6-b5af-496a8b1e47ab",
        "colab": {
          "base_uri": "https://localhost:8080/"
        }
      },
      "source": [
        "df.shape"
      ],
      "execution_count": 36,
      "outputs": [
        {
          "output_type": "execute_result",
          "data": {
            "text/plain": [
              "(891, 15)"
            ]
          },
          "metadata": {
            "tags": []
          },
          "execution_count": 36
        }
      ]
    },
    {
      "cell_type": "code",
      "metadata": {
        "hidden": true,
        "id": "6AKqIjC5KzwA",
        "outputId": "b698d2e4-837d-4dff-da48-6e07157c56fb",
        "colab": {
          "base_uri": "https://localhost:8080/",
          "height": 204
        }
      },
      "source": [
        "df.head()"
      ],
      "execution_count": 37,
      "outputs": [
        {
          "output_type": "execute_result",
          "data": {
            "text/html": [
              "<div>\n",
              "<style scoped>\n",
              "    .dataframe tbody tr th:only-of-type {\n",
              "        vertical-align: middle;\n",
              "    }\n",
              "\n",
              "    .dataframe tbody tr th {\n",
              "        vertical-align: top;\n",
              "    }\n",
              "\n",
              "    .dataframe thead th {\n",
              "        text-align: right;\n",
              "    }\n",
              "</style>\n",
              "<table border=\"1\" class=\"dataframe\">\n",
              "  <thead>\n",
              "    <tr style=\"text-align: right;\">\n",
              "      <th></th>\n",
              "      <th>survived</th>\n",
              "      <th>pclass</th>\n",
              "      <th>sex</th>\n",
              "      <th>age</th>\n",
              "      <th>sibsp</th>\n",
              "      <th>parch</th>\n",
              "      <th>fare</th>\n",
              "      <th>embarked</th>\n",
              "      <th>class</th>\n",
              "      <th>who</th>\n",
              "      <th>adult_male</th>\n",
              "      <th>deck</th>\n",
              "      <th>embark_town</th>\n",
              "      <th>alive</th>\n",
              "      <th>alone</th>\n",
              "    </tr>\n",
              "  </thead>\n",
              "  <tbody>\n",
              "    <tr>\n",
              "      <th>0</th>\n",
              "      <td>0</td>\n",
              "      <td>3</td>\n",
              "      <td>male</td>\n",
              "      <td>22.0</td>\n",
              "      <td>1</td>\n",
              "      <td>0</td>\n",
              "      <td>7.2500</td>\n",
              "      <td>S</td>\n",
              "      <td>Third</td>\n",
              "      <td>man</td>\n",
              "      <td>True</td>\n",
              "      <td>NaN</td>\n",
              "      <td>Southampton</td>\n",
              "      <td>no</td>\n",
              "      <td>False</td>\n",
              "    </tr>\n",
              "    <tr>\n",
              "      <th>1</th>\n",
              "      <td>1</td>\n",
              "      <td>1</td>\n",
              "      <td>female</td>\n",
              "      <td>38.0</td>\n",
              "      <td>1</td>\n",
              "      <td>0</td>\n",
              "      <td>71.2833</td>\n",
              "      <td>C</td>\n",
              "      <td>First</td>\n",
              "      <td>woman</td>\n",
              "      <td>False</td>\n",
              "      <td>C</td>\n",
              "      <td>Cherbourg</td>\n",
              "      <td>yes</td>\n",
              "      <td>False</td>\n",
              "    </tr>\n",
              "    <tr>\n",
              "      <th>2</th>\n",
              "      <td>1</td>\n",
              "      <td>3</td>\n",
              "      <td>female</td>\n",
              "      <td>26.0</td>\n",
              "      <td>0</td>\n",
              "      <td>0</td>\n",
              "      <td>7.9250</td>\n",
              "      <td>S</td>\n",
              "      <td>Third</td>\n",
              "      <td>woman</td>\n",
              "      <td>False</td>\n",
              "      <td>NaN</td>\n",
              "      <td>Southampton</td>\n",
              "      <td>yes</td>\n",
              "      <td>True</td>\n",
              "    </tr>\n",
              "    <tr>\n",
              "      <th>3</th>\n",
              "      <td>1</td>\n",
              "      <td>1</td>\n",
              "      <td>female</td>\n",
              "      <td>35.0</td>\n",
              "      <td>1</td>\n",
              "      <td>0</td>\n",
              "      <td>53.1000</td>\n",
              "      <td>S</td>\n",
              "      <td>First</td>\n",
              "      <td>woman</td>\n",
              "      <td>False</td>\n",
              "      <td>C</td>\n",
              "      <td>Southampton</td>\n",
              "      <td>yes</td>\n",
              "      <td>False</td>\n",
              "    </tr>\n",
              "    <tr>\n",
              "      <th>4</th>\n",
              "      <td>0</td>\n",
              "      <td>3</td>\n",
              "      <td>male</td>\n",
              "      <td>35.0</td>\n",
              "      <td>0</td>\n",
              "      <td>0</td>\n",
              "      <td>8.0500</td>\n",
              "      <td>S</td>\n",
              "      <td>Third</td>\n",
              "      <td>man</td>\n",
              "      <td>True</td>\n",
              "      <td>NaN</td>\n",
              "      <td>Southampton</td>\n",
              "      <td>no</td>\n",
              "      <td>True</td>\n",
              "    </tr>\n",
              "  </tbody>\n",
              "</table>\n",
              "</div>"
            ],
            "text/plain": [
              "   survived  pclass     sex   age  ...  deck  embark_town  alive  alone\n",
              "0         0       3    male  22.0  ...   NaN  Southampton     no  False\n",
              "1         1       1  female  38.0  ...     C    Cherbourg    yes  False\n",
              "2         1       3  female  26.0  ...   NaN  Southampton    yes   True\n",
              "3         1       1  female  35.0  ...     C  Southampton    yes  False\n",
              "4         0       3    male  35.0  ...   NaN  Southampton     no   True\n",
              "\n",
              "[5 rows x 15 columns]"
            ]
          },
          "metadata": {
            "tags": []
          },
          "execution_count": 37
        }
      ]
    },
    {
      "cell_type": "code",
      "metadata": {
        "hidden": true,
        "id": "UQdSY_EYKzwA"
      },
      "source": [
        "df.dropna(inplace=True)"
      ],
      "execution_count": 38,
      "outputs": []
    },
    {
      "cell_type": "code",
      "metadata": {
        "hidden": true,
        "id": "-M_wbzQrKzwB",
        "outputId": "912f8dc7-6a6b-4434-df6b-af73744fa367",
        "colab": {
          "base_uri": "https://localhost:8080/"
        }
      },
      "source": [
        "df['pclass'].unique()"
      ],
      "execution_count": 39,
      "outputs": [
        {
          "output_type": "execute_result",
          "data": {
            "text/plain": [
              "array([1, 3, 2])"
            ]
          },
          "metadata": {
            "tags": []
          },
          "execution_count": 39
        }
      ]
    },
    {
      "cell_type": "code",
      "metadata": {
        "hidden": true,
        "id": "xffMATgnKzwB",
        "outputId": "599809cc-4279-44be-bc93-8acb9af3b4b4",
        "colab": {
          "base_uri": "https://localhost:8080/"
        }
      },
      "source": [
        "df['pclass'].value_counts()"
      ],
      "execution_count": 40,
      "outputs": [
        {
          "output_type": "execute_result",
          "data": {
            "text/plain": [
              "1    157\n",
              "2     15\n",
              "3     10\n",
              "Name: pclass, dtype: int64"
            ]
          },
          "metadata": {
            "tags": []
          },
          "execution_count": 40
        }
      ]
    },
    {
      "cell_type": "code",
      "metadata": {
        "hidden": true,
        "id": "EymFEGoEKzwB",
        "outputId": "22185e1e-24d3-4704-95a4-610dcb1a12ea",
        "colab": {
          "base_uri": "https://localhost:8080/"
        }
      },
      "source": [
        "df['sex'].unique()"
      ],
      "execution_count": 41,
      "outputs": [
        {
          "output_type": "execute_result",
          "data": {
            "text/plain": [
              "array(['female', 'male'], dtype=object)"
            ]
          },
          "metadata": {
            "tags": []
          },
          "execution_count": 41
        }
      ]
    },
    {
      "cell_type": "code",
      "metadata": {
        "hidden": true,
        "id": "O81o6Wj5KzwC",
        "outputId": "3ed49846-e8e6-45e2-af61-a1e31577b7c0",
        "colab": {
          "base_uri": "https://localhost:8080/"
        }
      },
      "source": [
        "df['sex'].value_counts()"
      ],
      "execution_count": 42,
      "outputs": [
        {
          "output_type": "execute_result",
          "data": {
            "text/plain": [
              "male      94\n",
              "female    88\n",
              "Name: sex, dtype: int64"
            ]
          },
          "metadata": {
            "tags": []
          },
          "execution_count": 42
        }
      ]
    },
    {
      "cell_type": "code",
      "metadata": {
        "hidden": true,
        "id": "fC9_6rvnKzwC",
        "outputId": "6da7e608-35b8-4f4c-be8a-03efad3a6d0d",
        "colab": {
          "base_uri": "https://localhost:8080/",
          "height": 265
        }
      },
      "source": [
        "df['age'].hist(bins=50);"
      ],
      "execution_count": 43,
      "outputs": [
        {
          "output_type": "display_data",
          "data": {
            "image/png": "[encoded data removed]",
            "text/plain": [
              "<Figure size 432x288 with 1 Axes>"
            ]
          },
          "metadata": {
            "tags": [],
            "needs_background": "light"
          }
        }
      ]
    },
    {
      "cell_type": "markdown",
      "metadata": {
        "heading_collapsed": true,
        "id": "7FyJO7ahKzwD"
      },
      "source": [
        "## Data Pre-processing"
      ]
    },
    {
      "cell_type": "code",
      "metadata": {
        "hidden": true,
        "id": "oi1tb-RzKzwD"
      },
      "source": [
        "X = df[['pclass', 'sex', 'age']]"
      ],
      "execution_count": 44,
      "outputs": []
    },
    {
      "cell_type": "code",
      "metadata": {
        "hidden": true,
        "id": "bVbxGOByKzwD"
      },
      "source": [
        "from sklearn import preprocessing\n",
        "lb = preprocessing.LabelBinarizer()"
      ],
      "execution_count": 45,
      "outputs": []
    },
    {
      "cell_type": "code",
      "metadata": {
        "hidden": true,
        "id": "uNYAVHjSKzwE",
        "outputId": "a844857b-559e-4ad4-f140-0d2086e645ef",
        "colab": {
          "base_uri": "https://localhost:8080/"
        }
      },
      "source": [
        "X['sex'] = lb.fit_transform(X['sex'])"
      ],
      "execution_count": 46,
      "outputs": [
        {
          "output_type": "stream",
          "text": [
            "/usr/local/lib/python3.7/dist-packages/ipykernel_launcher.py:1: SettingWithCopyWarning: \n",
            "A value is trying to be set on a copy of a slice from a DataFrame.\n",
            "Try using .loc[row_indexer,col_indexer] = value instead\n",
            "\n",
            "See the caveats in the documentation: https://pandas.pydata.org/pandas-docs/stable/user_guide/indexing.html#returning-a-view-versus-a-copy\n",
            "  \"\"\"Entry point for launching an IPython kernel.\n"
          ],
          "name": "stderr"
        }
      ]
    },
    {
      "cell_type": "code",
      "metadata": {
        "hidden": true,
        "id": "b-EFXmdoKzwE",
        "outputId": "77f37940-5e70-45eb-9b9b-20241d4b76e0",
        "colab": {
          "base_uri": "https://localhost:8080/",
          "height": 204
        }
      },
      "source": [
        "X.head()"
      ],
      "execution_count": 47,
      "outputs": [
        {
          "output_type": "execute_result",
          "data": {
            "text/html": [
              "<div>\n",
              "<style scoped>\n",
              "    .dataframe tbody tr th:only-of-type {\n",
              "        vertical-align: middle;\n",
              "    }\n",
              "\n",
              "    .dataframe tbody tr th {\n",
              "        vertical-align: top;\n",
              "    }\n",
              "\n",
              "    .dataframe thead th {\n",
              "        text-align: right;\n",
              "    }\n",
              "</style>\n",
              "<table border=\"1\" class=\"dataframe\">\n",
              "  <thead>\n",
              "    <tr style=\"text-align: right;\">\n",
              "      <th></th>\n",
              "      <th>pclass</th>\n",
              "      <th>sex</th>\n",
              "      <th>age</th>\n",
              "    </tr>\n",
              "  </thead>\n",
              "  <tbody>\n",
              "    <tr>\n",
              "      <th>1</th>\n",
              "      <td>1</td>\n",
              "      <td>0</td>\n",
              "      <td>38.0</td>\n",
              "    </tr>\n",
              "    <tr>\n",
              "      <th>3</th>\n",
              "      <td>1</td>\n",
              "      <td>0</td>\n",
              "      <td>35.0</td>\n",
              "    </tr>\n",
              "    <tr>\n",
              "      <th>6</th>\n",
              "      <td>1</td>\n",
              "      <td>1</td>\n",
              "      <td>54.0</td>\n",
              "    </tr>\n",
              "    <tr>\n",
              "      <th>10</th>\n",
              "      <td>3</td>\n",
              "      <td>0</td>\n",
              "      <td>4.0</td>\n",
              "    </tr>\n",
              "    <tr>\n",
              "      <th>11</th>\n",
              "      <td>1</td>\n",
              "      <td>0</td>\n",
              "      <td>58.0</td>\n",
              "    </tr>\n",
              "  </tbody>\n",
              "</table>\n",
              "</div>"
            ],
            "text/plain": [
              "    pclass  sex   age\n",
              "1        1    0  38.0\n",
              "3        1    0  35.0\n",
              "6        1    1  54.0\n",
              "10       3    0   4.0\n",
              "11       1    0  58.0"
            ]
          },
          "metadata": {
            "tags": []
          },
          "execution_count": 47
        }
      ]
    },
    {
      "cell_type": "code",
      "metadata": {
        "hidden": true,
        "id": "zHNgR--aKzwE",
        "outputId": "31780889-4e68-4d8f-b565-2ebe5218200c",
        "colab": {
          "base_uri": "https://localhost:8080/"
        }
      },
      "source": [
        "X.shape"
      ],
      "execution_count": 48,
      "outputs": [
        {
          "output_type": "execute_result",
          "data": {
            "text/plain": [
              "(182, 3)"
            ]
          },
          "metadata": {
            "tags": []
          },
          "execution_count": 48
        }
      ]
    },
    {
      "cell_type": "code",
      "metadata": {
        "hidden": true,
        "id": "Tp7e7x1GKzwE",
        "outputId": "a2fdcaab-98a5-41ee-f82b-8948fcbe8e4d",
        "colab": {
          "base_uri": "https://localhost:8080/",
          "height": 297
        }
      },
      "source": [
        "X.describe()"
      ],
      "execution_count": 49,
      "outputs": [
        {
          "output_type": "execute_result",
          "data": {
            "text/html": [
              "<div>\n",
              "<style scoped>\n",
              "    .dataframe tbody tr th:only-of-type {\n",
              "        vertical-align: middle;\n",
              "    }\n",
              "\n",
              "    .dataframe tbody tr th {\n",
              "        vertical-align: top;\n",
              "    }\n",
              "\n",
              "    .dataframe thead th {\n",
              "        text-align: right;\n",
              "    }\n",
              "</style>\n",
              "<table border=\"1\" class=\"dataframe\">\n",
              "  <thead>\n",
              "    <tr style=\"text-align: right;\">\n",
              "      <th></th>\n",
              "      <th>pclass</th>\n",
              "      <th>sex</th>\n",
              "      <th>age</th>\n",
              "    </tr>\n",
              "  </thead>\n",
              "  <tbody>\n",
              "    <tr>\n",
              "      <th>count</th>\n",
              "      <td>182.000000</td>\n",
              "      <td>182.000000</td>\n",
              "      <td>182.000000</td>\n",
              "    </tr>\n",
              "    <tr>\n",
              "      <th>mean</th>\n",
              "      <td>1.192308</td>\n",
              "      <td>0.516484</td>\n",
              "      <td>35.623187</td>\n",
              "    </tr>\n",
              "    <tr>\n",
              "      <th>std</th>\n",
              "      <td>0.516411</td>\n",
              "      <td>0.501107</td>\n",
              "      <td>15.671615</td>\n",
              "    </tr>\n",
              "    <tr>\n",
              "      <th>min</th>\n",
              "      <td>1.000000</td>\n",
              "      <td>0.000000</td>\n",
              "      <td>0.920000</td>\n",
              "    </tr>\n",
              "    <tr>\n",
              "      <th>25%</th>\n",
              "      <td>1.000000</td>\n",
              "      <td>0.000000</td>\n",
              "      <td>24.000000</td>\n",
              "    </tr>\n",
              "    <tr>\n",
              "      <th>50%</th>\n",
              "      <td>1.000000</td>\n",
              "      <td>1.000000</td>\n",
              "      <td>36.000000</td>\n",
              "    </tr>\n",
              "    <tr>\n",
              "      <th>75%</th>\n",
              "      <td>1.000000</td>\n",
              "      <td>1.000000</td>\n",
              "      <td>47.750000</td>\n",
              "    </tr>\n",
              "    <tr>\n",
              "      <th>max</th>\n",
              "      <td>3.000000</td>\n",
              "      <td>1.000000</td>\n",
              "      <td>80.000000</td>\n",
              "    </tr>\n",
              "  </tbody>\n",
              "</table>\n",
              "</div>"
            ],
            "text/plain": [
              "           pclass         sex         age\n",
              "count  182.000000  182.000000  182.000000\n",
              "mean     1.192308    0.516484   35.623187\n",
              "std      0.516411    0.501107   15.671615\n",
              "min      1.000000    0.000000    0.920000\n",
              "25%      1.000000    0.000000   24.000000\n",
              "50%      1.000000    1.000000   36.000000\n",
              "75%      1.000000    1.000000   47.750000\n",
              "max      3.000000    1.000000   80.000000"
            ]
          },
          "metadata": {
            "tags": []
          },
          "execution_count": 49
        }
      ]
    },
    {
      "cell_type": "code",
      "metadata": {
        "hidden": true,
        "id": "WybyUSSDKzwF",
        "outputId": "8086f045-3a54-4b44-d7bc-aa29f6eb8321",
        "colab": {
          "base_uri": "https://localhost:8080/"
        }
      },
      "source": [
        "X.info()"
      ],
      "execution_count": 50,
      "outputs": [
        {
          "output_type": "stream",
          "text": [
            "<class 'pandas.core.frame.DataFrame'>\n",
            "Int64Index: 182 entries, 1 to 889\n",
            "Data columns (total 3 columns):\n",
            " #   Column  Non-Null Count  Dtype  \n",
            "---  ------  --------------  -----  \n",
            " 0   pclass  182 non-null    int64  \n",
            " 1   sex     182 non-null    int64  \n",
            " 2   age     182 non-null    float64\n",
            "dtypes: float64(1), int64(2)\n",
            "memory usage: 5.7 KB\n"
          ],
          "name": "stdout"
        }
      ]
    },
    {
      "cell_type": "code",
      "metadata": {
        "hidden": true,
        "id": "Ab6RzKiLKzwF"
      },
      "source": [
        "y = df['survived']"
      ],
      "execution_count": 51,
      "outputs": []
    },
    {
      "cell_type": "code",
      "metadata": {
        "hidden": true,
        "id": "0vFDQFjqKzwF",
        "outputId": "51989201-291e-4aaa-e98a-a278872e1c9b",
        "colab": {
          "base_uri": "https://localhost:8080/"
        }
      },
      "source": [
        "y.value_counts()"
      ],
      "execution_count": 52,
      "outputs": [
        {
          "output_type": "execute_result",
          "data": {
            "text/plain": [
              "1    123\n",
              "0     59\n",
              "Name: survived, dtype: int64"
            ]
          },
          "metadata": {
            "tags": []
          },
          "execution_count": 52
        }
      ]
    },
    {
      "cell_type": "markdown",
      "metadata": {
        "hidden": true,
        "id": "Q1GHIxzPKzwG"
      },
      "source": [
        "***"
      ]
    },
    {
      "cell_type": "markdown",
      "metadata": {
        "heading_collapsed": true,
        "id": "tYw_4uKuKzwG"
      },
      "source": [
        "## Random Forest"
      ]
    },
    {
      "cell_type": "markdown",
      "metadata": {
        "hidden": true,
        "id": "oWwAfOr5KzwG"
      },
      "source": [
        "[paper](http://ect.bell-labs.com/who/tkh/publications/papers/odt.pdf)\n",
        "\n",
        "* Ensemble of Decision Trees\n",
        "\n",
        "* Training via the bagging method (Repeated sampling with replacement)\n",
        "  * Bagging: Sample from samples\n",
        "  * RF: Sample from predictors. $m=sqrt(p)$ for classification and $m=p/3$ for regression problems.\n",
        "\n",
        "* Utilise uncorrelated trees"
      ]
    },
    {
      "cell_type": "markdown",
      "metadata": {
        "hidden": true,
        "id": "3TRD-32OKzwG"
      },
      "source": [
        "Random Forest\n",
        "* Sample both observations and features of training data\n",
        "\n",
        "Bagging\n",
        "* Samples only observations at random\n",
        "* Decision Tree select best feature when splitting a node"
      ]
    },
    {
      "cell_type": "code",
      "metadata": {
        "hidden": true,
        "id": "W-WKEY_3KzwH"
      },
      "source": [
        "from sklearn.ensemble import RandomForestClassifier"
      ],
      "execution_count": 53,
      "outputs": []
    },
    {
      "cell_type": "code",
      "metadata": {
        "hidden": true,
        "id": "5UeET-ZnKzwH"
      },
      "source": [
        "from sklearn.model_selection import train_test_split"
      ],
      "execution_count": 54,
      "outputs": []
    },
    {
      "cell_type": "code",
      "metadata": {
        "hidden": true,
        "id": "0l-KHgu4KzwH"
      },
      "source": [
        "X_train, X_test, y_train, y_test = train_test_split(X, y, test_size=0.1)"
      ],
      "execution_count": 55,
      "outputs": []
    },
    {
      "cell_type": "code",
      "metadata": {
        "hidden": true,
        "id": "lJk305NMKzwH"
      },
      "source": [
        "from sklearn import preprocessing\n",
        "from sklearn.model_selection import cross_val_score, cross_val_predict\n",
        "from sklearn.metrics import accuracy_score, classification_report\n",
        "from sklearn.metrics import confusion_matrix, roc_auc_score\n",
        "def print_score(clf, X_train, X_test, y_train, y_test, train=True):\n",
        "    '''\n",
        "    v0.1 Follow the scikit learn library format in terms of input\n",
        "    print the accuracy score, classification report and confusion matrix of classifier\n",
        "    '''\n",
        "    lb = preprocessing.LabelBinarizer()\n",
        "    lb.fit(y_train)\n",
        "    if train:\n",
        "        '''\n",
        "        training performance\n",
        "        '''\n",
        "        res = clf.predict(X_train)\n",
        "        print(\"Train Result:\\n\")\n",
        "        print(\"accuracy score: {0:.4f}\\n\".format(accuracy_score(y_train, \n",
        "                                                                res)))\n",
        "        print(\"Classification Report: \\n {}\\n\".format(classification_report(y_train, \n",
        "                                                                            res)))\n",
        "        print(\"Confusion Matrix: \\n {}\\n\".format(confusion_matrix(y_train, \n",
        "                                                                  res)))\n",
        "        print(\"ROC AUC: {0:.4f}\\n\".format(roc_auc_score(lb.transform(y_train), \n",
        "                                                      lb.transform(res))))\n",
        "\n",
        "        res = cross_val_score(clf, X_train, y_train, cv=10, scoring='accuracy')\n",
        "        print(\"Average Accuracy: \\t {0:.4f}\".format(np.mean(res)))\n",
        "        print(\"Accuracy SD: \\t\\t {0:.4f}\".format(np.std(res)))\n",
        "        \n",
        "    elif train==False:\n",
        "        '''\n",
        "        test performance\n",
        "        '''\n",
        "        res_test = clf.predict(X_test)\n",
        "        print(\"Test Result:\\n\")        \n",
        "        print(\"accuracy score: {0:.4f}\\n\".format(accuracy_score(y_test, \n",
        "                                                                res_test)))\n",
        "        print(\"Classification Report: \\n {}\\n\".format(classification_report(y_test, \n",
        "                                                                            res_test)))\n",
        "        print(\"Confusion Matrix: \\n {}\\n\".format(confusion_matrix(y_test, \n",
        "                                                                  res_test)))   \n",
        "        print(\"ROC AUC: {0:.4f}\\n\".format(roc_auc_score(lb.transform(y_test), \n",
        "                                                      lb.transform(res_test))))\n",
        "        "
      ],
      "execution_count": 56,
      "outputs": []
    },
    {
      "cell_type": "code",
      "metadata": {
        "hidden": true,
        "id": "UtK2u9piKzwI"
      },
      "source": [
        "rf_clf = RandomForestClassifier(random_state=42)"
      ],
      "execution_count": 57,
      "outputs": []
    },
    {
      "cell_type": "code",
      "metadata": {
        "hidden": true,
        "id": "6BcvkmdWKzwJ",
        "outputId": "a2fb744a-4baa-4e0e-c191-f4925c9fb06b",
        "colab": {
          "base_uri": "https://localhost:8080/"
        }
      },
      "source": [
        "rf_clf.fit(X_train, y_train)"
      ],
      "execution_count": 58,
      "outputs": [
        {
          "output_type": "execute_result",
          "data": {
            "text/plain": [
              "RandomForestClassifier(bootstrap=True, ccp_alpha=0.0, class_weight=None,\n",
              "                       criterion='gini', max_depth=None, max_features='auto',\n",
              "                       max_leaf_nodes=None, max_samples=None,\n",
              "                       min_impurity_decrease=0.0, min_impurity_split=None,\n",
              "                       min_samples_leaf=1, min_samples_split=2,\n",
              "                       min_weight_fraction_leaf=0.0, n_estimators=100,\n",
              "                       n_jobs=None, oob_score=False, random_state=42, verbose=0,\n",
              "                       warm_start=False)"
            ]
          },
          "metadata": {
            "tags": []
          },
          "execution_count": 58
        }
      ]
    },
    {
      "cell_type": "code",
      "metadata": {
        "hidden": true,
        "id": "G021DUEYKzwJ",
        "outputId": "46e653a3-162a-48ee-a57d-e17dc1755702",
        "colab": {
          "base_uri": "https://localhost:8080/"
        }
      },
      "source": [
        "print_score(rf_clf, X_train, X_test, y_train, y_test, train=True)\n",
        "print_score(rf_clf, X_train, X_test, y_train, y_test, train=False)"
      ],
      "execution_count": 59,
      "outputs": [
        {
          "output_type": "stream",
          "text": [
            "Train Result:\n",
            "\n",
            "accuracy score: 0.9325\n",
            "\n",
            "Classification Report: \n",
            "               precision    recall  f1-score   support\n",
            "\n",
            "           0       0.92      0.87      0.90        55\n",
            "           1       0.94      0.96      0.95       108\n",
            "\n",
            "    accuracy                           0.93       163\n",
            "   macro avg       0.93      0.92      0.92       163\n",
            "weighted avg       0.93      0.93      0.93       163\n",
            "\n",
            "\n",
            "Confusion Matrix: \n",
            " [[ 48   7]\n",
            " [  4 104]]\n",
            "\n",
            "ROC AUC: 0.9178\n",
            "\n",
            "Average Accuracy: \t 0.7728\n",
            "Accuracy SD: \t\t 0.1231\n",
            "Test Result:\n",
            "\n",
            "accuracy score: 0.9474\n",
            "\n",
            "Classification Report: \n",
            "               precision    recall  f1-score   support\n",
            "\n",
            "           0       0.80      1.00      0.89         4\n",
            "           1       1.00      0.93      0.97        15\n",
            "\n",
            "    accuracy                           0.95        19\n",
            "   macro avg       0.90      0.97      0.93        19\n",
            "weighted avg       0.96      0.95      0.95        19\n",
            "\n",
            "\n",
            "Confusion Matrix: \n",
            " [[ 4  0]\n",
            " [ 1 14]]\n",
            "\n",
            "ROC AUC: 0.9667\n",
            "\n"
          ],
          "name": "stdout"
        }
      ]
    },
    {
      "cell_type": "markdown",
      "metadata": {
        "heading_collapsed": true,
        "id": "AfH-fL5MKzwJ"
      },
      "source": [
        "## Grid Search"
      ]
    },
    {
      "cell_type": "code",
      "metadata": {
        "hidden": true,
        "id": "kgA1ScY_KzwJ"
      },
      "source": [
        "from sklearn.pipeline import Pipeline"
      ],
      "execution_count": 60,
      "outputs": []
    },
    {
      "cell_type": "code",
      "metadata": {
        "hidden": true,
        "id": "jMT1X4JeKzwJ"
      },
      "source": [
        "from sklearn.model_selection import GridSearchCV"
      ],
      "execution_count": 61,
      "outputs": []
    },
    {
      "cell_type": "code",
      "metadata": {
        "hidden": true,
        "id": "1EP0UKQdKzwK"
      },
      "source": [
        "rf_clf = RandomForestClassifier(random_state=42)"
      ],
      "execution_count": 62,
      "outputs": []
    },
    {
      "cell_type": "code",
      "metadata": {
        "hidden": true,
        "id": "H0LN_lxdKzwK"
      },
      "source": [
        "params_grid = {\"max_depth\": [3, None],\n",
        "               \"min_samples_split\": [2, 3, 10],\n",
        "               \"min_samples_leaf\": [1, 3, 10],\n",
        "               \"bootstrap\": [True, False],\n",
        "               \"criterion\": ['gini', 'entropy']}"
      ],
      "execution_count": 63,
      "outputs": []
    },
    {
      "cell_type": "code",
      "metadata": {
        "hidden": true,
        "id": "Zo2UK_dTKzwK"
      },
      "source": [
        "grid_search = GridSearchCV(rf_clf, params_grid,\n",
        "                           n_jobs=-1, cv=5,\n",
        "                           verbose=1, scoring='accuracy')"
      ],
      "execution_count": 64,
      "outputs": []
    },
    {
      "cell_type": "code",
      "metadata": {
        "hidden": true,
        "id": "USKyy_SSKzwK",
        "outputId": "870d5a97-20b9-4d79-c7aa-4303caf44473",
        "colab": {
          "base_uri": "https://localhost:8080/"
        }
      },
      "source": [
        "grid_search.fit(X_train, y_train)"
      ],
      "execution_count": 65,
      "outputs": [
        {
          "output_type": "stream",
          "text": [
            "Fitting 5 folds for each of 72 candidates, totalling 360 fits\n"
          ],
          "name": "stdout"
        },
        {
          "output_type": "stream",
          "text": [
            "[Parallel(n_jobs=-1)]: Using backend LokyBackend with 2 concurrent workers.\n",
            "[Parallel(n_jobs=-1)]: Done  46 tasks      | elapsed:    5.1s\n",
            "[Parallel(n_jobs=-1)]: Done 196 tasks      | elapsed:   20.4s\n",
            "[Parallel(n_jobs=-1)]: Done 360 out of 360 | elapsed:   33.6s finished\n"
          ],
          "name": "stderr"
        },
        {
          "output_type": "execute_result",
          "data": {
            "text/plain": [
              "GridSearchCV(cv=5, error_score=nan,\n",
              "             estimator=RandomForestClassifier(bootstrap=True, ccp_alpha=0.0,\n",
              "                                              class_weight=None,\n",
              "                                              criterion='gini', max_depth=None,\n",
              "                                              max_features='auto',\n",
              "                                              max_leaf_nodes=None,\n",
              "                                              max_samples=None,\n",
              "                                              min_impurity_decrease=0.0,\n",
              "                                              min_impurity_split=None,\n",
              "                                              min_samples_leaf=1,\n",
              "                                              min_samples_split=2,\n",
              "                                              min_weight_fraction_leaf=0.0,\n",
              "                                              n_estimators=100, n_jobs=None,\n",
              "                                              oob_score=False, random_state=42,\n",
              "                                              verbose=0, warm_start=False),\n",
              "             iid='deprecated', n_jobs=-1,\n",
              "             param_grid={'bootstrap': [True, False],\n",
              "                         'criterion': ['gini', 'entropy'],\n",
              "                         'max_depth': [3, None], 'min_samples_leaf': [1, 3, 10],\n",
              "                         'min_samples_split': [2, 3, 10]},\n",
              "             pre_dispatch='2*n_jobs', refit=True, return_train_score=False,\n",
              "             scoring='accuracy', verbose=1)"
            ]
          },
          "metadata": {
            "tags": []
          },
          "execution_count": 65
        }
      ]
    },
    {
      "cell_type": "code",
      "metadata": {
        "hidden": true,
        "id": "1NxzfkNgKzwL",
        "outputId": "ab97c76f-9aec-48a2-81e0-d20509fc36ad",
        "colab": {
          "base_uri": "https://localhost:8080/"
        }
      },
      "source": [
        "grid_search.best_score_"
      ],
      "execution_count": 66,
      "outputs": [
        {
          "output_type": "execute_result",
          "data": {
            "text/plain": [
              "0.8035984848484847"
            ]
          },
          "metadata": {
            "tags": []
          },
          "execution_count": 66
        }
      ]
    },
    {
      "cell_type": "code",
      "metadata": {
        "hidden": true,
        "id": "I4lE6XRLKzwL",
        "outputId": "9cd7998f-89bf-47d9-e515-583e14398b78",
        "colab": {
          "base_uri": "https://localhost:8080/"
        }
      },
      "source": [
        "grid_search.best_estimator_.get_params()"
      ],
      "execution_count": 67,
      "outputs": [
        {
          "output_type": "execute_result",
          "data": {
            "text/plain": [
              "{'bootstrap': False,\n",
              " 'ccp_alpha': 0.0,\n",
              " 'class_weight': None,\n",
              " 'criterion': 'gini',\n",
              " 'max_depth': None,\n",
              " 'max_features': 'auto',\n",
              " 'max_leaf_nodes': None,\n",
              " 'max_samples': None,\n",
              " 'min_impurity_decrease': 0.0,\n",
              " 'min_impurity_split': None,\n",
              " 'min_samples_leaf': 3,\n",
              " 'min_samples_split': 2,\n",
              " 'min_weight_fraction_leaf': 0.0,\n",
              " 'n_estimators': 100,\n",
              " 'n_jobs': None,\n",
              " 'oob_score': False,\n",
              " 'random_state': 42,\n",
              " 'verbose': 0,\n",
              " 'warm_start': False}"
            ]
          },
          "metadata": {
            "tags": []
          },
          "execution_count": 67
        }
      ]
    },
    {
      "cell_type": "code",
      "metadata": {
        "hidden": true,
        "id": "h8dz6jTzKzwL",
        "outputId": "cfff8bd2-b914-4955-e11b-6707d6dabe63",
        "colab": {
          "base_uri": "https://localhost:8080/"
        }
      },
      "source": [
        "print_score(grid_search, X_train, X_test, y_train, y_test, train=True)\n",
        "print_score(grid_search, X_train, X_test, y_train, y_test, train=False)"
      ],
      "execution_count": 68,
      "outputs": [
        {
          "output_type": "stream",
          "text": [
            "[Parallel(n_jobs=-1)]: Using backend LokyBackend with 2 concurrent workers.\n"
          ],
          "name": "stderr"
        },
        {
          "output_type": "stream",
          "text": [
            "Train Result:\n",
            "\n",
            "accuracy score: 0.8712\n",
            "\n",
            "Classification Report: \n",
            "               precision    recall  f1-score   support\n",
            "\n",
            "           0       0.83      0.78      0.80        55\n",
            "           1       0.89      0.92      0.90       108\n",
            "\n",
            "    accuracy                           0.87       163\n",
            "   macro avg       0.86      0.85      0.85       163\n",
            "weighted avg       0.87      0.87      0.87       163\n",
            "\n",
            "\n",
            "Confusion Matrix: \n",
            " [[43 12]\n",
            " [ 9 99]]\n",
            "\n",
            "ROC AUC: 0.8492\n",
            "\n",
            "Fitting 5 folds for each of 72 candidates, totalling 360 fits\n"
          ],
          "name": "stdout"
        },
        {
          "output_type": "stream",
          "text": [
            "[Parallel(n_jobs=-1)]: Done  46 tasks      | elapsed:    4.8s\n",
            "[Parallel(n_jobs=-1)]: Done 196 tasks      | elapsed:   19.9s\n",
            "[Parallel(n_jobs=-1)]: Done 360 out of 360 | elapsed:   32.8s finished\n",
            "[Parallel(n_jobs=-1)]: Using backend LokyBackend with 2 concurrent workers.\n"
          ],
          "name": "stderr"
        },
        {
          "output_type": "stream",
          "text": [
            "Fitting 5 folds for each of 72 candidates, totalling 360 fits\n"
          ],
          "name": "stdout"
        },
        {
          "output_type": "stream",
          "text": [
            "[Parallel(n_jobs=-1)]: Done  46 tasks      | elapsed:    4.8s\n",
            "[Parallel(n_jobs=-1)]: Done 196 tasks      | elapsed:   19.7s\n",
            "[Parallel(n_jobs=-1)]: Done 360 out of 360 | elapsed:   32.7s finished\n",
            "[Parallel(n_jobs=-1)]: Using backend LokyBackend with 2 concurrent workers.\n"
          ],
          "name": "stderr"
        },
        {
          "output_type": "stream",
          "text": [
            "Fitting 5 folds for each of 72 candidates, totalling 360 fits\n"
          ],
          "name": "stdout"
        },
        {
          "output_type": "stream",
          "text": [
            "[Parallel(n_jobs=-1)]: Done  46 tasks      | elapsed:    4.7s\n",
            "[Parallel(n_jobs=-1)]: Done 196 tasks      | elapsed:   19.8s\n",
            "[Parallel(n_jobs=-1)]: Done 360 out of 360 | elapsed:   32.7s finished\n",
            "[Parallel(n_jobs=-1)]: Using backend LokyBackend with 2 concurrent workers.\n"
          ],
          "name": "stderr"
        },
        {
          "output_type": "stream",
          "text": [
            "Fitting 5 folds for each of 72 candidates, totalling 360 fits\n"
          ],
          "name": "stdout"
        },
        {
          "output_type": "stream",
          "text": [
            "[Parallel(n_jobs=-1)]: Done  46 tasks      | elapsed:    4.8s\n",
            "[Parallel(n_jobs=-1)]: Done 196 tasks      | elapsed:   19.8s\n",
            "[Parallel(n_jobs=-1)]: Done 360 out of 360 | elapsed:   32.8s finished\n",
            "[Parallel(n_jobs=-1)]: Using backend LokyBackend with 2 concurrent workers.\n"
          ],
          "name": "stderr"
        },
        {
          "output_type": "stream",
          "text": [
            "Fitting 5 folds for each of 72 candidates, totalling 360 fits\n"
          ],
          "name": "stdout"
        },
        {
          "output_type": "stream",
          "text": [
            "[Parallel(n_jobs=-1)]: Done  46 tasks      | elapsed:    4.8s\n",
            "[Parallel(n_jobs=-1)]: Done 196 tasks      | elapsed:   20.0s\n",
            "[Parallel(n_jobs=-1)]: Done 360 out of 360 | elapsed:   32.8s finished\n",
            "[Parallel(n_jobs=-1)]: Using backend LokyBackend with 2 concurrent workers.\n"
          ],
          "name": "stderr"
        },
        {
          "output_type": "stream",
          "text": [
            "Fitting 5 folds for each of 72 candidates, totalling 360 fits\n"
          ],
          "name": "stdout"
        },
        {
          "output_type": "stream",
          "text": [
            "[Parallel(n_jobs=-1)]: Done  46 tasks      | elapsed:    4.9s\n",
            "[Parallel(n_jobs=-1)]: Done 196 tasks      | elapsed:   19.8s\n",
            "[Parallel(n_jobs=-1)]: Done 360 out of 360 | elapsed:   32.8s finished\n",
            "[Parallel(n_jobs=-1)]: Using backend LokyBackend with 2 concurrent workers.\n"
          ],
          "name": "stderr"
        },
        {
          "output_type": "stream",
          "text": [
            "Fitting 5 folds for each of 72 candidates, totalling 360 fits\n"
          ],
          "name": "stdout"
        },
        {
          "output_type": "stream",
          "text": [
            "[Parallel(n_jobs=-1)]: Done  46 tasks      | elapsed:    4.7s\n",
            "[Parallel(n_jobs=-1)]: Done 196 tasks      | elapsed:   19.7s\n",
            "[Parallel(n_jobs=-1)]: Done 360 out of 360 | elapsed:   32.7s finished\n",
            "[Parallel(n_jobs=-1)]: Using backend LokyBackend with 2 concurrent workers.\n"
          ],
          "name": "stderr"
        },
        {
          "output_type": "stream",
          "text": [
            "Fitting 5 folds for each of 72 candidates, totalling 360 fits\n"
          ],
          "name": "stdout"
        },
        {
          "output_type": "stream",
          "text": [
            "[Parallel(n_jobs=-1)]: Done  46 tasks      | elapsed:    4.8s\n",
            "[Parallel(n_jobs=-1)]: Done 196 tasks      | elapsed:   19.8s\n",
            "[Parallel(n_jobs=-1)]: Done 360 out of 360 | elapsed:   32.7s finished\n",
            "[Parallel(n_jobs=-1)]: Using backend LokyBackend with 2 concurrent workers.\n"
          ],
          "name": "stderr"
        },
        {
          "output_type": "stream",
          "text": [
            "Fitting 5 folds for each of 72 candidates, totalling 360 fits\n"
          ],
          "name": "stdout"
        },
        {
          "output_type": "stream",
          "text": [
            "[Parallel(n_jobs=-1)]: Done  46 tasks      | elapsed:    4.8s\n",
            "[Parallel(n_jobs=-1)]: Done 196 tasks      | elapsed:   19.8s\n",
            "[Parallel(n_jobs=-1)]: Done 360 out of 360 | elapsed:   32.9s finished\n",
            "[Parallel(n_jobs=-1)]: Using backend LokyBackend with 2 concurrent workers.\n"
          ],
          "name": "stderr"
        },
        {
          "output_type": "stream",
          "text": [
            "Fitting 5 folds for each of 72 candidates, totalling 360 fits\n"
          ],
          "name": "stdout"
        },
        {
          "output_type": "stream",
          "text": [
            "[Parallel(n_jobs=-1)]: Done  46 tasks      | elapsed:    4.8s\n",
            "[Parallel(n_jobs=-1)]: Done 196 tasks      | elapsed:   19.9s\n"
          ],
          "name": "stderr"
        },
        {
          "output_type": "stream",
          "text": [
            "Average Accuracy: \t 0.7610\n",
            "Accuracy SD: \t\t 0.1091\n",
            "Test Result:\n",
            "\n",
            "accuracy score: 0.9474\n",
            "\n",
            "Classification Report: \n",
            "               precision    recall  f1-score   support\n",
            "\n",
            "           0       0.80      1.00      0.89         4\n",
            "           1       1.00      0.93      0.97        15\n",
            "\n",
            "    accuracy                           0.95        19\n",
            "   macro avg       0.90      0.97      0.93        19\n",
            "weighted avg       0.96      0.95      0.95        19\n",
            "\n",
            "\n",
            "Confusion Matrix: \n",
            " [[ 4  0]\n",
            " [ 1 14]]\n",
            "\n",
            "ROC AUC: 0.9667\n",
            "\n"
          ],
          "name": "stdout"
        },
        {
          "output_type": "stream",
          "text": [
            "[Parallel(n_jobs=-1)]: Done 360 out of 360 | elapsed:   32.9s finished\n"
          ],
          "name": "stderr"
        }
      ]
    },
    {
      "cell_type": "markdown",
      "metadata": {
        "hidden": true,
        "id": "liil54T4KzwL"
      },
      "source": [
        "***"
      ]
    },
    {
      "cell_type": "markdown",
      "metadata": {
        "heading_collapsed": true,
        "id": "VjFGVLE2KzwM"
      },
      "source": [
        "## Extra-Trees (Extremely Randomized Trees) Ensemble"
      ]
    },
    {
      "cell_type": "markdown",
      "metadata": {
        "hidden": true,
        "id": "kTn16gm6KzwM"
      },
      "source": [
        "\n",
        "\n",
        "[scikit-learn](http://scikit-learn.org/stable/modules/ensemble.html#bagging)\n",
        "\n",
        "* Random Forest is build upon Decision Tree\n",
        "* Decision Tree node splitting is based on gini or entropy or some other algorithms\n",
        "* Extra-Trees make use of random thresholds for each feature unlike Decision Tree\n"
      ]
    },
    {
      "cell_type": "code",
      "metadata": {
        "hidden": true,
        "id": "qMJ74AYgKzwM"
      },
      "source": [
        "from sklearn.ensemble import ExtraTreesClassifier"
      ],
      "execution_count": 69,
      "outputs": []
    },
    {
      "cell_type": "code",
      "metadata": {
        "hidden": true,
        "id": "7AbS-pmUKzwM"
      },
      "source": [
        "xt_clf = ExtraTreesClassifier(random_state=42)"
      ],
      "execution_count": 70,
      "outputs": []
    },
    {
      "cell_type": "code",
      "metadata": {
        "hidden": true,
        "id": "8eF8-CzJKzwN",
        "outputId": "effef685-c522-4e60-9f1d-c8750556cc37",
        "colab": {
          "base_uri": "https://localhost:8080/"
        }
      },
      "source": [
        "xt_clf.fit(X_train, y_train)"
      ],
      "execution_count": 71,
      "outputs": [
        {
          "output_type": "execute_result",
          "data": {
            "text/plain": [
              "ExtraTreesClassifier(bootstrap=False, ccp_alpha=0.0, class_weight=None,\n",
              "                     criterion='gini', max_depth=None, max_features='auto',\n",
              "                     max_leaf_nodes=None, max_samples=None,\n",
              "                     min_impurity_decrease=0.0, min_impurity_split=None,\n",
              "                     min_samples_leaf=1, min_samples_split=2,\n",
              "                     min_weight_fraction_leaf=0.0, n_estimators=100,\n",
              "                     n_jobs=None, oob_score=False, random_state=42, verbose=0,\n",
              "                     warm_start=False)"
            ]
          },
          "metadata": {
            "tags": []
          },
          "execution_count": 71
        }
      ]
    },
    {
      "cell_type": "code",
      "metadata": {
        "hidden": true,
        "id": "IE9hIhO0KzwN",
        "outputId": "c8342196-b3c2-49eb-d2c1-423c71e83354",
        "colab": {
          "base_uri": "https://localhost:8080/"
        }
      },
      "source": [
        "print_score(xt_clf, X_train, X_test, y_train, y_test, train=True)\n",
        "print_score(xt_clf, X_train, X_test, y_train, y_test, train=False)"
      ],
      "execution_count": 72,
      "outputs": [
        {
          "output_type": "stream",
          "text": [
            "Train Result:\n",
            "\n",
            "accuracy score: 0.9325\n",
            "\n",
            "Classification Report: \n",
            "               precision    recall  f1-score   support\n",
            "\n",
            "           0       0.88      0.93      0.90        55\n",
            "           1       0.96      0.94      0.95       108\n",
            "\n",
            "    accuracy                           0.93       163\n",
            "   macro avg       0.92      0.93      0.93       163\n",
            "weighted avg       0.93      0.93      0.93       163\n",
            "\n",
            "\n",
            "Confusion Matrix: \n",
            " [[ 51   4]\n",
            " [  7 101]]\n",
            "\n",
            "ROC AUC: 0.9312\n",
            "\n",
            "Average Accuracy: \t 0.7368\n",
            "Accuracy SD: \t\t 0.1089\n",
            "Test Result:\n",
            "\n",
            "accuracy score: 0.9474\n",
            "\n",
            "Classification Report: \n",
            "               precision    recall  f1-score   support\n",
            "\n",
            "           0       0.80      1.00      0.89         4\n",
            "           1       1.00      0.93      0.97        15\n",
            "\n",
            "    accuracy                           0.95        19\n",
            "   macro avg       0.90      0.97      0.93        19\n",
            "weighted avg       0.96      0.95      0.95        19\n",
            "\n",
            "\n",
            "Confusion Matrix: \n",
            " [[ 4  0]\n",
            " [ 1 14]]\n",
            "\n",
            "ROC AUC: 0.9667\n",
            "\n"
          ],
          "name": "stdout"
        }
      ]
    },
    {
      "cell_type": "markdown",
      "metadata": {
        "hidden": true,
        "id": "HHv8c_gSKzwN"
      },
      "source": [
        "***"
      ]
    },
    {
      "cell_type": "code",
      "metadata": {
        "hidden": true,
        "id": "yTVHH1k-KzwN"
      },
      "source": [
        "def eval_gini(y_true, y_prob):\n",
        "    \"\"\"\n",
        "    Original author CPMP : https://www.kaggle.com/cpmpml\n",
        "    In kernel : https://www.kaggle.com/cpmpml/extremely-fast-gini-computation\n",
        "    \"\"\"\n",
        "    y_true = np.asarray(y_true)\n",
        "    y_true = y_true[np.argsort(y_prob)]\n",
        "    ntrue = 0\n",
        "    gini = 0\n",
        "    delta = 0\n",
        "    n = len(y_true)\n",
        "    for i in range(n-1, -1, -1):\n",
        "        y_i = y_true[i]\n",
        "        ntrue += y_i\n",
        "        gini += y_i * delta\n",
        "        delta += 1 - y_i\n",
        "    gini = 1 - 2 * gini / (ntrue * (n - ntrue))\n",
        "    return gini"
      ],
      "execution_count": 73,
      "outputs": []
    },
    {
      "cell_type": "markdown",
      "metadata": {
        "collapsed": true,
        "hidden": true,
        "id": "6ftW9Ci3KzwO"
      },
      "source": [
        "***"
      ]
    },
    {
      "cell_type": "markdown",
      "metadata": {
        "id": "WK4VZBETKzwO"
      },
      "source": [
        "# Boosting ML Algo - AdaBoost and GBM"
      ]
    },
    {
      "cell_type": "markdown",
      "metadata": {
        "heading_collapsed": true,
        "id": "eH0RVjcnKzwO"
      },
      "source": [
        "## Load Data"
      ]
    },
    {
      "cell_type": "code",
      "metadata": {
        "hidden": true,
        "id": "EoNjIMucKzwO"
      },
      "source": [
        "import numpy as np\n",
        "import seaborn as sns\n",
        "import matplotlib.pyplot as plt\n",
        "%matplotlib inline\n",
        "import pandas as pd"
      ],
      "execution_count": 74,
      "outputs": []
    },
    {
      "cell_type": "code",
      "metadata": {
        "hidden": true,
        "id": "a-k_fyVmKzwO"
      },
      "source": [
        "df = sns.load_dataset('titanic')"
      ],
      "execution_count": 75,
      "outputs": []
    },
    {
      "cell_type": "code",
      "metadata": {
        "hidden": true,
        "id": "a5i4kjKCKzwP",
        "outputId": "f2c91067-4e77-44a5-ba81-7fd19c22727a",
        "colab": {
          "base_uri": "https://localhost:8080/"
        }
      },
      "source": [
        "df.shape"
      ],
      "execution_count": 76,
      "outputs": [
        {
          "output_type": "execute_result",
          "data": {
            "text/plain": [
              "(891, 15)"
            ]
          },
          "metadata": {
            "tags": []
          },
          "execution_count": 76
        }
      ]
    },
    {
      "cell_type": "code",
      "metadata": {
        "hidden": true,
        "id": "bHyuTvEzKzwP",
        "outputId": "0f109e91-6378-4cae-e0ec-b7316a0be2b5",
        "colab": {
          "base_uri": "https://localhost:8080/",
          "height": 204
        }
      },
      "source": [
        "df.head()"
      ],
      "execution_count": 77,
      "outputs": [
        {
          "output_type": "execute_result",
          "data": {
            "text/html": [
              "<div>\n",
              "<style scoped>\n",
              "    .dataframe tbody tr th:only-of-type {\n",
              "        vertical-align: middle;\n",
              "    }\n",
              "\n",
              "    .dataframe tbody tr th {\n",
              "        vertical-align: top;\n",
              "    }\n",
              "\n",
              "    .dataframe thead th {\n",
              "        text-align: right;\n",
              "    }\n",
              "</style>\n",
              "<table border=\"1\" class=\"dataframe\">\n",
              "  <thead>\n",
              "    <tr style=\"text-align: right;\">\n",
              "      <th></th>\n",
              "      <th>survived</th>\n",
              "      <th>pclass</th>\n",
              "      <th>sex</th>\n",
              "      <th>age</th>\n",
              "      <th>sibsp</th>\n",
              "      <th>parch</th>\n",
              "      <th>fare</th>\n",
              "      <th>embarked</th>\n",
              "      <th>class</th>\n",
              "      <th>who</th>\n",
              "      <th>adult_male</th>\n",
              "      <th>deck</th>\n",
              "      <th>embark_town</th>\n",
              "      <th>alive</th>\n",
              "      <th>alone</th>\n",
              "    </tr>\n",
              "  </thead>\n",
              "  <tbody>\n",
              "    <tr>\n",
              "      <th>0</th>\n",
              "      <td>0</td>\n",
              "      <td>3</td>\n",
              "      <td>male</td>\n",
              "      <td>22.0</td>\n",
              "      <td>1</td>\n",
              "      <td>0</td>\n",
              "      <td>7.2500</td>\n",
              "      <td>S</td>\n",
              "      <td>Third</td>\n",
              "      <td>man</td>\n",
              "      <td>True</td>\n",
              "      <td>NaN</td>\n",
              "      <td>Southampton</td>\n",
              "      <td>no</td>\n",
              "      <td>False</td>\n",
              "    </tr>\n",
              "    <tr>\n",
              "      <th>1</th>\n",
              "      <td>1</td>\n",
              "      <td>1</td>\n",
              "      <td>female</td>\n",
              "      <td>38.0</td>\n",
              "      <td>1</td>\n",
              "      <td>0</td>\n",
              "      <td>71.2833</td>\n",
              "      <td>C</td>\n",
              "      <td>First</td>\n",
              "      <td>woman</td>\n",
              "      <td>False</td>\n",
              "      <td>C</td>\n",
              "      <td>Cherbourg</td>\n",
              "      <td>yes</td>\n",
              "      <td>False</td>\n",
              "    </tr>\n",
              "    <tr>\n",
              "      <th>2</th>\n",
              "      <td>1</td>\n",
              "      <td>3</td>\n",
              "      <td>female</td>\n",
              "      <td>26.0</td>\n",
              "      <td>0</td>\n",
              "      <td>0</td>\n",
              "      <td>7.9250</td>\n",
              "      <td>S</td>\n",
              "      <td>Third</td>\n",
              "      <td>woman</td>\n",
              "      <td>False</td>\n",
              "      <td>NaN</td>\n",
              "      <td>Southampton</td>\n",
              "      <td>yes</td>\n",
              "      <td>True</td>\n",
              "    </tr>\n",
              "    <tr>\n",
              "      <th>3</th>\n",
              "      <td>1</td>\n",
              "      <td>1</td>\n",
              "      <td>female</td>\n",
              "      <td>35.0</td>\n",
              "      <td>1</td>\n",
              "      <td>0</td>\n",
              "      <td>53.1000</td>\n",
              "      <td>S</td>\n",
              "      <td>First</td>\n",
              "      <td>woman</td>\n",
              "      <td>False</td>\n",
              "      <td>C</td>\n",
              "      <td>Southampton</td>\n",
              "      <td>yes</td>\n",
              "      <td>False</td>\n",
              "    </tr>\n",
              "    <tr>\n",
              "      <th>4</th>\n",
              "      <td>0</td>\n",
              "      <td>3</td>\n",
              "      <td>male</td>\n",
              "      <td>35.0</td>\n",
              "      <td>0</td>\n",
              "      <td>0</td>\n",
              "      <td>8.0500</td>\n",
              "      <td>S</td>\n",
              "      <td>Third</td>\n",
              "      <td>man</td>\n",
              "      <td>True</td>\n",
              "      <td>NaN</td>\n",
              "      <td>Southampton</td>\n",
              "      <td>no</td>\n",
              "      <td>True</td>\n",
              "    </tr>\n",
              "  </tbody>\n",
              "</table>\n",
              "</div>"
            ],
            "text/plain": [
              "   survived  pclass     sex   age  ...  deck  embark_town  alive  alone\n",
              "0         0       3    male  22.0  ...   NaN  Southampton     no  False\n",
              "1         1       1  female  38.0  ...     C    Cherbourg    yes  False\n",
              "2         1       3  female  26.0  ...   NaN  Southampton    yes   True\n",
              "3         1       1  female  35.0  ...     C  Southampton    yes  False\n",
              "4         0       3    male  35.0  ...   NaN  Southampton     no   True\n",
              "\n",
              "[5 rows x 15 columns]"
            ]
          },
          "metadata": {
            "tags": []
          },
          "execution_count": 77
        }
      ]
    },
    {
      "cell_type": "code",
      "metadata": {
        "hidden": true,
        "id": "1wY9XYEjKzwP"
      },
      "source": [
        "df.dropna(inplace=True)"
      ],
      "execution_count": 78,
      "outputs": []
    },
    {
      "cell_type": "code",
      "metadata": {
        "hidden": true,
        "id": "ZU6LUQbsKzwP",
        "outputId": "1aa2c3c7-f97d-42cf-d725-d1d0e73d25fa",
        "colab": {
          "base_uri": "https://localhost:8080/"
        }
      },
      "source": [
        "df['pclass'].unique()"
      ],
      "execution_count": 79,
      "outputs": [
        {
          "output_type": "execute_result",
          "data": {
            "text/plain": [
              "array([1, 3, 2])"
            ]
          },
          "metadata": {
            "tags": []
          },
          "execution_count": 79
        }
      ]
    },
    {
      "cell_type": "code",
      "metadata": {
        "hidden": true,
        "id": "ISbeFebsKzwQ",
        "outputId": "42734980-e843-4143-a29f-26c3defba0fc",
        "colab": {
          "base_uri": "https://localhost:8080/"
        }
      },
      "source": [
        "df['pclass'].value_counts()"
      ],
      "execution_count": 80,
      "outputs": [
        {
          "output_type": "execute_result",
          "data": {
            "text/plain": [
              "1    157\n",
              "2     15\n",
              "3     10\n",
              "Name: pclass, dtype: int64"
            ]
          },
          "metadata": {
            "tags": []
          },
          "execution_count": 80
        }
      ]
    },
    {
      "cell_type": "code",
      "metadata": {
        "hidden": true,
        "id": "0_gcYaFrKzwQ",
        "outputId": "df03d82f-a068-4266-9f2e-1a6136f705c4",
        "colab": {
          "base_uri": "https://localhost:8080/"
        }
      },
      "source": [
        "df['sex'].unique()"
      ],
      "execution_count": 81,
      "outputs": [
        {
          "output_type": "execute_result",
          "data": {
            "text/plain": [
              "array(['female', 'male'], dtype=object)"
            ]
          },
          "metadata": {
            "tags": []
          },
          "execution_count": 81
        }
      ]
    },
    {
      "cell_type": "code",
      "metadata": {
        "hidden": true,
        "id": "ZHGPCFu0KzwQ",
        "outputId": "d4eccfa9-3544-45fa-989b-e23babd264d7",
        "colab": {
          "base_uri": "https://localhost:8080/"
        }
      },
      "source": [
        "df['sex'].value_counts()"
      ],
      "execution_count": 82,
      "outputs": [
        {
          "output_type": "execute_result",
          "data": {
            "text/plain": [
              "male      94\n",
              "female    88\n",
              "Name: sex, dtype: int64"
            ]
          },
          "metadata": {
            "tags": []
          },
          "execution_count": 82
        }
      ]
    },
    {
      "cell_type": "code",
      "metadata": {
        "hidden": true,
        "id": "V6X0fycsKzwQ",
        "outputId": "0b141d5c-13c7-468d-97f9-4d8b403499d5",
        "colab": {
          "base_uri": "https://localhost:8080/",
          "height": 265
        }
      },
      "source": [
        "df['age'].hist(bins=50);"
      ],
      "execution_count": 83,
      "outputs": [
        {
          "output_type": "display_data",
          "data": {
            "image/png": "[encoded data removed]",
            "text/plain": [
              "<Figure size 432x288 with 1 Axes>"
            ]
          },
          "metadata": {
            "tags": [],
            "needs_background": "light"
          }
        }
      ]
    },
    {
      "cell_type": "markdown",
      "metadata": {
        "heading_collapsed": true,
        "id": "OouDsG6gKzwR"
      },
      "source": [
        "## Data Pre-processing"
      ]
    },
    {
      "cell_type": "code",
      "metadata": {
        "hidden": true,
        "id": "gEKt-KpGKzwR"
      },
      "source": [
        "X = df[['pclass', 'sex', 'age']]"
      ],
      "execution_count": 84,
      "outputs": []
    },
    {
      "cell_type": "code",
      "metadata": {
        "hidden": true,
        "id": "0z8qcTkXKzwR"
      },
      "source": [
        "from sklearn import preprocessing\n",
        "lb = preprocessing.LabelBinarizer()"
      ],
      "execution_count": 85,
      "outputs": []
    },
    {
      "cell_type": "code",
      "metadata": {
        "hidden": true,
        "id": "3K7nr7lYKzwR",
        "outputId": "785c0550-e2e0-4160-bddc-96b69501c881",
        "colab": {
          "base_uri": "https://localhost:8080/"
        }
      },
      "source": [
        "X['sex'] = lb.fit_transform(X['sex'])"
      ],
      "execution_count": 86,
      "outputs": [
        {
          "output_type": "stream",
          "text": [
            "/usr/local/lib/python3.7/dist-packages/ipykernel_launcher.py:1: SettingWithCopyWarning: \n",
            "A value is trying to be set on a copy of a slice from a DataFrame.\n",
            "Try using .loc[row_indexer,col_indexer] = value instead\n",
            "\n",
            "See the caveats in the documentation: https://pandas.pydata.org/pandas-docs/stable/user_guide/indexing.html#returning-a-view-versus-a-copy\n",
            "  \"\"\"Entry point for launching an IPython kernel.\n"
          ],
          "name": "stderr"
        }
      ]
    },
    {
      "cell_type": "code",
      "metadata": {
        "hidden": true,
        "id": "V_5h4nZIKzwS",
        "outputId": "664cf156-5010-44f0-8f29-3ff6921094af",
        "colab": {
          "base_uri": "https://localhost:8080/",
          "height": 204
        }
      },
      "source": [
        "X.head()"
      ],
      "execution_count": 87,
      "outputs": [
        {
          "output_type": "execute_result",
          "data": {
            "text/html": [
              "<div>\n",
              "<style scoped>\n",
              "    .dataframe tbody tr th:only-of-type {\n",
              "        vertical-align: middle;\n",
              "    }\n",
              "\n",
              "    .dataframe tbody tr th {\n",
              "        vertical-align: top;\n",
              "    }\n",
              "\n",
              "    .dataframe thead th {\n",
              "        text-align: right;\n",
              "    }\n",
              "</style>\n",
              "<table border=\"1\" class=\"dataframe\">\n",
              "  <thead>\n",
              "    <tr style=\"text-align: right;\">\n",
              "      <th></th>\n",
              "      <th>pclass</th>\n",
              "      <th>sex</th>\n",
              "      <th>age</th>\n",
              "    </tr>\n",
              "  </thead>\n",
              "  <tbody>\n",
              "    <tr>\n",
              "      <th>1</th>\n",
              "      <td>1</td>\n",
              "      <td>0</td>\n",
              "      <td>38.0</td>\n",
              "    </tr>\n",
              "    <tr>\n",
              "      <th>3</th>\n",
              "      <td>1</td>\n",
              "      <td>0</td>\n",
              "      <td>35.0</td>\n",
              "    </tr>\n",
              "    <tr>\n",
              "      <th>6</th>\n",
              "      <td>1</td>\n",
              "      <td>1</td>\n",
              "      <td>54.0</td>\n",
              "    </tr>\n",
              "    <tr>\n",
              "      <th>10</th>\n",
              "      <td>3</td>\n",
              "      <td>0</td>\n",
              "      <td>4.0</td>\n",
              "    </tr>\n",
              "    <tr>\n",
              "      <th>11</th>\n",
              "      <td>1</td>\n",
              "      <td>0</td>\n",
              "      <td>58.0</td>\n",
              "    </tr>\n",
              "  </tbody>\n",
              "</table>\n",
              "</div>"
            ],
            "text/plain": [
              "    pclass  sex   age\n",
              "1        1    0  38.0\n",
              "3        1    0  35.0\n",
              "6        1    1  54.0\n",
              "10       3    0   4.0\n",
              "11       1    0  58.0"
            ]
          },
          "metadata": {
            "tags": []
          },
          "execution_count": 87
        }
      ]
    },
    {
      "cell_type": "code",
      "metadata": {
        "hidden": true,
        "id": "PxXKmQstKzwS",
        "outputId": "a46225f7-228e-457e-b370-e9af2e293c88",
        "colab": {
          "base_uri": "https://localhost:8080/"
        }
      },
      "source": [
        "X.shape"
      ],
      "execution_count": 88,
      "outputs": [
        {
          "output_type": "execute_result",
          "data": {
            "text/plain": [
              "(182, 3)"
            ]
          },
          "metadata": {
            "tags": []
          },
          "execution_count": 88
        }
      ]
    },
    {
      "cell_type": "code",
      "metadata": {
        "hidden": true,
        "id": "8tzAiUTmKzwS",
        "outputId": "68e54a82-ef7e-4e2c-c6b1-1b351359aa66",
        "colab": {
          "base_uri": "https://localhost:8080/",
          "height": 297
        }
      },
      "source": [
        "X.describe()"
      ],
      "execution_count": 89,
      "outputs": [
        {
          "output_type": "execute_result",
          "data": {
            "text/html": [
              "<div>\n",
              "<style scoped>\n",
              "    .dataframe tbody tr th:only-of-type {\n",
              "        vertical-align: middle;\n",
              "    }\n",
              "\n",
              "    .dataframe tbody tr th {\n",
              "        vertical-align: top;\n",
              "    }\n",
              "\n",
              "    .dataframe thead th {\n",
              "        text-align: right;\n",
              "    }\n",
              "</style>\n",
              "<table border=\"1\" class=\"dataframe\">\n",
              "  <thead>\n",
              "    <tr style=\"text-align: right;\">\n",
              "      <th></th>\n",
              "      <th>pclass</th>\n",
              "      <th>sex</th>\n",
              "      <th>age</th>\n",
              "    </tr>\n",
              "  </thead>\n",
              "  <tbody>\n",
              "    <tr>\n",
              "      <th>count</th>\n",
              "      <td>182.000000</td>\n",
              "      <td>182.000000</td>\n",
              "      <td>182.000000</td>\n",
              "    </tr>\n",
              "    <tr>\n",
              "      <th>mean</th>\n",
              "      <td>1.192308</td>\n",
              "      <td>0.516484</td>\n",
              "      <td>35.623187</td>\n",
              "    </tr>\n",
              "    <tr>\n",
              "      <th>std</th>\n",
              "      <td>0.516411</td>\n",
              "      <td>0.501107</td>\n",
              "      <td>15.671615</td>\n",
              "    </tr>\n",
              "    <tr>\n",
              "      <th>min</th>\n",
              "      <td>1.000000</td>\n",
              "      <td>0.000000</td>\n",
              "      <td>0.920000</td>\n",
              "    </tr>\n",
              "    <tr>\n",
              "      <th>25%</th>\n",
              "      <td>1.000000</td>\n",
              "      <td>0.000000</td>\n",
              "      <td>24.000000</td>\n",
              "    </tr>\n",
              "    <tr>\n",
              "      <th>50%</th>\n",
              "      <td>1.000000</td>\n",
              "      <td>1.000000</td>\n",
              "      <td>36.000000</td>\n",
              "    </tr>\n",
              "    <tr>\n",
              "      <th>75%</th>\n",
              "      <td>1.000000</td>\n",
              "      <td>1.000000</td>\n",
              "      <td>47.750000</td>\n",
              "    </tr>\n",
              "    <tr>\n",
              "      <th>max</th>\n",
              "      <td>3.000000</td>\n",
              "      <td>1.000000</td>\n",
              "      <td>80.000000</td>\n",
              "    </tr>\n",
              "  </tbody>\n",
              "</table>\n",
              "</div>"
            ],
            "text/plain": [
              "           pclass         sex         age\n",
              "count  182.000000  182.000000  182.000000\n",
              "mean     1.192308    0.516484   35.623187\n",
              "std      0.516411    0.501107   15.671615\n",
              "min      1.000000    0.000000    0.920000\n",
              "25%      1.000000    0.000000   24.000000\n",
              "50%      1.000000    1.000000   36.000000\n",
              "75%      1.000000    1.000000   47.750000\n",
              "max      3.000000    1.000000   80.000000"
            ]
          },
          "metadata": {
            "tags": []
          },
          "execution_count": 89
        }
      ]
    },
    {
      "cell_type": "code",
      "metadata": {
        "hidden": true,
        "id": "6MlPfsItKzwT",
        "outputId": "58776b29-4dbb-4763-d9ee-159d3066cb7a",
        "colab": {
          "base_uri": "https://localhost:8080/"
        }
      },
      "source": [
        "X.info()"
      ],
      "execution_count": 90,
      "outputs": [
        {
          "output_type": "stream",
          "text": [
            "<class 'pandas.core.frame.DataFrame'>\n",
            "Int64Index: 182 entries, 1 to 889\n",
            "Data columns (total 3 columns):\n",
            " #   Column  Non-Null Count  Dtype  \n",
            "---  ------  --------------  -----  \n",
            " 0   pclass  182 non-null    int64  \n",
            " 1   sex     182 non-null    int64  \n",
            " 2   age     182 non-null    float64\n",
            "dtypes: float64(1), int64(2)\n",
            "memory usage: 5.7 KB\n"
          ],
          "name": "stdout"
        }
      ]
    },
    {
      "cell_type": "code",
      "metadata": {
        "hidden": true,
        "id": "aEwE0CuXKzwT"
      },
      "source": [
        "y = df['survived']"
      ],
      "execution_count": 91,
      "outputs": []
    },
    {
      "cell_type": "code",
      "metadata": {
        "hidden": true,
        "id": "Hwnze8UNKzwT",
        "outputId": "a0a137f7-6540-4fc9-c7c0-fe76aaaadeed",
        "colab": {
          "base_uri": "https://localhost:8080/"
        }
      },
      "source": [
        "y.value_counts()"
      ],
      "execution_count": 92,
      "outputs": [
        {
          "output_type": "execute_result",
          "data": {
            "text/plain": [
              "1    123\n",
              "0     59\n",
              "Name: survived, dtype: int64"
            ]
          },
          "metadata": {
            "tags": []
          },
          "execution_count": 92
        }
      ]
    },
    {
      "cell_type": "markdown",
      "metadata": {
        "hidden": true,
        "id": "MgAf8yZGKzwT"
      },
      "source": [
        "***"
      ]
    },
    {
      "cell_type": "code",
      "metadata": {
        "hidden": true,
        "id": "LHMF1OW2KzwU"
      },
      "source": [
        "from sklearn.model_selection import train_test_split"
      ],
      "execution_count": 93,
      "outputs": []
    },
    {
      "cell_type": "code",
      "metadata": {
        "hidden": true,
        "id": "ZfMcIiW-KzwU"
      },
      "source": [
        "X_train, X_test, y_train, y_test = train_test_split(X, y, test_size=0.3)"
      ],
      "execution_count": 94,
      "outputs": []
    },
    {
      "cell_type": "code",
      "metadata": {
        "hidden": true,
        "id": "c1SsjaM-KzwU"
      },
      "source": [
        "from sklearn import preprocessing\n",
        "from sklearn.model_selection import cross_val_score, cross_val_predict\n",
        "from sklearn.metrics import accuracy_score, classification_report\n",
        "from sklearn.metrics import confusion_matrix, roc_auc_score\n",
        "def print_score(clf, X_train, X_test, y_train, y_test, train=True):\n",
        "    '''\n",
        "    v0.1 Follow the scikit learn library format in terms of input\n",
        "    print the accuracy score, classification report and confusion matrix of classifier\n",
        "    '''\n",
        "    lb = preprocessing.LabelBinarizer()\n",
        "    lb.fit(y_train)\n",
        "    if train:\n",
        "        '''\n",
        "        training performance\n",
        "        '''\n",
        "        res = clf.predict(X_train)\n",
        "        print(\"Train Result:\\n\")\n",
        "        print(\"accuracy score: {0:.4f}\\n\".format(accuracy_score(y_train, \n",
        "                                                                res)))\n",
        "        print(\"Classification Report: \\n {}\\n\".format(classification_report(y_train, \n",
        "                                                                            res)))\n",
        "        print(\"Confusion Matrix: \\n {}\\n\".format(confusion_matrix(y_train, \n",
        "                                                                  res)))\n",
        "        print(\"ROC AUC: {0:.4f}\\n\".format(roc_auc_score(lb.transform(y_train), \n",
        "                                                      lb.transform(res))))\n",
        "\n",
        "        res = cross_val_score(clf, X_train, y_train, cv=10, scoring='accuracy')\n",
        "        print(\"Average Accuracy: \\t {0:.4f}\".format(np.mean(res)))\n",
        "        print(\"Accuracy SD: \\t\\t {0:.4f}\".format(np.std(res)))\n",
        "        \n",
        "    elif train==False:\n",
        "        '''\n",
        "        test performance\n",
        "        '''\n",
        "        res_test = clf.predict(X_test)\n",
        "        print(\"Test Result:\\n\")        \n",
        "        print(\"accuracy score: {0:.4f}\\n\".format(accuracy_score(y_test, \n",
        "                                                                res_test)))\n",
        "        print(\"Classification Report: \\n {}\\n\".format(classification_report(y_test, \n",
        "                                                                            res_test)))\n",
        "        print(\"Confusion Matrix: \\n {}\\n\".format(confusion_matrix(y_test, \n",
        "                                                                  res_test)))   \n",
        "        print(\"ROC AUC: {0:.4f}\\n\".format(roc_auc_score(lb.transform(y_test), \n",
        "                                                      lb.transform(res_test))))\n",
        "        "
      ],
      "execution_count": 95,
      "outputs": []
    },
    {
      "cell_type": "markdown",
      "metadata": {
        "hidden": true,
        "id": "Xw75NC6GKzwU"
      },
      "source": [
        "***"
      ]
    },
    {
      "cell_type": "markdown",
      "metadata": {
        "heading_collapsed": true,
        "id": "dukZ2-A6KzwU"
      },
      "source": [
        "## Boosting (Hypothesis Boosting)"
      ]
    },
    {
      "cell_type": "markdown",
      "metadata": {
        "hidden": true,
        "id": "RaHllSr6KzwV"
      },
      "source": [
        "\n",
        "\n",
        "* Combine several weak learners into a strong learner. \n",
        "\n",
        "* Train predictors sequentially"
      ]
    },
    {
      "cell_type": "markdown",
      "metadata": {
        "id": "9Ib1ksEMKzwV"
      },
      "source": [
        "## AdaBoost / Adaptive Boosting"
      ]
    },
    {
      "cell_type": "markdown",
      "metadata": {
        "id": "wPjhPklBKzwV"
      },
      "source": [
        "\n",
        "\n",
        "[Robert Schapire](http://rob.schapire.net/papers/explaining-adaboost.pdf)\n",
        "\n",
        "[Wikipedia](https://en.wikipedia.org/wiki/AdaBoost)\n",
        "\n",
        "[Chris McCormick](http://mccormickml.com/2013/12/13/adaboost-tutorial/)\n",
        "\n",
        "[Scikit Learn AdaBoost](http://scikit-learn.org/stable/modules/ensemble.html#adaboost)\n",
        "\n",
        "1995\n",
        "\n",
        "As above for Boosting:\n",
        "* Similar to human learning, the algo learns from past mistakes by focusing more on difficult problems it did not get right in prior learning. \n",
        "* In machine learning speak, it pays more attention to training instances that previously underfitted.\n",
        "\n",
        "Source: Scikit-Learn:\n",
        "\n",
        "* Fit a sequence of weak learners (i.e., models that are only slightly better than random guessing, such as small decision trees) on repeatedly modified versions of the data. \n",
        "* The predictions from all of them are then combined through a weighted majority vote (or sum) to produce the final prediction.\n",
        "* The data modifications at each so-called boosting iteration consist of applying weights $w_1, w_2, …, w_N$ to each of the training samples. \n",
        "* Initially, those weights are all set to $w_i = 1/N$, so that the first step simply trains a weak learner on the original data. \n",
        "* For each successive iteration, the sample weights are individually modified and the learning algorithm is reapplied to the reweighted data. \n",
        "* At a given step, those training examples that were incorrectly predicted by the boosted model induced at the previous step have their weights increased, whereas the weights are decreased for those that were predicted correctly. \n",
        "* As iterations proceed, examples that are difficult to predict receive ever-increasing influence. Each subsequent weak learner is thereby forced to concentrate on the examples that are missed by the previous ones in the sequence.\n",
        "\n"
      ]
    },
    {
      "cell_type": "code",
      "metadata": {
        "id": "KdJdIuJLKzwV"
      },
      "source": [
        "from sklearn.ensemble import AdaBoostClassifier"
      ],
      "execution_count": 96,
      "outputs": []
    },
    {
      "cell_type": "code",
      "metadata": {
        "id": "M8ChAQIYKzwW"
      },
      "source": [
        "ada_clf = AdaBoostClassifier()"
      ],
      "execution_count": 97,
      "outputs": []
    },
    {
      "cell_type": "code",
      "metadata": {
        "id": "CqbwJ2YyKzwW",
        "outputId": "4947e07a-4fb4-4d31-8aae-9974299cbb15",
        "colab": {
          "base_uri": "https://localhost:8080/"
        }
      },
      "source": [
        "ada_clf.fit(X_train, y_train)"
      ],
      "execution_count": 98,
      "outputs": [
        {
          "output_type": "execute_result",
          "data": {
            "text/plain": [
              "AdaBoostClassifier(algorithm='SAMME.R', base_estimator=None, learning_rate=1.0,\n",
              "                   n_estimators=50, random_state=None)"
            ]
          },
          "metadata": {
            "tags": []
          },
          "execution_count": 98
        }
      ]
    },
    {
      "cell_type": "markdown",
      "metadata": {
        "id": "mzRPwPb7KzwW"
      },
      "source": [
        "[SAMME16](https://web.stanford.edu/~hastie/Papers/samme.pdf) (Stagewise Additive Modeling using a Multiclass Exponential loss function).\n",
        "\n",
        "R stands for real"
      ]
    },
    {
      "cell_type": "code",
      "metadata": {
        "id": "Qa0l2BbDKzwW",
        "outputId": "af5156c8-20a4-4b47-e9ed-11da2176111d",
        "colab": {
          "base_uri": "https://localhost:8080/"
        }
      },
      "source": [
        "print_score(ada_clf, X_train, X_test, y_train, y_test, train=True)\n",
        "print_score(ada_clf, X_train, X_test, y_train, y_test, train=False)"
      ],
      "execution_count": 99,
      "outputs": [
        {
          "output_type": "stream",
          "text": [
            "Train Result:\n",
            "\n",
            "accuracy score: 0.8583\n",
            "\n",
            "Classification Report: \n",
            "               precision    recall  f1-score   support\n",
            "\n",
            "           0       0.75      0.79      0.77        38\n",
            "           1       0.91      0.89      0.90        89\n",
            "\n",
            "    accuracy                           0.86       127\n",
            "   macro avg       0.83      0.84      0.83       127\n",
            "weighted avg       0.86      0.86      0.86       127\n",
            "\n",
            "\n",
            "Confusion Matrix: \n",
            " [[30  8]\n",
            " [10 79]]\n",
            "\n",
            "ROC AUC: 0.8386\n",
            "\n",
            "Average Accuracy: \t 0.7468\n",
            "Accuracy SD: \t\t 0.0957\n",
            "Test Result:\n",
            "\n",
            "accuracy score: 0.8000\n",
            "\n",
            "Classification Report: \n",
            "               precision    recall  f1-score   support\n",
            "\n",
            "           0       0.75      0.71      0.73        21\n",
            "           1       0.83      0.85      0.84        34\n",
            "\n",
            "    accuracy                           0.80        55\n",
            "   macro avg       0.79      0.78      0.79        55\n",
            "weighted avg       0.80      0.80      0.80        55\n",
            "\n",
            "\n",
            "Confusion Matrix: \n",
            " [[15  6]\n",
            " [ 5 29]]\n",
            "\n",
            "ROC AUC: 0.7836\n",
            "\n"
          ],
          "name": "stdout"
        }
      ]
    },
    {
      "cell_type": "markdown",
      "metadata": {
        "id": "nt5Z1fbrKzwX"
      },
      "source": [
        "## AdaBoost with Random Forest"
      ]
    },
    {
      "cell_type": "code",
      "metadata": {
        "id": "cJHoZCIOKzwX"
      },
      "source": [
        "from sklearn.ensemble import RandomForestClassifier"
      ],
      "execution_count": 100,
      "outputs": []
    },
    {
      "cell_type": "code",
      "metadata": {
        "id": "NONxcIBnKzwX"
      },
      "source": [
        "ada_clf = AdaBoostClassifier(RandomForestClassifier())"
      ],
      "execution_count": 101,
      "outputs": []
    },
    {
      "cell_type": "code",
      "metadata": {
        "id": "C0u26sLtKzwY",
        "outputId": "ba29a1ce-ab3b-42fa-ee53-5965cab393b3",
        "colab": {
          "base_uri": "https://localhost:8080/"
        }
      },
      "source": [
        "ada_clf.fit(X_train, y_train)"
      ],
      "execution_count": 102,
      "outputs": [
        {
          "output_type": "execute_result",
          "data": {
            "text/plain": [
              "AdaBoostClassifier(algorithm='SAMME.R',\n",
              "                   base_estimator=RandomForestClassifier(bootstrap=True,\n",
              "                                                         ccp_alpha=0.0,\n",
              "                                                         class_weight=None,\n",
              "                                                         criterion='gini',\n",
              "                                                         max_depth=None,\n",
              "                                                         max_features='auto',\n",
              "                                                         max_leaf_nodes=None,\n",
              "                                                         max_samples=None,\n",
              "                                                         min_impurity_decrease=0.0,\n",
              "                                                         min_impurity_split=None,\n",
              "                                                         min_samples_leaf=1,\n",
              "                                                         min_samples_split=2,\n",
              "                                                         min_weight_fraction_leaf=0.0,\n",
              "                                                         n_estimators=100,\n",
              "                                                         n_jobs=None,\n",
              "                                                         oob_score=False,\n",
              "                                                         random_state=None,\n",
              "                                                         verbose=0,\n",
              "                                                         warm_start=False),\n",
              "                   learning_rate=1.0, n_estimators=50, random_state=None)"
            ]
          },
          "metadata": {
            "tags": []
          },
          "execution_count": 102
        }
      ]
    },
    {
      "cell_type": "code",
      "metadata": {
        "id": "GTCGroD8KzwZ",
        "outputId": "35b99544-3514-493d-9022-966a09db0b9a",
        "colab": {
          "base_uri": "https://localhost:8080/"
        }
      },
      "source": [
        "print_score(ada_clf, X_train, X_test, y_train, y_test, train=True)\n",
        "print_score(ada_clf, X_train, X_test, y_train, y_test, train=False)"
      ],
      "execution_count": 103,
      "outputs": [
        {
          "output_type": "stream",
          "text": [
            "Train Result:\n",
            "\n",
            "accuracy score: 0.9291\n",
            "\n",
            "Classification Report: \n",
            "               precision    recall  f1-score   support\n",
            "\n",
            "           0       0.87      0.89      0.88        38\n",
            "           1       0.95      0.94      0.95        89\n",
            "\n",
            "    accuracy                           0.93       127\n",
            "   macro avg       0.91      0.92      0.92       127\n",
            "weighted avg       0.93      0.93      0.93       127\n",
            "\n",
            "\n",
            "Confusion Matrix: \n",
            " [[34  4]\n",
            " [ 5 84]]\n",
            "\n",
            "ROC AUC: 0.9193\n",
            "\n",
            "Average Accuracy: \t 0.7186\n",
            "Accuracy SD: \t\t 0.1187\n",
            "Test Result:\n",
            "\n",
            "accuracy score: 0.8545\n",
            "\n",
            "Classification Report: \n",
            "               precision    recall  f1-score   support\n",
            "\n",
            "           0       0.81      0.81      0.81        21\n",
            "           1       0.88      0.88      0.88        34\n",
            "\n",
            "    accuracy                           0.85        55\n",
            "   macro avg       0.85      0.85      0.85        55\n",
            "weighted avg       0.85      0.85      0.85        55\n",
            "\n",
            "\n",
            "Confusion Matrix: \n",
            " [[17  4]\n",
            " [ 4 30]]\n",
            "\n",
            "ROC AUC: 0.8459\n",
            "\n"
          ],
          "name": "stdout"
        }
      ]
    },
    {
      "cell_type": "markdown",
      "metadata": {
        "id": "S8iFImZrKzwZ"
      },
      "source": [
        "***"
      ]
    },
    {
      "cell_type": "markdown",
      "metadata": {
        "collapsed": true,
        "id": "UJlXo3o8KzwZ"
      },
      "source": [
        "## Gradient Boosting / Gradient Boosting Machine (GBM)"
      ]
    },
    {
      "cell_type": "markdown",
      "metadata": {
        "collapsed": true,
        "id": "LfLSJEPSKzwZ"
      },
      "source": [
        "Works for both regression and classification\n",
        "\n",
        "[Wikipedia](https://en.wikipedia.org/wiki/Gradient_boosting)\n",
        "\n",
        "* Sequentially adding predictors\n",
        "* Each one correcting its predecessor\n",
        "* Fit new predictor to the residual errors\n",
        "\n",
        "Compare this to AdaBoost: \n",
        "* Alter instance weights at every iteration\n"
      ]
    },
    {
      "cell_type": "markdown",
      "metadata": {
        "id": "0rPi6iD6Kzwa"
      },
      "source": [
        "**Step 1. **\n",
        "\n",
        "  $$Y = F(x) + \\epsilon$$\n",
        "\n",
        "**Step 2. **\n",
        "\n",
        "  $$\\epsilon = G(x) + \\epsilon_2$$\n",
        "\n",
        "  Substituting (2) into (1), we get:\n",
        "  \n",
        "  $$Y = F(x) + G(x) + \\epsilon_2$$\n",
        "    \n",
        "**Step 3. **\n",
        "\n",
        "  $$\\epsilon_2 = H(x)  + \\epsilon_3$$\n",
        "\n",
        "Now:\n",
        "  \n",
        "  $$Y = F(x) + G(x) + H(x)  + \\epsilon_3$$\n",
        "  \n",
        "Finally, by adding weighting  \n",
        "  \n",
        "  $$Y = \\alpha F(x) + \\beta G(x) + \\gamma H(x)  + \\epsilon_4$$"
      ]
    },
    {
      "cell_type": "markdown",
      "metadata": {
        "id": "WdtYkbD3Kzwa"
      },
      "source": [
        "Gradient boosting involves three elements:\n",
        "\n",
        "* **Loss function to be optimized**: Loss function depends on the type of problem being solved. In the case of regression problems, mean squared error is used, and in classification problems, logarithmic loss will be used. In boosting, at each stage, unexplained loss from prior iterations will be optimized rather than starting from scratch.\n",
        "\n",
        "* **Weak learner to make predictions**: Decision trees are used as a weak learner in gradient boosting.\n",
        "\n",
        "* **Additive model to add weak learners to minimize the loss function**: Trees are added one at a time and existing trees in the model are not changed. The gradient descent procedure is used to minimize the loss when adding trees."
      ]
    },
    {
      "cell_type": "code",
      "metadata": {
        "id": "5xy5TFE5Kzwa"
      },
      "source": [
        "from sklearn.ensemble import GradientBoostingClassifier"
      ],
      "execution_count": 104,
      "outputs": []
    },
    {
      "cell_type": "code",
      "metadata": {
        "id": "1jr4-dStKzwa",
        "outputId": "5e1f7a2f-6a98-43c4-e260-9379f9912c2d",
        "colab": {
          "base_uri": "https://localhost:8080/"
        }
      },
      "source": [
        "gbc_clf = GradientBoostingClassifier()\n",
        "gbc_clf.fit(X_train, y_train)"
      ],
      "execution_count": 105,
      "outputs": [
        {
          "output_type": "execute_result",
          "data": {
            "text/plain": [
              "GradientBoostingClassifier(ccp_alpha=0.0, criterion='friedman_mse', init=None,\n",
              "                           learning_rate=0.1, loss='deviance', max_depth=3,\n",
              "                           max_features=None, max_leaf_nodes=None,\n",
              "                           min_impurity_decrease=0.0, min_impurity_split=None,\n",
              "                           min_samples_leaf=1, min_samples_split=2,\n",
              "                           min_weight_fraction_leaf=0.0, n_estimators=100,\n",
              "                           n_iter_no_change=None, presort='deprecated',\n",
              "                           random_state=None, subsample=1.0, tol=0.0001,\n",
              "                           validation_fraction=0.1, verbose=0,\n",
              "                           warm_start=False)"
            ]
          },
          "metadata": {
            "tags": []
          },
          "execution_count": 105
        }
      ]
    },
    {
      "cell_type": "code",
      "metadata": {
        "id": "J6MFhnYOKzwa",
        "outputId": "6531876b-9965-4efc-c91a-40219ec51a70",
        "colab": {
          "base_uri": "https://localhost:8080/"
        }
      },
      "source": [
        "print_score(gbc_clf, X_train, X_test, y_train, y_test, train=True)\n",
        "print_score(gbc_clf, X_train, X_test, y_train, y_test, train=False)"
      ],
      "execution_count": 106,
      "outputs": [
        {
          "output_type": "stream",
          "text": [
            "Train Result:\n",
            "\n",
            "accuracy score: 0.9291\n",
            "\n",
            "Classification Report: \n",
            "               precision    recall  f1-score   support\n",
            "\n",
            "           0       0.87      0.89      0.88        38\n",
            "           1       0.95      0.94      0.95        89\n",
            "\n",
            "    accuracy                           0.93       127\n",
            "   macro avg       0.91      0.92      0.92       127\n",
            "weighted avg       0.93      0.93      0.93       127\n",
            "\n",
            "\n",
            "Confusion Matrix: \n",
            " [[34  4]\n",
            " [ 5 84]]\n",
            "\n",
            "ROC AUC: 0.9193\n",
            "\n",
            "Average Accuracy: \t 0.7327\n",
            "Accuracy SD: \t\t 0.0700\n",
            "Test Result:\n",
            "\n",
            "accuracy score: 0.8727\n",
            "\n",
            "Classification Report: \n",
            "               precision    recall  f1-score   support\n",
            "\n",
            "           0       0.85      0.81      0.83        21\n",
            "           1       0.89      0.91      0.90        34\n",
            "\n",
            "    accuracy                           0.87        55\n",
            "   macro avg       0.87      0.86      0.86        55\n",
            "weighted avg       0.87      0.87      0.87        55\n",
            "\n",
            "\n",
            "Confusion Matrix: \n",
            " [[17  4]\n",
            " [ 3 31]]\n",
            "\n",
            "ROC AUC: 0.8606\n",
            "\n"
          ],
          "name": "stdout"
        }
      ]
    },
    {
      "cell_type": "markdown",
      "metadata": {
        "id": "qWV-qD2RKzwb"
      },
      "source": [
        "***"
      ]
    }
  ]
}