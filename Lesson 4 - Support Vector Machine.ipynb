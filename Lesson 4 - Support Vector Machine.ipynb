{
  "nbformat": 4,
  "nbformat_minor": 0,
  "metadata": {
    "kernelspec": {
      "display_name": "Python 3",
      "language": "python",
      "name": "python3"
    },
    "language_info": {
      "codemirror_mode": {
        "name": "ipython",
        "version": 3
      },
      "file_extension": ".py",
      "mimetype": "text/x-python",
      "name": "python",
      "nbconvert_exporter": "python",
      "pygments_lexer": "ipython3",
      "version": "3.5.4"
    },
    "colab": {
      "name": "Lesson 4 - Support Vector Machine.ipynb",
      "provenance": []
    },
    "accelerator": "GPU"
  },
  "cells": [
    {
      "cell_type": "markdown",
      "metadata": {
        "heading_collapsed": true,
        "id": "pVJVJ9sEKZRZ"
      },
      "source": [
        "# Support Vector Machine (SVM)"
      ]
    },
    {
      "cell_type": "markdown",
      "metadata": {
        "hidden": true,
        "id": "s9D2yjU0KZRc"
      },
      "source": [
        "\n",
        "\n",
        "Invented in [1963](https://en.wikipedia.org/wiki/Support_vector_machine#History) by [Vladimir N. Vapnik](https://en.wikipedia.org/wiki/Vladimir_Vapnik) and Alexey Ya. Chervonenkis while working at AT&T Bell Labs. Vladimir N. Vapnik joined Facebook AI Research in Nov 2014.\n",
        "\n",
        "In 1992, Bernhard E. Boser, Isabelle M. Guyon and Vladimir N. Vapnik suggested a way to create nonlinear classifiers by applying the kernel trick to maximum-margin hyperplanes.\n",
        "\n",
        "The current standard incarnation (soft margin) was proposed by Corinna Cortes and Vapnik in 1993 and published in 1995.\n",
        "\n"
      ]
    },
    {
      "cell_type": "markdown",
      "metadata": {
        "hidden": true,
        "id": "PsIDF5XGKZRd"
      },
      "source": [
        "References:\n",
        "\n",
        "1. [Support Vector Machine in Javascript Demo by Karpathy](http://cs.stanford.edu/people/karpathy/svmjs/demo/)\n",
        "\n",
        "2. [SVM](http://www.svms.org/tutorials/)\n",
        "\n",
        "3. [Statsoft](http://www.statsoft.com/Textbook/Support-Vector-Machines)\n",
        "\n",
        "4. [Wikipedia](https://en.wikipedia.org/wiki/Support_vector_machine)\n",
        "\n",
        "5. [Scikit-Learn](http://scikit-learn.org/stable/modules/svm.html)"
      ]
    },
    {
      "cell_type": "markdown",
      "metadata": {
        "hidden": true,
        "id": "VqAWFYD3KZRe"
      },
      "source": [
        "\n",
        "### Learning Outcomes:\n",
        "\n",
        "* Introduction\n",
        "* Linear SVM Classification\n",
        "* Polynomial Kernal\n",
        "* Radial Basis Function /  Gaussian Kernel\n",
        "* Support Vector Regression\n",
        "\n",
        "***"
      ]
    },
    {
      "cell_type": "markdown",
      "metadata": {
        "heading_collapsed": true,
        "id": "KGQWXw1aKZRf"
      },
      "source": [
        "# 1. Introduction"
      ]
    },
    {
      "cell_type": "markdown",
      "metadata": {
        "hidden": true,
        "id": "vgKIgcxRKZRf"
      },
      "source": [
        "\n",
        "\n",
        "Supervised learning methods used for classification, regression and outliers detection.\n",
        "\n",
        "Let's assume we have two classes here - black and purple. In classification, we are interested in the best way to separate the two classes. "
      ]
    },
    {
      "cell_type": "markdown",
      "metadata": {
        "hidden": true,
        "id": "23ES9eE5KZRg"
      },
      "source": [
        "<img style=\"float: left;\" src=\"https://github.com/anthonyng2/intro_ml_finance/blob/master/img/SVM%201.png?raw=1\"  height=50%, width=50%>"
      ]
    },
    {
      "cell_type": "markdown",
      "metadata": {
        "hidden": true,
        "id": "tHnqxIrrKZRg"
      },
      "source": [
        "We can separate them with a line such as the example below. You can consider this as an example of how logistic regression would segregate the two classes."
      ]
    },
    {
      "cell_type": "markdown",
      "metadata": {
        "hidden": true,
        "id": "v71QSZHzKZRh"
      },
      "source": [
        "<img style=\"float: left;\" src=\"https://github.com/anthonyng2/intro_ml_finance/blob/master/img/SVM%202.png?raw=1\"  height=50%, width=50%>"
      ]
    },
    {
      "cell_type": "markdown",
      "metadata": {
        "hidden": true,
        "id": "FSdia9kJKZRh"
      },
      "source": [
        "However, there are infinite lines (in 2-dimensional space) or hyperplanes (in 3-dimensional space) that can be used to separate the two classes as the example below illustrates. \n",
        "\n",
        "The term hyperplane essentially means it is a subspace of one dimension less than its ambient space. If a space is 3-dimensional then its hyperplanes are the 2-dimensional planes, while if the space is 2-dimensional, its hyperplanes are the 1-dimensional lines. ~ [Wikipedia](https://en.wikipedia.org/wiki/Hyperplane)"
      ]
    },
    {
      "cell_type": "markdown",
      "metadata": {
        "hidden": true,
        "id": "NdhjaMaCKZRi"
      },
      "source": [
        "<img style=\"float: left;\" src=\"https://github.com/anthonyng2/intro_ml_finance/blob/master/img/SVM%203.png?raw=1\"  height=50%, width=50%>"
      ]
    },
    {
      "cell_type": "markdown",
      "metadata": {
        "hidden": true,
        "id": "eC2Dkuf8KZRi"
      },
      "source": [
        "In SVM, the **separating line**, the solid brown line, is the line that allows for largest margin between the two classes. \n",
        "\n",
        "SVM would place the separating line in the middle of the margin, also called maximum margin. SVM will optimise and locate the hyperplane that maximises the margin of the two classes.\n",
        "\n",
        "The samples that are closest to the hyperplane are called **support vectors**, circled in red. "
      ]
    },
    {
      "cell_type": "markdown",
      "metadata": {
        "hidden": true,
        "id": "C38eqf0rKZRj"
      },
      "source": [
        "<img style=\"float: left;\" src=\"https://github.com/anthonyng2/intro_ml_finance/blob/master/img/SVM%204.png?raw=1\"  height=50%, width=50%>"
      ]
    },
    {
      "cell_type": "markdown",
      "metadata": {
        "heading_collapsed": true,
        "id": "1RLQNN2qKZRj"
      },
      "source": [
        "# 2. Linear SVM Classification"
      ]
    },
    {
      "cell_type": "markdown",
      "metadata": {
        "hidden": true,
        "id": "IBJU_uqIKZRk"
      },
      "source": [
        "***\n",
        "\n",
        "\n",
        "\n",
        "* Support Vectors\n",
        "\n",
        "* Separate with a straight line (linearly separable)\n",
        "\n",
        "* Margin\n",
        "\n",
        "  * Hard margin classification\n",
        "      * Strictly based on those that are at the margin between the two classes\n",
        "      * However, this is sensitive to outliers\n",
        "      \n",
        "  * Soft margin classification\n",
        "      * Widen the margin and allows for violation\n",
        "      * With Python Scikit-Learn, you control the width of the margin\n",
        "      * Control with `C` hyperparameter\n",
        "        * smaller `C` leads to a wider street but more margin violations\n",
        "        * High `C` - fewer margin violations but ends up with a smaller margin\n",
        "\n",
        "\n",
        "\n",
        "**Note:**\n",
        "\n",
        "* SVM are sensitive to feature scaling\n"
      ]
    },
    {
      "cell_type": "code",
      "metadata": {
        "hidden": true,
        "id": "vpG6vj6SKZRk"
      },
      "source": [
        "import numpy as np\n",
        "import pandas as pd\n",
        "import seaborn as sns\n",
        "from sklearn import datasets\n",
        "from sklearn import svm\n",
        "import matplotlib.pyplot as plt\n",
        "%matplotlib inline\n",
        "sns.set_style('whitegrid')"
      ],
      "execution_count": 1,
      "outputs": []
    },
    {
      "cell_type": "code",
      "metadata": {
        "hidden": true,
        "id": "kZ7LmAR-KZRl",
        "outputId": "75fbecbc-4261-4a15-9435-c2e86f4d7d28",
        "colab": {
          "base_uri": "https://localhost:8080/",
          "height": 204
        }
      },
      "source": [
        "df = sns.load_dataset('iris')\n",
        "df.head()"
      ],
      "execution_count": 2,
      "outputs": [
        {
          "output_type": "execute_result",
          "data": {
            "text/html": [
              "<div>\n",
              "<style scoped>\n",
              "    .dataframe tbody tr th:only-of-type {\n",
              "        vertical-align: middle;\n",
              "    }\n",
              "\n",
              "    .dataframe tbody tr th {\n",
              "        vertical-align: top;\n",
              "    }\n",
              "\n",
              "    .dataframe thead th {\n",
              "        text-align: right;\n",
              "    }\n",
              "</style>\n",
              "<table border=\"1\" class=\"dataframe\">\n",
              "  <thead>\n",
              "    <tr style=\"text-align: right;\">\n",
              "      <th></th>\n",
              "      <th>sepal_length</th>\n",
              "      <th>sepal_width</th>\n",
              "      <th>petal_length</th>\n",
              "      <th>petal_width</th>\n",
              "      <th>species</th>\n",
              "    </tr>\n",
              "  </thead>\n",
              "  <tbody>\n",
              "    <tr>\n",
              "      <th>0</th>\n",
              "      <td>5.1</td>\n",
              "      <td>3.5</td>\n",
              "      <td>1.4</td>\n",
              "      <td>0.2</td>\n",
              "      <td>setosa</td>\n",
              "    </tr>\n",
              "    <tr>\n",
              "      <th>1</th>\n",
              "      <td>4.9</td>\n",
              "      <td>3.0</td>\n",
              "      <td>1.4</td>\n",
              "      <td>0.2</td>\n",
              "      <td>setosa</td>\n",
              "    </tr>\n",
              "    <tr>\n",
              "      <th>2</th>\n",
              "      <td>4.7</td>\n",
              "      <td>3.2</td>\n",
              "      <td>1.3</td>\n",
              "      <td>0.2</td>\n",
              "      <td>setosa</td>\n",
              "    </tr>\n",
              "    <tr>\n",
              "      <th>3</th>\n",
              "      <td>4.6</td>\n",
              "      <td>3.1</td>\n",
              "      <td>1.5</td>\n",
              "      <td>0.2</td>\n",
              "      <td>setosa</td>\n",
              "    </tr>\n",
              "    <tr>\n",
              "      <th>4</th>\n",
              "      <td>5.0</td>\n",
              "      <td>3.6</td>\n",
              "      <td>1.4</td>\n",
              "      <td>0.2</td>\n",
              "      <td>setosa</td>\n",
              "    </tr>\n",
              "  </tbody>\n",
              "</table>\n",
              "</div>"
            ],
            "text/plain": [
              "   sepal_length  sepal_width  petal_length  petal_width species\n",
              "0           5.1          3.5           1.4          0.2  setosa\n",
              "1           4.9          3.0           1.4          0.2  setosa\n",
              "2           4.7          3.2           1.3          0.2  setosa\n",
              "3           4.6          3.1           1.5          0.2  setosa\n",
              "4           5.0          3.6           1.4          0.2  setosa"
            ]
          },
          "metadata": {
            "tags": []
          },
          "execution_count": 2
        }
      ]
    },
    {
      "cell_type": "code",
      "metadata": {
        "hidden": true,
        "id": "wTHPprE2KZRm",
        "outputId": "9bc24b30-abb8-4cfa-bfee-19fceed09583",
        "colab": {
          "base_uri": "https://localhost:8080/",
          "height": 204
        }
      },
      "source": [
        "col = ['petal_length', 'petal_width', 'species']\n",
        "df.loc[:, col].head()"
      ],
      "execution_count": 3,
      "outputs": [
        {
          "output_type": "execute_result",
          "data": {
            "text/html": [
              "<div>\n",
              "<style scoped>\n",
              "    .dataframe tbody tr th:only-of-type {\n",
              "        vertical-align: middle;\n",
              "    }\n",
              "\n",
              "    .dataframe tbody tr th {\n",
              "        vertical-align: top;\n",
              "    }\n",
              "\n",
              "    .dataframe thead th {\n",
              "        text-align: right;\n",
              "    }\n",
              "</style>\n",
              "<table border=\"1\" class=\"dataframe\">\n",
              "  <thead>\n",
              "    <tr style=\"text-align: right;\">\n",
              "      <th></th>\n",
              "      <th>petal_length</th>\n",
              "      <th>petal_width</th>\n",
              "      <th>species</th>\n",
              "    </tr>\n",
              "  </thead>\n",
              "  <tbody>\n",
              "    <tr>\n",
              "      <th>0</th>\n",
              "      <td>1.4</td>\n",
              "      <td>0.2</td>\n",
              "      <td>setosa</td>\n",
              "    </tr>\n",
              "    <tr>\n",
              "      <th>1</th>\n",
              "      <td>1.4</td>\n",
              "      <td>0.2</td>\n",
              "      <td>setosa</td>\n",
              "    </tr>\n",
              "    <tr>\n",
              "      <th>2</th>\n",
              "      <td>1.3</td>\n",
              "      <td>0.2</td>\n",
              "      <td>setosa</td>\n",
              "    </tr>\n",
              "    <tr>\n",
              "      <th>3</th>\n",
              "      <td>1.5</td>\n",
              "      <td>0.2</td>\n",
              "      <td>setosa</td>\n",
              "    </tr>\n",
              "    <tr>\n",
              "      <th>4</th>\n",
              "      <td>1.4</td>\n",
              "      <td>0.2</td>\n",
              "      <td>setosa</td>\n",
              "    </tr>\n",
              "  </tbody>\n",
              "</table>\n",
              "</div>"
            ],
            "text/plain": [
              "   petal_length  petal_width species\n",
              "0           1.4          0.2  setosa\n",
              "1           1.4          0.2  setosa\n",
              "2           1.3          0.2  setosa\n",
              "3           1.5          0.2  setosa\n",
              "4           1.4          0.2  setosa"
            ]
          },
          "metadata": {
            "tags": []
          },
          "execution_count": 3
        }
      ]
    },
    {
      "cell_type": "code",
      "metadata": {
        "hidden": true,
        "id": "Ihlwk_8CKZRm",
        "outputId": "dc740471-16b1-4e32-b33a-39e853aa58d1",
        "colab": {
          "base_uri": "https://localhost:8080/"
        }
      },
      "source": [
        "df.species.unique()"
      ],
      "execution_count": 4,
      "outputs": [
        {
          "output_type": "execute_result",
          "data": {
            "text/plain": [
              "array(['setosa', 'versicolor', 'virginica'], dtype=object)"
            ]
          },
          "metadata": {
            "tags": []
          },
          "execution_count": 4
        }
      ]
    },
    {
      "cell_type": "code",
      "metadata": {
        "hidden": true,
        "id": "PR3EuMh0KZRn"
      },
      "source": [
        "col = ['petal_length', 'petal_width']\n",
        "X = df.loc[:, col]"
      ],
      "execution_count": 5,
      "outputs": []
    },
    {
      "cell_type": "code",
      "metadata": {
        "hidden": true,
        "id": "t8bkGPWPKZRn"
      },
      "source": [
        "species_to_num = {'setosa': 0,\n",
        "                  'versicolor': 1,\n",
        "                  'virginica': 2}\n",
        "df['tmp'] = df['species'].map(species_to_num)\n",
        "y = df['tmp']"
      ],
      "execution_count": 6,
      "outputs": []
    },
    {
      "cell_type": "markdown",
      "metadata": {
        "hidden": true,
        "id": "NZF7TW4IKZRn"
      },
      "source": [
        "Documentations on each:\n",
        "\n",
        "* [LinearSVC](http://scikit-learn.org/stable/modules/generated/sklearn.svm.LinearSVC.html#sklearn.svm.LinearSVC)\n",
        "\n",
        "  Similar to SVC with parameter kernel=’linear’, but implemented in terms of liblinear rather than libsvm, so it has more flexibility in the choice of penalties and loss functions and should scale better to large numbers of samples.\n",
        "  \n",
        "  \n",
        "  \n",
        "* [SVC](http://scikit-learn.org/stable/modules/generated/sklearn.svm.SVC.html#sklearn.svm.SVC)\n",
        "\n",
        "  C-Support Vector Classification.\n",
        "  \n",
        "  The implementation is based on libsvm. The fit time complexity is more than quadratic with the number of samples which makes it hard to scale to dataset with more than a couple of 10000 samples."
      ]
    },
    {
      "cell_type": "code",
      "metadata": {
        "hidden": true,
        "id": "18WMFPSfKZRo",
        "outputId": "15cf841b-db51-46df-ae5b-1e0c5e03226f",
        "colab": {
          "base_uri": "https://localhost:8080/"
        }
      },
      "source": [
        "C = 0.001\n",
        "clf = svm.SVC(kernel='linear', C=C)\n",
        "#clf = svm.LinearSVC(C=C, loss='hinge')\n",
        "#clf = svm.SVC(kernel='poly', degree=3, C=C)\n",
        "#clf = svm.SVC(kernel='rbf', gamma=0.7, C=C)\n",
        "clf.fit(X, y)"
      ],
      "execution_count": 7,
      "outputs": [
        {
          "output_type": "execute_result",
          "data": {
            "text/plain": [
              "SVC(C=0.001, break_ties=False, cache_size=200, class_weight=None, coef0=0.0,\n",
              "    decision_function_shape='ovr', degree=3, gamma='scale', kernel='linear',\n",
              "    max_iter=-1, probability=False, random_state=None, shrinking=True,\n",
              "    tol=0.001, verbose=False)"
            ]
          },
          "metadata": {
            "tags": []
          },
          "execution_count": 7
        }
      ]
    },
    {
      "cell_type": "code",
      "metadata": {
        "hidden": true,
        "id": "4NIRLT_cKZRp",
        "outputId": "1a70672b-6084-4d13-c832-d9b710484d65",
        "colab": {
          "base_uri": "https://localhost:8080/"
        }
      },
      "source": [
        "clf.predict([[6, 2]])"
      ],
      "execution_count": 8,
      "outputs": [
        {
          "output_type": "execute_result",
          "data": {
            "text/plain": [
              "array([2])"
            ]
          },
          "metadata": {
            "tags": []
          },
          "execution_count": 8
        }
      ]
    },
    {
      "cell_type": "code",
      "metadata": {
        "hidden": true,
        "id": "WCy1y2CtKZRp"
      },
      "source": [
        "Xv = X.values.reshape(-1,1)\n",
        "h = 0.02\n",
        "x_min, x_max = Xv.min(), Xv.max() + 1\n",
        "y_min, y_max = y.min(), y.max() + 1\n",
        "xx, yy = np.meshgrid(np.arange(x_min, x_max, h),\n",
        "                     np.arange(y_min, y_max, h))"
      ],
      "execution_count": 9,
      "outputs": []
    },
    {
      "cell_type": "code",
      "metadata": {
        "hidden": true,
        "id": "BkDVpmMiKZRp",
        "outputId": "ab28f943-509d-4503-a34d-7f6d022b1f82",
        "colab": {
          "base_uri": "https://localhost:8080/",
          "height": 592
        }
      },
      "source": [
        "z = clf.predict(np.c_[xx.ravel(), yy.ravel()])\n",
        "z = z.reshape(xx.shape)\n",
        "fig = plt.figure(figsize=(16,10))\n",
        "ax = plt.contourf(xx, yy, z, cmap = 'afmhot', alpha=0.3);\n",
        "plt.scatter(X.values[:, 0], X.values[:, 1], c=y, s=80, \n",
        "            alpha=0.9, edgecolors='g');"
      ],
      "execution_count": 10,
      "outputs": [
        {
          "output_type": "display_data",
          "data": {
            "image/png": "[encoded data removed]",
            "text/plain": [
              "<Figure size 1152x720 with 1 Axes>"
            ]
          },
          "metadata": {
            "tags": [],
            "needs_background": "light"
          }
        }
      ]
    },
    {
      "cell_type": "markdown",
      "metadata": {
        "hidden": true,
        "id": "4U3Vt-KPKZRq"
      },
      "source": [
        "## Linear SVM Implementation"
      ]
    },
    {
      "cell_type": "code",
      "metadata": {
        "hidden": true,
        "id": "duv15DovKZRq"
      },
      "source": [
        "df = sns.load_dataset('iris')\n",
        "from sklearn.model_selection import train_test_split\n",
        "from sklearn.preprocessing import StandardScaler\n",
        "col = ['petal_length', 'petal_width']\n",
        "X = df.loc[:, col]\n",
        "species_to_num = {'setosa': 0,\n",
        "                  'versicolor': 1,\n",
        "                  'virginica': 2}\n",
        "df['tmp'] = df['species'].map(species_to_num)\n",
        "y = df['tmp']\n",
        "X_train, X_test, y_train, y_test = train_test_split(X, y,\n",
        "                                                    train_size=0.8, \n",
        "                                                    random_state=0)"
      ],
      "execution_count": 11,
      "outputs": []
    },
    {
      "cell_type": "markdown",
      "metadata": {
        "hidden": true,
        "id": "aX73EjctKZRr"
      },
      "source": [
        "#### Scale Features"
      ]
    },
    {
      "cell_type": "code",
      "metadata": {
        "hidden": true,
        "id": "LL38lvuqKZRr"
      },
      "source": [
        "sc_x = StandardScaler()\n",
        "X_std_train = sc_x.fit_transform(X_train)"
      ],
      "execution_count": 12,
      "outputs": []
    },
    {
      "cell_type": "code",
      "metadata": {
        "hidden": true,
        "id": "qEsTr3-yKZRr",
        "outputId": "f2d0adb0-64c2-4578-e63f-5e620f9ca8b5",
        "colab": {
          "base_uri": "https://localhost:8080/"
        }
      },
      "source": [
        "C = 1.0 #0.01\n",
        "clf = svm.SVC(kernel='linear', C=C)\n",
        "clf.fit(X_std_train, y_train)"
      ],
      "execution_count": 13,
      "outputs": [
        {
          "output_type": "execute_result",
          "data": {
            "text/plain": [
              "SVC(C=1.0, break_ties=False, cache_size=200, class_weight=None, coef0=0.0,\n",
              "    decision_function_shape='ovr', degree=3, gamma='scale', kernel='linear',\n",
              "    max_iter=-1, probability=False, random_state=None, shrinking=True,\n",
              "    tol=0.001, verbose=False)"
            ]
          },
          "metadata": {
            "tags": []
          },
          "execution_count": 13
        }
      ]
    },
    {
      "cell_type": "code",
      "metadata": {
        "hidden": true,
        "id": "NsAh-A6KKZRr"
      },
      "source": [
        "from sklearn.model_selection import cross_val_score\n",
        "from sklearn.model_selection import cross_val_predict\n",
        "from sklearn.metrics import confusion_matrix\n",
        "from sklearn.metrics import precision_score, recall_score, f1_score"
      ],
      "execution_count": 14,
      "outputs": []
    },
    {
      "cell_type": "markdown",
      "metadata": {
        "hidden": true,
        "id": "VlOPuYdtKZRs"
      },
      "source": [
        "#### Cross Validation within Train Dataset"
      ]
    },
    {
      "cell_type": "code",
      "metadata": {
        "hidden": true,
        "id": "_e8S_iZ3KZRs",
        "outputId": "b456e6b3-00db-4e1a-a876-61746e28ae5f",
        "colab": {
          "base_uri": "https://localhost:8080/"
        }
      },
      "source": [
        "res = cross_val_score(clf, X_std_train, y_train, cv=10, scoring='accuracy')\n",
        "print(\"Average Accuracy: \\t {0:.4f}\".format(np.mean(res)))\n",
        "print(\"Accuracy SD: \\t\\t {0:.4f}\".format(np.std(res)))"
      ],
      "execution_count": 15,
      "outputs": [
        {
          "output_type": "stream",
          "text": [
            "Average Accuracy: \t 0.9500\n",
            "Accuracy SD: \t\t 0.0553\n"
          ],
          "name": "stdout"
        }
      ]
    },
    {
      "cell_type": "code",
      "metadata": {
        "hidden": true,
        "id": "5JHHkm3FKZRs"
      },
      "source": [
        "y_train_pred = cross_val_predict(clf, X_std_train, y_train, cv=3)"
      ],
      "execution_count": 16,
      "outputs": []
    },
    {
      "cell_type": "code",
      "metadata": {
        "hidden": true,
        "id": "ySnd1bzjKZRt",
        "outputId": "6898e2b4-1b6e-4187-ad4f-8202335345b9",
        "colab": {
          "base_uri": "https://localhost:8080/"
        }
      },
      "source": [
        "confusion_matrix(y_train, y_train_pred)"
      ],
      "execution_count": 17,
      "outputs": [
        {
          "output_type": "execute_result",
          "data": {
            "text/plain": [
              "array([[39,  0,  0],\n",
              "       [ 0, 34,  3],\n",
              "       [ 0,  3, 41]])"
            ]
          },
          "metadata": {
            "tags": []
          },
          "execution_count": 17
        }
      ]
    },
    {
      "cell_type": "code",
      "metadata": {
        "hidden": true,
        "id": "SWaUuGY5KZRt",
        "outputId": "aa3bc3bf-4fc0-4802-c4db-407790293881",
        "colab": {
          "base_uri": "https://localhost:8080/"
        }
      },
      "source": [
        "print(\"Precision Score: \\t {0:.4f}\".format(precision_score(y_train, \n",
        "                                                           y_train_pred, \n",
        "                                                           average='weighted')))\n",
        "print(\"Recall Score: \\t\\t {0:.4f}\".format(recall_score(y_train,\n",
        "                                                     y_train_pred, \n",
        "                                                     average='weighted')))\n",
        "print(\"F1 Score: \\t\\t {0:.4f}\".format(f1_score(y_train,\n",
        "                                             y_train_pred, \n",
        "                                             average='weighted')))"
      ],
      "execution_count": 18,
      "outputs": [
        {
          "output_type": "stream",
          "text": [
            "Precision Score: \t 0.9500\n",
            "Recall Score: \t\t 0.9500\n",
            "F1 Score: \t\t 0.9500\n"
          ],
          "name": "stdout"
        }
      ]
    },
    {
      "cell_type": "markdown",
      "metadata": {
        "hidden": true,
        "id": "tzM9A7SjKZRu"
      },
      "source": [
        "#### Cross Validation within Test Dataset"
      ]
    },
    {
      "cell_type": "code",
      "metadata": {
        "hidden": true,
        "id": "VOBzF3ERKZRu"
      },
      "source": [
        "y_test_pred = cross_val_predict(clf, sc_x.transform(X_test), y_test, cv=3)"
      ],
      "execution_count": 19,
      "outputs": []
    },
    {
      "cell_type": "code",
      "metadata": {
        "hidden": true,
        "id": "8ju67G0BKZRv",
        "outputId": "94ecdcc2-c5dc-4a1c-f3d0-79d88e7bdb71",
        "colab": {
          "base_uri": "https://localhost:8080/"
        }
      },
      "source": [
        "confusion_matrix(y_test, y_test_pred)"
      ],
      "execution_count": 20,
      "outputs": [
        {
          "output_type": "execute_result",
          "data": {
            "text/plain": [
              "array([[11,  0,  0],\n",
              "       [ 0, 13,  0],\n",
              "       [ 0,  2,  4]])"
            ]
          },
          "metadata": {
            "tags": []
          },
          "execution_count": 20
        }
      ]
    },
    {
      "cell_type": "code",
      "metadata": {
        "hidden": true,
        "id": "QJaLEqd5KZRw",
        "outputId": "36542504-2a1e-4a80-9a58-53e8bbfccb11",
        "colab": {
          "base_uri": "https://localhost:8080/"
        }
      },
      "source": [
        "print(\"Precision Score: \\t {0:.4f}\".format(precision_score(y_test, \n",
        "                                                           y_test_pred, \n",
        "                                                           average='weighted')))\n",
        "print(\"Recall Score: \\t\\t {0:.4f}\".format(recall_score(y_test,\n",
        "                                                     y_test_pred, \n",
        "                                                     average='weighted')))\n",
        "print(\"F1 Score: \\t\\t {0:.4f}\".format(f1_score(y_test,\n",
        "                                             y_test_pred, \n",
        "                                             average='weighted')))"
      ],
      "execution_count": 21,
      "outputs": [
        {
          "output_type": "stream",
          "text": [
            "Precision Score: \t 0.9422\n",
            "Recall Score: \t\t 0.9333\n",
            "F1 Score: \t\t 0.9290\n"
          ],
          "name": "stdout"
        }
      ]
    },
    {
      "cell_type": "markdown",
      "metadata": {
        "heading_collapsed": true,
        "id": "6fiJKKvgKZRw"
      },
      "source": [
        "# 3. Polynomial Kernel"
      ]
    },
    {
      "cell_type": "markdown",
      "metadata": {
        "hidden": true,
        "id": "Wv90u_3-KZRx"
      },
      "source": [
        "***\n"
      ]
    },
    {
      "cell_type": "markdown",
      "metadata": {
        "collapsed": true,
        "hidden": true,
        "id": "BFFxSDWtKZRx"
      },
      "source": [
        "![](img\\polynomial.png)"
      ]
    },
    {
      "cell_type": "code",
      "metadata": {
        "hidden": true,
        "id": "31Imc7DtKZRy",
        "outputId": "97632400-7993-411c-ac41-f3443b0e3ca0",
        "colab": {
          "base_uri": "https://localhost:8080/"
        }
      },
      "source": [
        "C = 1.0\n",
        "clf = svm.SVC(kernel='poly', degree=3, C=C)\n",
        "clf.fit(X, y)"
      ],
      "execution_count": 22,
      "outputs": [
        {
          "output_type": "execute_result",
          "data": {
            "text/plain": [
              "SVC(C=1.0, break_ties=False, cache_size=200, class_weight=None, coef0=0.0,\n",
              "    decision_function_shape='ovr', degree=3, gamma='scale', kernel='poly',\n",
              "    max_iter=-1, probability=False, random_state=None, shrinking=True,\n",
              "    tol=0.001, verbose=False)"
            ]
          },
          "metadata": {
            "tags": []
          },
          "execution_count": 22
        }
      ]
    },
    {
      "cell_type": "code",
      "metadata": {
        "hidden": true,
        "id": "uop9wyELKZRy"
      },
      "source": [
        "Xv = X.values.reshape(-1,1)\n",
        "h = 0.02\n",
        "x_min, x_max = Xv.min(), Xv.max() + 1\n",
        "y_min, y_max = y.min(), y.max() + 1\n",
        "xx, yy = np.meshgrid(np.arange(x_min, x_max, h),\n",
        "                     np.arange(y_min, y_max, h))"
      ],
      "execution_count": 23,
      "outputs": []
    },
    {
      "cell_type": "code",
      "metadata": {
        "hidden": true,
        "id": "EM1V6fwkKZRy",
        "outputId": "44eb606f-4d9d-42b0-e9c1-6d195744a730",
        "colab": {
          "base_uri": "https://localhost:8080/",
          "height": 592
        }
      },
      "source": [
        "z = clf.predict(np.c_[xx.ravel(), yy.ravel()])\n",
        "z = z.reshape(xx.shape)\n",
        "fig = plt.figure(figsize=(16,10))\n",
        "ax = plt.contourf(xx, yy, z, cmap = 'afmhot', alpha=0.3);\n",
        "plt.scatter(X.values[:, 0], X.values[:, 1], c=y, s=80, \n",
        "            alpha=0.9, edgecolors='g');"
      ],
      "execution_count": 24,
      "outputs": [
        {
          "output_type": "display_data",
          "data": {
            "image/png": "[encoded data removed]",
            "text/plain": [
              "<Figure size 1152x720 with 1 Axes>"
            ]
          },
          "metadata": {
            "tags": [],
            "needs_background": "light"
          }
        }
      ]
    },
    {
      "cell_type": "markdown",
      "metadata": {
        "hidden": true,
        "id": "IdEnUHWFKZRz"
      },
      "source": [
        "## Polynomial SVM Implementation"
      ]
    },
    {
      "cell_type": "code",
      "metadata": {
        "hidden": true,
        "id": "yDIRb_pWKZRz"
      },
      "source": [
        "df = sns.load_dataset('iris')\n",
        "from sklearn.model_selection import train_test_split\n",
        "from sklearn.preprocessing import StandardScaler\n",
        "col = ['petal_length', 'petal_width']\n",
        "X = df.loc[:, col]\n",
        "species_to_num = {'setosa': 0,\n",
        "                  'versicolor': 1,\n",
        "                  'virginica': 2}\n",
        "df['tmp'] = df['species'].map(species_to_num)\n",
        "y = df['tmp']\n",
        "X_train, X_std_test, y_train, y_test = train_test_split(X, y,\n",
        "                                                        train_size=0.8, \n",
        "                                                        random_state=0)"
      ],
      "execution_count": 25,
      "outputs": []
    },
    {
      "cell_type": "markdown",
      "metadata": {
        "hidden": true,
        "id": "T3N1XPKeKZR0"
      },
      "source": [
        "#### Scale Features"
      ]
    },
    {
      "cell_type": "code",
      "metadata": {
        "hidden": true,
        "id": "We38iEDsKZR1"
      },
      "source": [
        "sc_x = StandardScaler()\n",
        "X_std_train = sc_x.fit_transform(X_train)"
      ],
      "execution_count": 26,
      "outputs": []
    },
    {
      "cell_type": "code",
      "metadata": {
        "hidden": true,
        "id": "HmP-HrRtKZR1",
        "outputId": "c9c8c3d2-af4f-4a6b-d116-ab207df5664b",
        "colab": {
          "base_uri": "https://localhost:8080/"
        }
      },
      "source": [
        "C = 1.0 #0.01\n",
        "clf = svm.SVC(kernel='poly', degree=10, C=C) #5\n",
        "clf.fit(X_std_train, y_train)"
      ],
      "execution_count": 27,
      "outputs": [
        {
          "output_type": "execute_result",
          "data": {
            "text/plain": [
              "SVC(C=1.0, break_ties=False, cache_size=200, class_weight=None, coef0=0.0,\n",
              "    decision_function_shape='ovr', degree=10, gamma='scale', kernel='poly',\n",
              "    max_iter=-1, probability=False, random_state=None, shrinking=True,\n",
              "    tol=0.001, verbose=False)"
            ]
          },
          "metadata": {
            "tags": []
          },
          "execution_count": 27
        }
      ]
    },
    {
      "cell_type": "markdown",
      "metadata": {
        "hidden": true,
        "id": "5oRLsCi-KZR2"
      },
      "source": [
        "#### Cross Validation within Train Dataset"
      ]
    },
    {
      "cell_type": "code",
      "metadata": {
        "hidden": true,
        "id": "eYs7z2EWKZR2",
        "outputId": "b7930986-7d91-4adf-f7a7-7175b8f44af9",
        "colab": {
          "base_uri": "https://localhost:8080/"
        }
      },
      "source": [
        "res = cross_val_score(clf, X_std_train, y_train, cv=10, scoring='accuracy')\n",
        "print(\"Average Accuracy: \\t {0:.4f}\".format(np.mean(res)))\n",
        "print(\"Accuracy SD: \\t\\t {0:.4f}\".format(np.std(res)))"
      ],
      "execution_count": 28,
      "outputs": [
        {
          "output_type": "stream",
          "text": [
            "Average Accuracy: \t 0.7833\n",
            "Accuracy SD: \t\t 0.1404\n"
          ],
          "name": "stdout"
        }
      ]
    },
    {
      "cell_type": "code",
      "metadata": {
        "hidden": true,
        "id": "4TiN2_YgKZR3"
      },
      "source": [
        "y_train_pred = cross_val_predict(clf, X_std_train, y_train, cv=3)"
      ],
      "execution_count": 29,
      "outputs": []
    },
    {
      "cell_type": "code",
      "metadata": {
        "hidden": true,
        "id": "nPmznkWEKZR3",
        "outputId": "12024944-046b-47ac-9610-6c675d3ae0a8",
        "colab": {
          "base_uri": "https://localhost:8080/"
        }
      },
      "source": [
        "confusion_matrix(y_train, y_train_pred)"
      ],
      "execution_count": 30,
      "outputs": [
        {
          "output_type": "execute_result",
          "data": {
            "text/plain": [
              "array([[35,  0,  4],\n",
              "       [ 0, 37,  0],\n",
              "       [ 7, 19, 18]])"
            ]
          },
          "metadata": {
            "tags": []
          },
          "execution_count": 30
        }
      ]
    },
    {
      "cell_type": "code",
      "metadata": {
        "hidden": true,
        "id": "co2hAajGKZR3",
        "outputId": "8d9fdda5-a5c9-4259-94db-45aa961cb83b",
        "colab": {
          "base_uri": "https://localhost:8080/"
        }
      },
      "source": [
        "print(\"Precision Score: \\t {0:.4f}\".format(precision_score(y_train, \n",
        "                                                           y_train_pred, \n",
        "                                                           average='weighted')))\n",
        "print(\"Recall Score: \\t\\t {0:.4f}\".format(recall_score(y_train,\n",
        "                                                     y_train_pred, \n",
        "                                                     average='weighted')))\n",
        "print(\"F1 Score: \\t\\t {0:.4f}\".format(f1_score(y_train,\n",
        "                                             y_train_pred, \n",
        "                                             average='weighted')))"
      ],
      "execution_count": 31,
      "outputs": [
        {
          "output_type": "stream",
          "text": [
            "Precision Score: \t 0.7746\n",
            "Recall Score: \t\t 0.7500\n",
            "F1 Score: \t\t 0.7262\n"
          ],
          "name": "stdout"
        }
      ]
    },
    {
      "cell_type": "markdown",
      "metadata": {
        "hidden": true,
        "id": "4LZtQs0LKZR4"
      },
      "source": [
        "#### Cross Validation within Test Dataset"
      ]
    },
    {
      "cell_type": "code",
      "metadata": {
        "hidden": true,
        "id": "V4Kj7VAzKZR4"
      },
      "source": [
        "y_test_pred = cross_val_predict(clf, sc_x.transform(X_test), y_test, cv=3)"
      ],
      "execution_count": 32,
      "outputs": []
    },
    {
      "cell_type": "code",
      "metadata": {
        "hidden": true,
        "id": "EULvCdZvKZR4",
        "outputId": "8bb4dd5a-1619-4ea2-bab9-22d5e92852da",
        "colab": {
          "base_uri": "https://localhost:8080/"
        }
      },
      "source": [
        "confusion_matrix(y_test, y_test_pred)"
      ],
      "execution_count": 33,
      "outputs": [
        {
          "output_type": "execute_result",
          "data": {
            "text/plain": [
              "array([[11,  0,  0],\n",
              "       [ 0, 13,  0],\n",
              "       [ 2,  3,  1]])"
            ]
          },
          "metadata": {
            "tags": []
          },
          "execution_count": 33
        }
      ]
    },
    {
      "cell_type": "code",
      "metadata": {
        "hidden": true,
        "id": "xjGUV7ZGKZR5",
        "outputId": "c4cc72b9-b38d-47f8-b835-502da430e0ab",
        "colab": {
          "base_uri": "https://localhost:8080/"
        }
      },
      "source": [
        "print(\"Precision Score: \\t {0:.4f}\".format(precision_score(y_test, \n",
        "                                                           y_test_pred, \n",
        "                                                           average='weighted')))\n",
        "print(\"Recall Score: \\t\\t {0:.4f}\".format(recall_score(y_test,\n",
        "                                                     y_test_pred, \n",
        "                                                     average='weighted')))\n",
        "print(\"F1 Score: \\t\\t {0:.4f}\".format(f1_score(y_test,\n",
        "                                             y_test_pred, \n",
        "                                             average='weighted')))"
      ],
      "execution_count": 34,
      "outputs": [
        {
          "output_type": "stream",
          "text": [
            "Precision Score: \t 0.8623\n",
            "Recall Score: \t\t 0.8333\n",
            "F1 Score: \t\t 0.7818\n"
          ],
          "name": "stdout"
        }
      ]
    },
    {
      "cell_type": "markdown",
      "metadata": {
        "heading_collapsed": true,
        "id": "0SZhaMIuKZR5"
      },
      "source": [
        "# 4. Gaussian Radial Basis Function (rbf)"
      ]
    },
    {
      "cell_type": "markdown",
      "metadata": {
        "hidden": true,
        "id": "GJEpsXoVKZR5"
      },
      "source": [
        "***\n"
      ]
    },
    {
      "cell_type": "markdown",
      "metadata": {
        "hidden": true,
        "id": "QvzcCnF6KZR6"
      },
      "source": [
        "The kernel function can be any of the following:\n",
        "\n",
        "* **linear**: $\\langle x, x'\\rangle$.\n",
        "\n",
        "\n",
        "* **polynomial**: $(\\gamma \\langle x, x'\\rangle + r)^d$. \n",
        "\n",
        "  $d$ is specified by keyword `degree`\n",
        "  \n",
        "  $r$ by `coef0`.\n",
        "\n",
        "\n",
        "* **rbf**: $\\exp(-\\gamma \\|x-x'\\|^2)$. \n",
        "\n",
        "  $\\gamma$ is specified by keyword `gamma` must be greater than 0.\n",
        "\n",
        "\n",
        "* **sigmoid** $(\\tanh(\\gamma \\langle x,x'\\rangle + r))$\n",
        "\n",
        "  where $r$ is specified by `coef0`.\n",
        "  \n",
        "[scikit-learn documentation](http://scikit-learn.org/stable/modules/svm.html#svm)"
      ]
    },
    {
      "cell_type": "code",
      "metadata": {
        "hidden": true,
        "id": "2srSLI6pKZR7"
      },
      "source": [
        "df = sns.load_dataset('iris')\n",
        "from sklearn.model_selection import train_test_split\n",
        "from sklearn.preprocessing import StandardScaler\n",
        "col = ['petal_length', 'petal_width']\n",
        "X = df.loc[:, col]\n",
        "species_to_num = {'setosa': 0,\n",
        "                  'versicolor': 1,\n",
        "                  'virginica': 2}\n",
        "df['tmp'] = df['species'].map(species_to_num)\n",
        "y = df['tmp']\n",
        "X_train, X_test, y_train, y_test = train_test_split(X, y,\n",
        "                                                    train_size=0.8, \n",
        "                                                    random_state=0) #0.6"
      ],
      "execution_count": 35,
      "outputs": []
    },
    {
      "cell_type": "markdown",
      "metadata": {
        "hidden": true,
        "id": "qhNiCILnKZR7"
      },
      "source": [
        "#### Scale Features"
      ]
    },
    {
      "cell_type": "code",
      "metadata": {
        "hidden": true,
        "id": "qMb9KX_YKZR7"
      },
      "source": [
        "sc_x = StandardScaler()\n",
        "X_std_train = sc_x.fit_transform(X_train)"
      ],
      "execution_count": 36,
      "outputs": []
    },
    {
      "cell_type": "code",
      "metadata": {
        "hidden": true,
        "id": "tc1bPOYmKZR7",
        "outputId": "583ddcdc-faa9-4d5c-bf54-a328b2e2005f",
        "colab": {
          "base_uri": "https://localhost:8080/"
        }
      },
      "source": [
        "C = 1.0\n",
        "clf = svm.SVC(kernel='rbf', gamma=0.7, C=C)\n",
        "clf.fit(X_std_train, y_train)"
      ],
      "execution_count": 37,
      "outputs": [
        {
          "output_type": "execute_result",
          "data": {
            "text/plain": [
              "SVC(C=1.0, break_ties=False, cache_size=200, class_weight=None, coef0=0.0,\n",
              "    decision_function_shape='ovr', degree=3, gamma=0.7, kernel='rbf',\n",
              "    max_iter=-1, probability=False, random_state=None, shrinking=True,\n",
              "    tol=0.001, verbose=False)"
            ]
          },
          "metadata": {
            "tags": []
          },
          "execution_count": 37
        }
      ]
    },
    {
      "cell_type": "markdown",
      "metadata": {
        "hidden": true,
        "id": "CGoL3aY7KZR8"
      },
      "source": [
        "#### Cross Validation within Train Dataset"
      ]
    },
    {
      "cell_type": "code",
      "metadata": {
        "hidden": true,
        "id": "Y3U8i6QbKZR8",
        "outputId": "a2a278f9-e701-43b4-e083-58ada4ed0fef",
        "colab": {
          "base_uri": "https://localhost:8080/"
        }
      },
      "source": [
        "res = cross_val_score(clf, X_std_train, y_train, cv=10, scoring='accuracy')\n",
        "print(\"Average Accuracy: \\t {0:.4f}\".format(np.mean(res)))\n",
        "print(\"Accuracy SD: \\t\\t {0:.4f}\".format(np.std(res)))"
      ],
      "execution_count": 38,
      "outputs": [
        {
          "output_type": "stream",
          "text": [
            "Average Accuracy: \t 0.9500\n",
            "Accuracy SD: \t\t 0.0553\n"
          ],
          "name": "stdout"
        }
      ]
    },
    {
      "cell_type": "code",
      "metadata": {
        "hidden": true,
        "id": "U2JOSCIgKZR8"
      },
      "source": [
        "y_train_pred = cross_val_predict(clf, X_std_train, y_train, cv=3)"
      ],
      "execution_count": 39,
      "outputs": []
    },
    {
      "cell_type": "code",
      "metadata": {
        "hidden": true,
        "id": "pqsOyQmfKZR9",
        "outputId": "c4087d90-61b1-46df-f3f1-926d3b51b086",
        "colab": {
          "base_uri": "https://localhost:8080/"
        }
      },
      "source": [
        "confusion_matrix(y_train, y_train_pred)"
      ],
      "execution_count": 40,
      "outputs": [
        {
          "output_type": "execute_result",
          "data": {
            "text/plain": [
              "array([[39,  0,  0],\n",
              "       [ 0, 35,  2],\n",
              "       [ 0,  3, 41]])"
            ]
          },
          "metadata": {
            "tags": []
          },
          "execution_count": 40
        }
      ]
    },
    {
      "cell_type": "code",
      "metadata": {
        "hidden": true,
        "id": "ag9hS2afKZR9",
        "outputId": "fde27834-6c5d-4c7d-a0ff-619880b08d1f",
        "colab": {
          "base_uri": "https://localhost:8080/"
        }
      },
      "source": [
        "print(\"Precision Score: \\t {0:.4f}\".format(precision_score(y_train, \n",
        "                                                           y_train_pred, \n",
        "                                                           average='weighted')))\n",
        "print(\"Recall Score: \\t\\t {0:.4f}\".format(recall_score(y_train,\n",
        "                                                     y_train_pred, \n",
        "                                                     average='weighted')))\n",
        "print(\"F1 Score: \\t\\t {0:.4f}\".format(f1_score(y_train,\n",
        "                                             y_train_pred, \n",
        "                                             average='weighted')))"
      ],
      "execution_count": 41,
      "outputs": [
        {
          "output_type": "stream",
          "text": [
            "Precision Score: \t 0.9586\n",
            "Recall Score: \t\t 0.9583\n",
            "F1 Score: \t\t 0.9584\n"
          ],
          "name": "stdout"
        }
      ]
    },
    {
      "cell_type": "markdown",
      "metadata": {
        "hidden": true,
        "id": "W3UHGQZTKZR9"
      },
      "source": [
        "### Grid Search"
      ]
    },
    {
      "cell_type": "code",
      "metadata": {
        "hidden": true,
        "id": "Ae9_HpQ8KZR9"
      },
      "source": [
        "from sklearn.pipeline import Pipeline "
      ],
      "execution_count": 42,
      "outputs": []
    },
    {
      "cell_type": "code",
      "metadata": {
        "hidden": true,
        "id": "qYDJUREIKZR-"
      },
      "source": [
        "from sklearn.model_selection import train_test_split, GridSearchCV "
      ],
      "execution_count": 43,
      "outputs": []
    },
    {
      "cell_type": "markdown",
      "metadata": {
        "hidden": true,
        "id": "HyJ7QRojKZR-"
      },
      "source": [
        "we can improve this by scaling the features"
      ]
    },
    {
      "cell_type": "code",
      "metadata": {
        "hidden": true,
        "id": "BySQo9gYKZR-"
      },
      "source": [
        "pipeline = Pipeline([('clf', svm.SVC(kernel='rbf', C=1, gamma=0.1))]) "
      ],
      "execution_count": 44,
      "outputs": []
    },
    {
      "cell_type": "code",
      "metadata": {
        "hidden": true,
        "id": "7CxOjbTVKZR-"
      },
      "source": [
        "params = {'clf__C':(0.1, 0.5, 1, 2, 5, 10, 20), \n",
        "          'clf__gamma':(0.001, 0.01, 0.1, 0.25, 0.5, 0.75, 1)} "
      ],
      "execution_count": 45,
      "outputs": []
    },
    {
      "cell_type": "code",
      "metadata": {
        "hidden": true,
        "id": "BgvkSGQNKZR_"
      },
      "source": [
        "svm_grid_rbf = GridSearchCV(pipeline, params, n_jobs=-1,\n",
        "                            cv=3, verbose=1, scoring='accuracy') "
      ],
      "execution_count": 46,
      "outputs": []
    },
    {
      "cell_type": "code",
      "metadata": {
        "hidden": true,
        "id": "yrq0cs6rKZR_",
        "outputId": "597577e1-fd2f-4f84-eabe-cfc08ac997ee",
        "colab": {
          "base_uri": "https://localhost:8080/"
        }
      },
      "source": [
        "svm_grid_rbf.fit(X_train, y_train) "
      ],
      "execution_count": 47,
      "outputs": [
        {
          "output_type": "stream",
          "text": [
            "Fitting 3 folds for each of 49 candidates, totalling 147 fits\n"
          ],
          "name": "stdout"
        },
        {
          "output_type": "stream",
          "text": [
            "[Parallel(n_jobs=-1)]: Using backend LokyBackend with 2 concurrent workers.\n",
            "[Parallel(n_jobs=-1)]: Done 147 out of 147 | elapsed:    1.5s finished\n"
          ],
          "name": "stderr"
        },
        {
          "output_type": "execute_result",
          "data": {
            "text/plain": [
              "GridSearchCV(cv=3, error_score=nan,\n",
              "             estimator=Pipeline(memory=None,\n",
              "                                steps=[('clf',\n",
              "                                        SVC(C=1, break_ties=False,\n",
              "                                            cache_size=200, class_weight=None,\n",
              "                                            coef0=0.0,\n",
              "                                            decision_function_shape='ovr',\n",
              "                                            degree=3, gamma=0.1, kernel='rbf',\n",
              "                                            max_iter=-1, probability=False,\n",
              "                                            random_state=None, shrinking=True,\n",
              "                                            tol=0.001, verbose=False))],\n",
              "                                verbose=False),\n",
              "             iid='deprecated', n_jobs=-1,\n",
              "             param_grid={'clf__C': (0.1, 0.5, 1, 2, 5, 10, 20),\n",
              "                         'clf__gamma': (0.001, 0.01, 0.1, 0.25, 0.5, 0.75, 1)},\n",
              "             pre_dispatch='2*n_jobs', refit=True, return_train_score=False,\n",
              "             scoring='accuracy', verbose=1)"
            ]
          },
          "metadata": {
            "tags": []
          },
          "execution_count": 47
        }
      ]
    },
    {
      "cell_type": "code",
      "metadata": {
        "hidden": true,
        "id": "UXSmXhMqKZR_",
        "outputId": "5d8d88b5-d0f7-4115-96c0-b2615e32d84e",
        "colab": {
          "base_uri": "https://localhost:8080/"
        }
      },
      "source": [
        "svm_grid_rbf.best_score_"
      ],
      "execution_count": 48,
      "outputs": [
        {
          "output_type": "execute_result",
          "data": {
            "text/plain": [
              "0.9583333333333334"
            ]
          },
          "metadata": {
            "tags": []
          },
          "execution_count": 48
        }
      ]
    },
    {
      "cell_type": "code",
      "metadata": {
        "hidden": true,
        "id": "8kgKb20yKZSA"
      },
      "source": [
        "best = svm_grid_rbf.best_estimator_.get_params() "
      ],
      "execution_count": 49,
      "outputs": []
    },
    {
      "cell_type": "code",
      "metadata": {
        "hidden": true,
        "id": "qq3LmGl1KZSA",
        "outputId": "8214a765-6896-451a-8b2b-9f1499937784",
        "colab": {
          "base_uri": "https://localhost:8080/"
        }
      },
      "source": [
        "for k in sorted(params.keys()): \n",
        "    print('\\t{0}: \\t {1:.2f}'.format(k, best[k]))"
      ],
      "execution_count": 50,
      "outputs": [
        {
          "output_type": "stream",
          "text": [
            "\tclf__C: \t 0.50\n",
            "\tclf__gamma: \t 0.50\n"
          ],
          "name": "stdout"
        }
      ]
    },
    {
      "cell_type": "markdown",
      "metadata": {
        "hidden": true,
        "id": "uAzazS10KZSA"
      },
      "source": [
        "Conducting validation in the test dataset. "
      ]
    },
    {
      "cell_type": "code",
      "metadata": {
        "hidden": true,
        "id": "fCaNi1-BKZSB"
      },
      "source": [
        "y_test_pred = svm_grid_rbf.predict(X_test)"
      ],
      "execution_count": 51,
      "outputs": []
    },
    {
      "cell_type": "code",
      "metadata": {
        "hidden": true,
        "id": "ckFfqPrhKZSB",
        "outputId": "cd5cdfbc-4c63-4109-8d10-5db925a5b184",
        "colab": {
          "base_uri": "https://localhost:8080/"
        }
      },
      "source": [
        "confusion_matrix(y_test, y_test_pred)"
      ],
      "execution_count": 52,
      "outputs": [
        {
          "output_type": "execute_result",
          "data": {
            "text/plain": [
              "array([[11,  0,  0],\n",
              "       [ 0, 13,  0],\n",
              "       [ 0,  0,  6]])"
            ]
          },
          "metadata": {
            "tags": []
          },
          "execution_count": 52
        }
      ]
    },
    {
      "cell_type": "code",
      "metadata": {
        "hidden": true,
        "id": "mLuqeS_nKZSB",
        "outputId": "21016dd6-c3b7-40ef-908f-d6984d12a3ff",
        "colab": {
          "base_uri": "https://localhost:8080/"
        }
      },
      "source": [
        "print(\"Precision Score: \\t {0:.4f}\".format(precision_score(y_test, \n",
        "                                                           y_test_pred, \n",
        "                                                           average='weighted')))\n",
        "print(\"Recall Score: \\t\\t {0:.4f}\".format(recall_score(y_test,\n",
        "                                                       y_test_pred, \n",
        "                                                       average='weighted')))\n",
        "print(\"F1 Score: \\t\\t {0:.4f}\".format(f1_score(y_test,\n",
        "                                               y_test_pred, \n",
        "                                               average='weighted')))"
      ],
      "execution_count": 53,
      "outputs": [
        {
          "output_type": "stream",
          "text": [
            "Precision Score: \t 1.0000\n",
            "Recall Score: \t\t 1.0000\n",
            "F1 Score: \t\t 1.0000\n"
          ],
          "name": "stdout"
        }
      ]
    },
    {
      "cell_type": "code",
      "metadata": {
        "hidden": true,
        "id": "0U-No03gKZSB"
      },
      "source": [
        "Xv = X.values.reshape(-1,1)\n",
        "h = 0.02\n",
        "x_min, x_max = Xv.min(), Xv.max() + 1\n",
        "y_min, y_max = y.min(), y.max() + 1\n",
        "xx, yy = np.meshgrid(np.arange(x_min, x_max, h),\n",
        "                     np.arange(y_min, y_max, h))"
      ],
      "execution_count": 54,
      "outputs": []
    },
    {
      "cell_type": "code",
      "metadata": {
        "hidden": true,
        "id": "wLc4m8D3KZSC",
        "outputId": "88b3eea4-b614-476c-cdc6-4c2719236753",
        "colab": {
          "base_uri": "https://localhost:8080/",
          "height": 592
        }
      },
      "source": [
        "z = svm_grid_rbf.predict(np.c_[xx.ravel(), yy.ravel()])\n",
        "z = z.reshape(xx.shape)\n",
        "fig = plt.figure(figsize=(16,10))\n",
        "ax = plt.contourf(xx, yy, z, cmap = 'afmhot', alpha=0.3);\n",
        "plt.scatter(X.values[:, 0], X.values[:, 1], c=y, s=80, \n",
        "            alpha=0.9, edgecolors='g');"
      ],
      "execution_count": 55,
      "outputs": [
        {
          "output_type": "display_data",
          "data": {
            "image/png": "[encoded data removed]",
            "text/plain": [
              "<Figure size 1152x720 with 1 Axes>"
            ]
          },
          "metadata": {
            "tags": [],
            "needs_background": "light"
          }
        }
      ]
    },
    {
      "cell_type": "markdown",
      "metadata": {
        "heading_collapsed": true,
        "id": "lSpuLWgPKZSC"
      },
      "source": [
        "# 5. Support Vector Regression"
      ]
    },
    {
      "cell_type": "markdown",
      "metadata": {
        "hidden": true,
        "id": "qPG1wJBmKZSC"
      },
      "source": [
        "***\n"
      ]
    },
    {
      "cell_type": "code",
      "metadata": {
        "hidden": true,
        "id": "Ligf7TdmKZSC"
      },
      "source": [
        "import numpy as np\n",
        "import matplotlib.pyplot as plt\n",
        "import seaborn as sns\n",
        "sns.set_style('whitegrid')\n",
        "% matplotlib inline\n",
        "import pandas as pd\n",
        "from sklearn.svm import SVR\n",
        "from sklearn.metrics import mean_squared_error, r2_score"
      ],
      "execution_count": 56,
      "outputs": []
    },
    {
      "cell_type": "code",
      "metadata": {
        "hidden": true,
        "id": "TvFMbbKRKZSD",
        "outputId": "c30e13a6-2684-4f51-d22c-61e0b04ce084",
        "colab": {
          "base_uri": "https://localhost:8080/",
          "height": 204
        }
      },
      "source": [
        "from sklearn.datasets import load_boston\n",
        "boston_data = load_boston()\n",
        "df = pd.DataFrame(boston_data.data, columns=boston_data.feature_names)\n",
        "df.head()"
      ],
      "execution_count": 57,
      "outputs": [
        {
          "output_type": "execute_result",
          "data": {
            "text/html": [
              "<div>\n",
              "<style scoped>\n",
              "    .dataframe tbody tr th:only-of-type {\n",
              "        vertical-align: middle;\n",
              "    }\n",
              "\n",
              "    .dataframe tbody tr th {\n",
              "        vertical-align: top;\n",
              "    }\n",
              "\n",
              "    .dataframe thead th {\n",
              "        text-align: right;\n",
              "    }\n",
              "</style>\n",
              "<table border=\"1\" class=\"dataframe\">\n",
              "  <thead>\n",
              "    <tr style=\"text-align: right;\">\n",
              "      <th></th>\n",
              "      <th>CRIM</th>\n",
              "      <th>ZN</th>\n",
              "      <th>INDUS</th>\n",
              "      <th>CHAS</th>\n",
              "      <th>NOX</th>\n",
              "      <th>RM</th>\n",
              "      <th>AGE</th>\n",
              "      <th>DIS</th>\n",
              "      <th>RAD</th>\n",
              "      <th>TAX</th>\n",
              "      <th>PTRATIO</th>\n",
              "      <th>B</th>\n",
              "      <th>LSTAT</th>\n",
              "    </tr>\n",
              "  </thead>\n",
              "  <tbody>\n",
              "    <tr>\n",
              "      <th>0</th>\n",
              "      <td>0.00632</td>\n",
              "      <td>18.0</td>\n",
              "      <td>2.31</td>\n",
              "      <td>0.0</td>\n",
              "      <td>0.538</td>\n",
              "      <td>6.575</td>\n",
              "      <td>65.2</td>\n",
              "      <td>4.0900</td>\n",
              "      <td>1.0</td>\n",
              "      <td>296.0</td>\n",
              "      <td>15.3</td>\n",
              "      <td>396.90</td>\n",
              "      <td>4.98</td>\n",
              "    </tr>\n",
              "    <tr>\n",
              "      <th>1</th>\n",
              "      <td>0.02731</td>\n",
              "      <td>0.0</td>\n",
              "      <td>7.07</td>\n",
              "      <td>0.0</td>\n",
              "      <td>0.469</td>\n",
              "      <td>6.421</td>\n",
              "      <td>78.9</td>\n",
              "      <td>4.9671</td>\n",
              "      <td>2.0</td>\n",
              "      <td>242.0</td>\n",
              "      <td>17.8</td>\n",
              "      <td>396.90</td>\n",
              "      <td>9.14</td>\n",
              "    </tr>\n",
              "    <tr>\n",
              "      <th>2</th>\n",
              "      <td>0.02729</td>\n",
              "      <td>0.0</td>\n",
              "      <td>7.07</td>\n",
              "      <td>0.0</td>\n",
              "      <td>0.469</td>\n",
              "      <td>7.185</td>\n",
              "      <td>61.1</td>\n",
              "      <td>4.9671</td>\n",
              "      <td>2.0</td>\n",
              "      <td>242.0</td>\n",
              "      <td>17.8</td>\n",
              "      <td>392.83</td>\n",
              "      <td>4.03</td>\n",
              "    </tr>\n",
              "    <tr>\n",
              "      <th>3</th>\n",
              "      <td>0.03237</td>\n",
              "      <td>0.0</td>\n",
              "      <td>2.18</td>\n",
              "      <td>0.0</td>\n",
              "      <td>0.458</td>\n",
              "      <td>6.998</td>\n",
              "      <td>45.8</td>\n",
              "      <td>6.0622</td>\n",
              "      <td>3.0</td>\n",
              "      <td>222.0</td>\n",
              "      <td>18.7</td>\n",
              "      <td>394.63</td>\n",
              "      <td>2.94</td>\n",
              "    </tr>\n",
              "    <tr>\n",
              "      <th>4</th>\n",
              "      <td>0.06905</td>\n",
              "      <td>0.0</td>\n",
              "      <td>2.18</td>\n",
              "      <td>0.0</td>\n",
              "      <td>0.458</td>\n",
              "      <td>7.147</td>\n",
              "      <td>54.2</td>\n",
              "      <td>6.0622</td>\n",
              "      <td>3.0</td>\n",
              "      <td>222.0</td>\n",
              "      <td>18.7</td>\n",
              "      <td>396.90</td>\n",
              "      <td>5.33</td>\n",
              "    </tr>\n",
              "  </tbody>\n",
              "</table>\n",
              "</div>"
            ],
            "text/plain": [
              "      CRIM    ZN  INDUS  CHAS    NOX  ...  RAD    TAX  PTRATIO       B  LSTAT\n",
              "0  0.00632  18.0   2.31   0.0  0.538  ...  1.0  296.0     15.3  396.90   4.98\n",
              "1  0.02731   0.0   7.07   0.0  0.469  ...  2.0  242.0     17.8  396.90   9.14\n",
              "2  0.02729   0.0   7.07   0.0  0.469  ...  2.0  242.0     17.8  392.83   4.03\n",
              "3  0.03237   0.0   2.18   0.0  0.458  ...  3.0  222.0     18.7  394.63   2.94\n",
              "4  0.06905   0.0   2.18   0.0  0.458  ...  3.0  222.0     18.7  396.90   5.33\n",
              "\n",
              "[5 rows x 13 columns]"
            ]
          },
          "metadata": {
            "tags": []
          },
          "execution_count": 57
        }
      ]
    },
    {
      "cell_type": "code",
      "metadata": {
        "hidden": true,
        "id": "Lw5xCU6lKZSD"
      },
      "source": [
        "y = boston_data.target\n",
        "X = df[['LSTAT']].values"
      ],
      "execution_count": 58,
      "outputs": []
    },
    {
      "cell_type": "code",
      "metadata": {
        "hidden": true,
        "id": "frpg6CbgKZSD",
        "outputId": "9ebc396f-7d9f-4f49-adec-c49c33cfc15f",
        "colab": {
          "base_uri": "https://localhost:8080/"
        }
      },
      "source": [
        "svr = SVR()\n",
        "svr.fit(X, y)"
      ],
      "execution_count": 59,
      "outputs": [
        {
          "output_type": "execute_result",
          "data": {
            "text/plain": [
              "SVR(C=1.0, cache_size=200, coef0=0.0, degree=3, epsilon=0.1, gamma='scale',\n",
              "    kernel='rbf', max_iter=-1, shrinking=True, tol=0.001, verbose=False)"
            ]
          },
          "metadata": {
            "tags": []
          },
          "execution_count": 59
        }
      ]
    },
    {
      "cell_type": "code",
      "metadata": {
        "hidden": true,
        "id": "yTeZ_IqMKZSD"
      },
      "source": [
        "sort_idx = X.flatten().argsort()"
      ],
      "execution_count": 60,
      "outputs": []
    },
    {
      "cell_type": "code",
      "metadata": {
        "hidden": true,
        "id": "SMc4z8lKKZSE",
        "outputId": "daae5311-f046-41f4-fd72-a828b40a0f64",
        "colab": {
          "base_uri": "https://localhost:8080/",
          "height": 497
        }
      },
      "source": [
        "plt.figure(figsize=(10,8))\n",
        "plt.scatter(X[sort_idx], y[sort_idx])\n",
        "plt.plot(X[sort_idx], svr.predict(X[sort_idx]), color='k')\n",
        "\n",
        "plt.xlabel('LSTAT')\n",
        "plt.ylabel('MEDV');"
      ],
      "execution_count": 61,
      "outputs": [
        {
          "output_type": "display_data",
          "data": {
            "image/png": "[encoded data removed]",
            "text/plain": [
              "<Figure size 720x576 with 1 Axes>"
            ]
          },
          "metadata": {
            "tags": [],
            "needs_background": "light"
          }
        }
      ]
    },
    {
      "cell_type": "code",
      "metadata": {
        "hidden": true,
        "id": "krzsfutXKZSE"
      },
      "source": [
        "X_train, X_test, y_train, y_test = train_test_split(X, y, \n",
        "                                                    test_size=0.3, \n",
        "                                                    random_state=42)"
      ],
      "execution_count": 62,
      "outputs": []
    },
    {
      "cell_type": "markdown",
      "metadata": {
        "heading_collapsed": true,
        "hidden": true,
        "id": "zXhSZuG9KZSE"
      },
      "source": [
        "## Linear Kernel"
      ]
    },
    {
      "cell_type": "code",
      "metadata": {
        "hidden": true,
        "id": "RgQU1tVVKZSF",
        "outputId": "0282e6d7-e58e-4635-d331-a51bfb69c964",
        "colab": {
          "base_uri": "https://localhost:8080/"
        }
      },
      "source": [
        "svr = SVR(kernel='linear')\n",
        "svr.fit(X_train, y_train)"
      ],
      "execution_count": 63,
      "outputs": [
        {
          "output_type": "execute_result",
          "data": {
            "text/plain": [
              "SVR(C=1.0, cache_size=200, coef0=0.0, degree=3, epsilon=0.1, gamma='scale',\n",
              "    kernel='linear', max_iter=-1, shrinking=True, tol=0.001, verbose=False)"
            ]
          },
          "metadata": {
            "tags": []
          },
          "execution_count": 63
        }
      ]
    },
    {
      "cell_type": "code",
      "metadata": {
        "hidden": true,
        "id": "zgaGZauWKZSF"
      },
      "source": [
        "y_train_pred = svr.predict(X_train)"
      ],
      "execution_count": 64,
      "outputs": []
    },
    {
      "cell_type": "code",
      "metadata": {
        "hidden": true,
        "id": "xG1PninzKZSG"
      },
      "source": [
        "y_test_pred = svr.predict(X_test)"
      ],
      "execution_count": 65,
      "outputs": []
    },
    {
      "cell_type": "code",
      "metadata": {
        "hidden": true,
        "id": "YQ89wUiMKZSG",
        "outputId": "547e89fc-5116-4180-fc96-7b41f14f268f",
        "colab": {
          "base_uri": "https://localhost:8080/"
        }
      },
      "source": [
        "print(\"MSE train: {0:.4f}, test: {1:.4f}\".\\\n",
        "      format(mean_squared_error(y_train, y_train_pred), \n",
        "             mean_squared_error(y_test, y_test_pred)))"
      ],
      "execution_count": 66,
      "outputs": [
        {
          "output_type": "stream",
          "text": [
            "MSE train: 41.8187, test: 36.8372\n"
          ],
          "name": "stdout"
        }
      ]
    },
    {
      "cell_type": "code",
      "metadata": {
        "hidden": true,
        "id": "2XPyuAMIKZSG",
        "outputId": "d1492149-232c-4c1a-d428-05f7c07b19a7",
        "colab": {
          "base_uri": "https://localhost:8080/"
        }
      },
      "source": [
        "print(\"R^2 train: {0:.4f}, test: {1:.4f}\".\\\n",
        "      format(r2_score(y_train, y_train_pred),\n",
        "             r2_score(y_test, y_test_pred)))"
      ],
      "execution_count": 67,
      "outputs": [
        {
          "output_type": "stream",
          "text": [
            "R^2 train: 0.5242, test: 0.5056\n"
          ],
          "name": "stdout"
        }
      ]
    },
    {
      "cell_type": "markdown",
      "metadata": {
        "heading_collapsed": true,
        "hidden": true,
        "id": "83ckO2A0KZSH"
      },
      "source": [
        "## Polynomial"
      ]
    },
    {
      "cell_type": "code",
      "metadata": {
        "hidden": true,
        "id": "15otoUPIKZSH",
        "outputId": "ae1cd45e-a020-4493-bb4b-297bf009134d",
        "colab": {
          "base_uri": "https://localhost:8080/"
        }
      },
      "source": [
        "svr = SVR(kernel='poly', C=1e3, degree=2)\n",
        "svr.fit(X_train, y_train)"
      ],
      "execution_count": 68,
      "outputs": [
        {
          "output_type": "execute_result",
          "data": {
            "text/plain": [
              "SVR(C=1000.0, cache_size=200, coef0=0.0, degree=2, epsilon=0.1, gamma='scale',\n",
              "    kernel='poly', max_iter=-1, shrinking=True, tol=0.001, verbose=False)"
            ]
          },
          "metadata": {
            "tags": []
          },
          "execution_count": 68
        }
      ]
    },
    {
      "cell_type": "code",
      "metadata": {
        "hidden": true,
        "id": "irwqRPmqKZSI"
      },
      "source": [
        "y_train_pred = svr.predict(X_train)\n",
        "y_test_pred = svr.predict(X_test)"
      ],
      "execution_count": 69,
      "outputs": []
    },
    {
      "cell_type": "code",
      "metadata": {
        "hidden": true,
        "id": "DG2fh2eoKZSI",
        "outputId": "d4c2420f-fa9d-42e3-c9cf-26f9a1e3ffea",
        "colab": {
          "base_uri": "https://localhost:8080/"
        }
      },
      "source": [
        "print(\"MSE train: {0:.4f}, test: {1:.4f}\".\\\n",
        "      format(mean_squared_error(y_train, y_train_pred), \n",
        "             mean_squared_error(y_test, y_test_pred)))\n",
        "print(\"R^2 train: {0:.4f}, test: {1:.4f}\".\\\n",
        "      format(r2_score(y_train, y_train_pred),\n",
        "             r2_score(y_test, y_test_pred)))"
      ],
      "execution_count": 70,
      "outputs": [
        {
          "output_type": "stream",
          "text": [
            "MSE train: 58.7201, test: 48.1976\n",
            "R^2 train: 0.3319, test: 0.3532\n"
          ],
          "name": "stdout"
        }
      ]
    },
    {
      "cell_type": "markdown",
      "metadata": {
        "heading_collapsed": true,
        "hidden": true,
        "id": "fSbaniL4KZSI"
      },
      "source": [
        "## rbf Kernel"
      ]
    },
    {
      "cell_type": "code",
      "metadata": {
        "hidden": true,
        "id": "zS8dpiutKZSJ",
        "outputId": "dcb1428d-311b-42ea-a713-339b1ee896af",
        "colab": {
          "base_uri": "https://localhost:8080/"
        }
      },
      "source": [
        "svr = SVR(kernel='rbf', C=1e3, gamma=0.1)\n",
        "svr.fit(X_train, y_train)"
      ],
      "execution_count": 71,
      "outputs": [
        {
          "output_type": "execute_result",
          "data": {
            "text/plain": [
              "SVR(C=1000.0, cache_size=200, coef0=0.0, degree=3, epsilon=0.1, gamma=0.1,\n",
              "    kernel='rbf', max_iter=-1, shrinking=True, tol=0.001, verbose=False)"
            ]
          },
          "metadata": {
            "tags": []
          },
          "execution_count": 71
        }
      ]
    },
    {
      "cell_type": "code",
      "metadata": {
        "hidden": true,
        "id": "ahtz0r4bKZSJ"
      },
      "source": [
        "y_train_pred = svr.predict(X_train)\n",
        "y_test_pred = svr.predict(X_test)"
      ],
      "execution_count": 72,
      "outputs": []
    },
    {
      "cell_type": "code",
      "metadata": {
        "hidden": true,
        "id": "2bMs4UHaKZSK",
        "outputId": "decb4133-4463-438c-e4e3-21775b3e50e8",
        "colab": {
          "base_uri": "https://localhost:8080/"
        }
      },
      "source": [
        "print(\"MSE train: {0:.4f}, test: {1:.4f}\".\\\n",
        "      format(mean_squared_error(y_train, y_train_pred), \n",
        "             mean_squared_error(y_test, y_test_pred)))\n",
        "print(\"R^2 train: {0:.4f}, test: {1:.4f}\".\\\n",
        "      format(r2_score(y_train, y_train_pred),\n",
        "             r2_score(y_test, y_test_pred)))"
      ],
      "execution_count": 73,
      "outputs": [
        {
          "output_type": "stream",
          "text": [
            "MSE train: 27.5635, test: 26.7051\n",
            "R^2 train: 0.6864, test: 0.6416\n"
          ],
          "name": "stdout"
        }
      ]
    },
    {
      "cell_type": "markdown",
      "metadata": {
        "id": "Bw6esfuFKZSK"
      },
      "source": [
        "# 6. Advantages and Disadvantages"
      ]
    },
    {
      "cell_type": "markdown",
      "metadata": {
        "id": "CojTcT2MKZSK"
      },
      "source": [
        "\n",
        "The **advantages** of support vector machines are:\n",
        "* Effective in high dimensional spaces.\n",
        "* Uses only a subset of training points (support vectors) in the decision function.\n",
        "* Many different Kernel functions can be specified for the decision function.\n",
        "    * Linear\n",
        "    * Polynomial\n",
        "    * RBF\n",
        "    * Sigmoid\n",
        "    * Custom\n",
        "\n",
        "\n",
        "The **disadvantages** of support vector machines include:\n",
        "* Beware of overfitting when num_features > num_samples.\n",
        "* Choice of Kernel and Regularization can have a large impact on performance\n",
        "* No probability estimates\n"
      ]
    },
    {
      "cell_type": "markdown",
      "metadata": {
        "id": "i8UO8f6VKZSL"
      },
      "source": [
        "# Summary\n",
        "\n"
      ]
    },
    {
      "cell_type": "markdown",
      "metadata": {
        "id": "08mirMD5KZSL"
      },
      "source": [
        "\n",
        "\n",
        "| Class |  Out-of-core support | Kernel Trick |\n",
        "| :- |  :- | :- | :- |\n",
        "| `SGDClassifier` |  Yes | No |\n",
        "| `LinearSVC` |  No | No |\n",
        "| `SVC` |  No | Yes |\n",
        "\n",
        "**Note:** All require features scaling\n",
        "\n",
        "Support Vector Machine algorithms are not scale invariant, so it is highly recommended to scale your data. For example, scale each attribute on the input vector X to [0,1] or [-1,+1], or standardize it to have mean 0 and variance 1. Note that the same scaling must be applied to the test vector to obtain meaningful results. See section Preprocessing data for more details on scaling and normalization. ~ [scikit-learn documentation](http://scikit-learn.org/stable/modules/svm.html#svm)"
      ]
    },
    {
      "cell_type": "markdown",
      "metadata": {
        "id": "NtwQUM6NKZSM"
      },
      "source": [
        "## Where to From Here"
      ]
    },
    {
      "cell_type": "markdown",
      "metadata": {
        "id": "SUwaVfrtKZSM"
      },
      "source": [
        "\n",
        "\n",
        "* [LIBSVM](http://www.csie.ntu.edu.tw/~cjlin/libsvm/)\n",
        "* [LIBLINEAR](http://www.csie.ntu.edu.tw/~cjlin/liblinear/)\n",
        "* [Hands-On Machine Learning with Scikit-Learn and TensorFlow](https://www.safaribooksonline.com/library/view/hands-on-machine-learning/9781491962282/ch05.html#svm_chapter)\n",
        "* [Python Data Science Handbook](https://www.safaribooksonline.com/library/view/python-data-science/9781491912126/ch05.html#in-depth-support-vector-machines)\n",
        "* [Python Machine Learning, 2E](https://www.safaribooksonline.com/library/view/python-machine-learning/9781787125933/ch03s04.html)\n",
        "* [Statistics for Machine Learning](https://www.safaribooksonline.com/library/view/statistics-for-machine/9781788295758/f2c95085-6676-41c6-876e-ab6802666ea2.xhtml)\n",
        "* [ConvNetJS](http://cs.stanford.edu/people/karpathy/convnetjs/)\n"
      ]
    },
    {
      "cell_type": "markdown",
      "metadata": {
        "collapsed": true,
        "id": "dZ2Sd9JGKZSM"
      },
      "source": [
        "***"
      ]
    }
  ]
}